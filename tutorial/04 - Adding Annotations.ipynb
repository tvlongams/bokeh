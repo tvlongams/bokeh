{
 "cells": [
  {
   "cell_type": "markdown",
   "metadata": {},
   "source": [
    "<table style=\"float:left; border:none\">\n",
    "   <tr style=\"border:none; background-color: #ffffff\">\n",
    "       <td style=\"border:none\">\n",
    "           <a href=\"http://bokeh.org/\">     \n",
    "           <img \n",
    "               src=\"assets/bokeh-transparent.png\" \n",
    "               style=\"width:50px\"\n",
    "           >\n",
    "           </a>    \n",
    "       </td>\n",
    "       <td style=\"border:none\">\n",
    "           <h1>Bokeh Tutorial</h1>\n",
    "       </td>\n",
    "   </tr>\n",
    "</table>\n",
    "\n",
    "<div style=\"float:right;\"><h2>04. Adding Annotations</h2></div>"
   ]
  },
  {
   "cell_type": "code",
   "execution_count": 1,
   "metadata": {},
   "outputs": [],
   "source": [
    "from bokeh.io import output_notebook, show\n",
    "from bokeh.plotting import figure"
   ]
  },
  {
   "cell_type": "code",
   "execution_count": 2,
   "metadata": {},
   "outputs": [
    {
     "data": {
      "text/html": [
       "\n",
       "    <div class=\"bk-root\">\n",
       "        <a href=\"https://bokeh.org\" target=\"_blank\" class=\"bk-logo bk-logo-small bk-logo-notebook\"></a>\n",
       "        <span id=\"1001\">Loading BokehJS ...</span>\n",
       "    </div>"
      ]
     },
     "metadata": {},
     "output_type": "display_data"
    },
    {
     "data": {
      "application/javascript": [
       "\n",
       "(function(root) {\n",
       "  function now() {\n",
       "    return new Date();\n",
       "  }\n",
       "\n",
       "  var force = true;\n",
       "\n",
       "  if (typeof root._bokeh_onload_callbacks === \"undefined\" || force === true) {\n",
       "    root._bokeh_onload_callbacks = [];\n",
       "    root._bokeh_is_loading = undefined;\n",
       "  }\n",
       "\n",
       "  var JS_MIME_TYPE = 'application/javascript';\n",
       "  var HTML_MIME_TYPE = 'text/html';\n",
       "  var EXEC_MIME_TYPE = 'application/vnd.bokehjs_exec.v0+json';\n",
       "  var CLASS_NAME = 'output_bokeh rendered_html';\n",
       "\n",
       "  /**\n",
       "   * Render data to the DOM node\n",
       "   */\n",
       "  function render(props, node) {\n",
       "    var script = document.createElement(\"script\");\n",
       "    node.appendChild(script);\n",
       "  }\n",
       "\n",
       "  /**\n",
       "   * Handle when an output is cleared or removed\n",
       "   */\n",
       "  function handleClearOutput(event, handle) {\n",
       "    var cell = handle.cell;\n",
       "\n",
       "    var id = cell.output_area._bokeh_element_id;\n",
       "    var server_id = cell.output_area._bokeh_server_id;\n",
       "    // Clean up Bokeh references\n",
       "    if (id != null && id in Bokeh.index) {\n",
       "      Bokeh.index[id].model.document.clear();\n",
       "      delete Bokeh.index[id];\n",
       "    }\n",
       "\n",
       "    if (server_id !== undefined) {\n",
       "      // Clean up Bokeh references\n",
       "      var cmd = \"from bokeh.io.state import curstate; print(curstate().uuid_to_server['\" + server_id + \"'].get_sessions()[0].document.roots[0]._id)\";\n",
       "      cell.notebook.kernel.execute(cmd, {\n",
       "        iopub: {\n",
       "          output: function(msg) {\n",
       "            var id = msg.content.text.trim();\n",
       "            if (id in Bokeh.index) {\n",
       "              Bokeh.index[id].model.document.clear();\n",
       "              delete Bokeh.index[id];\n",
       "            }\n",
       "          }\n",
       "        }\n",
       "      });\n",
       "      // Destroy server and session\n",
       "      var cmd = \"import bokeh.io.notebook as ion; ion.destroy_server('\" + server_id + \"')\";\n",
       "      cell.notebook.kernel.execute(cmd);\n",
       "    }\n",
       "  }\n",
       "\n",
       "  /**\n",
       "   * Handle when a new output is added\n",
       "   */\n",
       "  function handleAddOutput(event, handle) {\n",
       "    var output_area = handle.output_area;\n",
       "    var output = handle.output;\n",
       "\n",
       "    // limit handleAddOutput to display_data with EXEC_MIME_TYPE content only\n",
       "    if ((output.output_type != \"display_data\") || (!output.data.hasOwnProperty(EXEC_MIME_TYPE))) {\n",
       "      return\n",
       "    }\n",
       "\n",
       "    var toinsert = output_area.element.find(\".\" + CLASS_NAME.split(' ')[0]);\n",
       "\n",
       "    if (output.metadata[EXEC_MIME_TYPE][\"id\"] !== undefined) {\n",
       "      toinsert[toinsert.length - 1].firstChild.textContent = output.data[JS_MIME_TYPE];\n",
       "      // store reference to embed id on output_area\n",
       "      output_area._bokeh_element_id = output.metadata[EXEC_MIME_TYPE][\"id\"];\n",
       "    }\n",
       "    if (output.metadata[EXEC_MIME_TYPE][\"server_id\"] !== undefined) {\n",
       "      var bk_div = document.createElement(\"div\");\n",
       "      bk_div.innerHTML = output.data[HTML_MIME_TYPE];\n",
       "      var script_attrs = bk_div.children[0].attributes;\n",
       "      for (var i = 0; i < script_attrs.length; i++) {\n",
       "        toinsert[toinsert.length - 1].firstChild.setAttribute(script_attrs[i].name, script_attrs[i].value);\n",
       "      }\n",
       "      // store reference to server id on output_area\n",
       "      output_area._bokeh_server_id = output.metadata[EXEC_MIME_TYPE][\"server_id\"];\n",
       "    }\n",
       "  }\n",
       "\n",
       "  function register_renderer(events, OutputArea) {\n",
       "\n",
       "    function append_mime(data, metadata, element) {\n",
       "      // create a DOM node to render to\n",
       "      var toinsert = this.create_output_subarea(\n",
       "        metadata,\n",
       "        CLASS_NAME,\n",
       "        EXEC_MIME_TYPE\n",
       "      );\n",
       "      this.keyboard_manager.register_events(toinsert);\n",
       "      // Render to node\n",
       "      var props = {data: data, metadata: metadata[EXEC_MIME_TYPE]};\n",
       "      render(props, toinsert[toinsert.length - 1]);\n",
       "      element.append(toinsert);\n",
       "      return toinsert\n",
       "    }\n",
       "\n",
       "    /* Handle when an output is cleared or removed */\n",
       "    events.on('clear_output.CodeCell', handleClearOutput);\n",
       "    events.on('delete.Cell', handleClearOutput);\n",
       "\n",
       "    /* Handle when a new output is added */\n",
       "    events.on('output_added.OutputArea', handleAddOutput);\n",
       "\n",
       "    /**\n",
       "     * Register the mime type and append_mime function with output_area\n",
       "     */\n",
       "    OutputArea.prototype.register_mime_type(EXEC_MIME_TYPE, append_mime, {\n",
       "      /* Is output safe? */\n",
       "      safe: true,\n",
       "      /* Index of renderer in `output_area.display_order` */\n",
       "      index: 0\n",
       "    });\n",
       "  }\n",
       "\n",
       "  // register the mime type if in Jupyter Notebook environment and previously unregistered\n",
       "  if (root.Jupyter !== undefined) {\n",
       "    var events = require('base/js/events');\n",
       "    var OutputArea = require('notebook/js/outputarea').OutputArea;\n",
       "\n",
       "    if (OutputArea.prototype.mime_types().indexOf(EXEC_MIME_TYPE) == -1) {\n",
       "      register_renderer(events, OutputArea);\n",
       "    }\n",
       "  }\n",
       "\n",
       "  \n",
       "  if (typeof (root._bokeh_timeout) === \"undefined\" || force === true) {\n",
       "    root._bokeh_timeout = Date.now() + 5000;\n",
       "    root._bokeh_failed_load = false;\n",
       "  }\n",
       "\n",
       "  var NB_LOAD_WARNING = {'data': {'text/html':\n",
       "     \"<div style='background-color: #fdd'>\\n\"+\n",
       "     \"<p>\\n\"+\n",
       "     \"BokehJS does not appear to have successfully loaded. If loading BokehJS from CDN, this \\n\"+\n",
       "     \"may be due to a slow or bad network connection. Possible fixes:\\n\"+\n",
       "     \"</p>\\n\"+\n",
       "     \"<ul>\\n\"+\n",
       "     \"<li>re-rerun `output_notebook()` to attempt to load from CDN again, or</li>\\n\"+\n",
       "     \"<li>use INLINE resources instead, as so:</li>\\n\"+\n",
       "     \"</ul>\\n\"+\n",
       "     \"<code>\\n\"+\n",
       "     \"from bokeh.resources import INLINE\\n\"+\n",
       "     \"output_notebook(resources=INLINE)\\n\"+\n",
       "     \"</code>\\n\"+\n",
       "     \"</div>\"}};\n",
       "\n",
       "  function display_loaded() {\n",
       "    var el = document.getElementById(\"1001\");\n",
       "    if (el != null) {\n",
       "      el.textContent = \"BokehJS is loading...\";\n",
       "    }\n",
       "    if (root.Bokeh !== undefined) {\n",
       "      if (el != null) {\n",
       "        el.textContent = \"BokehJS \" + root.Bokeh.version + \" successfully loaded.\";\n",
       "      }\n",
       "    } else if (Date.now() < root._bokeh_timeout) {\n",
       "      setTimeout(display_loaded, 100)\n",
       "    }\n",
       "  }\n",
       "\n",
       "\n",
       "  function run_callbacks() {\n",
       "    try {\n",
       "      root._bokeh_onload_callbacks.forEach(function(callback) {\n",
       "        if (callback != null)\n",
       "          callback();\n",
       "      });\n",
       "    } finally {\n",
       "      delete root._bokeh_onload_callbacks\n",
       "    }\n",
       "    console.debug(\"Bokeh: all callbacks have finished\");\n",
       "  }\n",
       "\n",
       "  function load_libs(css_urls, js_urls, callback) {\n",
       "    if (css_urls == null) css_urls = [];\n",
       "    if (js_urls == null) js_urls = [];\n",
       "\n",
       "    root._bokeh_onload_callbacks.push(callback);\n",
       "    if (root._bokeh_is_loading > 0) {\n",
       "      console.debug(\"Bokeh: BokehJS is being loaded, scheduling callback at\", now());\n",
       "      return null;\n",
       "    }\n",
       "    if (js_urls == null || js_urls.length === 0) {\n",
       "      run_callbacks();\n",
       "      return null;\n",
       "    }\n",
       "    console.debug(\"Bokeh: BokehJS not loaded, scheduling load and callback at\", now());\n",
       "    root._bokeh_is_loading = css_urls.length + js_urls.length;\n",
       "\n",
       "    function on_load() {\n",
       "      root._bokeh_is_loading--;\n",
       "      if (root._bokeh_is_loading === 0) {\n",
       "        console.debug(\"Bokeh: all BokehJS libraries/stylesheets loaded\");\n",
       "        run_callbacks()\n",
       "      }\n",
       "    }\n",
       "\n",
       "    function on_error() {\n",
       "      console.error(\"failed to load \" + url);\n",
       "    }\n",
       "\n",
       "    for (var i = 0; i < css_urls.length; i++) {\n",
       "      var url = css_urls[i];\n",
       "      const element = document.createElement(\"link\");\n",
       "      element.onload = on_load;\n",
       "      element.onerror = on_error;\n",
       "      element.rel = \"stylesheet\";\n",
       "      element.type = \"text/css\";\n",
       "      element.href = url;\n",
       "      console.debug(\"Bokeh: injecting link tag for BokehJS stylesheet: \", url);\n",
       "      document.body.appendChild(element);\n",
       "    }\n",
       "\n",
       "    for (var i = 0; i < js_urls.length; i++) {\n",
       "      var url = js_urls[i];\n",
       "      var element = document.createElement('script');\n",
       "      element.onload = on_load;\n",
       "      element.onerror = on_error;\n",
       "      element.async = false;\n",
       "      element.src = url;\n",
       "      console.debug(\"Bokeh: injecting script tag for BokehJS library: \", url);\n",
       "      document.head.appendChild(element);\n",
       "    }\n",
       "  };var element = document.getElementById(\"1001\");\n",
       "  if (element == null) {\n",
       "    console.error(\"Bokeh: ERROR: autoload.js configured with elementid '1001' but no matching script tag was found. \")\n",
       "    return false;\n",
       "  }\n",
       "\n",
       "  function inject_raw_css(css) {\n",
       "    const element = document.createElement(\"style\");\n",
       "    element.appendChild(document.createTextNode(css));\n",
       "    document.body.appendChild(element);\n",
       "  }\n",
       "\n",
       "  \n",
       "  var js_urls = [\"https://cdn.pydata.org/bokeh/release/bokeh-1.4.0.min.js\", \"https://cdn.pydata.org/bokeh/release/bokeh-widgets-1.4.0.min.js\", \"https://cdn.pydata.org/bokeh/release/bokeh-tables-1.4.0.min.js\", \"https://cdn.pydata.org/bokeh/release/bokeh-gl-1.4.0.min.js\"];\n",
       "  var css_urls = [];\n",
       "  \n",
       "\n",
       "  var inline_js = [\n",
       "    function(Bokeh) {\n",
       "      Bokeh.set_log_level(\"info\");\n",
       "    },\n",
       "    function(Bokeh) {\n",
       "    \n",
       "    \n",
       "    }\n",
       "  ];\n",
       "\n",
       "  function run_inline_js() {\n",
       "    \n",
       "    if (root.Bokeh !== undefined || force === true) {\n",
       "      \n",
       "    for (var i = 0; i < inline_js.length; i++) {\n",
       "      inline_js[i].call(root, root.Bokeh);\n",
       "    }\n",
       "    if (force === true) {\n",
       "        display_loaded();\n",
       "      }} else if (Date.now() < root._bokeh_timeout) {\n",
       "      setTimeout(run_inline_js, 100);\n",
       "    } else if (!root._bokeh_failed_load) {\n",
       "      console.log(\"Bokeh: BokehJS failed to load within specified timeout.\");\n",
       "      root._bokeh_failed_load = true;\n",
       "    } else if (force !== true) {\n",
       "      var cell = $(document.getElementById(\"1001\")).parents('.cell').data().cell;\n",
       "      cell.output_area.append_execute_result(NB_LOAD_WARNING)\n",
       "    }\n",
       "\n",
       "  }\n",
       "\n",
       "  if (root._bokeh_is_loading === 0) {\n",
       "    console.debug(\"Bokeh: BokehJS loaded, going straight to plotting\");\n",
       "    run_inline_js();\n",
       "  } else {\n",
       "    load_libs(css_urls, js_urls, function() {\n",
       "      console.debug(\"Bokeh: BokehJS plotting callback run at\", now());\n",
       "      run_inline_js();\n",
       "    });\n",
       "  }\n",
       "}(window));"
      ],
      "application/vnd.bokehjs_load.v0+json": "\n(function(root) {\n  function now() {\n    return new Date();\n  }\n\n  var force = true;\n\n  if (typeof root._bokeh_onload_callbacks === \"undefined\" || force === true) {\n    root._bokeh_onload_callbacks = [];\n    root._bokeh_is_loading = undefined;\n  }\n\n  \n\n  \n  if (typeof (root._bokeh_timeout) === \"undefined\" || force === true) {\n    root._bokeh_timeout = Date.now() + 5000;\n    root._bokeh_failed_load = false;\n  }\n\n  var NB_LOAD_WARNING = {'data': {'text/html':\n     \"<div style='background-color: #fdd'>\\n\"+\n     \"<p>\\n\"+\n     \"BokehJS does not appear to have successfully loaded. If loading BokehJS from CDN, this \\n\"+\n     \"may be due to a slow or bad network connection. Possible fixes:\\n\"+\n     \"</p>\\n\"+\n     \"<ul>\\n\"+\n     \"<li>re-rerun `output_notebook()` to attempt to load from CDN again, or</li>\\n\"+\n     \"<li>use INLINE resources instead, as so:</li>\\n\"+\n     \"</ul>\\n\"+\n     \"<code>\\n\"+\n     \"from bokeh.resources import INLINE\\n\"+\n     \"output_notebook(resources=INLINE)\\n\"+\n     \"</code>\\n\"+\n     \"</div>\"}};\n\n  function display_loaded() {\n    var el = document.getElementById(\"1001\");\n    if (el != null) {\n      el.textContent = \"BokehJS is loading...\";\n    }\n    if (root.Bokeh !== undefined) {\n      if (el != null) {\n        el.textContent = \"BokehJS \" + root.Bokeh.version + \" successfully loaded.\";\n      }\n    } else if (Date.now() < root._bokeh_timeout) {\n      setTimeout(display_loaded, 100)\n    }\n  }\n\n\n  function run_callbacks() {\n    try {\n      root._bokeh_onload_callbacks.forEach(function(callback) {\n        if (callback != null)\n          callback();\n      });\n    } finally {\n      delete root._bokeh_onload_callbacks\n    }\n    console.debug(\"Bokeh: all callbacks have finished\");\n  }\n\n  function load_libs(css_urls, js_urls, callback) {\n    if (css_urls == null) css_urls = [];\n    if (js_urls == null) js_urls = [];\n\n    root._bokeh_onload_callbacks.push(callback);\n    if (root._bokeh_is_loading > 0) {\n      console.debug(\"Bokeh: BokehJS is being loaded, scheduling callback at\", now());\n      return null;\n    }\n    if (js_urls == null || js_urls.length === 0) {\n      run_callbacks();\n      return null;\n    }\n    console.debug(\"Bokeh: BokehJS not loaded, scheduling load and callback at\", now());\n    root._bokeh_is_loading = css_urls.length + js_urls.length;\n\n    function on_load() {\n      root._bokeh_is_loading--;\n      if (root._bokeh_is_loading === 0) {\n        console.debug(\"Bokeh: all BokehJS libraries/stylesheets loaded\");\n        run_callbacks()\n      }\n    }\n\n    function on_error() {\n      console.error(\"failed to load \" + url);\n    }\n\n    for (var i = 0; i < css_urls.length; i++) {\n      var url = css_urls[i];\n      const element = document.createElement(\"link\");\n      element.onload = on_load;\n      element.onerror = on_error;\n      element.rel = \"stylesheet\";\n      element.type = \"text/css\";\n      element.href = url;\n      console.debug(\"Bokeh: injecting link tag for BokehJS stylesheet: \", url);\n      document.body.appendChild(element);\n    }\n\n    for (var i = 0; i < js_urls.length; i++) {\n      var url = js_urls[i];\n      var element = document.createElement('script');\n      element.onload = on_load;\n      element.onerror = on_error;\n      element.async = false;\n      element.src = url;\n      console.debug(\"Bokeh: injecting script tag for BokehJS library: \", url);\n      document.head.appendChild(element);\n    }\n  };var element = document.getElementById(\"1001\");\n  if (element == null) {\n    console.error(\"Bokeh: ERROR: autoload.js configured with elementid '1001' but no matching script tag was found. \")\n    return false;\n  }\n\n  function inject_raw_css(css) {\n    const element = document.createElement(\"style\");\n    element.appendChild(document.createTextNode(css));\n    document.body.appendChild(element);\n  }\n\n  \n  var js_urls = [\"https://cdn.pydata.org/bokeh/release/bokeh-1.4.0.min.js\", \"https://cdn.pydata.org/bokeh/release/bokeh-widgets-1.4.0.min.js\", \"https://cdn.pydata.org/bokeh/release/bokeh-tables-1.4.0.min.js\", \"https://cdn.pydata.org/bokeh/release/bokeh-gl-1.4.0.min.js\"];\n  var css_urls = [];\n  \n\n  var inline_js = [\n    function(Bokeh) {\n      Bokeh.set_log_level(\"info\");\n    },\n    function(Bokeh) {\n    \n    \n    }\n  ];\n\n  function run_inline_js() {\n    \n    if (root.Bokeh !== undefined || force === true) {\n      \n    for (var i = 0; i < inline_js.length; i++) {\n      inline_js[i].call(root, root.Bokeh);\n    }\n    if (force === true) {\n        display_loaded();\n      }} else if (Date.now() < root._bokeh_timeout) {\n      setTimeout(run_inline_js, 100);\n    } else if (!root._bokeh_failed_load) {\n      console.log(\"Bokeh: BokehJS failed to load within specified timeout.\");\n      root._bokeh_failed_load = true;\n    } else if (force !== true) {\n      var cell = $(document.getElementById(\"1001\")).parents('.cell').data().cell;\n      cell.output_area.append_execute_result(NB_LOAD_WARNING)\n    }\n\n  }\n\n  if (root._bokeh_is_loading === 0) {\n    console.debug(\"Bokeh: BokehJS loaded, going straight to plotting\");\n    run_inline_js();\n  } else {\n    load_libs(css_urls, js_urls, function() {\n      console.debug(\"Bokeh: BokehJS plotting callback run at\", now());\n      run_inline_js();\n    });\n  }\n}(window));"
     },
     "metadata": {},
     "output_type": "display_data"
    }
   ],
   "source": [
    "output_notebook()"
   ]
  },
  {
   "cell_type": "markdown",
   "metadata": {},
   "source": [
    "# Overview\n",
    "\n",
    "Sometimes we want to add visual cues (boundary lines, shaded regions, labels and arrows, etc.) to our plots to call out some feature or other. Bokeh has several annotation types available for uses like this. Typically to add annotations we create the \"low level\" annotation object directly, and add it to our plot using `add_layout`. Let's take a look at some specific examples."
   ]
  },
  {
   "cell_type": "markdown",
   "metadata": {},
   "source": [
    "## Spans\n",
    "\n",
    "`Spans` are \"infinite\" vertical or horizonal lines. When creating them, you specify the `dimension` that should be spanned (i.e., `width` or `height`), any visual line properties for the appearance, and the location along the dimension where the line should be drawn. Let's look at an example that adds two horizontal spans to a simple plot:"
   ]
  },
  {
   "cell_type": "code",
   "execution_count": 3,
   "metadata": {},
   "outputs": [
    {
     "data": {
      "text/html": [
       "\n",
       "\n",
       "\n",
       "\n",
       "\n",
       "\n",
       "  <div class=\"bk-root\" id=\"b4547f21-085d-49de-ba2d-f721c85655ab\" data-root-id=\"1002\"></div>\n"
      ]
     },
     "metadata": {},
     "output_type": "display_data"
    },
    {
     "data": {
      "application/javascript": [
       "(function(root) {\n",
       "  function embed_document(root) {\n",
       "    \n",
       "  var docs_json = {\"ec49de10-f134-4a56-bb24-9effdb6c1853\":{\"roots\":{\"references\":[{\"attributes\":{\"below\":[{\"id\":\"1011\",\"type\":\"LinearAxis\"}],\"center\":[{\"id\":\"1015\",\"type\":\"Grid\"},{\"id\":\"1020\",\"type\":\"Grid\"},{\"id\":\"1039\",\"type\":\"Span\"},{\"id\":\"1040\",\"type\":\"Span\"}],\"left\":[{\"id\":\"1016\",\"type\":\"LinearAxis\"}],\"renderers\":[{\"id\":\"1037\",\"type\":\"GlyphRenderer\"}],\"title\":{\"id\":\"1042\",\"type\":\"Title\"},\"toolbar\":{\"id\":\"1027\",\"type\":\"Toolbar\"},\"x_range\":{\"id\":\"1003\",\"type\":\"DataRange1d\"},\"x_scale\":{\"id\":\"1007\",\"type\":\"LinearScale\"},\"y_range\":{\"id\":\"1005\",\"type\":\"Range1d\"},\"y_scale\":{\"id\":\"1009\",\"type\":\"LinearScale\"}},\"id\":\"1002\",\"subtype\":\"Figure\",\"type\":\"Plot\"},{\"attributes\":{},\"id\":\"1021\",\"type\":\"PanTool\"},{\"attributes\":{\"overlay\":{\"id\":\"1047\",\"type\":\"BoxAnnotation\"}},\"id\":\"1023\",\"type\":\"BoxZoomTool\"},{\"attributes\":{\"callback\":null},\"id\":\"1003\",\"type\":\"DataRange1d\"},{\"attributes\":{},\"id\":\"1024\",\"type\":\"SaveTool\"},{\"attributes\":{},\"id\":\"1026\",\"type\":\"HelpTool\"},{\"attributes\":{\"line_alpha\":0.1,\"line_color\":\"#1f77b4\",\"x\":{\"field\":\"x\"},\"y\":{\"field\":\"y\"}},\"id\":\"1036\",\"type\":\"Line\"},{\"attributes\":{},\"id\":\"1012\",\"type\":\"BasicTicker\"},{\"attributes\":{\"callback\":null,\"end\":2,\"start\":-2},\"id\":\"1005\",\"type\":\"Range1d\"},{\"attributes\":{},\"id\":\"1025\",\"type\":\"ResetTool\"},{\"attributes\":{},\"id\":\"1007\",\"type\":\"LinearScale\"},{\"attributes\":{},\"id\":\"1009\",\"type\":\"LinearScale\"},{\"attributes\":{\"line_color\":{\"value\":\"olive\"},\"line_width\":{\"value\":4},\"location\":1},\"id\":\"1039\",\"type\":\"Span\"},{\"attributes\":{},\"id\":\"1022\",\"type\":\"WheelZoomTool\"},{\"attributes\":{\"data_source\":{\"id\":\"1034\",\"type\":\"ColumnDataSource\"},\"glyph\":{\"id\":\"1035\",\"type\":\"Line\"},\"hover_glyph\":null,\"muted_glyph\":null,\"nonselection_glyph\":{\"id\":\"1036\",\"type\":\"Line\"},\"selection_glyph\":null,\"view\":{\"id\":\"1038\",\"type\":\"CDSView\"}},\"id\":\"1037\",\"type\":\"GlyphRenderer\"},{\"attributes\":{\"ticker\":{\"id\":\"1012\",\"type\":\"BasicTicker\"}},\"id\":\"1015\",\"type\":\"Grid\"},{\"attributes\":{\"active_drag\":\"auto\",\"active_inspect\":\"auto\",\"active_multi\":null,\"active_scroll\":\"auto\",\"active_tap\":\"auto\",\"tools\":[{\"id\":\"1021\",\"type\":\"PanTool\"},{\"id\":\"1022\",\"type\":\"WheelZoomTool\"},{\"id\":\"1023\",\"type\":\"BoxZoomTool\"},{\"id\":\"1024\",\"type\":\"SaveTool\"},{\"id\":\"1025\",\"type\":\"ResetTool\"},{\"id\":\"1026\",\"type\":\"HelpTool\"}]},\"id\":\"1027\",\"type\":\"Toolbar\"},{\"attributes\":{},\"id\":\"1017\",\"type\":\"BasicTicker\"},{\"attributes\":{\"formatter\":{\"id\":\"1044\",\"type\":\"BasicTickFormatter\"},\"ticker\":{\"id\":\"1017\",\"type\":\"BasicTicker\"}},\"id\":\"1016\",\"type\":\"LinearAxis\"},{\"attributes\":{\"callback\":null,\"data\":{\"x\":{\"__ndarray__\":\"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\",\"dtype\":\"float64\",\"shape\":[200]},\"y\":{\"__ndarray__\":\"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\",\"dtype\":\"float64\",\"shape\":[200]}},\"selected\":{\"id\":\"1048\",\"type\":\"Selection\"},\"selection_policy\":{\"id\":\"1049\",\"type\":\"UnionRenderers\"}},\"id\":\"1034\",\"type\":\"ColumnDataSource\"},{\"attributes\":{\"line_color\":\"#1f77b4\",\"x\":{\"field\":\"x\"},\"y\":{\"field\":\"y\"}},\"id\":\"1035\",\"type\":\"Line\"},{\"attributes\":{\"bottom_units\":\"screen\",\"fill_alpha\":{\"value\":0.5},\"fill_color\":{\"value\":\"lightgrey\"},\"left_units\":\"screen\",\"level\":\"overlay\",\"line_alpha\":{\"value\":1.0},\"line_color\":{\"value\":\"black\"},\"line_dash\":[4,4],\"line_width\":{\"value\":2},\"render_mode\":\"css\",\"right_units\":\"screen\",\"top_units\":\"screen\"},\"id\":\"1047\",\"type\":\"BoxAnnotation\"},{\"attributes\":{},\"id\":\"1049\",\"type\":\"UnionRenderers\"},{\"attributes\":{},\"id\":\"1048\",\"type\":\"Selection\"},{\"attributes\":{\"text\":\"\"},\"id\":\"1042\",\"type\":\"Title\"},{\"attributes\":{\"dimension\":1,\"ticker\":{\"id\":\"1017\",\"type\":\"BasicTicker\"}},\"id\":\"1020\",\"type\":\"Grid\"},{\"attributes\":{\"formatter\":{\"id\":\"1046\",\"type\":\"BasicTickFormatter\"},\"ticker\":{\"id\":\"1012\",\"type\":\"BasicTicker\"}},\"id\":\"1011\",\"type\":\"LinearAxis\"},{\"attributes\":{\"source\":{\"id\":\"1034\",\"type\":\"ColumnDataSource\"}},\"id\":\"1038\",\"type\":\"CDSView\"},{\"attributes\":{},\"id\":\"1044\",\"type\":\"BasicTickFormatter\"},{\"attributes\":{\"line_color\":{\"value\":\"firebrick\"},\"line_width\":{\"value\":4},\"location\":-1},\"id\":\"1040\",\"type\":\"Span\"},{\"attributes\":{},\"id\":\"1046\",\"type\":\"BasicTickFormatter\"}],\"root_ids\":[\"1002\"]},\"title\":\"Bokeh Application\",\"version\":\"1.4.0\"}};\n",
       "  var render_items = [{\"docid\":\"ec49de10-f134-4a56-bb24-9effdb6c1853\",\"roots\":{\"1002\":\"b4547f21-085d-49de-ba2d-f721c85655ab\"}}];\n",
       "  root.Bokeh.embed.embed_items_notebook(docs_json, render_items);\n",
       "\n",
       "  }\n",
       "  if (root.Bokeh !== undefined) {\n",
       "    embed_document(root);\n",
       "  } else {\n",
       "    var attempts = 0;\n",
       "    var timer = setInterval(function(root) {\n",
       "      if (root.Bokeh !== undefined) {\n",
       "        clearInterval(timer);\n",
       "        embed_document(root);\n",
       "      } else {\n",
       "        attempts++;\n",
       "        if (attempts > 100) {\n",
       "          clearInterval(timer);\n",
       "          console.log(\"Bokeh: ERROR: Unable to run BokehJS code because BokehJS library is missing\");\n",
       "        }\n",
       "      }\n",
       "    }, 10, root)\n",
       "  }\n",
       "})(window);"
      ],
      "application/vnd.bokehjs_exec.v0+json": ""
     },
     "metadata": {
      "application/vnd.bokehjs_exec.v0+json": {
       "id": "1002"
      }
     },
     "output_type": "display_data"
    }
   ],
   "source": [
    "import numpy as np\n",
    "from bokeh.models.annotations import Span\n",
    "\n",
    "x = np.linspace(0, 20, 200)\n",
    "y = np.sin(x)\n",
    "\n",
    "p = figure(y_range=(-2, 2))\n",
    "p.line(x, y)\n",
    "\n",
    "upper = Span(location=1, dimension='width', line_color='olive', line_width=4)\n",
    "p.add_layout(upper)\n",
    "\n",
    "lower = Span(location=-1, dimension='width', line_color='firebrick', line_width=4)\n",
    "p.add_layout(lower)\n",
    "\n",
    "show(p)"
   ]
  },
  {
   "cell_type": "code",
   "execution_count": 9,
   "metadata": {},
   "outputs": [
    {
     "data": {
      "text/html": [
       "\n",
       "\n",
       "\n",
       "\n",
       "\n",
       "\n",
       "  <div class=\"bk-root\" id=\"f9d65f52-1680-4df5-8b1c-c66899849395\" data-root-id=\"1602\"></div>\n"
      ]
     },
     "metadata": {},
     "output_type": "display_data"
    },
    {
     "data": {
      "application/javascript": [
       "(function(root) {\n",
       "  function embed_document(root) {\n",
       "    \n",
       "  var docs_json = {\"9b8dc4f1-fb46-4e62-9134-45086b3e42d8\":{\"roots\":{\"references\":[{\"attributes\":{\"below\":[{\"id\":\"1611\",\"type\":\"LinearAxis\"}],\"center\":[{\"id\":\"1615\",\"type\":\"Grid\"},{\"id\":\"1620\",\"type\":\"Grid\"},{\"id\":\"1639\",\"type\":\"Span\"},{\"id\":\"1640\",\"type\":\"Span\"},{\"id\":\"1641\",\"type\":\"Span\"},{\"id\":\"1642\",\"type\":\"Span\"}],\"left\":[{\"id\":\"1616\",\"type\":\"LinearAxis\"}],\"renderers\":[{\"id\":\"1637\",\"type\":\"GlyphRenderer\"}],\"title\":{\"id\":\"1689\",\"type\":\"Title\"},\"toolbar\":{\"id\":\"1627\",\"type\":\"Toolbar\"},\"x_range\":{\"id\":\"1603\",\"type\":\"DataRange1d\"},\"x_scale\":{\"id\":\"1607\",\"type\":\"LinearScale\"},\"y_range\":{\"id\":\"1605\",\"type\":\"Range1d\"},\"y_scale\":{\"id\":\"1609\",\"type\":\"LinearScale\"}},\"id\":\"1602\",\"subtype\":\"Figure\",\"type\":\"Plot\"},{\"attributes\":{},\"id\":\"1693\",\"type\":\"BasicTickFormatter\"},{\"attributes\":{\"data_source\":{\"id\":\"1634\",\"type\":\"ColumnDataSource\"},\"glyph\":{\"id\":\"1635\",\"type\":\"Line\"},\"hover_glyph\":null,\"muted_glyph\":null,\"nonselection_glyph\":{\"id\":\"1636\",\"type\":\"Line\"},\"selection_glyph\":null,\"view\":{\"id\":\"1638\",\"type\":\"CDSView\"}},\"id\":\"1637\",\"type\":\"GlyphRenderer\"},{\"attributes\":{\"callback\":null,\"data\":{\"x\":{\"__ndarray__\":\"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\",\"dtype\":\"float64\",\"shape\":[200]},\"y\":{\"__ndarray__\":\"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\",\"dtype\":\"float64\",\"shape\":[200]}},\"selected\":{\"id\":\"1695\",\"type\":\"Selection\"},\"selection_policy\":{\"id\":\"1696\",\"type\":\"UnionRenderers\"}},\"id\":\"1634\",\"type\":\"ColumnDataSource\"},{\"attributes\":{\"bottom_units\":\"screen\",\"fill_alpha\":{\"value\":0.5},\"fill_color\":{\"value\":\"lightgrey\"},\"left_units\":\"screen\",\"level\":\"overlay\",\"line_alpha\":{\"value\":1.0},\"line_color\":{\"value\":\"black\"},\"line_dash\":[4,4],\"line_width\":{\"value\":2},\"render_mode\":\"css\",\"right_units\":\"screen\",\"top_units\":\"screen\"},\"id\":\"1694\",\"type\":\"BoxAnnotation\"},{\"attributes\":{\"callback\":null},\"id\":\"1603\",\"type\":\"DataRange1d\"},{\"attributes\":{\"dimension\":\"height\",\"line_color\":{\"value\":\"olive\"},\"line_width\":{\"value\":4},\"location\":0.0},\"id\":\"1639\",\"type\":\"Span\"},{\"attributes\":{\"dimension\":\"height\",\"line_color\":{\"value\":\"firebrick\"},\"line_width\":{\"value\":4},\"location\":20},\"id\":\"1640\",\"type\":\"Span\"},{\"attributes\":{\"line_alpha\":0.1,\"line_color\":\"#1f77b4\",\"x\":{\"field\":\"x\"},\"y\":{\"field\":\"y\"}},\"id\":\"1636\",\"type\":\"Line\"},{\"attributes\":{},\"id\":\"1695\",\"type\":\"Selection\"},{\"attributes\":{},\"id\":\"1621\",\"type\":\"PanTool\"},{\"attributes\":{\"callback\":null,\"end\":2,\"start\":-2},\"id\":\"1605\",\"type\":\"Range1d\"},{\"attributes\":{},\"id\":\"1622\",\"type\":\"WheelZoomTool\"},{\"attributes\":{\"formatter\":{\"id\":\"1693\",\"type\":\"BasicTickFormatter\"},\"ticker\":{\"id\":\"1612\",\"type\":\"BasicTicker\"}},\"id\":\"1611\",\"type\":\"LinearAxis\"},{\"attributes\":{\"overlay\":{\"id\":\"1694\",\"type\":\"BoxAnnotation\"}},\"id\":\"1623\",\"type\":\"BoxZoomTool\"},{\"attributes\":{},\"id\":\"1696\",\"type\":\"UnionRenderers\"},{\"attributes\":{},\"id\":\"1624\",\"type\":\"SaveTool\"},{\"attributes\":{\"source\":{\"id\":\"1634\",\"type\":\"ColumnDataSource\"}},\"id\":\"1638\",\"type\":\"CDSView\"},{\"attributes\":{},\"id\":\"1626\",\"type\":\"HelpTool\"},{\"attributes\":{},\"id\":\"1607\",\"type\":\"LinearScale\"},{\"attributes\":{},\"id\":\"1625\",\"type\":\"ResetTool\"},{\"attributes\":{},\"id\":\"1609\",\"type\":\"LinearScale\"},{\"attributes\":{},\"id\":\"1612\",\"type\":\"BasicTicker\"},{\"attributes\":{\"text\":\"\"},\"id\":\"1689\",\"type\":\"Title\"},{\"attributes\":{\"line_color\":{\"value\":\"firebrick\"},\"line_width\":{\"value\":4},\"location\":-1},\"id\":\"1642\",\"type\":\"Span\"},{\"attributes\":{},\"id\":\"1691\",\"type\":\"BasicTickFormatter\"},{\"attributes\":{\"ticker\":{\"id\":\"1612\",\"type\":\"BasicTicker\"}},\"id\":\"1615\",\"type\":\"Grid\"},{\"attributes\":{\"line_color\":{\"value\":\"olive\"},\"line_width\":{\"value\":4},\"location\":1},\"id\":\"1641\",\"type\":\"Span\"},{\"attributes\":{},\"id\":\"1617\",\"type\":\"BasicTicker\"},{\"attributes\":{\"formatter\":{\"id\":\"1691\",\"type\":\"BasicTickFormatter\"},\"ticker\":{\"id\":\"1617\",\"type\":\"BasicTicker\"}},\"id\":\"1616\",\"type\":\"LinearAxis\"},{\"attributes\":{\"active_drag\":\"auto\",\"active_inspect\":\"auto\",\"active_multi\":null,\"active_scroll\":\"auto\",\"active_tap\":\"auto\",\"tools\":[{\"id\":\"1621\",\"type\":\"PanTool\"},{\"id\":\"1622\",\"type\":\"WheelZoomTool\"},{\"id\":\"1623\",\"type\":\"BoxZoomTool\"},{\"id\":\"1624\",\"type\":\"SaveTool\"},{\"id\":\"1625\",\"type\":\"ResetTool\"},{\"id\":\"1626\",\"type\":\"HelpTool\"}]},\"id\":\"1627\",\"type\":\"Toolbar\"},{\"attributes\":{\"dimension\":1,\"ticker\":{\"id\":\"1617\",\"type\":\"BasicTicker\"}},\"id\":\"1620\",\"type\":\"Grid\"},{\"attributes\":{\"line_color\":\"#1f77b4\",\"x\":{\"field\":\"x\"},\"y\":{\"field\":\"y\"}},\"id\":\"1635\",\"type\":\"Line\"}],\"root_ids\":[\"1602\"]},\"title\":\"Bokeh Application\",\"version\":\"1.4.0\"}};\n",
       "  var render_items = [{\"docid\":\"9b8dc4f1-fb46-4e62-9134-45086b3e42d8\",\"roots\":{\"1602\":\"f9d65f52-1680-4df5-8b1c-c66899849395\"}}];\n",
       "  root.Bokeh.embed.embed_items_notebook(docs_json, render_items);\n",
       "\n",
       "  }\n",
       "  if (root.Bokeh !== undefined) {\n",
       "    embed_document(root);\n",
       "  } else {\n",
       "    var attempts = 0;\n",
       "    var timer = setInterval(function(root) {\n",
       "      if (root.Bokeh !== undefined) {\n",
       "        clearInterval(timer);\n",
       "        embed_document(root);\n",
       "      } else {\n",
       "        attempts++;\n",
       "        if (attempts > 100) {\n",
       "          clearInterval(timer);\n",
       "          console.log(\"Bokeh: ERROR: Unable to run BokehJS code because BokehJS library is missing\");\n",
       "        }\n",
       "      }\n",
       "    }, 10, root)\n",
       "  }\n",
       "})(window);"
      ],
      "application/vnd.bokehjs_exec.v0+json": ""
     },
     "metadata": {
      "application/vnd.bokehjs_exec.v0+json": {
       "id": "1602"
      }
     },
     "output_type": "display_data"
    }
   ],
   "source": [
    "# Exercise: experiment with Span\n",
    "import numpy as np\n",
    "from bokeh.models.annotations import Span\n",
    "\n",
    "x = np.linspace(0, 20, 200)\n",
    "y = np.sin(x)\n",
    "\n",
    "p = figure(y_range=(-2, 2))\n",
    "p.line(x, y)\n",
    "\n",
    "left = Span(location=0.0, dimension='height', line_color='olive', line_width=4)\n",
    "p.add_layout(left)\n",
    "\n",
    "right = Span(location=20, dimension='height', line_color='firebrick', line_width=4)\n",
    "p.add_layout(right)\n",
    "\n",
    "upper = Span(location=1, dimension='width', line_color='olive', line_width=4)\n",
    "p.add_layout(upper)\n",
    "\n",
    "lower = Span(location=-1, dimension='width', line_color='firebrick', line_width=4)\n",
    "p.add_layout(lower)\n",
    "\n",
    "show(p)"
   ]
  },
  {
   "cell_type": "markdown",
   "metadata": {},
   "source": [
    "## Box Annotations\n",
    "\n",
    "Sometimes you might want to call out some region of the plot by drawing a shaded box. This can be done with the `BoxAnnotation`, which is configured with the coordinate properties:\n",
    "* `top`\n",
    "* `left`\n",
    "* `bottom`\n",
    "* `right`\n",
    "\n",
    "as well as any visual line or fill properties to control the appearance. \n",
    "\n",
    "\"Infinite\" boxes can be made by leaving any of the coordinates unspecified. E.g., if `top` is not given, the box will always extend to the top of the plot area, regardless of any panning or zooming that happens.\n",
    "\n",
    "Let's take a look at an example that adds a few shaded boxes to a plot:"
   ]
  },
  {
   "cell_type": "code",
   "execution_count": 10,
   "metadata": {},
   "outputs": [
    {
     "data": {
      "text/html": [
       "\n",
       "\n",
       "\n",
       "\n",
       "\n",
       "\n",
       "  <div class=\"bk-root\" id=\"266d46a0-3e53-4fe7-8a46-db46ec9b11cd\" data-root-id=\"1751\"></div>\n"
      ]
     },
     "metadata": {},
     "output_type": "display_data"
    },
    {
     "data": {
      "application/javascript": [
       "(function(root) {\n",
       "  function embed_document(root) {\n",
       "    \n",
       "  var docs_json = {\"d6096bdd-0d9c-4095-b051-4266a46431e8\":{\"roots\":{\"references\":[{\"attributes\":{\"below\":[{\"id\":\"1760\",\"type\":\"LinearAxis\"}],\"center\":[{\"id\":\"1764\",\"type\":\"Grid\"},{\"id\":\"1769\",\"type\":\"Grid\"},{\"id\":\"1788\",\"type\":\"BoxAnnotation\"},{\"id\":\"1789\",\"type\":\"BoxAnnotation\"},{\"id\":\"1790\",\"type\":\"BoxAnnotation\"}],\"left\":[{\"id\":\"1765\",\"type\":\"LinearAxis\"}],\"renderers\":[{\"id\":\"1786\",\"type\":\"GlyphRenderer\"}],\"title\":{\"id\":\"1846\",\"type\":\"Title\"},\"toolbar\":{\"id\":\"1776\",\"type\":\"Toolbar\"},\"x_range\":{\"id\":\"1752\",\"type\":\"DataRange1d\"},\"x_scale\":{\"id\":\"1756\",\"type\":\"LinearScale\"},\"y_range\":{\"id\":\"1754\",\"type\":\"Range1d\"},\"y_scale\":{\"id\":\"1758\",\"type\":\"LinearScale\"}},\"id\":\"1751\",\"subtype\":\"Figure\",\"type\":\"Plot\"},{\"attributes\":{\"callback\":null},\"id\":\"1752\",\"type\":\"DataRange1d\"},{\"attributes\":{},\"id\":\"1848\",\"type\":\"BasicTickFormatter\"},{\"attributes\":{\"formatter\":{\"id\":\"1848\",\"type\":\"BasicTickFormatter\"},\"ticker\":{\"id\":\"1766\",\"type\":\"BasicTicker\"}},\"id\":\"1765\",\"type\":\"LinearAxis\"},{\"attributes\":{},\"id\":\"1850\",\"type\":\"BasicTickFormatter\"},{\"attributes\":{\"formatter\":{\"id\":\"1850\",\"type\":\"BasicTickFormatter\"},\"ticker\":{\"id\":\"1761\",\"type\":\"BasicTicker\"}},\"id\":\"1760\",\"type\":\"LinearAxis\"},{\"attributes\":{\"line_color\":\"#1f77b4\",\"x\":{\"field\":\"x\"},\"y\":{\"field\":\"y\"}},\"id\":\"1784\",\"type\":\"Line\"},{\"attributes\":{},\"id\":\"1761\",\"type\":\"BasicTicker\"},{\"attributes\":{\"data_source\":{\"id\":\"1783\",\"type\":\"ColumnDataSource\"},\"glyph\":{\"id\":\"1784\",\"type\":\"Line\"},\"hover_glyph\":null,\"muted_glyph\":null,\"nonselection_glyph\":{\"id\":\"1785\",\"type\":\"Line\"},\"selection_glyph\":null,\"view\":{\"id\":\"1787\",\"type\":\"CDSView\"}},\"id\":\"1786\",\"type\":\"GlyphRenderer\"},{\"attributes\":{\"bottom\":1,\"fill_alpha\":{\"value\":0.1},\"fill_color\":{\"value\":\"olive\"}},\"id\":\"1788\",\"type\":\"BoxAnnotation\"},{\"attributes\":{\"bottom\":-0.3,\"fill_alpha\":{\"value\":0.1},\"fill_color\":{\"value\":\"navy\"},\"left\":7,\"right\":12,\"top\":0.6},\"id\":\"1790\",\"type\":\"BoxAnnotation\"},{\"attributes\":{},\"id\":\"1773\",\"type\":\"SaveTool\"},{\"attributes\":{},\"id\":\"1774\",\"type\":\"ResetTool\"},{\"attributes\":{},\"id\":\"1853\",\"type\":\"UnionRenderers\"},{\"attributes\":{\"fill_alpha\":{\"value\":0.1},\"fill_color\":{\"value\":\"firebrick\"},\"top\":-1},\"id\":\"1789\",\"type\":\"BoxAnnotation\"},{\"attributes\":{},\"id\":\"1775\",\"type\":\"HelpTool\"},{\"attributes\":{\"source\":{\"id\":\"1783\",\"type\":\"ColumnDataSource\"}},\"id\":\"1787\",\"type\":\"CDSView\"},{\"attributes\":{},\"id\":\"1771\",\"type\":\"WheelZoomTool\"},{\"attributes\":{\"ticker\":{\"id\":\"1761\",\"type\":\"BasicTicker\"}},\"id\":\"1764\",\"type\":\"Grid\"},{\"attributes\":{\"line_alpha\":0.1,\"line_color\":\"#1f77b4\",\"x\":{\"field\":\"x\"},\"y\":{\"field\":\"y\"}},\"id\":\"1785\",\"type\":\"Line\"},{\"attributes\":{},\"id\":\"1852\",\"type\":\"Selection\"},{\"attributes\":{},\"id\":\"1758\",\"type\":\"LinearScale\"},{\"attributes\":{\"bottom_units\":\"screen\",\"fill_alpha\":{\"value\":0.5},\"fill_color\":{\"value\":\"lightgrey\"},\"left_units\":\"screen\",\"level\":\"overlay\",\"line_alpha\":{\"value\":1.0},\"line_color\":{\"value\":\"black\"},\"line_dash\":[4,4],\"line_width\":{\"value\":2},\"render_mode\":\"css\",\"right_units\":\"screen\",\"top_units\":\"screen\"},\"id\":\"1851\",\"type\":\"BoxAnnotation\"},{\"attributes\":{\"active_drag\":\"auto\",\"active_inspect\":\"auto\",\"active_multi\":null,\"active_scroll\":\"auto\",\"active_tap\":\"auto\",\"tools\":[{\"id\":\"1770\",\"type\":\"PanTool\"},{\"id\":\"1771\",\"type\":\"WheelZoomTool\"},{\"id\":\"1772\",\"type\":\"BoxZoomTool\"},{\"id\":\"1773\",\"type\":\"SaveTool\"},{\"id\":\"1774\",\"type\":\"ResetTool\"},{\"id\":\"1775\",\"type\":\"HelpTool\"}]},\"id\":\"1776\",\"type\":\"Toolbar\"},{\"attributes\":{\"dimension\":1,\"ticker\":{\"id\":\"1766\",\"type\":\"BasicTicker\"}},\"id\":\"1769\",\"type\":\"Grid\"},{\"attributes\":{\"callback\":null,\"data\":{\"x\":{\"__ndarray__\":\"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\",\"dtype\":\"float64\",\"shape\":[200]},\"y\":{\"__ndarray__\":\"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\",\"dtype\":\"float64\",\"shape\":[200]}},\"selected\":{\"id\":\"1852\",\"type\":\"Selection\"},\"selection_policy\":{\"id\":\"1853\",\"type\":\"UnionRenderers\"}},\"id\":\"1783\",\"type\":\"ColumnDataSource\"},{\"attributes\":{},\"id\":\"1756\",\"type\":\"LinearScale\"},{\"attributes\":{},\"id\":\"1766\",\"type\":\"BasicTicker\"},{\"attributes\":{},\"id\":\"1770\",\"type\":\"PanTool\"},{\"attributes\":{\"overlay\":{\"id\":\"1851\",\"type\":\"BoxAnnotation\"}},\"id\":\"1772\",\"type\":\"BoxZoomTool\"},{\"attributes\":{\"text\":\"\"},\"id\":\"1846\",\"type\":\"Title\"},{\"attributes\":{\"callback\":null,\"end\":2,\"start\":-2},\"id\":\"1754\",\"type\":\"Range1d\"}],\"root_ids\":[\"1751\"]},\"title\":\"Bokeh Application\",\"version\":\"1.4.0\"}};\n",
       "  var render_items = [{\"docid\":\"d6096bdd-0d9c-4095-b051-4266a46431e8\",\"roots\":{\"1751\":\"266d46a0-3e53-4fe7-8a46-db46ec9b11cd\"}}];\n",
       "  root.Bokeh.embed.embed_items_notebook(docs_json, render_items);\n",
       "\n",
       "  }\n",
       "  if (root.Bokeh !== undefined) {\n",
       "    embed_document(root);\n",
       "  } else {\n",
       "    var attempts = 0;\n",
       "    var timer = setInterval(function(root) {\n",
       "      if (root.Bokeh !== undefined) {\n",
       "        clearInterval(timer);\n",
       "        embed_document(root);\n",
       "      } else {\n",
       "        attempts++;\n",
       "        if (attempts > 100) {\n",
       "          clearInterval(timer);\n",
       "          console.log(\"Bokeh: ERROR: Unable to run BokehJS code because BokehJS library is missing\");\n",
       "        }\n",
       "      }\n",
       "    }, 10, root)\n",
       "  }\n",
       "})(window);"
      ],
      "application/vnd.bokehjs_exec.v0+json": ""
     },
     "metadata": {
      "application/vnd.bokehjs_exec.v0+json": {
       "id": "1751"
      }
     },
     "output_type": "display_data"
    }
   ],
   "source": [
    "import numpy as np\n",
    "from bokeh.models.annotations import BoxAnnotation\n",
    "\n",
    "x = np.linspace(0, 20, 200)\n",
    "y = np.sin(x)\n",
    "\n",
    "p = figure(y_range=(-2, 2))\n",
    "p.line(x, y)\n",
    "\n",
    "# region that always fills the top of the plot\n",
    "upper = BoxAnnotation(bottom=1, fill_alpha=0.1, fill_color='olive')\n",
    "p.add_layout(upper)\n",
    "\n",
    "# region that always fills the bottom of the plot\n",
    "lower = BoxAnnotation(top=-1, fill_alpha=0.1, fill_color='firebrick')\n",
    "p.add_layout(lower)\n",
    "\n",
    "# a finite region\n",
    "center = BoxAnnotation(top=0.6, bottom=-0.3, left=7, right=12, fill_alpha=0.1, fill_color='navy')\n",
    "p.add_layout(center)\n",
    "\n",
    "show(p)"
   ]
  },
  {
   "cell_type": "code",
   "execution_count": 14,
   "metadata": {},
   "outputs": [
    {
     "data": {
      "text/html": [
       "\n",
       "\n",
       "\n",
       "\n",
       "\n",
       "\n",
       "  <div class=\"bk-root\" id=\"9b0f38c9-22f2-4073-904b-f56860bc3a05\" data-root-id=\"2433\"></div>\n"
      ]
     },
     "metadata": {},
     "output_type": "display_data"
    },
    {
     "data": {
      "application/javascript": [
       "(function(root) {\n",
       "  function embed_document(root) {\n",
       "    \n",
       "  var docs_json = {\"dcabd3bb-2fb1-45cb-90b4-06ab34091f0e\":{\"roots\":{\"references\":[{\"attributes\":{\"below\":[{\"id\":\"2442\",\"type\":\"LinearAxis\"}],\"center\":[{\"id\":\"2446\",\"type\":\"Grid\"},{\"id\":\"2451\",\"type\":\"Grid\"},{\"id\":\"2470\",\"type\":\"BoxAnnotation\"},{\"id\":\"2471\",\"type\":\"BoxAnnotation\"},{\"id\":\"2472\",\"type\":\"BoxAnnotation\"}],\"left\":[{\"id\":\"2447\",\"type\":\"LinearAxis\"}],\"renderers\":[{\"id\":\"2468\",\"type\":\"GlyphRenderer\"}],\"title\":{\"id\":\"2564\",\"type\":\"Title\"},\"toolbar\":{\"id\":\"2458\",\"type\":\"Toolbar\"},\"x_range\":{\"id\":\"2434\",\"type\":\"DataRange1d\"},\"x_scale\":{\"id\":\"2438\",\"type\":\"LinearScale\"},\"y_range\":{\"id\":\"2436\",\"type\":\"Range1d\"},\"y_scale\":{\"id\":\"2440\",\"type\":\"LinearScale\"}},\"id\":\"2433\",\"subtype\":\"Figure\",\"type\":\"Plot\"},{\"attributes\":{},\"id\":\"2438\",\"type\":\"LinearScale\"},{\"attributes\":{},\"id\":\"2452\",\"type\":\"PanTool\"},{\"attributes\":{},\"id\":\"2440\",\"type\":\"LinearScale\"},{\"attributes\":{},\"id\":\"2453\",\"type\":\"WheelZoomTool\"},{\"attributes\":{\"source\":{\"id\":\"2465\",\"type\":\"ColumnDataSource\"}},\"id\":\"2469\",\"type\":\"CDSView\"},{\"attributes\":{\"overlay\":{\"id\":\"2569\",\"type\":\"BoxAnnotation\"}},\"id\":\"2454\",\"type\":\"BoxZoomTool\"},{\"attributes\":{\"callback\":null,\"end\":2,\"start\":-2},\"id\":\"2436\",\"type\":\"Range1d\"},{\"attributes\":{\"fill_alpha\":{\"value\":0.1},\"fill_color\":{\"value\":\"firebrick\"},\"right\":5},\"id\":\"2471\",\"type\":\"BoxAnnotation\"},{\"attributes\":{},\"id\":\"2455\",\"type\":\"SaveTool\"},{\"attributes\":{\"formatter\":{\"id\":\"2568\",\"type\":\"BasicTickFormatter\"},\"ticker\":{\"id\":\"2443\",\"type\":\"BasicTicker\"}},\"id\":\"2442\",\"type\":\"LinearAxis\"},{\"attributes\":{\"line_alpha\":0.1,\"line_color\":\"#1f77b4\",\"x\":{\"field\":\"x\"},\"y\":{\"field\":\"y\"}},\"id\":\"2467\",\"type\":\"Line\"},{\"attributes\":{\"bottom\":1.0,\"fill_alpha\":{\"value\":0.1},\"fill_color\":{\"value\":\"navy\"},\"left\":7,\"right\":12,\"top\":2.0},\"id\":\"2472\",\"type\":\"BoxAnnotation\"},{\"attributes\":{},\"id\":\"2457\",\"type\":\"HelpTool\"},{\"attributes\":{\"callback\":null},\"id\":\"2434\",\"type\":\"DataRange1d\"},{\"attributes\":{},\"id\":\"2456\",\"type\":\"ResetTool\"},{\"attributes\":{},\"id\":\"2571\",\"type\":\"UnionRenderers\"},{\"attributes\":{\"data_source\":{\"id\":\"2465\",\"type\":\"ColumnDataSource\"},\"glyph\":{\"id\":\"2466\",\"type\":\"Line\"},\"hover_glyph\":null,\"muted_glyph\":null,\"nonselection_glyph\":{\"id\":\"2467\",\"type\":\"Line\"},\"selection_glyph\":null,\"view\":{\"id\":\"2469\",\"type\":\"CDSView\"}},\"id\":\"2468\",\"type\":\"GlyphRenderer\"},{\"attributes\":{\"fill_alpha\":{\"value\":0.1},\"fill_color\":{\"value\":\"olive\"},\"left\":15},\"id\":\"2470\",\"type\":\"BoxAnnotation\"},{\"attributes\":{},\"id\":\"2570\",\"type\":\"Selection\"},{\"attributes\":{\"callback\":null,\"data\":{\"x\":{\"__ndarray__\":\"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\",\"dtype\":\"float64\",\"shape\":[200]},\"y\":{\"__ndarray__\":\"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\",\"dtype\":\"float64\",\"shape\":[200]}},\"selected\":{\"id\":\"2570\",\"type\":\"Selection\"},\"selection_policy\":{\"id\":\"2571\",\"type\":\"UnionRenderers\"}},\"id\":\"2465\",\"type\":\"ColumnDataSource\"},{\"attributes\":{\"bottom_units\":\"screen\",\"fill_alpha\":{\"value\":0.5},\"fill_color\":{\"value\":\"lightgrey\"},\"left_units\":\"screen\",\"level\":\"overlay\",\"line_alpha\":{\"value\":1.0},\"line_color\":{\"value\":\"black\"},\"line_dash\":[4,4],\"line_width\":{\"value\":2},\"render_mode\":\"css\",\"right_units\":\"screen\",\"top_units\":\"screen\"},\"id\":\"2569\",\"type\":\"BoxAnnotation\"},{\"attributes\":{},\"id\":\"2566\",\"type\":\"BasicTickFormatter\"},{\"attributes\":{},\"id\":\"2443\",\"type\":\"BasicTicker\"},{\"attributes\":{\"active_drag\":\"auto\",\"active_inspect\":\"auto\",\"active_multi\":null,\"active_scroll\":\"auto\",\"active_tap\":\"auto\",\"tools\":[{\"id\":\"2452\",\"type\":\"PanTool\"},{\"id\":\"2453\",\"type\":\"WheelZoomTool\"},{\"id\":\"2454\",\"type\":\"BoxZoomTool\"},{\"id\":\"2455\",\"type\":\"SaveTool\"},{\"id\":\"2456\",\"type\":\"ResetTool\"},{\"id\":\"2457\",\"type\":\"HelpTool\"}]},\"id\":\"2458\",\"type\":\"Toolbar\"},{\"attributes\":{},\"id\":\"2568\",\"type\":\"BasicTickFormatter\"},{\"attributes\":{\"ticker\":{\"id\":\"2443\",\"type\":\"BasicTicker\"}},\"id\":\"2446\",\"type\":\"Grid\"},{\"attributes\":{},\"id\":\"2448\",\"type\":\"BasicTicker\"},{\"attributes\":{\"text\":\"\"},\"id\":\"2564\",\"type\":\"Title\"},{\"attributes\":{\"formatter\":{\"id\":\"2566\",\"type\":\"BasicTickFormatter\"},\"ticker\":{\"id\":\"2448\",\"type\":\"BasicTicker\"}},\"id\":\"2447\",\"type\":\"LinearAxis\"},{\"attributes\":{\"dimension\":1,\"ticker\":{\"id\":\"2448\",\"type\":\"BasicTicker\"}},\"id\":\"2451\",\"type\":\"Grid\"},{\"attributes\":{\"line_color\":\"#1f77b4\",\"x\":{\"field\":\"x\"},\"y\":{\"field\":\"y\"}},\"id\":\"2466\",\"type\":\"Line\"}],\"root_ids\":[\"2433\"]},\"title\":\"Bokeh Application\",\"version\":\"1.4.0\"}};\n",
       "  var render_items = [{\"docid\":\"dcabd3bb-2fb1-45cb-90b4-06ab34091f0e\",\"roots\":{\"2433\":\"9b0f38c9-22f2-4073-904b-f56860bc3a05\"}}];\n",
       "  root.Bokeh.embed.embed_items_notebook(docs_json, render_items);\n",
       "\n",
       "  }\n",
       "  if (root.Bokeh !== undefined) {\n",
       "    embed_document(root);\n",
       "  } else {\n",
       "    var attempts = 0;\n",
       "    var timer = setInterval(function(root) {\n",
       "      if (root.Bokeh !== undefined) {\n",
       "        clearInterval(timer);\n",
       "        embed_document(root);\n",
       "      } else {\n",
       "        attempts++;\n",
       "        if (attempts > 100) {\n",
       "          clearInterval(timer);\n",
       "          console.log(\"Bokeh: ERROR: Unable to run BokehJS code because BokehJS library is missing\");\n",
       "        }\n",
       "      }\n",
       "    }, 10, root)\n",
       "  }\n",
       "})(window);"
      ],
      "application/vnd.bokehjs_exec.v0+json": ""
     },
     "metadata": {
      "application/vnd.bokehjs_exec.v0+json": {
       "id": "2433"
      }
     },
     "output_type": "display_data"
    }
   ],
   "source": [
    "# Exercise: experiment with BoxAnnotation\n",
    "x = np.linspace(0, 20, 200)\n",
    "y = np.sin(x)\n",
    "\n",
    "p = figure(y_range=(-2, 2))\n",
    "p.line(x, y)\n",
    "\n",
    "# region that always fills the top of the plot\n",
    "right = BoxAnnotation(left=15, fill_alpha=0.1, fill_color='olive')\n",
    "p.add_layout(right)\n",
    "\n",
    "# region that always fills the bottom of the plot\n",
    "left = BoxAnnotation(right=5, fill_alpha=0.1, fill_color='firebrick')\n",
    "p.add_layout(left)\n",
    "\n",
    "# a finite region\n",
    "center = BoxAnnotation(top=2.0, bottom=1.0, left=7, right=12, fill_alpha=0.1, fill_color='navy')\n",
    "p.add_layout(center)\n",
    "\n",
    "show(p)"
   ]
  },
  {
   "cell_type": "markdown",
   "metadata": {},
   "source": [
    "## Label\n",
    "\n",
    "The `Label` annotation allows you to easily attach single text labels to plots. The position and text to display are configured as `x`, `y`, and `text`:\n",
    "\n",
    "```python\n",
    "Label(x=10, y=5, text=\"Some Label\")\n",
    "```\n",
    "\n",
    "By default the units are in \"data space\" but `x_units` and `y_units` maybe set to `\"screen\"` to position the label relative to the canvas. Labels can also accept `x_offset` and `y_offset` to offset the final position from `x` and `y` by a given screen space distance. \n",
    "\n",
    "`Label` objects also have standard text, line (`border_line`) and fill (`background_fill`) properties. The line and fill properties apply to a bounding box around the text:\n",
    "\n",
    "```python\n",
    "Label(x=10, y=5, text=\"Some Label\", text_font_size=\"12pt\", \n",
    "      border_line_color=\"red\", background_fill_color=\"blue\")\n",
    "```"
   ]
  },
  {
   "cell_type": "code",
   "execution_count": 15,
   "metadata": {},
   "outputs": [
    {
     "data": {
      "text/html": [
       "\n",
       "\n",
       "\n",
       "\n",
       "\n",
       "\n",
       "  <div class=\"bk-root\" id=\"5d789767-5a52-45a6-a8d2-ae26e32c2559\" data-root-id=\"2626\"></div>\n"
      ]
     },
     "metadata": {},
     "output_type": "display_data"
    },
    {
     "data": {
      "application/javascript": [
       "(function(root) {\n",
       "  function embed_document(root) {\n",
       "    \n",
       "  var docs_json = {\"f0cd2052-d5f6-4bb3-a600-257a481cf118\":{\"roots\":{\"references\":[{\"attributes\":{\"below\":[{\"id\":\"2635\",\"type\":\"LinearAxis\"}],\"center\":[{\"id\":\"2639\",\"type\":\"Grid\"},{\"id\":\"2644\",\"type\":\"Grid\"},{\"id\":\"2663\",\"type\":\"Label\"}],\"left\":[{\"id\":\"2640\",\"type\":\"LinearAxis\"}],\"renderers\":[{\"id\":\"2661\",\"type\":\"GlyphRenderer\"}],\"title\":{\"id\":\"2764\",\"type\":\"Title\"},\"toolbar\":{\"id\":\"2651\",\"type\":\"Toolbar\"},\"x_range\":{\"id\":\"2627\",\"type\":\"Range1d\"},\"x_scale\":{\"id\":\"2631\",\"type\":\"LinearScale\"},\"y_range\":{\"id\":\"2629\",\"type\":\"Range1d\"},\"y_scale\":{\"id\":\"2633\",\"type\":\"LinearScale\"}},\"id\":\"2626\",\"subtype\":\"Figure\",\"type\":\"Plot\"},{\"attributes\":{\"formatter\":{\"id\":\"2768\",\"type\":\"BasicTickFormatter\"},\"ticker\":{\"id\":\"2636\",\"type\":\"BasicTicker\"}},\"id\":\"2635\",\"type\":\"LinearAxis\"},{\"attributes\":{},\"id\":\"2766\",\"type\":\"BasicTickFormatter\"},{\"attributes\":{\"formatter\":{\"id\":\"2766\",\"type\":\"BasicTickFormatter\"},\"ticker\":{\"id\":\"2641\",\"type\":\"BasicTicker\"}},\"id\":\"2640\",\"type\":\"LinearAxis\"},{\"attributes\":{\"source\":{\"id\":\"2658\",\"type\":\"ColumnDataSource\"}},\"id\":\"2662\",\"type\":\"CDSView\"},{\"attributes\":{},\"id\":\"2636\",\"type\":\"BasicTicker\"},{\"attributes\":{},\"id\":\"2768\",\"type\":\"BasicTickFormatter\"},{\"attributes\":{\"bottom_units\":\"screen\",\"fill_alpha\":{\"value\":0.5},\"fill_color\":{\"value\":\"lightgrey\"},\"left_units\":\"screen\",\"level\":\"overlay\",\"line_alpha\":{\"value\":1.0},\"line_color\":{\"value\":\"black\"},\"line_dash\":[4,4],\"line_width\":{\"value\":2},\"render_mode\":\"css\",\"right_units\":\"screen\",\"top_units\":\"screen\"},\"id\":\"2769\",\"type\":\"BoxAnnotation\"},{\"attributes\":{\"ticker\":{\"id\":\"2636\",\"type\":\"BasicTicker\"}},\"id\":\"2639\",\"type\":\"Grid\"},{\"attributes\":{},\"id\":\"2770\",\"type\":\"Selection\"},{\"attributes\":{},\"id\":\"2771\",\"type\":\"UnionRenderers\"},{\"attributes\":{},\"id\":\"2650\",\"type\":\"HelpTool\"},{\"attributes\":{\"active_drag\":\"auto\",\"active_inspect\":\"auto\",\"active_multi\":null,\"active_scroll\":\"auto\",\"active_tap\":\"auto\",\"tools\":[{\"id\":\"2645\",\"type\":\"PanTool\"},{\"id\":\"2646\",\"type\":\"WheelZoomTool\"},{\"id\":\"2647\",\"type\":\"BoxZoomTool\"},{\"id\":\"2648\",\"type\":\"SaveTool\"},{\"id\":\"2649\",\"type\":\"ResetTool\"},{\"id\":\"2650\",\"type\":\"HelpTool\"}]},\"id\":\"2651\",\"type\":\"Toolbar\"},{\"attributes\":{\"text\":\"\"},\"id\":\"2764\",\"type\":\"Title\"},{\"attributes\":{\"text\":\"Second Point\",\"text_baseline\":\"middle\",\"x\":5,\"x_offset\":12,\"y\":7},\"id\":\"2663\",\"type\":\"Label\"},{\"attributes\":{\"dimension\":1,\"ticker\":{\"id\":\"2641\",\"type\":\"BasicTicker\"}},\"id\":\"2644\",\"type\":\"Grid\"},{\"attributes\":{},\"id\":\"2649\",\"type\":\"ResetTool\"},{\"attributes\":{\"overlay\":{\"id\":\"2769\",\"type\":\"BoxAnnotation\"}},\"id\":\"2647\",\"type\":\"BoxZoomTool\"},{\"attributes\":{},\"id\":\"2646\",\"type\":\"WheelZoomTool\"},{\"attributes\":{},\"id\":\"2648\",\"type\":\"SaveTool\"},{\"attributes\":{\"callback\":null,\"end\":10},\"id\":\"2629\",\"type\":\"Range1d\"},{\"attributes\":{},\"id\":\"2641\",\"type\":\"BasicTicker\"},{\"attributes\":{},\"id\":\"2645\",\"type\":\"PanTool\"},{\"attributes\":{\"callback\":null,\"end\":10},\"id\":\"2627\",\"type\":\"Range1d\"},{\"attributes\":{},\"id\":\"2633\",\"type\":\"LinearScale\"},{\"attributes\":{\"data_source\":{\"id\":\"2658\",\"type\":\"ColumnDataSource\"},\"glyph\":{\"id\":\"2659\",\"type\":\"Circle\"},\"hover_glyph\":null,\"muted_glyph\":null,\"nonselection_glyph\":{\"id\":\"2660\",\"type\":\"Circle\"},\"selection_glyph\":null,\"view\":{\"id\":\"2662\",\"type\":\"CDSView\"}},\"id\":\"2661\",\"type\":\"GlyphRenderer\"},{\"attributes\":{\"fill_alpha\":{\"value\":0.1},\"fill_color\":{\"value\":\"#1f77b4\"},\"line_alpha\":{\"value\":0.1},\"line_color\":{\"value\":\"#1f77b4\"},\"size\":{\"units\":\"screen\",\"value\":10},\"x\":{\"field\":\"x\"},\"y\":{\"field\":\"y\"}},\"id\":\"2660\",\"type\":\"Circle\"},{\"attributes\":{\"callback\":null,\"data\":{\"x\":[2,5,8],\"y\":[4,7,6]},\"selected\":{\"id\":\"2770\",\"type\":\"Selection\"},\"selection_policy\":{\"id\":\"2771\",\"type\":\"UnionRenderers\"}},\"id\":\"2658\",\"type\":\"ColumnDataSource\"},{\"attributes\":{\"fill_color\":{\"value\":\"olive\"},\"line_color\":{\"value\":\"olive\"},\"size\":{\"units\":\"screen\",\"value\":10},\"x\":{\"field\":\"x\"},\"y\":{\"field\":\"y\"}},\"id\":\"2659\",\"type\":\"Circle\"},{\"attributes\":{},\"id\":\"2631\",\"type\":\"LinearScale\"}],\"root_ids\":[\"2626\"]},\"title\":\"Bokeh Application\",\"version\":\"1.4.0\"}};\n",
       "  var render_items = [{\"docid\":\"f0cd2052-d5f6-4bb3-a600-257a481cf118\",\"roots\":{\"2626\":\"5d789767-5a52-45a6-a8d2-ae26e32c2559\"}}];\n",
       "  root.Bokeh.embed.embed_items_notebook(docs_json, render_items);\n",
       "\n",
       "  }\n",
       "  if (root.Bokeh !== undefined) {\n",
       "    embed_document(root);\n",
       "  } else {\n",
       "    var attempts = 0;\n",
       "    var timer = setInterval(function(root) {\n",
       "      if (root.Bokeh !== undefined) {\n",
       "        clearInterval(timer);\n",
       "        embed_document(root);\n",
       "      } else {\n",
       "        attempts++;\n",
       "        if (attempts > 100) {\n",
       "          clearInterval(timer);\n",
       "          console.log(\"Bokeh: ERROR: Unable to run BokehJS code because BokehJS library is missing\");\n",
       "        }\n",
       "      }\n",
       "    }, 10, root)\n",
       "  }\n",
       "})(window);"
      ],
      "application/vnd.bokehjs_exec.v0+json": ""
     },
     "metadata": {
      "application/vnd.bokehjs_exec.v0+json": {
       "id": "2626"
      }
     },
     "output_type": "display_data"
    }
   ],
   "source": [
    "from bokeh.models.annotations import Label\n",
    "from bokeh.plotting import figure\n",
    "\n",
    "p = figure(x_range=(0,10), y_range=(0,10))\n",
    "p.circle([2, 5, 8], [4, 7, 6], color=\"olive\", size=10)\n",
    "\n",
    "label = Label(x=5, y=7, x_offset=12, text=\"Second Point\", text_baseline=\"middle\")\n",
    "p.add_layout(label)\n",
    "\n",
    "show(p)"
   ]
  },
  {
   "cell_type": "code",
   "execution_count": 42,
   "metadata": {},
   "outputs": [
    {
     "ename": "TypeError",
     "evalue": "LatexLabel() got an unexpected keyword argument 'x'",
     "output_type": "error",
     "traceback": [
      "\u001b[1;31m---------------------------------------------------------------------------\u001b[0m",
      "\u001b[1;31mTypeError\u001b[0m                                 Traceback (most recent call last)",
      "\u001b[1;32m<ipython-input-42-681547072eaa>\u001b[0m in \u001b[0;36m<module>\u001b[1;34m\u001b[0m\n\u001b[0;32m     73\u001b[0m                    \u001b[0mx\u001b[0m\u001b[1;33m=\u001b[0m\u001b[1;36m35\u001b[0m\u001b[1;33m,\u001b[0m \u001b[0my\u001b[0m\u001b[1;33m=\u001b[0m\u001b[1;36m445\u001b[0m\u001b[1;33m,\u001b[0m \u001b[0mx_units\u001b[0m\u001b[1;33m=\u001b[0m\u001b[1;34m'screen'\u001b[0m\u001b[1;33m,\u001b[0m \u001b[0my_units\u001b[0m\u001b[1;33m=\u001b[0m\u001b[1;34m'screen'\u001b[0m\u001b[1;33m,\u001b[0m\u001b[1;33m\u001b[0m\u001b[1;33m\u001b[0m\u001b[0m\n\u001b[0;32m     74\u001b[0m                    \u001b[0mrender_mode\u001b[0m\u001b[1;33m=\u001b[0m\u001b[1;34m'css'\u001b[0m\u001b[1;33m,\u001b[0m \u001b[0mtext_font_size\u001b[0m\u001b[1;33m=\u001b[0m\u001b[1;34m'16pt'\u001b[0m\u001b[1;33m,\u001b[0m\u001b[1;33m\u001b[0m\u001b[1;33m\u001b[0m\u001b[0m\n\u001b[1;32m---> 75\u001b[1;33m                    background_fill_color='#ffffff')\n\u001b[0m\u001b[0;32m     76\u001b[0m \u001b[0mp\u001b[0m\u001b[1;33m.\u001b[0m\u001b[0madd_layout\u001b[0m\u001b[1;33m(\u001b[0m\u001b[0mlatex\u001b[0m\u001b[1;33m)\u001b[0m\u001b[1;33m\u001b[0m\u001b[1;33m\u001b[0m\u001b[0m\n\u001b[0;32m     77\u001b[0m \u001b[1;33m\u001b[0m\u001b[0m\n",
      "\u001b[1;31mTypeError\u001b[0m: LatexLabel() got an unexpected keyword argument 'x'"
     ]
    }
   ],
   "source": [
    "\n",
    "from bokeh.models import Label\n",
    "from bokeh.plotting import figure, show\n",
    "\n",
    "JS_CODE = \"\"\"\n",
    "import {Label, LabelView} from \"models/annotations/label\"\n",
    "\n",
    "export class LatexLabelView extends LabelView\n",
    "  render: () ->\n",
    "\n",
    "    #--- Start of copied section from ``Label.render`` implementation\n",
    "\n",
    "    ctx = @plot_view.canvas_view.ctx\n",
    "\n",
    "    # Here because AngleSpec does units tranform and label doesn't support specs\n",
    "    switch @model.angle_units\n",
    "      when \"rad\" then angle = -1 * @model.angle\n",
    "      when \"deg\" then angle = -1 * @model.angle * Math.PI/180.0\n",
    "\n",
    "    if @model.x_units == \"data\"\n",
    "      vx = @xscale.compute(@model.x)\n",
    "    else\n",
    "      vx = @model.x\n",
    "    sx = @canvas.vx_to_sx(vx)\n",
    "\n",
    "    if @model.y_units == \"data\"\n",
    "      vy = @yscale.compute(@model.y)\n",
    "    else\n",
    "      vy = @model.y\n",
    "    sy = @canvas.vy_to_sy(vy)\n",
    "\n",
    "    if @model.panel?\n",
    "      panel_offset = @_get_panel_offset()\n",
    "      sx += panel_offset.x\n",
    "      sy += panel_offset.y\n",
    "\n",
    "    #--- End of copied section from ``Label.render`` implementation\n",
    "\n",
    "    # Must render as superpositioned div (not on canvas) so that KaTex\n",
    "    # css can properly style the text\n",
    "    @_css_text(ctx, \"\", sx + @model.x_offset, sy - @model.y_offset, angle)\n",
    "\n",
    "    # ``katex`` is loaded into the global window at runtime\n",
    "    # katex.renderToString returns a html ``span`` element\n",
    "    katex.render(@model.text, @el, {displayMode: true})\n",
    "\n",
    "export class LatexLabel extends Label\n",
    "  type: 'LatexLabel'\n",
    "  default_view: LatexLabelView\n",
    "\"\"\"\n",
    "\n",
    "def LatexLabel(Label):\n",
    "    \"\"\"A subclass of the Bokeh built-in `Label` that supports rendering\n",
    "    LaTex using the KaTex typesetting library.\n",
    "\n",
    "    Only the render method of LabelView is overloaded to perform the\n",
    "    text -> latex (via katex) conversion. Note: ``render_mode=\"canvas``\n",
    "    isn't supported and certain DOM manipulation happens in the Label\n",
    "    superclass implementation that requires explicitly setting\n",
    "    `render_mode='css'`).\n",
    "    \"\"\"\n",
    "    __javascript__ = [\"https://cdnjs.cloudflare.com/ajax/libs/KaTeX/0.6.0/katex.min.js\"]\n",
    "    __css__ = [\"https://cdnjs.cloudflare.com/ajax/libs/KaTeX/0.6.0/katex.min.css\"]\n",
    "    __implementation__ = JS_CODE\n",
    "\n",
    "x = np.arange(0.0, 1.0 + 0.01, 0.01)\n",
    "y = np.cos(2*2*np.pi*x) + 2\n",
    "\n",
    "p = figure(title=\"LaTex Demonstration\", plot_width=500, plot_height=500)\n",
    "p.line(x, y)\n",
    "\n",
    "# Note: must set ``render_mode=\"css\"``\n",
    "label = LatexLabel(\"f = \\sum_{n=1}^\\infty\\\\frac{-e^{i\\pi}}{2^n}!\",\n",
    "                   x=35, y=445, x_units='screen', y_units='screen',\n",
    "                   render_mode='css', text_font_size='16pt',\n",
    "                   background_fill_color='#ffffff')\n",
    "p.add_layout(latex)\n",
    "\n",
    "show(p)"
   ]
  },
  {
   "cell_type": "code",
   "execution_count": 48,
   "metadata": {},
   "outputs": [
    {
     "data": {
      "text/html": [
       "\n",
       "\n",
       "\n",
       "\n",
       "\n",
       "\n",
       "  <div class=\"bk-root\" id=\"3e70246b-cf79-4c65-9e3e-94742f87485f\" data-root-id=\"8022\"></div>\n"
      ]
     },
     "metadata": {},
     "output_type": "display_data"
    },
    {
     "data": {
      "application/javascript": [
       "(function(root) {\n",
       "  function embed_document(root) {\n",
       "    \n",
       "  var docs_json = {\"00e3d299-1be1-4718-b938-0e0c0e0c303f\":{\"roots\":{\"references\":[{\"attributes\":{\"below\":[{\"id\":\"8031\",\"type\":\"LinearAxis\"}],\"center\":[{\"id\":\"8035\",\"type\":\"Grid\"},{\"id\":\"8040\",\"type\":\"Grid\"},{\"id\":\"8064\",\"type\":\"Label\"},{\"id\":\"8065\",\"type\":\"Label\"}],\"left\":[{\"id\":\"8036\",\"type\":\"LinearAxis\"}],\"renderers\":[{\"id\":\"8057\",\"type\":\"GlyphRenderer\"},{\"id\":\"8062\",\"type\":\"GlyphRenderer\"}],\"title\":{\"id\":\"8328\",\"type\":\"Title\"},\"toolbar\":{\"id\":\"8047\",\"type\":\"Toolbar\"},\"x_range\":{\"id\":\"8023\",\"type\":\"Range1d\"},\"x_scale\":{\"id\":\"8027\",\"type\":\"LinearScale\"},\"y_range\":{\"id\":\"8025\",\"type\":\"Range1d\"},\"y_scale\":{\"id\":\"8029\",\"type\":\"LinearScale\"}},\"id\":\"8022\",\"subtype\":\"Figure\",\"type\":\"Plot\"},{\"attributes\":{\"data_source\":{\"id\":\"8059\",\"type\":\"ColumnDataSource\"},\"glyph\":{\"id\":\"8060\",\"type\":\"Line\"},\"hover_glyph\":null,\"muted_glyph\":null,\"nonselection_glyph\":{\"id\":\"8061\",\"type\":\"Line\"},\"selection_glyph\":null,\"view\":{\"id\":\"8063\",\"type\":\"CDSView\"}},\"id\":\"8062\",\"type\":\"GlyphRenderer\"},{\"attributes\":{\"ticker\":{\"id\":\"8032\",\"type\":\"BasicTicker\"}},\"id\":\"8035\",\"type\":\"Grid\"},{\"attributes\":{\"dimension\":1,\"ticker\":{\"id\":\"8037\",\"type\":\"BasicTicker\"}},\"id\":\"8040\",\"type\":\"Grid\"},{\"attributes\":{\"active_drag\":\"auto\",\"active_inspect\":\"auto\",\"active_multi\":null,\"active_scroll\":\"auto\",\"active_tap\":\"auto\",\"tools\":[{\"id\":\"8041\",\"type\":\"PanTool\"},{\"id\":\"8042\",\"type\":\"WheelZoomTool\"},{\"id\":\"8043\",\"type\":\"BoxZoomTool\"},{\"id\":\"8044\",\"type\":\"SaveTool\"},{\"id\":\"8045\",\"type\":\"ResetTool\"},{\"id\":\"8046\",\"type\":\"HelpTool\"}]},\"id\":\"8047\",\"type\":\"Toolbar\"},{\"attributes\":{},\"id\":\"8334\",\"type\":\"Selection\"},{\"attributes\":{},\"id\":\"8037\",\"type\":\"BasicTicker\"},{\"attributes\":{\"overlay\":{\"id\":\"8333\",\"type\":\"BoxAnnotation\"}},\"id\":\"8043\",\"type\":\"BoxZoomTool\"},{\"attributes\":{\"source\":{\"id\":\"8059\",\"type\":\"ColumnDataSource\"}},\"id\":\"8063\",\"type\":\"CDSView\"},{\"attributes\":{},\"id\":\"8042\",\"type\":\"WheelZoomTool\"},{\"attributes\":{},\"id\":\"8041\",\"type\":\"PanTool\"},{\"attributes\":{},\"id\":\"8029\",\"type\":\"LinearScale\"},{\"attributes\":{\"callback\":null,\"end\":15},\"id\":\"8023\",\"type\":\"Range1d\"},{\"attributes\":{\"text\":\" y=cos(x)\",\"text_baseline\":\"middle\",\"x\":12.566370614359172,\"x_offset\":-12,\"y\":1},\"id\":\"8065\",\"type\":\"Label\"},{\"attributes\":{},\"id\":\"8032\",\"type\":\"BasicTicker\"},{\"attributes\":{\"formatter\":{\"id\":\"8330\",\"type\":\"BasicTickFormatter\"},\"ticker\":{\"id\":\"8037\",\"type\":\"BasicTicker\"}},\"id\":\"8036\",\"type\":\"LinearAxis\"},{\"attributes\":{},\"id\":\"8027\",\"type\":\"LinearScale\"},{\"attributes\":{\"line_alpha\":0.1,\"line_color\":\"#1f77b4\",\"x\":{\"field\":\"x\"},\"y\":{\"field\":\"y\"}},\"id\":\"8061\",\"type\":\"Line\"},{\"attributes\":{\"line_color\":\"olive\",\"x\":{\"field\":\"x\"},\"y\":{\"field\":\"y\"}},\"id\":\"8055\",\"type\":\"Line\"},{\"attributes\":{},\"id\":\"8332\",\"type\":\"BasicTickFormatter\"},{\"attributes\":{},\"id\":\"8336\",\"type\":\"Selection\"},{\"attributes\":{\"callback\":null,\"data\":{\"x\":{\"__ndarray__\":\"AAAAAAAAAACRGkt8Vz/AP5EaS3xXP9A/2qdwOgNf2D+RGkt8Vz/gPzXhXVstT+Q/2qdwOgNf6D9+boMZ2W7sP5EaS3xXP/A/433Ua0JH8j814V1bLU/0P4dE50oYV/Y/2qdwOgNf+D8sC/op7mb6P35ugxnZbvw/0NEMCcR2/j+RGkt8Vz8AQDrMD/RMQwFA433Ua0JHAkCML5njN0sDQDXhXVstTwRA3pIi0yJTBUCHROdKGFcGQDD2q8INWwdA2qdwOgNfCECDWTWy+GIJQCwL+inuZgpA1by+oeNqC0B+boMZ2W4MQCcgSJHOcg1A0NEMCcR2DkB5g9GAuXoPQJEaS3xXPxBAZnMtOFLBEEA6zA/0TEMRQA8l8q9HxRFA433Ua0JHEkC41rYnPckSQIwvmeM3SxNAYYh7nzLNE0A14V1bLU8UQAo6QBco0RRA3pIi0yJTFUCz6wSPHdUVQIdE50oYVxZAXJ3JBhPZFkAw9qvCDVsXQAVPjn4I3RdA2qdwOgNfGECuAFP2/eAYQINZNbL4YhlAV7IXbvPkGUAsC/op7mYaQABk3OXo6BpA1by+oeNqG0CpFaFd3uwbQH5ugxnZbhxAUsdl1dPwHEAnIEiRznIdQPt4Kk3J9B1A0NEMCcR2HkCkKu/EvvgeQHmD0YC5eh9ATdyzPLT8H0CRGkt8Vz8gQPtGPNpUgCBAZnMtOFLBIEDQnx6WTwIhQDrMD/RMQyFApPgAUkqEIUAPJfKvR8UhQHlR4w1FBiJA433Ua0JHIkBNqsXJP4giQLjWtic9ySJAIgOohToKI0CML5njN0sjQPZbikE1jCNAYYh7nzLNI0DLtGz9Lw4kQDXhXVstTyRAoA1PuSqQJEAKOkAXKNEkQHRmMXUlEiVA3pIi0yJTJUBJvxMxIJQlQLPrBI8d1SVAHRj27BoWJkCHROdKGFcmQPJw2KgVmCZAXJ3JBhPZJkDGybpkEBonQDD2q8INWydAmyKdIAucJ0AFT45+CN0nQG97f9wFHihA2qdwOgNfKEBE1GGYAKAoQK4AU/b94ChAGC1EVPshKUA=\",\"dtype\":\"float64\",\"shape\":[100]},\"y\":{\"__ndarray__\":\"AAAAAAAAAADwgwJ4LjTAP5qI2QHPEtA/+5MNU1HJ1z8YTT7q2B3fP0aFmgwa+eI/ABg/lCAV5j+IQCEcMdboP3fOhmLzMOs/EyzujrQb7T/9Izwlj47uPxccgYyLg+8/g6xao7j27z9mZrL8O+bvP7+X94FZUu8/xVNiW3I97j9RB8Ai+6vsP5FWKYlppOo/oSg6uxkv6D/Sh2bxK1blPyZGRbpaJeI/8qg+VZVT3T/4C4p0qOPVP+UppLIiM8w/3FNHxZdVuD/J23zJpD6gv+3ENsZjOcS/wo12/ecH0r/dgWKM2KjZv2MTsJELcOC/83ixWvXH47+358MBZM7mv5eCD4nhdum/rExY6Hq267+TIxAn7YPtvwSssILL1+6/70I4BJ6s77/vOc8G+P7vvzTGy1KGze+/3176khQZ77/C8a4NiuTtvzGcHq/dNOy/l0FFlgER6r+EGZN4xoHnvx8WPFK3keS/Cli7+O1M4b+HQNqEwoHbv9kfIiFb+NO/gKyggGI5yL8EhrXMjDywvyGGtcyMPLA/jqyggGI5yD/gHyIhW/jTP4BA2oTCgds/DVi7+O1M4T8cFjxSt5HkP4cZk3jGgec/lUFFlgER6j8ynB6v3TTsP8Hxrg2K5O0/4F76khQZ7z80xstShs3vP+85zwb4/u8/8EI4BJ6s7z8DrLCCy9fuP5UjECftg+0/p0xY6Hq26z+Vgg+J4XbpP7fnwwFkzuY/9nixWvXH4z9dE7CRC3DgP9eBYozYqNk/w412/ecH0j/+xDbGYznEP0/bfMmkPqA/+FNHxZdVuL/UKaSyIjPMv+gLinSo49W/+Kg+VZVT3b8lRkW6WiXiv8+HZvErVuW/pig6uxkv6L+TVimJaaTqv1EHwCL7q+y/xFNiW3I97r/Al/eBWVLvv2Zmsvw75u+/g6xao7j2778YHIGMi4Pvv/sjPCWPju6/EyzujrQb7b94zoZi8zDrv4xAIRwx1ui//Bc/lCAV5r9GhZoMGvnivx5NPurYHd+/6pMNU1HJ17+SiNkBzxLQv/GDAnguNMC/B1wUMyamwbw=\",\"dtype\":\"float64\",\"shape\":[100]}},\"selected\":{\"id\":\"8334\",\"type\":\"Selection\"},\"selection_policy\":{\"id\":\"8335\",\"type\":\"UnionRenderers\"}},\"id\":\"8054\",\"type\":\"ColumnDataSource\"},{\"attributes\":{},\"id\":\"8330\",\"type\":\"BasicTickFormatter\"},{\"attributes\":{},\"id\":\"8337\",\"type\":\"UnionRenderers\"},{\"attributes\":{},\"id\":\"8044\",\"type\":\"SaveTool\"},{\"attributes\":{\"line_alpha\":0.1,\"line_color\":\"#1f77b4\",\"x\":{\"field\":\"x\"},\"y\":{\"field\":\"y\"}},\"id\":\"8056\",\"type\":\"Line\"},{\"attributes\":{\"callback\":null,\"end\":2,\"start\":-2},\"id\":\"8025\",\"type\":\"Range1d\"},{\"attributes\":{\"formatter\":{\"id\":\"8332\",\"type\":\"BasicTickFormatter\"},\"ticker\":{\"id\":\"8032\",\"type\":\"BasicTicker\"}},\"id\":\"8031\",\"type\":\"LinearAxis\"},{\"attributes\":{\"data_source\":{\"id\":\"8054\",\"type\":\"ColumnDataSource\"},\"glyph\":{\"id\":\"8055\",\"type\":\"Line\"},\"hover_glyph\":null,\"muted_glyph\":null,\"nonselection_glyph\":{\"id\":\"8056\",\"type\":\"Line\"},\"selection_glyph\":null,\"view\":{\"id\":\"8058\",\"type\":\"CDSView\"}},\"id\":\"8057\",\"type\":\"GlyphRenderer\"},{\"attributes\":{},\"id\":\"8045\",\"type\":\"ResetTool\"},{\"attributes\":{\"bottom_units\":\"screen\",\"fill_alpha\":{\"value\":0.5},\"fill_color\":{\"value\":\"lightgrey\"},\"left_units\":\"screen\",\"level\":\"overlay\",\"line_alpha\":{\"value\":1.0},\"line_color\":{\"value\":\"black\"},\"line_dash\":[4,4],\"line_width\":{\"value\":2},\"render_mode\":\"css\",\"right_units\":\"screen\",\"top_units\":\"screen\"},\"id\":\"8333\",\"type\":\"BoxAnnotation\"},{\"attributes\":{},\"id\":\"8046\",\"type\":\"HelpTool\"},{\"attributes\":{\"text\":\" y=sin(x)\",\"text_baseline\":\"middle\",\"x\":12.566370614359172,\"x_offset\":-12,\"y\":0},\"id\":\"8064\",\"type\":\"Label\"},{\"attributes\":{\"source\":{\"id\":\"8054\",\"type\":\"ColumnDataSource\"}},\"id\":\"8058\",\"type\":\"CDSView\"},{\"attributes\":{},\"id\":\"8335\",\"type\":\"UnionRenderers\"},{\"attributes\":{\"callback\":null,\"data\":{\"x\":{\"__ndarray__\":\"AAAAAAAAAACRGkt8Vz/AP5EaS3xXP9A/2qdwOgNf2D+RGkt8Vz/gPzXhXVstT+Q/2qdwOgNf6D9+boMZ2W7sP5EaS3xXP/A/433Ua0JH8j814V1bLU/0P4dE50oYV/Y/2qdwOgNf+D8sC/op7mb6P35ugxnZbvw/0NEMCcR2/j+RGkt8Vz8AQDrMD/RMQwFA433Ua0JHAkCML5njN0sDQDXhXVstTwRA3pIi0yJTBUCHROdKGFcGQDD2q8INWwdA2qdwOgNfCECDWTWy+GIJQCwL+inuZgpA1by+oeNqC0B+boMZ2W4MQCcgSJHOcg1A0NEMCcR2DkB5g9GAuXoPQJEaS3xXPxBAZnMtOFLBEEA6zA/0TEMRQA8l8q9HxRFA433Ua0JHEkC41rYnPckSQIwvmeM3SxNAYYh7nzLNE0A14V1bLU8UQAo6QBco0RRA3pIi0yJTFUCz6wSPHdUVQIdE50oYVxZAXJ3JBhPZFkAw9qvCDVsXQAVPjn4I3RdA2qdwOgNfGECuAFP2/eAYQINZNbL4YhlAV7IXbvPkGUAsC/op7mYaQABk3OXo6BpA1by+oeNqG0CpFaFd3uwbQH5ugxnZbhxAUsdl1dPwHEAnIEiRznIdQPt4Kk3J9B1A0NEMCcR2HkCkKu/EvvgeQHmD0YC5eh9ATdyzPLT8H0CRGkt8Vz8gQPtGPNpUgCBAZnMtOFLBIEDQnx6WTwIhQDrMD/RMQyFApPgAUkqEIUAPJfKvR8UhQHlR4w1FBiJA433Ua0JHIkBNqsXJP4giQLjWtic9ySJAIgOohToKI0CML5njN0sjQPZbikE1jCNAYYh7nzLNI0DLtGz9Lw4kQDXhXVstTyRAoA1PuSqQJEAKOkAXKNEkQHRmMXUlEiVA3pIi0yJTJUBJvxMxIJQlQLPrBI8d1SVAHRj27BoWJkCHROdKGFcmQPJw2KgVmCZAXJ3JBhPZJkDGybpkEBonQDD2q8INWydAmyKdIAucJ0AFT45+CN0nQG97f9wFHihA2qdwOgNfKEBE1GGYAKAoQK4AU/b94ChAGC1EVPshKUA=\",\"dtype\":\"float64\",\"shape\":[100]},\"y\":{\"__ndarray__\":\"AAAAAAAA8D9o+gYFGL7vPyN/Fo5v+e4/XLHeqjC17T9foQT4kvbrP1YykSHGxOk/tTkVSdQo5z9AE3HJfC3kP1wsoPEH3+A/thLH2SiW2j9bQ2NRvgDTP4xzC34aOsY/cyCwKKhcqD8MyeikuUm0v0/eq9oaN8q/PSGBd67u1L+LyZhelmvcv8/m3JG2ueG/hlh3f5705L9dUsfUNNnnv10cd/2OW+q/wfLvCVdx7L8bLVJC9hHuv0PyRoe4Nu+/XjTx7ufa778HB0As4PvvvwQ9tXAZme+/V1DNmyq07r/ZTwivwlDtv4lZi6GZdOu/JeDa0Vgn6b/aPrV2e3Lmv8y0DJEnYeO/+f//////3783i/Tn4LnYv4yAwi7oDdG/3kQPZF83wr9U+ijPKj+QvxHsuGvkX7w/k1rgSlktzj+GU4hOOdfWP1m1P3WwOd4/AasNgtOP4j+XUJVeWbblPzdQz6Jvg+g/uvBkh4zr6j99NRQyxuTsP/FJcov7Zu4/Juk3u/Vr7z+VSynBge/vP5RLKcGB7+8/Jek3u/Vr7z/vSXKL+2buP381FDLG5Ow/uPBkh4zr6j86UM+ib4PoP5RQlV5ZtuU/BasNgtOP4j9TtT91sDneP45TiE4519Y/hVrgSlktzj807Lhr5F+8P8f6KM8qP5C/zUQPZF83wr+TgMIu6A3Rvy+L9Ofgudi/BwAAAAAA4L/PtAyRJ2Hjv9k+tXZ7cua/I+Da0Vgn6b+NWYuhmXTrv9pPCK/CUO2/V1DNmyq07r8DPbVwGZnvvwgHQCzg+++/XjTx7ufa779E8kaHuDbvvx4tUkL2Ee6/wPLvCVdx7L9dHHf9jlvqv2BSx9Q02ee/gVh3f5705L/M5tyRtrnhv4zJmF6Wa9y/RSGBd67u1L8x3qvaGjfKv/DI6KS5SbS/bSCwKKhcqD9zcwt+GjrGP2ZDY1G+ANM/uRLH2SiW2j9aLKDxB9/gPzsTccl8LeQ/uDkVSdQo5z9WMpEhxsTpP12hBPiS9us/X7HeqjC17T8kfxaOb/nuP2j6BgUYvu8/AAAAAAAA8D8=\",\"dtype\":\"float64\",\"shape\":[100]}},\"selected\":{\"id\":\"8336\",\"type\":\"Selection\"},\"selection_policy\":{\"id\":\"8337\",\"type\":\"UnionRenderers\"}},\"id\":\"8059\",\"type\":\"ColumnDataSource\"},{\"attributes\":{\"line_color\":\"red\",\"x\":{\"field\":\"x\"},\"y\":{\"field\":\"y\"}},\"id\":\"8060\",\"type\":\"Line\"},{\"attributes\":{\"text\":\"\"},\"id\":\"8328\",\"type\":\"Title\"}],\"root_ids\":[\"8022\"]},\"title\":\"Bokeh Application\",\"version\":\"1.4.0\"}};\n",
       "  var render_items = [{\"docid\":\"00e3d299-1be1-4718-b938-0e0c0e0c303f\",\"roots\":{\"8022\":\"3e70246b-cf79-4c65-9e3e-94742f87485f\"}}];\n",
       "  root.Bokeh.embed.embed_items_notebook(docs_json, render_items);\n",
       "\n",
       "  }\n",
       "  if (root.Bokeh !== undefined) {\n",
       "    embed_document(root);\n",
       "  } else {\n",
       "    var attempts = 0;\n",
       "    var timer = setInterval(function(root) {\n",
       "      if (root.Bokeh !== undefined) {\n",
       "        clearInterval(timer);\n",
       "        embed_document(root);\n",
       "      } else {\n",
       "        attempts++;\n",
       "        if (attempts > 100) {\n",
       "          clearInterval(timer);\n",
       "          console.log(\"Bokeh: ERROR: Unable to run BokehJS code because BokehJS library is missing\");\n",
       "        }\n",
       "      }\n",
       "    }, 10, root)\n",
       "  }\n",
       "})(window);"
      ],
      "application/vnd.bokehjs_exec.v0+json": ""
     },
     "metadata": {
      "application/vnd.bokehjs_exec.v0+json": {
       "id": "8022"
      }
     },
     "output_type": "display_data"
    }
   ],
   "source": [
    "# EXERCISE: experiment with Label\n",
    "from bokeh.models.annotations import Label\n",
    "from bokeh.plotting import figure\n",
    "x=np.linspace(0,4*np.pi,100)\n",
    "y=np.sin(x)\n",
    "p = figure(x_range=(0,15), y_range=(-2,2))\n",
    "p.line(x, y, color=\"olive\")#, line_with=2)\n",
    "p.line(x,np.cos(x),color='red')\n",
    "label = Label(x=4*np.pi, y=0, x_offset=-12,  text=\" y=sin(x)\", text_baseline=\"middle\")\n",
    "p.add_layout(label)\n",
    "label_cos=Label(x=4*np.pi, y=1, x_offset=-12,  text=\" y=cos(x)\", text_baseline=\"middle\")\n",
    "p.add_layout(label_cos)\n",
    "show(p)"
   ]
  },
  {
   "cell_type": "markdown",
   "metadata": {},
   "source": [
    "## LabelSet\n",
    "\n",
    "The `LabelSet` annotation allows you to create many labels at once, for instance if you want to label an entire set of scatter markers. They are similar to `Label`, but they can also \n",
    "accept a `ColumnDataSource` as the `source` property, and then `x` and `y` may refer to columns in the data source, e.g. `x=\"col2\"` (but may also still be fixed values, e.g. `x=10`)."
   ]
  },
  {
   "cell_type": "code",
   "execution_count": 46,
   "metadata": {},
   "outputs": [
    {
     "data": {
      "text/html": [
       "\n",
       "\n",
       "\n",
       "\n",
       "\n",
       "\n",
       "  <div class=\"bk-root\" id=\"9c9510c5-01fd-4a50-855c-59030e7478f6\" data-root-id=\"7308\"></div>\n"
      ]
     },
     "metadata": {},
     "output_type": "display_data"
    },
    {
     "data": {
      "application/javascript": [
       "(function(root) {\n",
       "  function embed_document(root) {\n",
       "    \n",
       "  var docs_json = {\"a47cde32-1dcd-4e28-aedb-1f45e4f20a55\":{\"roots\":{\"references\":[{\"attributes\":{\"below\":[{\"id\":\"7317\",\"type\":\"LinearAxis\"}],\"center\":[{\"id\":\"7321\",\"type\":\"Grid\"},{\"id\":\"7326\",\"type\":\"Grid\"},{\"id\":\"7345\",\"type\":\"LabelSet\"}],\"left\":[{\"id\":\"7322\",\"type\":\"LinearAxis\"}],\"renderers\":[{\"id\":\"7343\",\"type\":\"GlyphRenderer\"}],\"title\":{\"id\":\"7589\",\"type\":\"Title\"},\"toolbar\":{\"id\":\"7333\",\"type\":\"Toolbar\"},\"x_range\":{\"id\":\"7309\",\"type\":\"Range1d\"},\"x_scale\":{\"id\":\"7313\",\"type\":\"LinearScale\"},\"y_range\":{\"id\":\"7311\",\"type\":\"DataRange1d\"},\"y_scale\":{\"id\":\"7315\",\"type\":\"LinearScale\"}},\"id\":\"7308\",\"subtype\":\"Figure\",\"type\":\"Plot\"},{\"attributes\":{},\"id\":\"7591\",\"type\":\"BasicTickFormatter\"},{\"attributes\":{},\"id\":\"7328\",\"type\":\"WheelZoomTool\"},{\"attributes\":{\"text\":\"\"},\"id\":\"7589\",\"type\":\"Title\"},{\"attributes\":{},\"id\":\"7331\",\"type\":\"ResetTool\"},{\"attributes\":{},\"id\":\"7593\",\"type\":\"BasicTickFormatter\"},{\"attributes\":{\"callback\":null},\"id\":\"7311\",\"type\":\"DataRange1d\"},{\"attributes\":{},\"id\":\"7595\",\"type\":\"Selection\"},{\"attributes\":{},\"id\":\"7318\",\"type\":\"BasicTicker\"},{\"attributes\":{},\"id\":\"7330\",\"type\":\"SaveTool\"},{\"attributes\":{},\"id\":\"7596\",\"type\":\"UnionRenderers\"},{\"attributes\":{\"data_source\":{\"id\":\"7307\",\"type\":\"ColumnDataSource\"},\"glyph\":{\"id\":\"7341\",\"type\":\"Scatter\"},\"hover_glyph\":null,\"muted_glyph\":null,\"nonselection_glyph\":{\"id\":\"7342\",\"type\":\"Scatter\"},\"selection_glyph\":null,\"view\":{\"id\":\"7344\",\"type\":\"CDSView\"}},\"id\":\"7343\",\"type\":\"GlyphRenderer\"},{\"attributes\":{},\"id\":\"7313\",\"type\":\"LinearScale\"},{\"attributes\":{\"active_drag\":\"auto\",\"active_inspect\":\"auto\",\"active_multi\":null,\"active_scroll\":\"auto\",\"active_tap\":\"auto\",\"tools\":[{\"id\":\"7327\",\"type\":\"PanTool\"},{\"id\":\"7328\",\"type\":\"WheelZoomTool\"},{\"id\":\"7329\",\"type\":\"BoxZoomTool\"},{\"id\":\"7330\",\"type\":\"SaveTool\"},{\"id\":\"7331\",\"type\":\"ResetTool\"},{\"id\":\"7332\",\"type\":\"HelpTool\"}]},\"id\":\"7333\",\"type\":\"Toolbar\"},{\"attributes\":{},\"id\":\"7323\",\"type\":\"BasicTicker\"},{\"attributes\":{},\"id\":\"7332\",\"type\":\"HelpTool\"},{\"attributes\":{\"source\":{\"id\":\"7307\",\"type\":\"ColumnDataSource\"}},\"id\":\"7344\",\"type\":\"CDSView\"},{\"attributes\":{\"overlay\":{\"id\":\"7594\",\"type\":\"BoxAnnotation\"}},\"id\":\"7329\",\"type\":\"BoxZoomTool\"},{\"attributes\":{\"callback\":null,\"end\":175,\"start\":160},\"id\":\"7309\",\"type\":\"Range1d\"},{\"attributes\":{\"ticker\":{\"id\":\"7318\",\"type\":\"BasicTicker\"}},\"id\":\"7321\",\"type\":\"Grid\"},{\"attributes\":{\"axis_label\":\"Temperature (C)\",\"formatter\":{\"id\":\"7593\",\"type\":\"BasicTickFormatter\"},\"ticker\":{\"id\":\"7318\",\"type\":\"BasicTicker\"}},\"id\":\"7317\",\"type\":\"LinearAxis\"},{\"attributes\":{\"axis_label\":\"Pressure (lbs)\",\"formatter\":{\"id\":\"7591\",\"type\":\"BasicTickFormatter\"},\"ticker\":{\"id\":\"7323\",\"type\":\"BasicTicker\"}},\"id\":\"7322\",\"type\":\"LinearAxis\"},{\"attributes\":{\"level\":\"glyph\",\"source\":{\"id\":\"7307\",\"type\":\"ColumnDataSource\"},\"text\":{\"field\":\"names\"},\"x\":{\"field\":\"temp\"},\"x_offset\":{\"value\":5},\"y\":{\"field\":\"pressure\"},\"y_offset\":{\"value\":5}},\"id\":\"7345\",\"type\":\"LabelSet\"},{\"attributes\":{},\"id\":\"7327\",\"type\":\"PanTool\"},{\"attributes\":{},\"id\":\"7315\",\"type\":\"LinearScale\"},{\"attributes\":{\"dimension\":1,\"ticker\":{\"id\":\"7323\",\"type\":\"BasicTicker\"}},\"id\":\"7326\",\"type\":\"Grid\"},{\"attributes\":{\"bottom_units\":\"screen\",\"fill_alpha\":{\"value\":0.5},\"fill_color\":{\"value\":\"lightgrey\"},\"left_units\":\"screen\",\"level\":\"overlay\",\"line_alpha\":{\"value\":1.0},\"line_color\":{\"value\":\"black\"},\"line_dash\":[4,4],\"line_width\":{\"value\":2},\"render_mode\":\"css\",\"right_units\":\"screen\",\"top_units\":\"screen\"},\"id\":\"7594\",\"type\":\"BoxAnnotation\"},{\"attributes\":{\"fill_alpha\":{\"value\":0.1},\"fill_color\":{\"value\":\"#1f77b4\"},\"line_alpha\":{\"value\":0.1},\"line_color\":{\"value\":\"#1f77b4\"},\"size\":{\"units\":\"screen\",\"value\":8},\"x\":{\"field\":\"temp\"},\"y\":{\"field\":\"pressure\"}},\"id\":\"7342\",\"type\":\"Scatter\"},{\"attributes\":{\"callback\":null,\"data\":{\"names\":[\"A\",\"B\",\"C\",\"D\",\"E\",\"F\"],\"pressure\":[165,189,220,141,260,174],\"temp\":[166,171,172,168,174,162]},\"selected\":{\"id\":\"7595\",\"type\":\"Selection\"},\"selection_policy\":{\"id\":\"7596\",\"type\":\"UnionRenderers\"}},\"id\":\"7307\",\"type\":\"ColumnDataSource\"},{\"attributes\":{\"fill_color\":{\"value\":\"#1f77b4\"},\"line_color\":{\"value\":\"#1f77b4\"},\"size\":{\"units\":\"screen\",\"value\":8},\"x\":{\"field\":\"temp\"},\"y\":{\"field\":\"pressure\"}},\"id\":\"7341\",\"type\":\"Scatter\"}],\"root_ids\":[\"7308\"]},\"title\":\"Bokeh Application\",\"version\":\"1.4.0\"}};\n",
       "  var render_items = [{\"docid\":\"a47cde32-1dcd-4e28-aedb-1f45e4f20a55\",\"roots\":{\"7308\":\"9c9510c5-01fd-4a50-855c-59030e7478f6\"}}];\n",
       "  root.Bokeh.embed.embed_items_notebook(docs_json, render_items);\n",
       "\n",
       "  }\n",
       "  if (root.Bokeh !== undefined) {\n",
       "    embed_document(root);\n",
       "  } else {\n",
       "    var attempts = 0;\n",
       "    var timer = setInterval(function(root) {\n",
       "      if (root.Bokeh !== undefined) {\n",
       "        clearInterval(timer);\n",
       "        embed_document(root);\n",
       "      } else {\n",
       "        attempts++;\n",
       "        if (attempts > 100) {\n",
       "          clearInterval(timer);\n",
       "          console.log(\"Bokeh: ERROR: Unable to run BokehJS code because BokehJS library is missing\");\n",
       "        }\n",
       "      }\n",
       "    }, 10, root)\n",
       "  }\n",
       "})(window);"
      ],
      "application/vnd.bokehjs_exec.v0+json": ""
     },
     "metadata": {
      "application/vnd.bokehjs_exec.v0+json": {
       "id": "7308"
      }
     },
     "output_type": "display_data"
    }
   ],
   "source": [
    "from bokeh.plotting import figure\n",
    "from bokeh.models import ColumnDataSource, LabelSet\n",
    "\n",
    "\n",
    "source = ColumnDataSource(data=dict(\n",
    "    temp=[166, 171, 172, 168, 174, 162],\n",
    "    pressure=[165, 189, 220, 141, 260, 174],\n",
    "    names=['A', 'B', 'C', 'D', 'E', 'F']))\n",
    "\n",
    "p = figure(x_range=(160, 175))\n",
    "p.scatter(x='temp', y='pressure', size=8, source=source)\n",
    "p.xaxis.axis_label = 'Temperature (C)'\n",
    "p.yaxis.axis_label = 'Pressure (lbs)'\n",
    "\n",
    "labels = LabelSet(x='temp', y='pressure', text='names', level='glyph',\n",
    "                  x_offset=5, y_offset=5, source=source, render_mode='canvas')\n",
    "\n",
    "\n",
    "p.add_layout(labels)\n",
    "\n",
    "show(p)"
   ]
  },
  {
   "cell_type": "code",
   "execution_count": 10,
   "metadata": {},
   "outputs": [],
   "source": [
    "# EXERCISE: experiment with LabelSet\n"
   ]
  },
  {
   "cell_type": "markdown",
   "metadata": {},
   "source": [
    "## Arrows\n",
    "\n",
    "The `Arrow` annotation allows you to \"point\" at different things on your plot, and can be especially useful in conjuction with labels. \n",
    "\n",
    "For example, to create an arrow that points from `(0,0)` to `(1,1)`:\n",
    "\n",
    "```python\n",
    "p.add_layout(Arrow(x_start=0, y_start=0, x_end=1, y_end=0))\n",
    "```\n",
    "\n",
    "This arrow will have the default [`OpenHead`](http://bokeh.pydata.org/en/latest/docs/reference/models/arrow_heads.html#bokeh.models.arrow_heads.OpenHead) arrow head at the end of the arrow. Other kinds of arrow heads include [`NormalHead`](http://bokeh.pydata.org/en/latest/docs/reference/models/arrow_heads.html#bokeh.models.arrow_heads.NormalHead) and [`VeeHead`](http://bokeh.pydata.org/en/latest/docs/reference/models/arrow_heads.html#bokeh.models.arrow_heads.VeeHead). The arrow head type can be controlled by setting the `start` and `end` properties of `Arrow` objects:\n",
    "\n",
    "```python\n",
    "p.add_layout(Arrow(start=OpenHead(), end=VeeHead(), \n",
    "             x_start=0, y_start=0, x_end=1, y_end=0))\n",
    "```\n",
    "\n",
    "This will create a double-ended arrow with an \"open\" head at the start, and a \"vee\" head at the end. Arrowheads have the standard set of line and fill properties to control their appearance. As an example\n",
    "\n",
    "```python\n",
    "OpenHead(line_color=\"firebrick\", line_width=4)\n",
    "```\n",
    "\n",
    "The code and plot below shows several of these configurations together."
   ]
  },
  {
   "cell_type": "code",
   "execution_count": 49,
   "metadata": {},
   "outputs": [
    {
     "data": {
      "text/html": [
       "\n",
       "\n",
       "\n",
       "\n",
       "\n",
       "\n",
       "  <div class=\"bk-root\" id=\"d1d30050-c5fe-44a8-9b30-4f384bbd3553\" data-root-id=\"8404\"></div>\n"
      ]
     },
     "metadata": {},
     "output_type": "display_data"
    },
    {
     "data": {
      "application/javascript": [
       "(function(root) {\n",
       "  function embed_document(root) {\n",
       "    \n",
       "  var docs_json = {\"48600038-267f-4091-af8e-e8a0d7950296\":{\"roots\":{\"references\":[{\"attributes\":{\"below\":[{\"id\":\"8413\",\"type\":\"LinearAxis\"}],\"center\":[{\"id\":\"8417\",\"type\":\"Grid\"},{\"id\":\"8422\",\"type\":\"Grid\"},{\"id\":\"8442\",\"type\":\"Arrow\"},{\"id\":\"8445\",\"type\":\"Arrow\"},{\"id\":\"8448\",\"type\":\"Arrow\"}],\"left\":[{\"id\":\"8418\",\"type\":\"LinearAxis\"}],\"renderers\":[{\"id\":\"8439\",\"type\":\"GlyphRenderer\"}],\"title\":{\"id\":\"8723\",\"type\":\"Title\"},\"toolbar\":{\"id\":\"8429\",\"type\":\"Toolbar\"},\"x_range\":{\"id\":\"8405\",\"type\":\"DataRange1d\"},\"x_scale\":{\"id\":\"8409\",\"type\":\"LinearScale\"},\"y_range\":{\"id\":\"8407\",\"type\":\"DataRange1d\"},\"y_scale\":{\"id\":\"8411\",\"type\":\"LinearScale\"}},\"id\":\"8404\",\"subtype\":\"Figure\",\"type\":\"Plot\"},{\"attributes\":{},\"id\":\"8411\",\"type\":\"LinearScale\"},{\"attributes\":{},\"id\":\"8725\",\"type\":\"BasicTickFormatter\"},{\"attributes\":{},\"id\":\"8729\",\"type\":\"Selection\"},{\"attributes\":{\"data_source\":{\"id\":\"8436\",\"type\":\"ColumnDataSource\"},\"glyph\":{\"id\":\"8437\",\"type\":\"Circle\"},\"hover_glyph\":null,\"muted_glyph\":null,\"nonselection_glyph\":{\"id\":\"8438\",\"type\":\"Circle\"},\"selection_glyph\":null,\"view\":{\"id\":\"8440\",\"type\":\"CDSView\"}},\"id\":\"8439\",\"type\":\"GlyphRenderer\"},{\"attributes\":{\"formatter\":{\"id\":\"8727\",\"type\":\"BasicTickFormatter\"},\"ticker\":{\"id\":\"8414\",\"type\":\"BasicTicker\"}},\"id\":\"8413\",\"type\":\"LinearAxis\"},{\"attributes\":{},\"id\":\"8727\",\"type\":\"BasicTickFormatter\"},{\"attributes\":{\"text\":\"\"},\"id\":\"8723\",\"type\":\"Title\"},{\"attributes\":{\"line_color\":{\"value\":\"firebrick\"},\"line_width\":{\"value\":4}},\"id\":\"8441\",\"type\":\"OpenHead\"},{\"attributes\":{\"callback\":null},\"id\":\"8407\",\"type\":\"DataRange1d\"},{\"attributes\":{},\"id\":\"8428\",\"type\":\"HelpTool\"},{\"attributes\":{\"callback\":null},\"id\":\"8405\",\"type\":\"DataRange1d\"},{\"attributes\":{},\"id\":\"8427\",\"type\":\"ResetTool\"},{\"attributes\":{\"bottom_units\":\"screen\",\"fill_alpha\":{\"value\":0.5},\"fill_color\":{\"value\":\"lightgrey\"},\"left_units\":\"screen\",\"level\":\"overlay\",\"line_alpha\":{\"value\":1.0},\"line_color\":{\"value\":\"black\"},\"line_dash\":[4,4],\"line_width\":{\"value\":2},\"render_mode\":\"css\",\"right_units\":\"screen\",\"top_units\":\"screen\"},\"id\":\"8728\",\"type\":\"BoxAnnotation\"},{\"attributes\":{\"overlay\":{\"id\":\"8728\",\"type\":\"BoxAnnotation\"}},\"id\":\"8425\",\"type\":\"BoxZoomTool\"},{\"attributes\":{\"fill_alpha\":{\"value\":0.1},\"fill_color\":{\"value\":\"#1f77b4\"},\"line_alpha\":{\"value\":0.1},\"line_color\":{\"value\":\"#1f77b4\"},\"radius\":{\"units\":\"data\",\"value\":0.1},\"x\":{\"field\":\"x\"},\"y\":{\"field\":\"y\"}},\"id\":\"8438\",\"type\":\"Circle\"},{\"attributes\":{},\"id\":\"8730\",\"type\":\"UnionRenderers\"},{\"attributes\":{\"callback\":null,\"data\":{\"fill_color\":[\"navy\",\"yellow\",\"red\"],\"line_color\":[\"navy\",\"yellow\",\"red\"],\"x\":[0,1,0.5],\"y\":[0,0,0.7]},\"selected\":{\"id\":\"8729\",\"type\":\"Selection\"},\"selection_policy\":{\"id\":\"8730\",\"type\":\"UnionRenderers\"}},\"id\":\"8436\",\"type\":\"ColumnDataSource\"},{\"attributes\":{\"end\":{\"id\":\"8444\",\"type\":\"NormalHead\"},\"source\":null,\"start\":null,\"x_end\":{\"value\":0.5},\"x_start\":{\"value\":1},\"y_end\":{\"value\":0.7},\"y_start\":{\"value\":0}},\"id\":\"8445\",\"type\":\"Arrow\"},{\"attributes\":{},\"id\":\"8424\",\"type\":\"WheelZoomTool\"},{\"attributes\":{},\"id\":\"8426\",\"type\":\"SaveTool\"},{\"attributes\":{},\"id\":\"8419\",\"type\":\"BasicTicker\"},{\"attributes\":{\"ticker\":{\"id\":\"8414\",\"type\":\"BasicTicker\"}},\"id\":\"8417\",\"type\":\"Grid\"},{\"attributes\":{},\"id\":\"8423\",\"type\":\"PanTool\"},{\"attributes\":{\"fill_alpha\":{\"value\":0.1},\"fill_color\":{\"field\":\"fill_color\"},\"line_color\":{\"field\":\"line_color\"},\"radius\":{\"units\":\"data\",\"value\":0.1},\"x\":{\"field\":\"x\"},\"y\":{\"field\":\"y\"}},\"id\":\"8437\",\"type\":\"Circle\"},{\"attributes\":{\"fill_color\":{\"value\":\"orange\"}},\"id\":\"8444\",\"type\":\"NormalHead\"},{\"attributes\":{\"formatter\":{\"id\":\"8725\",\"type\":\"BasicTickFormatter\"},\"ticker\":{\"id\":\"8419\",\"type\":\"BasicTicker\"}},\"id\":\"8418\",\"type\":\"LinearAxis\"},{\"attributes\":{\"source\":{\"id\":\"8436\",\"type\":\"ColumnDataSource\"}},\"id\":\"8440\",\"type\":\"CDSView\"},{\"attributes\":{\"end\":{\"id\":\"8441\",\"type\":\"OpenHead\"},\"source\":null,\"start\":null,\"x_end\":{\"value\":1},\"x_start\":{\"value\":0},\"y_end\":{\"value\":0},\"y_start\":{\"value\":0}},\"id\":\"8442\",\"type\":\"Arrow\"},{\"attributes\":{\"dimension\":1,\"ticker\":{\"id\":\"8419\",\"type\":\"BasicTicker\"}},\"id\":\"8422\",\"type\":\"Grid\"},{\"attributes\":{},\"id\":\"8414\",\"type\":\"BasicTicker\"},{\"attributes\":{\"active_drag\":\"auto\",\"active_inspect\":\"auto\",\"active_multi\":null,\"active_scroll\":\"auto\",\"active_tap\":\"auto\",\"tools\":[{\"id\":\"8423\",\"type\":\"PanTool\"},{\"id\":\"8424\",\"type\":\"WheelZoomTool\"},{\"id\":\"8425\",\"type\":\"BoxZoomTool\"},{\"id\":\"8426\",\"type\":\"SaveTool\"},{\"id\":\"8427\",\"type\":\"ResetTool\"},{\"id\":\"8428\",\"type\":\"HelpTool\"}]},\"id\":\"8429\",\"type\":\"Toolbar\"},{\"attributes\":{\"end\":{\"id\":\"8447\",\"type\":\"VeeHead\"},\"line_color\":{\"value\":\"red\"},\"source\":null,\"start\":null,\"x_end\":{\"value\":0},\"x_start\":{\"value\":0.5},\"y_end\":{\"value\":0},\"y_start\":{\"value\":0.7}},\"id\":\"8448\",\"type\":\"Arrow\"},{\"attributes\":{},\"id\":\"8409\",\"type\":\"LinearScale\"},{\"attributes\":{\"size\":35},\"id\":\"8447\",\"type\":\"VeeHead\"}],\"root_ids\":[\"8404\"]},\"title\":\"Bokeh Application\",\"version\":\"1.4.0\"}};\n",
       "  var render_items = [{\"docid\":\"48600038-267f-4091-af8e-e8a0d7950296\",\"roots\":{\"8404\":\"d1d30050-c5fe-44a8-9b30-4f384bbd3553\"}}];\n",
       "  root.Bokeh.embed.embed_items_notebook(docs_json, render_items);\n",
       "\n",
       "  }\n",
       "  if (root.Bokeh !== undefined) {\n",
       "    embed_document(root);\n",
       "  } else {\n",
       "    var attempts = 0;\n",
       "    var timer = setInterval(function(root) {\n",
       "      if (root.Bokeh !== undefined) {\n",
       "        clearInterval(timer);\n",
       "        embed_document(root);\n",
       "      } else {\n",
       "        attempts++;\n",
       "        if (attempts > 100) {\n",
       "          clearInterval(timer);\n",
       "          console.log(\"Bokeh: ERROR: Unable to run BokehJS code because BokehJS library is missing\");\n",
       "        }\n",
       "      }\n",
       "    }, 10, root)\n",
       "  }\n",
       "})(window);"
      ],
      "application/vnd.bokehjs_exec.v0+json": ""
     },
     "metadata": {
      "application/vnd.bokehjs_exec.v0+json": {
       "id": "8404"
      }
     },
     "output_type": "display_data"
    }
   ],
   "source": [
    "from bokeh.models.annotations import Arrow\n",
    "from bokeh.models.arrow_heads import OpenHead, NormalHead, VeeHead\n",
    "\n",
    "p = figure(plot_width=600, plot_height=600)\n",
    "\n",
    "p.circle(x=[0, 1, 0.5], y=[0, 0, 0.7], radius=0.1,\n",
    "         color=[\"navy\", \"yellow\", \"red\"], fill_alpha=0.1)\n",
    "\n",
    "p.add_layout(Arrow(end=OpenHead(line_color=\"firebrick\", line_width=4),\n",
    "                   x_start=0, y_start=0, x_end=1, y_end=0))\n",
    "\n",
    "p.add_layout(Arrow(end=NormalHead(fill_color=\"orange\"),\n",
    "                   x_start=1, y_start=0, x_end=0.5, y_end=0.7))\n",
    "\n",
    "p.add_layout(Arrow(end=VeeHead(size=35), line_color=\"red\",\n",
    "                   x_start=0.5, y_start=0.7, x_end=0, y_end=0))\n",
    "\n",
    "show(p)"
   ]
  },
  {
   "cell_type": "code",
   "execution_count": 12,
   "metadata": {},
   "outputs": [],
   "source": [
    "# EXERCISE: experiment with arrows and arrow heads\n"
   ]
  },
  {
   "cell_type": "markdown",
   "metadata": {},
   "source": [
    "## Legends\n",
    "\n",
    "When plots have multiple glyphs, it is desirable to include a legend to help users interpret what they see. Bokeh can generate legends easily based on the glyphs that are added. "
   ]
  },
  {
   "cell_type": "markdown",
   "metadata": {},
   "source": [
    "### Simple Legends\n",
    "\n",
    "In the simplest case, you can simply pass a string as the `legend_label` argument to a glyph function:\n",
    "```python\n",
    "p.circle(x, y, legend_label=\"sin(x)\")\n",
    "``` \n",
    "In this case Bokeh will automatically create a legend that shows a representation of that glyph, labeled by the test you provided. A full example is below."
   ]
  },
  {
   "cell_type": "code",
   "execution_count": 50,
   "metadata": {},
   "outputs": [
    {
     "data": {
      "text/html": [
       "\n",
       "\n",
       "\n",
       "\n",
       "\n",
       "\n",
       "  <div class=\"bk-root\" id=\"f7d196f3-f090-4f0d-980d-2d3d76984f33\" data-root-id=\"8785\"></div>\n"
      ]
     },
     "metadata": {},
     "output_type": "display_data"
    },
    {
     "data": {
      "application/javascript": [
       "(function(root) {\n",
       "  function embed_document(root) {\n",
       "    \n",
       "  var docs_json = {\"393cda32-a8f6-4150-8103-7999b2eb547b\":{\"roots\":{\"references\":[{\"attributes\":{\"below\":[{\"id\":\"8794\",\"type\":\"LinearAxis\"}],\"center\":[{\"id\":\"8798\",\"type\":\"Grid\"},{\"id\":\"8803\",\"type\":\"Grid\"},{\"id\":\"8829\",\"type\":\"Legend\"}],\"left\":[{\"id\":\"8799\",\"type\":\"LinearAxis\"}],\"plot_height\":400,\"renderers\":[{\"id\":\"8820\",\"type\":\"GlyphRenderer\"},{\"id\":\"8834\",\"type\":\"GlyphRenderer\"}],\"title\":{\"id\":\"8823\",\"type\":\"Title\"},\"toolbar\":{\"id\":\"8810\",\"type\":\"Toolbar\"},\"x_range\":{\"id\":\"8786\",\"type\":\"DataRange1d\"},\"x_scale\":{\"id\":\"8790\",\"type\":\"LinearScale\"},\"y_range\":{\"id\":\"8788\",\"type\":\"DataRange1d\"},\"y_scale\":{\"id\":\"8792\",\"type\":\"LinearScale\"}},\"id\":\"8785\",\"subtype\":\"Figure\",\"type\":\"Plot\"},{\"attributes\":{\"formatter\":{\"id\":\"8825\",\"type\":\"BasicTickFormatter\"},\"ticker\":{\"id\":\"8800\",\"type\":\"BasicTicker\"}},\"id\":\"8799\",\"type\":\"LinearAxis\"},{\"attributes\":{\"callback\":null,\"data\":{\"x\":{\"__ndarray__\":\"AAAAAAAAAACRGkt8Vz/AP5EaS3xXP9A/2qdwOgNf2D+RGkt8Vz/gPzXhXVstT+Q/2qdwOgNf6D9+boMZ2W7sP5EaS3xXP/A/433Ua0JH8j814V1bLU/0P4dE50oYV/Y/2qdwOgNf+D8sC/op7mb6P35ugxnZbvw/0NEMCcR2/j+RGkt8Vz8AQDrMD/RMQwFA433Ua0JHAkCML5njN0sDQDXhXVstTwRA3pIi0yJTBUCHROdKGFcGQDD2q8INWwdA2qdwOgNfCECDWTWy+GIJQCwL+inuZgpA1by+oeNqC0B+boMZ2W4MQCcgSJHOcg1A0NEMCcR2DkB5g9GAuXoPQJEaS3xXPxBAZnMtOFLBEEA6zA/0TEMRQA8l8q9HxRFA433Ua0JHEkC41rYnPckSQIwvmeM3SxNAYYh7nzLNE0A14V1bLU8UQAo6QBco0RRA3pIi0yJTFUCz6wSPHdUVQIdE50oYVxZAXJ3JBhPZFkAw9qvCDVsXQAVPjn4I3RdA2qdwOgNfGECuAFP2/eAYQINZNbL4YhlAV7IXbvPkGUAsC/op7mYaQABk3OXo6BpA1by+oeNqG0CpFaFd3uwbQH5ugxnZbhxAUsdl1dPwHEAnIEiRznIdQPt4Kk3J9B1A0NEMCcR2HkCkKu/EvvgeQHmD0YC5eh9ATdyzPLT8H0CRGkt8Vz8gQPtGPNpUgCBAZnMtOFLBIEDQnx6WTwIhQDrMD/RMQyFApPgAUkqEIUAPJfKvR8UhQHlR4w1FBiJA433Ua0JHIkBNqsXJP4giQLjWtic9ySJAIgOohToKI0CML5njN0sjQPZbikE1jCNAYYh7nzLNI0DLtGz9Lw4kQDXhXVstTyRAoA1PuSqQJEAKOkAXKNEkQHRmMXUlEiVA3pIi0yJTJUBJvxMxIJQlQLPrBI8d1SVAHRj27BoWJkCHROdKGFcmQPJw2KgVmCZAXJ3JBhPZJkDGybpkEBonQDD2q8INWydAmyKdIAucJ0AFT45+CN0nQG97f9wFHihA2qdwOgNfKEBE1GGYAKAoQK4AU/b94ChAGC1EVPshKUA=\",\"dtype\":\"float64\",\"shape\":[100]},\"y\":{\"__ndarray__\":\"AAAAAAAAAADwgwJ4LjTAP5qI2QHPEtA/+5MNU1HJ1z8YTT7q2B3fP0aFmgwa+eI/ABg/lCAV5j+IQCEcMdboP3fOhmLzMOs/EyzujrQb7T/9Izwlj47uPxccgYyLg+8/g6xao7j27z9mZrL8O+bvP7+X94FZUu8/xVNiW3I97j9RB8Ai+6vsP5FWKYlppOo/oSg6uxkv6D/Sh2bxK1blPyZGRbpaJeI/8qg+VZVT3T/4C4p0qOPVP+UppLIiM8w/3FNHxZdVuD/J23zJpD6gv+3ENsZjOcS/wo12/ecH0r/dgWKM2KjZv2MTsJELcOC/83ixWvXH47+358MBZM7mv5eCD4nhdum/rExY6Hq267+TIxAn7YPtvwSssILL1+6/70I4BJ6s77/vOc8G+P7vvzTGy1KGze+/3176khQZ77/C8a4NiuTtvzGcHq/dNOy/l0FFlgER6r+EGZN4xoHnvx8WPFK3keS/Cli7+O1M4b+HQNqEwoHbv9kfIiFb+NO/gKyggGI5yL8EhrXMjDywvyGGtcyMPLA/jqyggGI5yD/gHyIhW/jTP4BA2oTCgds/DVi7+O1M4T8cFjxSt5HkP4cZk3jGgec/lUFFlgER6j8ynB6v3TTsP8Hxrg2K5O0/4F76khQZ7z80xstShs3vP+85zwb4/u8/8EI4BJ6s7z8DrLCCy9fuP5UjECftg+0/p0xY6Hq26z+Vgg+J4XbpP7fnwwFkzuY/9nixWvXH4z9dE7CRC3DgP9eBYozYqNk/w412/ecH0j/+xDbGYznEP0/bfMmkPqA/+FNHxZdVuL/UKaSyIjPMv+gLinSo49W/+Kg+VZVT3b8lRkW6WiXiv8+HZvErVuW/pig6uxkv6L+TVimJaaTqv1EHwCL7q+y/xFNiW3I97r/Al/eBWVLvv2Zmsvw75u+/g6xao7j2778YHIGMi4Pvv/sjPCWPju6/EyzujrQb7b94zoZi8zDrv4xAIRwx1ui//Bc/lCAV5r9GhZoMGvnivx5NPurYHd+/6pMNU1HJ17+SiNkBzxLQv/GDAnguNMC/B1wUMyamwbw=\",\"dtype\":\"float64\",\"shape\":[100]}},\"selected\":{\"id\":\"8843\",\"type\":\"Selection\"},\"selection_policy\":{\"id\":\"8844\",\"type\":\"UnionRenderers\"}},\"id\":\"8817\",\"type\":\"ColumnDataSource\"},{\"attributes\":{\"line_alpha\":0.1,\"line_color\":\"#1f77b4\",\"line_dash\":[4,4],\"line_width\":2,\"x\":{\"field\":\"x\"},\"y\":{\"field\":\"y\"}},\"id\":\"8833\",\"type\":\"Line\"},{\"attributes\":{\"formatter\":{\"id\":\"8827\",\"type\":\"BasicTickFormatter\"},\"ticker\":{\"id\":\"8795\",\"type\":\"BasicTicker\"}},\"id\":\"8794\",\"type\":\"LinearAxis\"},{\"attributes\":{\"callback\":null},\"id\":\"8786\",\"type\":\"DataRange1d\"},{\"attributes\":{},\"id\":\"8790\",\"type\":\"LinearScale\"},{\"attributes\":{\"source\":{\"id\":\"8831\",\"type\":\"ColumnDataSource\"}},\"id\":\"8835\",\"type\":\"CDSView\"},{\"attributes\":{},\"id\":\"8795\",\"type\":\"BasicTicker\"},{\"attributes\":{},\"id\":\"8843\",\"type\":\"Selection\"},{\"attributes\":{\"label\":{\"value\":\"2*sin(x)\"},\"renderers\":[{\"id\":\"8834\",\"type\":\"GlyphRenderer\"}]},\"id\":\"8845\",\"type\":\"LegendItem\"},{\"attributes\":{\"label\":{\"value\":\"sin(x)\"},\"renderers\":[{\"id\":\"8820\",\"type\":\"GlyphRenderer\"}]},\"id\":\"8830\",\"type\":\"LegendItem\"},{\"attributes\":{\"fill_alpha\":{\"value\":0.1},\"fill_color\":{\"value\":\"#1f77b4\"},\"line_alpha\":{\"value\":0.1},\"line_color\":{\"value\":\"#1f77b4\"},\"x\":{\"field\":\"x\"},\"y\":{\"field\":\"y\"}},\"id\":\"8819\",\"type\":\"Circle\"},{\"attributes\":{\"data_source\":{\"id\":\"8831\",\"type\":\"ColumnDataSource\"},\"glyph\":{\"id\":\"8832\",\"type\":\"Line\"},\"hover_glyph\":null,\"muted_glyph\":null,\"nonselection_glyph\":{\"id\":\"8833\",\"type\":\"Line\"},\"selection_glyph\":null,\"view\":{\"id\":\"8835\",\"type\":\"CDSView\"}},\"id\":\"8834\",\"type\":\"GlyphRenderer\"},{\"attributes\":{\"source\":{\"id\":\"8817\",\"type\":\"ColumnDataSource\"}},\"id\":\"8821\",\"type\":\"CDSView\"},{\"attributes\":{},\"id\":\"9136\",\"type\":\"Selection\"},{\"attributes\":{\"data_source\":{\"id\":\"8817\",\"type\":\"ColumnDataSource\"},\"glyph\":{\"id\":\"8818\",\"type\":\"Circle\"},\"hover_glyph\":null,\"muted_glyph\":null,\"nonselection_glyph\":{\"id\":\"8819\",\"type\":\"Circle\"},\"selection_glyph\":null,\"view\":{\"id\":\"8821\",\"type\":\"CDSView\"}},\"id\":\"8820\",\"type\":\"GlyphRenderer\"},{\"attributes\":{},\"id\":\"8825\",\"type\":\"BasicTickFormatter\"},{\"attributes\":{\"callback\":null},\"id\":\"8788\",\"type\":\"DataRange1d\"},{\"attributes\":{\"bottom_units\":\"screen\",\"fill_alpha\":{\"value\":0.5},\"fill_color\":{\"value\":\"lightgrey\"},\"left_units\":\"screen\",\"level\":\"overlay\",\"line_alpha\":{\"value\":1.0},\"line_color\":{\"value\":\"black\"},\"line_dash\":[4,4],\"line_width\":{\"value\":2},\"render_mode\":\"css\",\"right_units\":\"screen\",\"top_units\":\"screen\"},\"id\":\"8828\",\"type\":\"BoxAnnotation\"},{\"attributes\":{},\"id\":\"8805\",\"type\":\"WheelZoomTool\"},{\"attributes\":{},\"id\":\"8808\",\"type\":\"ResetTool\"},{\"attributes\":{},\"id\":\"8809\",\"type\":\"HelpTool\"},{\"attributes\":{\"items\":[{\"id\":\"8830\",\"type\":\"LegendItem\"},{\"id\":\"8845\",\"type\":\"LegendItem\"}]},\"id\":\"8829\",\"type\":\"Legend\"},{\"attributes\":{},\"id\":\"8804\",\"type\":\"PanTool\"},{\"attributes\":{},\"id\":\"8792\",\"type\":\"LinearScale\"},{\"attributes\":{},\"id\":\"8807\",\"type\":\"SaveTool\"},{\"attributes\":{\"overlay\":{\"id\":\"8828\",\"type\":\"BoxAnnotation\"}},\"id\":\"8806\",\"type\":\"BoxZoomTool\"},{\"attributes\":{\"line_color\":\"orange\",\"line_dash\":[4,4],\"line_width\":2,\"x\":{\"field\":\"x\"},\"y\":{\"field\":\"y\"}},\"id\":\"8832\",\"type\":\"Line\"},{\"attributes\":{\"ticker\":{\"id\":\"8795\",\"type\":\"BasicTicker\"}},\"id\":\"8798\",\"type\":\"Grid\"},{\"attributes\":{},\"id\":\"8827\",\"type\":\"BasicTickFormatter\"},{\"attributes\":{\"dimension\":1,\"ticker\":{\"id\":\"8800\",\"type\":\"BasicTicker\"}},\"id\":\"8803\",\"type\":\"Grid\"},{\"attributes\":{},\"id\":\"8844\",\"type\":\"UnionRenderers\"},{\"attributes\":{},\"id\":\"9137\",\"type\":\"UnionRenderers\"},{\"attributes\":{\"active_drag\":\"auto\",\"active_inspect\":\"auto\",\"active_multi\":null,\"active_scroll\":\"auto\",\"active_tap\":\"auto\",\"tools\":[{\"id\":\"8804\",\"type\":\"PanTool\"},{\"id\":\"8805\",\"type\":\"WheelZoomTool\"},{\"id\":\"8806\",\"type\":\"BoxZoomTool\"},{\"id\":\"8807\",\"type\":\"SaveTool\"},{\"id\":\"8808\",\"type\":\"ResetTool\"},{\"id\":\"8809\",\"type\":\"HelpTool\"}]},\"id\":\"8810\",\"type\":\"Toolbar\"},{\"attributes\":{},\"id\":\"8800\",\"type\":\"BasicTicker\"},{\"attributes\":{\"fill_color\":{\"value\":\"#1f77b4\"},\"line_color\":{\"value\":\"#1f77b4\"},\"x\":{\"field\":\"x\"},\"y\":{\"field\":\"y\"}},\"id\":\"8818\",\"type\":\"Circle\"},{\"attributes\":{\"callback\":null,\"data\":{\"x\":{\"__ndarray__\":\"AAAAAAAAAACRGkt8Vz/AP5EaS3xXP9A/2qdwOgNf2D+RGkt8Vz/gPzXhXVstT+Q/2qdwOgNf6D9+boMZ2W7sP5EaS3xXP/A/433Ua0JH8j814V1bLU/0P4dE50oYV/Y/2qdwOgNf+D8sC/op7mb6P35ugxnZbvw/0NEMCcR2/j+RGkt8Vz8AQDrMD/RMQwFA433Ua0JHAkCML5njN0sDQDXhXVstTwRA3pIi0yJTBUCHROdKGFcGQDD2q8INWwdA2qdwOgNfCECDWTWy+GIJQCwL+inuZgpA1by+oeNqC0B+boMZ2W4MQCcgSJHOcg1A0NEMCcR2DkB5g9GAuXoPQJEaS3xXPxBAZnMtOFLBEEA6zA/0TEMRQA8l8q9HxRFA433Ua0JHEkC41rYnPckSQIwvmeM3SxNAYYh7nzLNE0A14V1bLU8UQAo6QBco0RRA3pIi0yJTFUCz6wSPHdUVQIdE50oYVxZAXJ3JBhPZFkAw9qvCDVsXQAVPjn4I3RdA2qdwOgNfGECuAFP2/eAYQINZNbL4YhlAV7IXbvPkGUAsC/op7mYaQABk3OXo6BpA1by+oeNqG0CpFaFd3uwbQH5ugxnZbhxAUsdl1dPwHEAnIEiRznIdQPt4Kk3J9B1A0NEMCcR2HkCkKu/EvvgeQHmD0YC5eh9ATdyzPLT8H0CRGkt8Vz8gQPtGPNpUgCBAZnMtOFLBIEDQnx6WTwIhQDrMD/RMQyFApPgAUkqEIUAPJfKvR8UhQHlR4w1FBiJA433Ua0JHIkBNqsXJP4giQLjWtic9ySJAIgOohToKI0CML5njN0sjQPZbikE1jCNAYYh7nzLNI0DLtGz9Lw4kQDXhXVstTyRAoA1PuSqQJEAKOkAXKNEkQHRmMXUlEiVA3pIi0yJTJUBJvxMxIJQlQLPrBI8d1SVAHRj27BoWJkCHROdKGFcmQPJw2KgVmCZAXJ3JBhPZJkDGybpkEBonQDD2q8INWydAmyKdIAucJ0AFT45+CN0nQG97f9wFHihA2qdwOgNfKEBE1GGYAKAoQK4AU/b94ChAGC1EVPshKUA=\",\"dtype\":\"float64\",\"shape\":[100]},\"y\":{\"__ndarray__\":\"AAAAAAAAAADwgwJ4LjTQP5qI2QHPEuA/+5MNU1HJ5z8YTT7q2B3vP0aFmgwa+fI/ABg/lCAV9j+IQCEcMdb4P3fOhmLzMPs/EyzujrQb/T/9Izwlj47+PxccgYyLg/8/g6xao7j2/z9mZrL8O+b/P7+X94FZUv8/xVNiW3I9/j9RB8Ai+6v8P5FWKYlppPo/oSg6uxkv+D/Sh2bxK1b1PyZGRbpaJfI/8qg+VZVT7T/4C4p0qOPlP+UppLIiM9w/3FNHxZdVyD/J23zJpD6wv+3ENsZjOdS/wo12/ecH4r/dgWKM2Kjpv2MTsJELcPC/83ixWvXH87+358MBZM72v5eCD4nhdvm/rExY6Hq2+7+TIxAn7YP9vwSssILL1/6/70I4BJ6s/7/vOc8G+P7/vzTGy1KGzf+/3176khQZ/7/C8a4NiuT9vzGcHq/dNPy/l0FFlgER+r+EGZN4xoH3vx8WPFK3kfS/Cli7+O1M8b+HQNqEwoHrv9kfIiFb+OO/gKyggGI52L8EhrXMjDzAvyGGtcyMPMA/jqyggGI52D/gHyIhW/jjP4BA2oTCges/DVi7+O1M8T8cFjxSt5H0P4cZk3jGgfc/lUFFlgER+j8ynB6v3TT8P8Hxrg2K5P0/4F76khQZ/z80xstShs3/P+85zwb4/v8/8EI4BJ6s/z8DrLCCy9f+P5UjECftg/0/p0xY6Hq2+z+Vgg+J4Xb5P7fnwwFkzvY/9nixWvXH8z9dE7CRC3DwP9eBYozYqOk/w412/ecH4j/+xDbGYznUP0/bfMmkPrA/+FNHxZdVyL/UKaSyIjPcv+gLinSo4+W/+Kg+VZVT7b8lRkW6WiXyv8+HZvErVvW/pig6uxkv+L+TVimJaaT6v1EHwCL7q/y/xFNiW3I9/r/Al/eBWVL/v2Zmsvw75v+/g6xao7j2/78YHIGMi4P/v/sjPCWPjv6/EyzujrQb/b94zoZi8zD7v4xAIRwx1vi//Bc/lCAV9r9GhZoMGvnyvx5NPurYHe+/6pMNU1HJ57+SiNkBzxLgv/GDAnguNNC/B1wUMyam0bw=\",\"dtype\":\"float64\",\"shape\":[100]}},\"selected\":{\"id\":\"9136\",\"type\":\"Selection\"},\"selection_policy\":{\"id\":\"9137\",\"type\":\"UnionRenderers\"}},\"id\":\"8831\",\"type\":\"ColumnDataSource\"},{\"attributes\":{\"text\":\"\"},\"id\":\"8823\",\"type\":\"Title\"}],\"root_ids\":[\"8785\"]},\"title\":\"Bokeh Application\",\"version\":\"1.4.0\"}};\n",
       "  var render_items = [{\"docid\":\"393cda32-a8f6-4150-8103-7999b2eb547b\",\"roots\":{\"8785\":\"f7d196f3-f090-4f0d-980d-2d3d76984f33\"}}];\n",
       "  root.Bokeh.embed.embed_items_notebook(docs_json, render_items);\n",
       "\n",
       "  }\n",
       "  if (root.Bokeh !== undefined) {\n",
       "    embed_document(root);\n",
       "  } else {\n",
       "    var attempts = 0;\n",
       "    var timer = setInterval(function(root) {\n",
       "      if (root.Bokeh !== undefined) {\n",
       "        clearInterval(timer);\n",
       "        embed_document(root);\n",
       "      } else {\n",
       "        attempts++;\n",
       "        if (attempts > 100) {\n",
       "          clearInterval(timer);\n",
       "          console.log(\"Bokeh: ERROR: Unable to run BokehJS code because BokehJS library is missing\");\n",
       "        }\n",
       "      }\n",
       "    }, 10, root)\n",
       "  }\n",
       "})(window);"
      ],
      "application/vnd.bokehjs_exec.v0+json": ""
     },
     "metadata": {
      "application/vnd.bokehjs_exec.v0+json": {
       "id": "8785"
      }
     },
     "output_type": "display_data"
    }
   ],
   "source": [
    "import numpy as np\n",
    "\n",
    "x = np.linspace(0, 4*np.pi, 100)\n",
    "y = np.sin(x)\n",
    "\n",
    "p = figure(height=400)\n",
    "\n",
    "p.circle(x, y, legend_label=\"sin(x)\")\n",
    "p.line(x, 2*y, legend_label=\"2*sin(x)\", line_dash=[4, 4], line_color=\"orange\", line_width=2)\n",
    "\n",
    "show(p)"
   ]
  },
  {
   "cell_type": "markdown",
   "metadata": {},
   "source": [
    "### Compound legends\n",
    "\n",
    "In the example above, we provided a different legend label to each glyph method. Sometimes, two (or more) different glyphs are used with a single data source. In this case, you can make compound legends by specifying the same legend argument to multiple glyph methods when creating a plot, for example, if you plot a `sin` curve with both a line and a marker, you may give them the same label to cause them to show up together in the legend:\n",
    "\n",
    "```python\n",
    "p.circle(x, y, legend_label=\"sin(x)\")\n",
    "p.line(x, y, legend_label=\"sin(x)\", line_dash=[4, 4], line_color=\"orange\", line_width=2)\n",
    "```\n"
   ]
  },
  {
   "cell_type": "code",
   "execution_count": 14,
   "metadata": {},
   "outputs": [],
   "source": [
    "# EXERCISE:  \n",
    "# (1) Making a compound legend \n",
    "# (2) Position the legend using p.legend.location.  Possible values are listed at:\n",
    "#     https://bokeh.pydata.org/en/latest/docs/reference/core/enums.html#bokeh.core.enums.Anchor\n",
    "\n"
   ]
  },
  {
   "cell_type": "markdown",
   "metadata": {},
   "source": [
    "## Color bars\n",
    "\n",
    "Color bars are especially useful if we vary the color of a glyph according to some color mapping. Bokeh color bars are configured with a color mappewr and added to plots with the `add_layout` method:\n",
    "```python\n",
    "color_mapper = LinearColorMapper(palette=\"Viridis256\", low=data_low, high=data_high)\n",
    "color_bar = ColorBar(color_mapper=color_mapper, location=(0,0))\n",
    "p.add_layout(color_bar, 'right')\n",
    "```\n",
    "The example below shows a complete example that also uses the color mapper to transform the glyph color."
   ]
  },
  {
   "cell_type": "code",
   "execution_count": 51,
   "metadata": {},
   "outputs": [
    {
     "data": {
      "text/html": [
       "\n",
       "\n",
       "\n",
       "\n",
       "\n",
       "\n",
       "  <div class=\"bk-root\" id=\"c7d76cc4-6023-45d9-a135-15c9849cd906\" data-root-id=\"9206\"></div>\n"
      ]
     },
     "metadata": {},
     "output_type": "display_data"
    },
    {
     "data": {
      "application/javascript": [
       "(function(root) {\n",
       "  function embed_document(root) {\n",
       "    \n",
       "  var docs_json = {\"edd9b150-53a9-4f0b-8a06-3715369d4f5d\":{\"roots\":{\"references\":[{\"attributes\":{\"below\":[{\"id\":\"9215\",\"type\":\"LinearAxis\"}],\"center\":[{\"id\":\"9219\",\"type\":\"Grid\"},{\"id\":\"9224\",\"type\":\"Grid\"}],\"left\":[{\"id\":\"9220\",\"type\":\"LinearAxis\"}],\"renderers\":[{\"id\":\"9230\",\"type\":\"GlyphRenderer\"}],\"right\":[{\"id\":\"9232\",\"type\":\"ColorBar\"}],\"title\":{\"id\":\"9526\",\"type\":\"Title\"},\"toolbar\":{\"id\":\"9225\",\"type\":\"Toolbar\"},\"toolbar_location\":null,\"x_range\":{\"id\":\"9207\",\"type\":\"DataRange1d\"},\"x_scale\":{\"id\":\"9211\",\"type\":\"LinearScale\"},\"y_range\":{\"id\":\"9209\",\"type\":\"DataRange1d\"},\"y_scale\":{\"id\":\"9213\",\"type\":\"LinearScale\"}},\"id\":\"9206\",\"subtype\":\"Figure\",\"type\":\"Plot\"},{\"attributes\":{},\"id\":\"9216\",\"type\":\"BasicTicker\"},{\"attributes\":{\"callback\":null},\"id\":\"9207\",\"type\":\"DataRange1d\"},{\"attributes\":{},\"id\":\"9211\",\"type\":\"LinearScale\"},{\"attributes\":{\"callback\":null,\"data\":{\"accel\":{\"__ndarray__\":\"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\",\"dtype\":\"float64\",\"shape\":[392]},\"cyl\":[8,8,8,8,8,8,8,8,8,8,8,8,8,8,4,6,6,6,4,4,4,4,4,4,6,8,8,8,8,4,4,4,6,6,6,6,6,8,8,8,8,8,8,8,6,4,6,6,4,4,4,4,4,4,4,4,4,4,4,4,4,8,8,8,8,8,8,8,8,8,3,8,8,8,8,4,4,4,4,4,4,4,4,4,8,8,8,8,8,8,8,8,8,8,8,8,6,6,6,6,6,4,8,8,8,8,6,4,4,4,3,4,6,4,8,8,4,4,4,4,8,4,6,8,6,6,6,4,4,4,4,6,6,6,8,8,8,8,8,4,4,4,4,4,4,4,4,4,4,4,6,6,6,6,8,8,8,8,6,6,6,6,6,8,8,4,4,6,4,4,4,4,6,4,6,4,4,4,4,4,4,4,4,4,4,8,8,8,8,6,6,6,6,4,4,4,4,6,6,6,6,4,4,4,4,4,8,4,6,6,8,8,8,8,4,4,4,4,4,8,8,8,8,6,6,6,6,8,8,8,8,4,4,4,4,4,4,4,4,6,4,3,4,4,4,4,4,8,8,8,6,6,6,4,6,6,6,6,6,6,8,6,8,8,4,4,4,4,4,4,4,4,5,6,4,6,4,4,6,6,4,6,6,8,8,8,8,8,8,8,8,4,4,4,4,5,8,4,8,4,4,4,4,4,6,6,4,4,4,4,4,4,4,4,6,4,4,4,4,4,4,4,4,4,4,5,4,4,4,4,6,3,4,4,4,4,4,6,4,4,4,4,4,4,4,4,4,4,4,4,4,4,4,4,4,6,6,6,6,8,6,6,4,4,4,4,4,4,4,4,4,4,4,4,4,4,4,4,4,4,6,6,4,6,4,4,4,4,4,4,4,4],\"displ\":{\"__ndarray__\":\"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\",\"dtype\":\"float64\",\"shape\":[392]},\"hp\":[130,165,150,150,140,198,220,215,225,190,170,160,150,225,95,95,97,85,88,46,87,90,95,113,90,215,200,210,193,88,90,95,100,105,100,88,100,165,175,153,150,180,170,175,110,72,100,88,86,90,70,76,65,69,60,70,95,80,54,90,86,165,175,150,153,150,208,155,160,190,97,150,130,140,150,112,76,87,69,86,92,97,80,88,175,150,145,137,150,198,150,158,150,215,225,175,105,100,100,88,95,46,150,167,170,180,100,88,72,94,90,85,107,90,145,230,49,75,91,112,150,110,122,180,95,100,100,67,80,65,75,100,110,105,140,150,150,140,150,83,67,78,52,61,75,75,75,97,93,67,95,105,72,72,170,145,150,148,110,105,110,95,110,110,129,75,83,100,78,96,71,97,97,70,90,95,88,98,115,53,86,81,92,79,83,140,150,120,152,100,105,81,90,52,60,70,53,100,78,110,95,71,70,75,72,102,150,88,108,120,180,145,130,150,68,80,58,96,70,145,110,145,130,110,105,100,98,180,170,190,149,78,88,75,89,63,83,67,78,97,110,110,48,66,52,70,60,110,140,139,105,95,85,88,100,90,105,85,110,120,145,165,139,140,68,95,97,75,95,105,85,97,103,125,115,133,71,68,115,85,88,90,110,130,129,138,135,155,142,125,150,71,65,80,80,77,125,71,90,70,70,65,69,90,115,115,90,76,60,70,65,90,88,90,90,78,90,75,92,75,65,105,65,48,48,67,67,67,67,62,132,100,88,72,84,84,92,110,84,58,64,60,67,65,62,68,63,65,65,74,75,75,100,74,80,76,116,120,110,105,88,85,88,88,88,85,84,90,92,74,68,68,63,70,88,75,70,67,67,67,110,85,92,112,96,84,90,86,52,84,79,82],\"index\":[0,1,2,3,4,5,6,7,8,9,10,11,12,13,14,15,16,17,18,19,20,21,22,23,24,25,26,27,28,29,30,31,32,33,34,35,36,37,38,39,40,41,42,43,44,45,46,47,48,49,50,51,52,53,54,55,56,57,58,59,60,61,62,63,64,65,66,67,68,69,70,71,72,73,74,75,76,77,78,79,80,81,82,83,84,85,86,87,88,89,90,91,92,93,94,95,96,97,98,99,100,101,102,103,104,105,106,107,108,109,110,111,112,113,114,115,116,117,118,119,120,121,122,123,124,125,126,127,128,129,130,131,132,133,134,135,136,137,138,139,140,141,142,143,144,145,146,147,148,149,150,151,152,153,154,155,156,157,158,159,160,161,162,163,164,165,166,167,168,169,170,171,172,173,174,175,176,177,178,179,180,181,182,183,184,185,186,187,188,189,190,191,192,193,194,195,196,197,198,199,200,201,202,203,204,205,206,207,208,209,210,211,212,213,214,215,216,217,218,219,220,221,222,223,224,225,226,227,228,229,230,231,232,233,234,235,236,237,238,239,240,241,242,243,244,245,246,247,248,249,250,251,252,253,254,255,256,257,258,259,260,261,262,263,264,265,266,267,268,269,270,271,272,273,274,275,276,277,278,279,280,281,282,283,284,285,286,287,288,289,290,291,292,293,294,295,296,297,298,299,300,301,302,303,304,305,306,307,308,309,310,311,312,313,314,315,316,317,318,319,320,321,322,323,324,325,326,327,328,329,330,331,332,333,334,335,336,337,338,339,340,341,342,343,344,345,346,347,348,349,350,351,352,353,354,355,356,357,358,359,360,361,362,363,364,365,366,367,368,369,370,371,372,373,374,375,376,377,378,379,380,381,382,383,384,385,386,387,388,389,390,391],\"mpg\":{\"__ndarray__\":\"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\",\"dtype\":\"float64\",\"shape\":[392]},\"name\":[\"chevrolet chevelle malibu\",\"buick skylark 320\",\"plymouth satellite\",\"amc rebel sst\",\"ford torino\",\"ford galaxie 500\",\"chevrolet impala\",\"plymouth fury iii\",\"pontiac catalina\",\"amc ambassador dpl\",\"dodge challenger se\",\"plymouth 'cuda 340\",\"chevrolet monte carlo\",\"buick estate wagon (sw)\",\"toyota corona mark ii\",\"plymouth duster\",\"amc hornet\",\"ford maverick\",\"datsun pl510\",\"volkswagen 1131 deluxe sedan\",\"peugeot 504\",\"audi 100 ls\",\"saab 99e\",\"bmw 2002\",\"amc gremlin\",\"ford f250\",\"chevy c20\",\"dodge d200\",\"hi 1200d\",\"datsun pl510\",\"chevrolet vega 2300\",\"toyota corona\",\"amc gremlin\",\"plymouth satellite custom\",\"chevrolet chevelle malibu\",\"ford torino 500\",\"amc matador\",\"chevrolet impala\",\"pontiac catalina brougham\",\"ford galaxie 500\",\"plymouth fury iii\",\"dodge monaco (sw)\",\"ford country squire (sw)\",\"pontiac safari (sw)\",\"amc hornet sportabout (sw)\",\"chevrolet vega (sw)\",\"pontiac firebird\",\"ford mustang\",\"mercury capri 2000\",\"opel 1900\",\"peugeot 304\",\"fiat 124b\",\"toyota corolla 1200\",\"datsun 1200\",\"volkswagen model 111\",\"plymouth cricket\",\"toyota corona hardtop\",\"dodge colt hardtop\",\"volkswagen type 3\",\"chevrolet vega\",\"ford pinto runabout\",\"chevrolet impala\",\"pontiac catalina\",\"plymouth fury iii\",\"ford galaxie 500\",\"amc ambassador sst\",\"mercury marquis\",\"buick lesabre custom\",\"oldsmobile delta 88 royale\",\"chrysler newport royal\",\"mazda rx2 coupe\",\"amc matador (sw)\",\"chevrolet chevelle concours (sw)\",\"ford gran torino (sw)\",\"plymouth satellite custom (sw)\",\"volvo 145e (sw)\",\"volkswagen 411 (sw)\",\"peugeot 504 (sw)\",\"renault 12 (sw)\",\"ford pinto (sw)\",\"datsun 510 (sw)\",\"toyouta corona mark ii (sw)\",\"dodge colt (sw)\",\"toyota corolla 1600 (sw)\",\"buick century 350\",\"amc matador\",\"chevrolet malibu\",\"ford gran torino\",\"dodge coronet custom\",\"mercury marquis brougham\",\"chevrolet caprice classic\",\"ford ltd\",\"plymouth fury gran sedan\",\"chrysler new yorker brougham\",\"buick electra 225 custom\",\"amc ambassador brougham\",\"plymouth valiant\",\"chevrolet nova custom\",\"amc hornet\",\"ford maverick\",\"plymouth duster\",\"volkswagen super beetle\",\"chevrolet impala\",\"ford country\",\"plymouth custom suburb\",\"oldsmobile vista cruiser\",\"amc gremlin\",\"toyota carina\",\"chevrolet vega\",\"datsun 610\",\"maxda rx3\",\"ford pinto\",\"mercury capri v6\",\"fiat 124 sport coupe\",\"chevrolet monte carlo s\",\"pontiac grand prix\",\"fiat 128\",\"opel manta\",\"audi 100ls\",\"volvo 144ea\",\"dodge dart custom\",\"saab 99le\",\"toyota mark ii\",\"oldsmobile omega\",\"plymouth duster\",\"amc hornet\",\"chevrolet nova\",\"datsun b210\",\"ford pinto\",\"toyota corolla 1200\",\"chevrolet vega\",\"chevrolet chevelle malibu classic\",\"amc matador\",\"plymouth satellite sebring\",\"ford gran torino\",\"buick century luxus (sw)\",\"dodge coronet custom (sw)\",\"ford gran torino (sw)\",\"amc matador (sw)\",\"audi fox\",\"volkswagen dasher\",\"opel manta\",\"toyota corona\",\"datsun 710\",\"dodge colt\",\"fiat 128\",\"fiat 124 tc\",\"honda civic\",\"subaru\",\"fiat x1.9\",\"plymouth valiant custom\",\"chevrolet nova\",\"mercury monarch\",\"ford maverick\",\"pontiac catalina\",\"chevrolet bel air\",\"plymouth grand fury\",\"ford ltd\",\"buick century\",\"chevroelt chevelle malibu\",\"amc matador\",\"plymouth fury\",\"buick skyhawk\",\"chevrolet monza 2+2\",\"ford mustang ii\",\"toyota corolla\",\"ford pinto\",\"amc gremlin\",\"pontiac astro\",\"toyota corona\",\"volkswagen dasher\",\"datsun 710\",\"ford pinto\",\"volkswagen rabbit\",\"amc pacer\",\"audi 100ls\",\"peugeot 504\",\"volvo 244dl\",\"saab 99le\",\"honda civic cvcc\",\"fiat 131\",\"opel 1900\",\"capri ii\",\"dodge colt\",\"renault 12tl\",\"chevrolet chevelle malibu classic\",\"dodge coronet brougham\",\"amc matador\",\"ford gran torino\",\"plymouth valiant\",\"chevrolet nova\",\"ford maverick\",\"amc hornet\",\"chevrolet chevette\",\"chevrolet woody\",\"vw rabbit\",\"honda civic\",\"dodge aspen se\",\"ford granada ghia\",\"pontiac ventura sj\",\"amc pacer d/l\",\"volkswagen rabbit\",\"datsun b-210\",\"toyota corolla\",\"ford pinto\",\"volvo 245\",\"plymouth volare premier v8\",\"peugeot 504\",\"toyota mark ii\",\"mercedes-benz 280s\",\"cadillac seville\",\"chevy c10\",\"ford f108\",\"dodge d100\",\"honda accord cvcc\",\"buick opel isuzu deluxe\",\"renault 5 gtl\",\"plymouth arrow gs\",\"datsun f-10 hatchback\",\"chevrolet caprice classic\",\"oldsmobile cutlass supreme\",\"dodge monaco brougham\",\"mercury cougar brougham\",\"chevrolet concours\",\"buick skylark\",\"plymouth volare custom\",\"ford granada\",\"pontiac grand prix lj\",\"chevrolet monte carlo landau\",\"chrysler cordoba\",\"ford thunderbird\",\"volkswagen rabbit custom\",\"pontiac sunbird coupe\",\"toyota corolla liftback\",\"ford mustang ii 2+2\",\"chevrolet chevette\",\"dodge colt m/m\",\"subaru dl\",\"volkswagen dasher\",\"datsun 810\",\"bmw 320i\",\"mazda rx-4\",\"volkswagen rabbit custom diesel\",\"ford fiesta\",\"mazda glc deluxe\",\"datsun b210 gx\",\"honda civic cvcc\",\"oldsmobile cutlass salon brougham\",\"dodge diplomat\",\"mercury monarch ghia\",\"pontiac phoenix lj\",\"chevrolet malibu\",\"ford fairmont (auto)\",\"ford fairmont (man)\",\"plymouth volare\",\"amc concord\",\"buick century special\",\"mercury zephyr\",\"dodge aspen\",\"amc concord d/l\",\"chevrolet monte carlo landau\",\"buick regal sport coupe (turbo)\",\"ford futura\",\"dodge magnum xe\",\"chevrolet chevette\",\"toyota corona\",\"datsun 510\",\"dodge omni\",\"toyota celica gt liftback\",\"plymouth sapporo\",\"oldsmobile starfire sx\",\"datsun 200-sx\",\"audi 5000\",\"volvo 264gl\",\"saab 99gle\",\"peugeot 604sl\",\"volkswagen scirocco\",\"honda accord lx\",\"pontiac lemans v6\",\"mercury zephyr 6\",\"ford fairmont 4\",\"amc concord dl 6\",\"dodge aspen 6\",\"chevrolet caprice classic\",\"ford ltd landau\",\"mercury grand marquis\",\"dodge st. regis\",\"buick estate wagon (sw)\",\"ford country squire (sw)\",\"chevrolet malibu classic (sw)\",\"chrysler lebaron town @ country (sw)\",\"vw rabbit custom\",\"maxda glc deluxe\",\"dodge colt hatchback custom\",\"amc spirit dl\",\"mercedes benz 300d\",\"cadillac eldorado\",\"peugeot 504\",\"oldsmobile cutlass salon brougham\",\"plymouth horizon\",\"plymouth horizon tc3\",\"datsun 210\",\"fiat strada custom\",\"buick skylark limited\",\"chevrolet citation\",\"oldsmobile omega brougham\",\"pontiac phoenix\",\"vw rabbit\",\"toyota corolla tercel\",\"chevrolet chevette\",\"datsun 310\",\"chevrolet citation\",\"ford fairmont\",\"amc concord\",\"dodge aspen\",\"audi 4000\",\"toyota corona liftback\",\"mazda 626\",\"datsun 510 hatchback\",\"toyota corolla\",\"mazda glc\",\"dodge colt\",\"datsun 210\",\"vw rabbit c (diesel)\",\"vw dasher (diesel)\",\"audi 5000s (diesel)\",\"mercedes-benz 240d\",\"honda civic 1500 gl\",\"subaru dl\",\"vokswagen rabbit\",\"datsun 280-zx\",\"mazda rx-7 gs\",\"triumph tr7 coupe\",\"honda accord\",\"plymouth reliant\",\"buick skylark\",\"dodge aries wagon (sw)\",\"chevrolet citation\",\"plymouth reliant\",\"toyota starlet\",\"plymouth champ\",\"honda civic 1300\",\"subaru\",\"datsun 210 mpg\",\"toyota tercel\",\"mazda glc 4\",\"plymouth horizon 4\",\"ford escort 4w\",\"ford escort 2h\",\"volkswagen jetta\",\"honda prelude\",\"toyota corolla\",\"datsun 200sx\",\"mazda 626\",\"peugeot 505s turbo diesel\",\"volvo diesel\",\"toyota cressida\",\"datsun 810 maxima\",\"buick century\",\"oldsmobile cutlass ls\",\"ford granada gl\",\"chrysler lebaron salon\",\"chevrolet cavalier\",\"chevrolet cavalier wagon\",\"chevrolet cavalier 2-door\",\"pontiac j2000 se hatchback\",\"dodge aries se\",\"pontiac phoenix\",\"ford fairmont futura\",\"volkswagen rabbit l\",\"mazda glc custom l\",\"mazda glc custom\",\"plymouth horizon miser\",\"mercury lynx l\",\"nissan stanza xe\",\"honda accord\",\"toyota corolla\",\"honda civic\",\"honda civic (auto)\",\"datsun 310 gx\",\"buick century limited\",\"oldsmobile cutlass ciera (diesel)\",\"chrysler lebaron medallion\",\"ford granada l\",\"toyota celica gt\",\"dodge charger 2.2\",\"chevrolet camaro\",\"ford mustang gl\",\"vw pickup\",\"dodge rampage\",\"ford ranger\",\"chevy s-10\"],\"origin\":[1,1,1,1,1,1,1,1,1,1,1,1,1,1,3,1,1,1,3,2,2,2,2,2,1,1,1,1,1,3,1,3,1,1,1,1,1,1,1,1,1,1,1,1,1,1,1,1,1,2,2,2,3,3,2,1,3,1,2,1,1,1,1,1,1,1,1,1,1,1,3,1,1,1,1,2,2,2,2,1,3,3,1,3,1,1,1,1,1,1,1,1,1,1,1,1,1,1,1,1,1,2,1,1,1,1,1,3,1,3,3,1,1,2,1,1,2,2,2,2,1,2,3,1,1,1,1,3,1,3,1,1,1,1,1,1,1,1,1,2,2,2,3,3,1,2,2,3,3,2,1,1,1,1,1,1,1,1,1,1,1,1,1,1,1,3,1,1,1,3,2,3,1,2,1,2,2,2,2,3,2,2,1,1,2,1,1,1,1,1,1,1,1,1,1,2,3,1,1,1,1,2,3,3,1,2,1,2,3,2,1,1,1,1,3,1,2,1,3,1,1,1,1,1,1,1,1,1,1,1,1,2,1,3,1,1,1,3,2,3,2,3,2,1,3,3,3,1,1,1,1,1,1,1,1,1,1,1,1,1,1,1,1,1,1,3,3,1,3,1,1,3,2,2,2,2,2,3,1,1,1,1,1,1,1,1,1,1,1,1,1,2,3,1,1,2,1,2,1,1,1,3,2,1,1,1,1,2,3,1,3,1,1,1,1,2,3,3,3,3,3,1,3,2,2,2,2,3,3,2,3,3,2,3,1,1,1,1,1,3,1,3,3,3,3,3,1,1,1,2,3,3,3,3,2,2,3,3,1,1,1,1,1,1,1,1,1,1,1,2,3,3,1,1,3,3,3,3,3,3,1,1,1,1,3,1,1,1,2,1,1,1],\"weight\":[3504,3693,3436,3433,3449,4341,4354,4312,4425,3850,3563,3609,3761,3086,2372,2833,2774,2587,2130,1835,2672,2430,2375,2234,2648,4615,4376,4382,4732,2130,2264,2228,2634,3439,3329,3302,3288,4209,4464,4154,4096,4955,4746,5140,2962,2408,3282,3139,2220,2123,2074,2065,1773,1613,1834,1955,2278,2126,2254,2408,2226,4274,4385,4135,4129,3672,4633,4502,4456,4422,2330,3892,4098,4294,4077,2933,2511,2979,2189,2395,2288,2506,2164,2100,4100,3672,3988,4042,3777,4952,4464,4363,4237,4735,4951,3821,3121,3278,2945,3021,2904,1950,4997,4906,4654,4499,2789,2279,2401,2379,2124,2310,2472,2265,4082,4278,1867,2158,2582,2868,3399,2660,2807,3664,3102,2901,3336,1950,2451,1836,2542,3781,3632,3613,4141,4699,4457,4638,4257,2219,1963,2300,1649,2003,2125,2108,2246,2489,2391,2000,3264,3459,3432,3158,4668,4440,4498,4657,3907,3897,3730,3785,3039,3221,3169,2171,2639,2914,2592,2702,2223,2545,2984,1937,3211,2694,2957,2945,2671,1795,2464,2220,2572,2255,2202,4215,4190,3962,4215,3233,3353,3012,3085,2035,2164,1937,1795,3651,3574,3645,3193,1825,1990,2155,2565,3150,3940,3270,2930,3820,4380,4055,3870,3755,2045,2155,1825,2300,1945,3880,4060,4140,4295,3520,3425,3630,3525,4220,4165,4325,4335,1940,2740,2265,2755,2051,2075,1985,2190,2815,2600,2720,1985,1800,1985,2070,1800,3365,3735,3570,3535,3155,2965,2720,3430,3210,3380,3070,3620,3410,3425,3445,3205,4080,2155,2560,2300,2230,2515,2745,2855,2405,2830,3140,2795,3410,1990,2135,3245,2990,2890,3265,3360,3840,3725,3955,3830,4360,4054,3605,3940,1925,1975,1915,2670,3530,3900,3190,3420,2200,2150,2020,2130,2670,2595,2700,2556,2144,1968,2120,2019,2678,2870,3003,3381,2188,2711,2542,2434,2265,2110,2800,2110,2085,2335,2950,3250,1850,2145,1845,2910,2420,2500,2290,2490,2635,2620,2725,2385,1755,1875,1760,2065,1975,2050,1985,2215,2045,2380,2190,2210,2350,2615,2635,3230,3160,2900,2930,3415,3725,3060,3465,2605,2640,2395,2575,2525,2735,2865,1980,2025,1970,2125,2125,2160,2205,2245,1965,1965,1995,2945,3015,2585,2835,2665,2370,2950,2790,2130,2295,2625,2720],\"yr\":[70,70,70,70,70,70,70,70,70,70,70,70,70,70,70,70,70,70,70,70,70,70,70,70,70,70,70,70,70,71,71,71,71,71,71,71,71,71,71,71,71,71,71,71,71,71,71,71,71,71,71,71,71,71,71,71,72,72,72,72,72,72,72,72,72,72,72,72,72,72,72,72,72,72,72,72,72,72,72,72,72,72,72,72,73,73,73,73,73,73,73,73,73,73,73,73,73,73,73,73,73,73,73,73,73,73,73,73,73,73,73,73,73,73,73,73,73,73,73,73,73,73,73,73,74,74,74,74,74,74,74,74,74,74,74,74,74,74,74,74,74,74,74,74,74,74,74,74,74,74,75,75,75,75,75,75,75,75,75,75,75,75,75,75,75,75,75,75,75,75,75,75,75,75,75,75,75,75,75,75,76,76,76,76,76,76,76,76,76,76,76,76,76,76,76,76,76,76,76,76,76,76,76,76,76,76,76,76,76,76,76,76,76,76,77,77,77,77,77,77,77,77,77,77,77,77,77,77,77,77,77,77,77,77,77,77,77,77,77,77,77,77,78,78,78,78,78,78,78,78,78,78,78,78,78,78,78,78,78,78,78,78,78,78,78,78,78,78,78,78,78,78,78,78,78,78,78,78,79,79,79,79,79,79,79,79,79,79,79,79,79,79,79,79,79,79,79,79,79,79,79,79,79,79,79,79,79,80,80,80,80,80,80,80,80,80,80,80,80,80,80,80,80,80,80,80,80,80,80,80,80,80,80,80,81,81,81,81,81,81,81,81,81,81,81,81,81,81,81,81,81,81,81,81,81,81,81,81,81,81,81,81,82,82,82,82,82,82,82,82,82,82,82,82,82,82,82,82,82,82,82,82,82,82,82,82,82,82,82,82,82,82]},\"selected\":{\"id\":\"9533\",\"type\":\"Selection\"},\"selection_policy\":{\"id\":\"9534\",\"type\":\"UnionRenderers\"}},\"id\":\"9226\",\"type\":\"ColumnDataSource\"},{\"attributes\":{},\"id\":\"9530\",\"type\":\"BasicTickFormatter\"},{\"attributes\":{\"high\":5140,\"low\":1613,\"palette\":[\"#440154\",\"#440255\",\"#440357\",\"#450558\",\"#45065A\",\"#45085B\",\"#46095C\",\"#460B5E\",\"#460C5F\",\"#460E61\",\"#470F62\",\"#471163\",\"#471265\",\"#471466\",\"#471567\",\"#471669\",\"#47186A\",\"#48196B\",\"#481A6C\",\"#481C6E\",\"#481D6F\",\"#481E70\",\"#482071\",\"#482172\",\"#482273\",\"#482374\",\"#472575\",\"#472676\",\"#472777\",\"#472878\",\"#472A79\",\"#472B7A\",\"#472C7B\",\"#462D7C\",\"#462F7C\",\"#46307D\",\"#46317E\",\"#45327F\",\"#45347F\",\"#453580\",\"#453681\",\"#443781\",\"#443982\",\"#433A83\",\"#433B83\",\"#433C84\",\"#423D84\",\"#423E85\",\"#424085\",\"#414186\",\"#414286\",\"#404387\",\"#404487\",\"#3F4587\",\"#3F4788\",\"#3E4888\",\"#3E4989\",\"#3D4A89\",\"#3D4B89\",\"#3D4C89\",\"#3C4D8A\",\"#3C4E8A\",\"#3B508A\",\"#3B518A\",\"#3A528B\",\"#3A538B\",\"#39548B\",\"#39558B\",\"#38568B\",\"#38578C\",\"#37588C\",\"#37598C\",\"#365A8C\",\"#365B8C\",\"#355C8C\",\"#355D8C\",\"#345E8D\",\"#345F8D\",\"#33608D\",\"#33618D\",\"#32628D\",\"#32638D\",\"#31648D\",\"#31658D\",\"#31668D\",\"#30678D\",\"#30688D\",\"#2F698D\",\"#2F6A8D\",\"#2E6B8E\",\"#2E6C8E\",\"#2E6D8E\",\"#2D6E8E\",\"#2D6F8E\",\"#2C708E\",\"#2C718E\",\"#2C728E\",\"#2B738E\",\"#2B748E\",\"#2A758E\",\"#2A768E\",\"#2A778E\",\"#29788E\",\"#29798E\",\"#287A8E\",\"#287A8E\",\"#287B8E\",\"#277C8E\",\"#277D8E\",\"#277E8E\",\"#267F8E\",\"#26808E\",\"#26818E\",\"#25828E\",\"#25838D\",\"#24848D\",\"#24858D\",\"#24868D\",\"#23878D\",\"#23888D\",\"#23898D\",\"#22898D\",\"#228A8D\",\"#228B8D\",\"#218C8D\",\"#218D8C\",\"#218E8C\",\"#208F8C\",\"#20908C\",\"#20918C\",\"#1F928C\",\"#1F938B\",\"#1F948B\",\"#1F958B\",\"#1F968B\",\"#1E978A\",\"#1E988A\",\"#1E998A\",\"#1E998A\",\"#1E9A89\",\"#1E9B89\",\"#1E9C89\",\"#1E9D88\",\"#1E9E88\",\"#1E9F88\",\"#1EA087\",\"#1FA187\",\"#1FA286\",\"#1FA386\",\"#20A485\",\"#20A585\",\"#21A685\",\"#21A784\",\"#22A784\",\"#23A883\",\"#23A982\",\"#24AA82\",\"#25AB81\",\"#26AC81\",\"#27AD80\",\"#28AE7F\",\"#29AF7F\",\"#2AB07E\",\"#2BB17D\",\"#2CB17D\",\"#2EB27C\",\"#2FB37B\",\"#30B47A\",\"#32B57A\",\"#33B679\",\"#35B778\",\"#36B877\",\"#38B976\",\"#39B976\",\"#3BBA75\",\"#3DBB74\",\"#3EBC73\",\"#40BD72\",\"#42BE71\",\"#44BE70\",\"#45BF6F\",\"#47C06E\",\"#49C16D\",\"#4BC26C\",\"#4DC26B\",\"#4FC369\",\"#51C468\",\"#53C567\",\"#55C666\",\"#57C665\",\"#59C764\",\"#5BC862\",\"#5EC961\",\"#60C960\",\"#62CA5F\",\"#64CB5D\",\"#67CC5C\",\"#69CC5B\",\"#6BCD59\",\"#6DCE58\",\"#70CE56\",\"#72CF55\",\"#74D054\",\"#77D052\",\"#79D151\",\"#7CD24F\",\"#7ED24E\",\"#81D34C\",\"#83D34B\",\"#86D449\",\"#88D547\",\"#8BD546\",\"#8DD644\",\"#90D643\",\"#92D741\",\"#95D73F\",\"#97D83E\",\"#9AD83C\",\"#9DD93A\",\"#9FD938\",\"#A2DA37\",\"#A5DA35\",\"#A7DB33\",\"#AADB32\",\"#ADDC30\",\"#AFDC2E\",\"#B2DD2C\",\"#B5DD2B\",\"#B7DD29\",\"#BADE27\",\"#BDDE26\",\"#BFDF24\",\"#C2DF22\",\"#C5DF21\",\"#C7E01F\",\"#CAE01E\",\"#CDE01D\",\"#CFE11C\",\"#D2E11B\",\"#D4E11A\",\"#D7E219\",\"#DAE218\",\"#DCE218\",\"#DFE318\",\"#E1E318\",\"#E4E318\",\"#E7E419\",\"#E9E419\",\"#ECE41A\",\"#EEE51B\",\"#F1E51C\",\"#F3E51E\",\"#F6E61F\",\"#F8E621\",\"#FAE622\",\"#FDE724\"]},\"id\":\"9205\",\"type\":\"LinearColorMapper\"},{\"attributes\":{\"callback\":null},\"id\":\"9209\",\"type\":\"DataRange1d\"},{\"attributes\":{},\"id\":\"9527\",\"type\":\"BasicTicker\"},{\"attributes\":{},\"id\":\"9213\",\"type\":\"LinearScale\"},{\"attributes\":{\"color_mapper\":{\"id\":\"9205\",\"type\":\"LinearColorMapper\"},\"formatter\":{\"id\":\"9528\",\"type\":\"BasicTickFormatter\"},\"label_standoff\":12,\"location\":[0,0],\"ticker\":{\"id\":\"9527\",\"type\":\"BasicTicker\"},\"title\":\"Weight\"},\"id\":\"9232\",\"type\":\"ColorBar\"},{\"attributes\":{},\"id\":\"9528\",\"type\":\"BasicTickFormatter\"},{\"attributes\":{},\"id\":\"9533\",\"type\":\"Selection\"},{\"attributes\":{},\"id\":\"9221\",\"type\":\"BasicTicker\"},{\"attributes\":{\"active_drag\":\"auto\",\"active_inspect\":\"auto\",\"active_multi\":null,\"active_scroll\":\"auto\",\"active_tap\":\"auto\"},\"id\":\"9225\",\"type\":\"Toolbar\"},{\"attributes\":{},\"id\":\"9532\",\"type\":\"BasicTickFormatter\"},{\"attributes\":{\"source\":{\"id\":\"9226\",\"type\":\"ColumnDataSource\"}},\"id\":\"9231\",\"type\":\"CDSView\"},{\"attributes\":{\"text\":\"\"},\"id\":\"9526\",\"type\":\"Title\"},{\"attributes\":{\"ticker\":{\"id\":\"9216\",\"type\":\"BasicTicker\"}},\"id\":\"9219\",\"type\":\"Grid\"},{\"attributes\":{\"fill_alpha\":{\"value\":0.6},\"fill_color\":{\"field\":\"weight\",\"transform\":{\"id\":\"9205\",\"type\":\"LinearColorMapper\"}},\"line_alpha\":{\"value\":0.6},\"line_color\":{\"field\":\"weight\",\"transform\":{\"id\":\"9205\",\"type\":\"LinearColorMapper\"}},\"size\":{\"units\":\"screen\",\"value\":20},\"x\":{\"field\":\"hp\"},\"y\":{\"field\":\"mpg\"}},\"id\":\"9228\",\"type\":\"Circle\"},{\"attributes\":{},\"id\":\"9534\",\"type\":\"UnionRenderers\"},{\"attributes\":{\"dimension\":1,\"ticker\":{\"id\":\"9221\",\"type\":\"BasicTicker\"}},\"id\":\"9224\",\"type\":\"Grid\"},{\"attributes\":{\"axis_label\":\"Horsepower\",\"formatter\":{\"id\":\"9532\",\"type\":\"BasicTickFormatter\"},\"ticker\":{\"id\":\"9216\",\"type\":\"BasicTicker\"}},\"id\":\"9215\",\"type\":\"LinearAxis\"},{\"attributes\":{\"fill_alpha\":{\"value\":0.1},\"fill_color\":{\"value\":\"#1f77b4\"},\"line_alpha\":{\"value\":0.1},\"line_color\":{\"value\":\"#1f77b4\"},\"size\":{\"units\":\"screen\",\"value\":20},\"x\":{\"field\":\"hp\"},\"y\":{\"field\":\"mpg\"}},\"id\":\"9229\",\"type\":\"Circle\"},{\"attributes\":{\"data_source\":{\"id\":\"9226\",\"type\":\"ColumnDataSource\"},\"glyph\":{\"id\":\"9228\",\"type\":\"Circle\"},\"hover_glyph\":null,\"muted_glyph\":null,\"nonselection_glyph\":{\"id\":\"9229\",\"type\":\"Circle\"},\"selection_glyph\":null,\"view\":{\"id\":\"9231\",\"type\":\"CDSView\"}},\"id\":\"9230\",\"type\":\"GlyphRenderer\"},{\"attributes\":{\"axis_label\":\"MPG\",\"formatter\":{\"id\":\"9530\",\"type\":\"BasicTickFormatter\"},\"ticker\":{\"id\":\"9221\",\"type\":\"BasicTicker\"}},\"id\":\"9220\",\"type\":\"LinearAxis\"}],\"root_ids\":[\"9206\"]},\"title\":\"Bokeh Application\",\"version\":\"1.4.0\"}};\n",
       "  var render_items = [{\"docid\":\"edd9b150-53a9-4f0b-8a06-3715369d4f5d\",\"roots\":{\"9206\":\"c7d76cc4-6023-45d9-a135-15c9849cd906\"}}];\n",
       "  root.Bokeh.embed.embed_items_notebook(docs_json, render_items);\n",
       "\n",
       "  }\n",
       "  if (root.Bokeh !== undefined) {\n",
       "    embed_document(root);\n",
       "  } else {\n",
       "    var attempts = 0;\n",
       "    var timer = setInterval(function(root) {\n",
       "      if (root.Bokeh !== undefined) {\n",
       "        clearInterval(timer);\n",
       "        embed_document(root);\n",
       "      } else {\n",
       "        attempts++;\n",
       "        if (attempts > 100) {\n",
       "          clearInterval(timer);\n",
       "          console.log(\"Bokeh: ERROR: Unable to run BokehJS code because BokehJS library is missing\");\n",
       "        }\n",
       "      }\n",
       "    }, 10, root)\n",
       "  }\n",
       "})(window);"
      ],
      "application/vnd.bokehjs_exec.v0+json": ""
     },
     "metadata": {
      "application/vnd.bokehjs_exec.v0+json": {
       "id": "9206"
      }
     },
     "output_type": "display_data"
    }
   ],
   "source": [
    "from bokeh.sampledata.autompg import autompg\n",
    "from bokeh.models import LinearColorMapper, ColorBar\n",
    "from bokeh.transform import transform\n",
    "\n",
    "source = ColumnDataSource(autompg)\n",
    "color_mapper = LinearColorMapper(palette=\"Viridis256\", low=autompg.weight.min(), high=autompg.weight.max())\n",
    "\n",
    "p = figure(x_axis_label='Horsepower', y_axis_label='MPG', tools='', toolbar_location=None)\n",
    "p.circle(x='hp', y='mpg', color=transform('weight', color_mapper), size=20, alpha=0.6, source=autompg)\n",
    "\n",
    "color_bar = ColorBar(color_mapper=color_mapper, label_standoff=12, location=(0,0), title='Weight')\n",
    "p.add_layout(color_bar, 'right')\n",
    "\n",
    "show(p)"
   ]
  },
  {
   "cell_type": "code",
   "execution_count": 16,
   "metadata": {},
   "outputs": [],
   "source": [
    "# Exercise: Experiment with Colorbar\n"
   ]
  },
  {
   "cell_type": "code",
   "execution_count": null,
   "metadata": {},
   "outputs": [],
   "source": []
  }
 ],
 "metadata": {
  "anaconda-cloud": {},
  "kernelspec": {
   "display_name": "Python 3",
   "language": "python",
   "name": "python3"
  },
  "language_info": {
   "codemirror_mode": {
    "name": "ipython",
    "version": 3
   },
   "file_extension": ".py",
   "mimetype": "text/x-python",
   "name": "python",
   "nbconvert_exporter": "python",
   "pygments_lexer": "ipython3",
   "version": "3.7.4"
  }
 },
 "nbformat": 4,
 "nbformat_minor": 4
}
