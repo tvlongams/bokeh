{
 "cells": [
  {
   "cell_type": "markdown",
   "metadata": {},
   "source": [
    "<table style=\"float:left; border:none\">\n",
    "   <tr style=\"border:none; background-color: #ffffff\">\n",
    "       <td style=\"border:none\">\n",
    "           <a href=\"http://bokeh.org/\">     \n",
    "           <img \n",
    "               src=\"assets/bokeh-transparent.png\" \n",
    "               style=\"width:50px\"\n",
    "           >\n",
    "           </a>    \n",
    "       </td>\n",
    "       <td style=\"border:none\">\n",
    "           <h1>Bokeh Tutorial</h1>\n",
    "       </td>\n",
    "   </tr>\n",
    "</table>\n",
    "\n",
    "<div style=\"float:right;\"><h2>06. Linking and Interactions</h2></div>"
   ]
  },
  {
   "cell_type": "code",
   "execution_count": 1,
   "metadata": {},
   "outputs": [
    {
     "data": {
      "text/html": [
       "\n",
       "    <div class=\"bk-root\">\n",
       "        <a href=\"https://bokeh.pydata.org\" target=\"_blank\" class=\"bk-logo bk-logo-small bk-logo-notebook\"></a>\n",
       "        <span id=\"1001\">Loading BokehJS ...</span>\n",
       "    </div>"
      ]
     },
     "metadata": {},
     "output_type": "display_data"
    },
    {
     "data": {
      "application/javascript": [
       "\n",
       "(function(root) {\n",
       "  function now() {\n",
       "    return new Date();\n",
       "  }\n",
       "\n",
       "  var force = true;\n",
       "\n",
       "  if (typeof root._bokeh_onload_callbacks === \"undefined\" || force === true) {\n",
       "    root._bokeh_onload_callbacks = [];\n",
       "    root._bokeh_is_loading = undefined;\n",
       "  }\n",
       "\n",
       "  var JS_MIME_TYPE = 'application/javascript';\n",
       "  var HTML_MIME_TYPE = 'text/html';\n",
       "  var EXEC_MIME_TYPE = 'application/vnd.bokehjs_exec.v0+json';\n",
       "  var CLASS_NAME = 'output_bokeh rendered_html';\n",
       "\n",
       "  /**\n",
       "   * Render data to the DOM node\n",
       "   */\n",
       "  function render(props, node) {\n",
       "    var script = document.createElement(\"script\");\n",
       "    node.appendChild(script);\n",
       "  }\n",
       "\n",
       "  /**\n",
       "   * Handle when an output is cleared or removed\n",
       "   */\n",
       "  function handleClearOutput(event, handle) {\n",
       "    var cell = handle.cell;\n",
       "\n",
       "    var id = cell.output_area._bokeh_element_id;\n",
       "    var server_id = cell.output_area._bokeh_server_id;\n",
       "    // Clean up Bokeh references\n",
       "    if (id != null && id in Bokeh.index) {\n",
       "      Bokeh.index[id].model.document.clear();\n",
       "      delete Bokeh.index[id];\n",
       "    }\n",
       "\n",
       "    if (server_id !== undefined) {\n",
       "      // Clean up Bokeh references\n",
       "      var cmd = \"from bokeh.io.state import curstate; print(curstate().uuid_to_server['\" + server_id + \"'].get_sessions()[0].document.roots[0]._id)\";\n",
       "      cell.notebook.kernel.execute(cmd, {\n",
       "        iopub: {\n",
       "          output: function(msg) {\n",
       "            var id = msg.content.text.trim();\n",
       "            if (id in Bokeh.index) {\n",
       "              Bokeh.index[id].model.document.clear();\n",
       "              delete Bokeh.index[id];\n",
       "            }\n",
       "          }\n",
       "        }\n",
       "      });\n",
       "      // Destroy server and session\n",
       "      var cmd = \"import bokeh.io.notebook as ion; ion.destroy_server('\" + server_id + \"')\";\n",
       "      cell.notebook.kernel.execute(cmd);\n",
       "    }\n",
       "  }\n",
       "\n",
       "  /**\n",
       "   * Handle when a new output is added\n",
       "   */\n",
       "  function handleAddOutput(event, handle) {\n",
       "    var output_area = handle.output_area;\n",
       "    var output = handle.output;\n",
       "\n",
       "    // limit handleAddOutput to display_data with EXEC_MIME_TYPE content only\n",
       "    if ((output.output_type != \"display_data\") || (!output.data.hasOwnProperty(EXEC_MIME_TYPE))) {\n",
       "      return\n",
       "    }\n",
       "\n",
       "    var toinsert = output_area.element.find(\".\" + CLASS_NAME.split(' ')[0]);\n",
       "\n",
       "    if (output.metadata[EXEC_MIME_TYPE][\"id\"] !== undefined) {\n",
       "      toinsert[toinsert.length - 1].firstChild.textContent = output.data[JS_MIME_TYPE];\n",
       "      // store reference to embed id on output_area\n",
       "      output_area._bokeh_element_id = output.metadata[EXEC_MIME_TYPE][\"id\"];\n",
       "    }\n",
       "    if (output.metadata[EXEC_MIME_TYPE][\"server_id\"] !== undefined) {\n",
       "      var bk_div = document.createElement(\"div\");\n",
       "      bk_div.innerHTML = output.data[HTML_MIME_TYPE];\n",
       "      var script_attrs = bk_div.children[0].attributes;\n",
       "      for (var i = 0; i < script_attrs.length; i++) {\n",
       "        toinsert[toinsert.length - 1].firstChild.setAttribute(script_attrs[i].name, script_attrs[i].value);\n",
       "      }\n",
       "      // store reference to server id on output_area\n",
       "      output_area._bokeh_server_id = output.metadata[EXEC_MIME_TYPE][\"server_id\"];\n",
       "    }\n",
       "  }\n",
       "\n",
       "  function register_renderer(events, OutputArea) {\n",
       "\n",
       "    function append_mime(data, metadata, element) {\n",
       "      // create a DOM node to render to\n",
       "      var toinsert = this.create_output_subarea(\n",
       "        metadata,\n",
       "        CLASS_NAME,\n",
       "        EXEC_MIME_TYPE\n",
       "      );\n",
       "      this.keyboard_manager.register_events(toinsert);\n",
       "      // Render to node\n",
       "      var props = {data: data, metadata: metadata[EXEC_MIME_TYPE]};\n",
       "      render(props, toinsert[toinsert.length - 1]);\n",
       "      element.append(toinsert);\n",
       "      return toinsert\n",
       "    }\n",
       "\n",
       "    /* Handle when an output is cleared or removed */\n",
       "    events.on('clear_output.CodeCell', handleClearOutput);\n",
       "    events.on('delete.Cell', handleClearOutput);\n",
       "\n",
       "    /* Handle when a new output is added */\n",
       "    events.on('output_added.OutputArea', handleAddOutput);\n",
       "\n",
       "    /**\n",
       "     * Register the mime type and append_mime function with output_area\n",
       "     */\n",
       "    OutputArea.prototype.register_mime_type(EXEC_MIME_TYPE, append_mime, {\n",
       "      /* Is output safe? */\n",
       "      safe: true,\n",
       "      /* Index of renderer in `output_area.display_order` */\n",
       "      index: 0\n",
       "    });\n",
       "  }\n",
       "\n",
       "  // register the mime type if in Jupyter Notebook environment and previously unregistered\n",
       "  if (root.Jupyter !== undefined) {\n",
       "    var events = require('base/js/events');\n",
       "    var OutputArea = require('notebook/js/outputarea').OutputArea;\n",
       "\n",
       "    if (OutputArea.prototype.mime_types().indexOf(EXEC_MIME_TYPE) == -1) {\n",
       "      register_renderer(events, OutputArea);\n",
       "    }\n",
       "  }\n",
       "\n",
       "  \n",
       "  if (typeof (root._bokeh_timeout) === \"undefined\" || force === true) {\n",
       "    root._bokeh_timeout = Date.now() + 5000;\n",
       "    root._bokeh_failed_load = false;\n",
       "  }\n",
       "\n",
       "  var NB_LOAD_WARNING = {'data': {'text/html':\n",
       "     \"<div style='background-color: #fdd'>\\n\"+\n",
       "     \"<p>\\n\"+\n",
       "     \"BokehJS does not appear to have successfully loaded. If loading BokehJS from CDN, this \\n\"+\n",
       "     \"may be due to a slow or bad network connection. Possible fixes:\\n\"+\n",
       "     \"</p>\\n\"+\n",
       "     \"<ul>\\n\"+\n",
       "     \"<li>re-rerun `output_notebook()` to attempt to load from CDN again, or</li>\\n\"+\n",
       "     \"<li>use INLINE resources instead, as so:</li>\\n\"+\n",
       "     \"</ul>\\n\"+\n",
       "     \"<code>\\n\"+\n",
       "     \"from bokeh.resources import INLINE\\n\"+\n",
       "     \"output_notebook(resources=INLINE)\\n\"+\n",
       "     \"</code>\\n\"+\n",
       "     \"</div>\"}};\n",
       "\n",
       "  function display_loaded() {\n",
       "    var el = document.getElementById(\"1001\");\n",
       "    if (el != null) {\n",
       "      el.textContent = \"BokehJS is loading...\";\n",
       "    }\n",
       "    if (root.Bokeh !== undefined) {\n",
       "      if (el != null) {\n",
       "        el.textContent = \"BokehJS \" + root.Bokeh.version + \" successfully loaded.\";\n",
       "      }\n",
       "    } else if (Date.now() < root._bokeh_timeout) {\n",
       "      setTimeout(display_loaded, 100)\n",
       "    }\n",
       "  }\n",
       "\n",
       "\n",
       "  function run_callbacks() {\n",
       "    try {\n",
       "      root._bokeh_onload_callbacks.forEach(function(callback) {\n",
       "        if (callback != null)\n",
       "          callback();\n",
       "      });\n",
       "    } finally {\n",
       "      delete root._bokeh_onload_callbacks\n",
       "    }\n",
       "    console.debug(\"Bokeh: all callbacks have finished\");\n",
       "  }\n",
       "\n",
       "  function load_libs(css_urls, js_urls, callback) {\n",
       "    if (css_urls == null) css_urls = [];\n",
       "    if (js_urls == null) js_urls = [];\n",
       "\n",
       "    root._bokeh_onload_callbacks.push(callback);\n",
       "    if (root._bokeh_is_loading > 0) {\n",
       "      console.debug(\"Bokeh: BokehJS is being loaded, scheduling callback at\", now());\n",
       "      return null;\n",
       "    }\n",
       "    if (js_urls == null || js_urls.length === 0) {\n",
       "      run_callbacks();\n",
       "      return null;\n",
       "    }\n",
       "    console.debug(\"Bokeh: BokehJS not loaded, scheduling load and callback at\", now());\n",
       "    root._bokeh_is_loading = css_urls.length + js_urls.length;\n",
       "\n",
       "    function on_load() {\n",
       "      root._bokeh_is_loading--;\n",
       "      if (root._bokeh_is_loading === 0) {\n",
       "        console.debug(\"Bokeh: all BokehJS libraries/stylesheets loaded\");\n",
       "        run_callbacks()\n",
       "      }\n",
       "    }\n",
       "\n",
       "    function on_error() {\n",
       "      console.error(\"failed to load \" + url);\n",
       "    }\n",
       "\n",
       "    for (var i = 0; i < css_urls.length; i++) {\n",
       "      var url = css_urls[i];\n",
       "      const element = document.createElement(\"link\");\n",
       "      element.onload = on_load;\n",
       "      element.onerror = on_error;\n",
       "      element.rel = \"stylesheet\";\n",
       "      element.type = \"text/css\";\n",
       "      element.href = url;\n",
       "      console.debug(\"Bokeh: injecting link tag for BokehJS stylesheet: \", url);\n",
       "      document.body.appendChild(element);\n",
       "    }\n",
       "\n",
       "    for (var i = 0; i < js_urls.length; i++) {\n",
       "      var url = js_urls[i];\n",
       "      var element = document.createElement('script');\n",
       "      element.onload = on_load;\n",
       "      element.onerror = on_error;\n",
       "      element.async = false;\n",
       "      element.src = url;\n",
       "      console.debug(\"Bokeh: injecting script tag for BokehJS library: \", url);\n",
       "      document.head.appendChild(element);\n",
       "    }\n",
       "  };var element = document.getElementById(\"1001\");\n",
       "  if (element == null) {\n",
       "    console.error(\"Bokeh: ERROR: autoload.js configured with elementid '1001' but no matching script tag was found. \")\n",
       "    return false;\n",
       "  }\n",
       "\n",
       "  function inject_raw_css(css) {\n",
       "    const element = document.createElement(\"style\");\n",
       "    element.appendChild(document.createTextNode(css));\n",
       "    document.body.appendChild(element);\n",
       "  }\n",
       "\n",
       "  var js_urls = [\"https://cdn.pydata.org/bokeh/release/bokeh-1.3.4.min.js\", \"https://cdn.pydata.org/bokeh/release/bokeh-widgets-1.3.4.min.js\", \"https://cdn.pydata.org/bokeh/release/bokeh-tables-1.3.4.min.js\", \"https://cdn.pydata.org/bokeh/release/bokeh-gl-1.3.4.min.js\"];\n",
       "  var css_urls = [];\n",
       "\n",
       "  var inline_js = [\n",
       "    function(Bokeh) {\n",
       "      Bokeh.set_log_level(\"info\");\n",
       "    },\n",
       "    \n",
       "    function(Bokeh) {\n",
       "      \n",
       "    },\n",
       "    function(Bokeh) {} // ensure no trailing comma for IE\n",
       "  ];\n",
       "\n",
       "  function run_inline_js() {\n",
       "    \n",
       "    if ((root.Bokeh !== undefined) || (force === true)) {\n",
       "      for (var i = 0; i < inline_js.length; i++) {\n",
       "        inline_js[i].call(root, root.Bokeh);\n",
       "      }if (force === true) {\n",
       "        display_loaded();\n",
       "      }} else if (Date.now() < root._bokeh_timeout) {\n",
       "      setTimeout(run_inline_js, 100);\n",
       "    } else if (!root._bokeh_failed_load) {\n",
       "      console.log(\"Bokeh: BokehJS failed to load within specified timeout.\");\n",
       "      root._bokeh_failed_load = true;\n",
       "    } else if (force !== true) {\n",
       "      var cell = $(document.getElementById(\"1001\")).parents('.cell').data().cell;\n",
       "      cell.output_area.append_execute_result(NB_LOAD_WARNING)\n",
       "    }\n",
       "\n",
       "  }\n",
       "\n",
       "  if (root._bokeh_is_loading === 0) {\n",
       "    console.debug(\"Bokeh: BokehJS loaded, going straight to plotting\");\n",
       "    run_inline_js();\n",
       "  } else {\n",
       "    load_libs(css_urls, js_urls, function() {\n",
       "      console.debug(\"Bokeh: BokehJS plotting callback run at\", now());\n",
       "      run_inline_js();\n",
       "    });\n",
       "  }\n",
       "}(window));"
      ],
      "application/vnd.bokehjs_load.v0+json": "\n(function(root) {\n  function now() {\n    return new Date();\n  }\n\n  var force = true;\n\n  if (typeof root._bokeh_onload_callbacks === \"undefined\" || force === true) {\n    root._bokeh_onload_callbacks = [];\n    root._bokeh_is_loading = undefined;\n  }\n\n  \n\n  \n  if (typeof (root._bokeh_timeout) === \"undefined\" || force === true) {\n    root._bokeh_timeout = Date.now() + 5000;\n    root._bokeh_failed_load = false;\n  }\n\n  var NB_LOAD_WARNING = {'data': {'text/html':\n     \"<div style='background-color: #fdd'>\\n\"+\n     \"<p>\\n\"+\n     \"BokehJS does not appear to have successfully loaded. If loading BokehJS from CDN, this \\n\"+\n     \"may be due to a slow or bad network connection. Possible fixes:\\n\"+\n     \"</p>\\n\"+\n     \"<ul>\\n\"+\n     \"<li>re-rerun `output_notebook()` to attempt to load from CDN again, or</li>\\n\"+\n     \"<li>use INLINE resources instead, as so:</li>\\n\"+\n     \"</ul>\\n\"+\n     \"<code>\\n\"+\n     \"from bokeh.resources import INLINE\\n\"+\n     \"output_notebook(resources=INLINE)\\n\"+\n     \"</code>\\n\"+\n     \"</div>\"}};\n\n  function display_loaded() {\n    var el = document.getElementById(\"1001\");\n    if (el != null) {\n      el.textContent = \"BokehJS is loading...\";\n    }\n    if (root.Bokeh !== undefined) {\n      if (el != null) {\n        el.textContent = \"BokehJS \" + root.Bokeh.version + \" successfully loaded.\";\n      }\n    } else if (Date.now() < root._bokeh_timeout) {\n      setTimeout(display_loaded, 100)\n    }\n  }\n\n\n  function run_callbacks() {\n    try {\n      root._bokeh_onload_callbacks.forEach(function(callback) {\n        if (callback != null)\n          callback();\n      });\n    } finally {\n      delete root._bokeh_onload_callbacks\n    }\n    console.debug(\"Bokeh: all callbacks have finished\");\n  }\n\n  function load_libs(css_urls, js_urls, callback) {\n    if (css_urls == null) css_urls = [];\n    if (js_urls == null) js_urls = [];\n\n    root._bokeh_onload_callbacks.push(callback);\n    if (root._bokeh_is_loading > 0) {\n      console.debug(\"Bokeh: BokehJS is being loaded, scheduling callback at\", now());\n      return null;\n    }\n    if (js_urls == null || js_urls.length === 0) {\n      run_callbacks();\n      return null;\n    }\n    console.debug(\"Bokeh: BokehJS not loaded, scheduling load and callback at\", now());\n    root._bokeh_is_loading = css_urls.length + js_urls.length;\n\n    function on_load() {\n      root._bokeh_is_loading--;\n      if (root._bokeh_is_loading === 0) {\n        console.debug(\"Bokeh: all BokehJS libraries/stylesheets loaded\");\n        run_callbacks()\n      }\n    }\n\n    function on_error() {\n      console.error(\"failed to load \" + url);\n    }\n\n    for (var i = 0; i < css_urls.length; i++) {\n      var url = css_urls[i];\n      const element = document.createElement(\"link\");\n      element.onload = on_load;\n      element.onerror = on_error;\n      element.rel = \"stylesheet\";\n      element.type = \"text/css\";\n      element.href = url;\n      console.debug(\"Bokeh: injecting link tag for BokehJS stylesheet: \", url);\n      document.body.appendChild(element);\n    }\n\n    for (var i = 0; i < js_urls.length; i++) {\n      var url = js_urls[i];\n      var element = document.createElement('script');\n      element.onload = on_load;\n      element.onerror = on_error;\n      element.async = false;\n      element.src = url;\n      console.debug(\"Bokeh: injecting script tag for BokehJS library: \", url);\n      document.head.appendChild(element);\n    }\n  };var element = document.getElementById(\"1001\");\n  if (element == null) {\n    console.error(\"Bokeh: ERROR: autoload.js configured with elementid '1001' but no matching script tag was found. \")\n    return false;\n  }\n\n  function inject_raw_css(css) {\n    const element = document.createElement(\"style\");\n    element.appendChild(document.createTextNode(css));\n    document.body.appendChild(element);\n  }\n\n  var js_urls = [\"https://cdn.pydata.org/bokeh/release/bokeh-1.3.4.min.js\", \"https://cdn.pydata.org/bokeh/release/bokeh-widgets-1.3.4.min.js\", \"https://cdn.pydata.org/bokeh/release/bokeh-tables-1.3.4.min.js\", \"https://cdn.pydata.org/bokeh/release/bokeh-gl-1.3.4.min.js\"];\n  var css_urls = [];\n\n  var inline_js = [\n    function(Bokeh) {\n      Bokeh.set_log_level(\"info\");\n    },\n    \n    function(Bokeh) {\n      \n    },\n    function(Bokeh) {} // ensure no trailing comma for IE\n  ];\n\n  function run_inline_js() {\n    \n    if ((root.Bokeh !== undefined) || (force === true)) {\n      for (var i = 0; i < inline_js.length; i++) {\n        inline_js[i].call(root, root.Bokeh);\n      }if (force === true) {\n        display_loaded();\n      }} else if (Date.now() < root._bokeh_timeout) {\n      setTimeout(run_inline_js, 100);\n    } else if (!root._bokeh_failed_load) {\n      console.log(\"Bokeh: BokehJS failed to load within specified timeout.\");\n      root._bokeh_failed_load = true;\n    } else if (force !== true) {\n      var cell = $(document.getElementById(\"1001\")).parents('.cell').data().cell;\n      cell.output_area.append_execute_result(NB_LOAD_WARNING)\n    }\n\n  }\n\n  if (root._bokeh_is_loading === 0) {\n    console.debug(\"Bokeh: BokehJS loaded, going straight to plotting\");\n    run_inline_js();\n  } else {\n    load_libs(css_urls, js_urls, function() {\n      console.debug(\"Bokeh: BokehJS plotting callback run at\", now());\n      run_inline_js();\n    });\n  }\n}(window));"
     },
     "metadata": {},
     "output_type": "display_data"
    }
   ],
   "source": [
    "from bokeh.io import output_notebook, show\n",
    "from bokeh.plotting import figure\n",
    "output_notebook()"
   ]
  },
  {
   "cell_type": "markdown",
   "metadata": {},
   "source": [
    "Now that we know from the previous chapter how multiple plots can be placed together in a layout, we can start to look at how different plots can be linked togeher, or how plots can be linked to widgets. "
   ]
  },
  {
   "cell_type": "markdown",
   "metadata": {},
   "source": [
    "# Linked Interactions\n",
    "\n",
    "It is possible to link various interactions between different Bokeh plots. For instance, the ranges of two (or more) plots can be linked, so that when one of the plots is panned (or zoomed, or otherwise has its range changed) the other plots will update in unison. It is also possible to link selections between two plots, so that when items are selected on one plot, the corresponding items on the second plot also become selected. "
   ]
  },
  {
   "cell_type": "markdown",
   "metadata": {},
   "source": [
    "## Linked panning\n",
    "\n",
    "Linked panning (when multiple plots have ranges that stay in sync) is simple to spell with Bokeh. You simply share the appropriate range objects between two (or more) plots. The example below shows how to accomplish this by linking the ranges of three plots in various ways:"
   ]
  },
  {
   "cell_type": "code",
   "execution_count": 2,
   "metadata": {},
   "outputs": [
    {
     "data": {
      "text/html": [
       "\n",
       "\n",
       "\n",
       "\n",
       "\n",
       "\n",
       "  <div class=\"bk-root\" id=\"333add20-3f4e-407b-bb44-661e7a651726\" data-root-id=\"1116\"></div>\n"
      ]
     },
     "metadata": {},
     "output_type": "display_data"
    },
    {
     "data": {
      "application/javascript": [
       "(function(root) {\n",
       "  function embed_document(root) {\n",
       "    \n",
       "  var docs_json = {\"d401eedb-bd23-415e-9479-b9c754feb050\":{\"roots\":{\"references\":[{\"attributes\":{\"children\":[{\"id\":\"1115\",\"type\":\"ToolbarBox\"},{\"id\":\"1113\",\"type\":\"GridBox\"}]},\"id\":\"1116\",\"type\":\"Column\"},{\"attributes\":{},\"id\":\"1088\",\"type\":\"BasicTickFormatter\"},{\"attributes\":{\"dimension\":1,\"ticker\":{\"id\":\"1072\",\"type\":\"BasicTicker\"}},\"id\":\"1075\",\"type\":\"Grid\"},{\"attributes\":{\"formatter\":{\"id\":\"1090\",\"type\":\"BasicTickFormatter\"},\"ticker\":{\"id\":\"1012\",\"type\":\"BasicTicker\"}},\"id\":\"1011\",\"type\":\"LinearAxis\"},{\"attributes\":{\"formatter\":{\"id\":\"1099\",\"type\":\"BasicTickFormatter\"},\"ticker\":{\"id\":\"1039\",\"type\":\"BasicTicker\"}},\"id\":\"1038\",\"type\":\"LinearAxis\"},{\"attributes\":{\"active_drag\":\"auto\",\"active_inspect\":\"auto\",\"active_multi\":null,\"active_scroll\":\"auto\",\"active_tap\":\"auto\",\"tools\":[{\"id\":\"1021\",\"type\":\"PanTool\"},{\"id\":\"1022\",\"type\":\"WheelZoomTool\"}]},\"id\":\"1023\",\"type\":\"Toolbar\"},{\"attributes\":{},\"id\":\"1034\",\"type\":\"LinearScale\"},{\"attributes\":{},\"id\":\"1017\",\"type\":\"BasicTicker\"},{\"attributes\":{},\"id\":\"1036\",\"type\":\"LinearScale\"},{\"attributes\":{\"formatter\":{\"id\":\"1108\",\"type\":\"BasicTickFormatter\"},\"ticker\":{\"id\":\"1067\",\"type\":\"BasicTicker\"}},\"id\":\"1066\",\"type\":\"LinearAxis\"},{\"attributes\":{},\"id\":\"1090\",\"type\":\"BasicTickFormatter\"},{\"attributes\":{\"fill_color\":{\"value\":\"olive\"},\"line_color\":{\"value\":\"olive\"},\"size\":{\"units\":\"screen\",\"value\":10},\"x\":{\"field\":\"x\"},\"y\":{\"field\":\"y\"}},\"id\":\"1082\",\"type\":\"Square\"},{\"attributes\":{\"callback\":null},\"id\":\"1060\",\"type\":\"DataRange1d\"},{\"attributes\":{},\"id\":\"1093\",\"type\":\"UnionRenderers\"},{\"attributes\":{\"data_source\":{\"id\":\"1053\",\"type\":\"ColumnDataSource\"},\"glyph\":{\"id\":\"1054\",\"type\":\"Triangle\"},\"hover_glyph\":null,\"muted_glyph\":null,\"nonselection_glyph\":{\"id\":\"1055\",\"type\":\"Triangle\"},\"selection_glyph\":null,\"view\":{\"id\":\"1057\",\"type\":\"CDSView\"}},\"id\":\"1056\",\"type\":\"GlyphRenderer\"},{\"attributes\":{\"active_drag\":\"auto\",\"active_inspect\":\"auto\",\"active_multi\":null,\"active_scroll\":\"auto\",\"active_tap\":\"auto\",\"tools\":[{\"id\":\"1076\",\"type\":\"PanTool\"},{\"id\":\"1077\",\"type\":\"WheelZoomTool\"}]},\"id\":\"1078\",\"type\":\"Toolbar\"},{\"attributes\":{},\"id\":\"1076\",\"type\":\"PanTool\"},{\"attributes\":{},\"id\":\"1092\",\"type\":\"Selection\"},{\"attributes\":{\"ticker\":{\"id\":\"1039\",\"type\":\"BasicTicker\"}},\"id\":\"1042\",\"type\":\"Grid\"},{\"attributes\":{\"below\":[{\"id\":\"1038\",\"type\":\"LinearAxis\"}],\"center\":[{\"id\":\"1042\",\"type\":\"Grid\"},{\"id\":\"1047\",\"type\":\"Grid\"}],\"left\":[{\"id\":\"1043\",\"type\":\"LinearAxis\"}],\"plot_height\":250,\"plot_width\":250,\"renderers\":[{\"id\":\"1056\",\"type\":\"GlyphRenderer\"}],\"title\":{\"id\":\"1096\",\"type\":\"Title\"},\"toolbar\":{\"id\":\"1050\",\"type\":\"Toolbar\"},\"toolbar_location\":null,\"x_range\":{\"id\":\"1003\",\"type\":\"DataRange1d\"},\"x_scale\":{\"id\":\"1034\",\"type\":\"LinearScale\"},\"y_range\":{\"id\":\"1005\",\"type\":\"DataRange1d\"},\"y_scale\":{\"id\":\"1036\",\"type\":\"LinearScale\"}},\"id\":\"1031\",\"subtype\":\"Figure\",\"type\":\"Plot\"},{\"attributes\":{},\"id\":\"1097\",\"type\":\"BasicTickFormatter\"},{\"attributes\":{\"dimension\":1,\"ticker\":{\"id\":\"1017\",\"type\":\"BasicTicker\"}},\"id\":\"1020\",\"type\":\"Grid\"},{\"attributes\":{},\"id\":\"1039\",\"type\":\"BasicTicker\"},{\"attributes\":{\"callback\":null,\"data\":{\"x\":[0,1,2,3,4,5,6,7,8,9,10],\"y\":[5,4,3,2,1,0,1,2,3,4,5]},\"selected\":{\"id\":\"1110\",\"type\":\"Selection\"},\"selection_policy\":{\"id\":\"1111\",\"type\":\"UnionRenderers\"}},\"id\":\"1081\",\"type\":\"ColumnDataSource\"},{\"attributes\":{},\"id\":\"1021\",\"type\":\"PanTool\"},{\"attributes\":{\"ticker\":{\"id\":\"1012\",\"type\":\"BasicTicker\"}},\"id\":\"1015\",\"type\":\"Grid\"},{\"attributes\":{\"formatter\":{\"id\":\"1097\",\"type\":\"BasicTickFormatter\"},\"ticker\":{\"id\":\"1044\",\"type\":\"BasicTicker\"}},\"id\":\"1043\",\"type\":\"LinearAxis\"},{\"attributes\":{\"source\":{\"id\":\"1053\",\"type\":\"ColumnDataSource\"}},\"id\":\"1057\",\"type\":\"CDSView\"},{\"attributes\":{},\"id\":\"1077\",\"type\":\"WheelZoomTool\"},{\"attributes\":{\"callback\":null,\"data\":{\"x\":[0,1,2,3,4,5,6,7,8,9,10],\"y\":[0,1,2,3,4,5,6,7,8,9,10]},\"selected\":{\"id\":\"1092\",\"type\":\"Selection\"},\"selection_policy\":{\"id\":\"1093\",\"type\":\"UnionRenderers\"}},\"id\":\"1026\",\"type\":\"ColumnDataSource\"},{\"attributes\":{\"source\":{\"id\":\"1026\",\"type\":\"ColumnDataSource\"}},\"id\":\"1030\",\"type\":\"CDSView\"},{\"attributes\":{},\"id\":\"1072\",\"type\":\"BasicTicker\"},{\"attributes\":{\"dimension\":1,\"ticker\":{\"id\":\"1044\",\"type\":\"BasicTicker\"}},\"id\":\"1047\",\"type\":\"Grid\"},{\"attributes\":{\"text\":\"\"},\"id\":\"1096\",\"type\":\"Title\"},{\"attributes\":{},\"id\":\"1099\",\"type\":\"BasicTickFormatter\"},{\"attributes\":{\"children\":[[{\"id\":\"1002\",\"subtype\":\"Figure\",\"type\":\"Plot\"},0,0],[{\"id\":\"1031\",\"subtype\":\"Figure\",\"type\":\"Plot\"},0,1],[{\"id\":\"1058\",\"subtype\":\"Figure\",\"type\":\"Plot\"},0,2]]},\"id\":\"1113\",\"type\":\"GridBox\"},{\"attributes\":{\"text\":\"\"},\"id\":\"1087\",\"type\":\"Title\"},{\"attributes\":{},\"id\":\"1102\",\"type\":\"UnionRenderers\"},{\"attributes\":{},\"id\":\"1022\",\"type\":\"WheelZoomTool\"},{\"attributes\":{\"fill_alpha\":{\"value\":0.1},\"fill_color\":{\"value\":\"#1f77b4\"},\"line_alpha\":{\"value\":0.1},\"line_color\":{\"value\":\"#1f77b4\"},\"size\":{\"units\":\"screen\",\"value\":10},\"x\":{\"field\":\"x\"},\"y\":{\"field\":\"y\"}},\"id\":\"1028\",\"type\":\"Circle\"},{\"attributes\":{\"fill_alpha\":{\"value\":0.1},\"fill_color\":{\"value\":\"#1f77b4\"},\"line_alpha\":{\"value\":0.1},\"line_color\":{\"value\":\"#1f77b4\"},\"size\":{\"units\":\"screen\",\"value\":10},\"x\":{\"field\":\"x\"},\"y\":{\"field\":\"y\"}},\"id\":\"1083\",\"type\":\"Square\"},{\"attributes\":{},\"id\":\"1044\",\"type\":\"BasicTicker\"},{\"attributes\":{},\"id\":\"1101\",\"type\":\"Selection\"},{\"attributes\":{\"fill_alpha\":{\"value\":0.1},\"fill_color\":{\"value\":\"#1f77b4\"},\"line_alpha\":{\"value\":0.1},\"line_color\":{\"value\":\"#1f77b4\"},\"size\":{\"units\":\"screen\",\"value\":10},\"x\":{\"field\":\"x\"},\"y\":{\"field\":\"y\"}},\"id\":\"1055\",\"type\":\"Triangle\"},{\"attributes\":{},\"id\":\"1007\",\"type\":\"LinearScale\"},{\"attributes\":{},\"id\":\"1106\",\"type\":\"BasicTickFormatter\"},{\"attributes\":{\"toolbar\":{\"id\":\"1114\",\"type\":\"ProxyToolbar\"},\"toolbar_location\":\"above\"},\"id\":\"1115\",\"type\":\"ToolbarBox\"},{\"attributes\":{},\"id\":\"1062\",\"type\":\"LinearScale\"},{\"attributes\":{\"text\":\"\"},\"id\":\"1105\",\"type\":\"Title\"},{\"attributes\":{\"fill_color\":{\"value\":\"firebrick\"},\"line_color\":{\"value\":\"firebrick\"},\"size\":{\"units\":\"screen\",\"value\":10},\"x\":{\"field\":\"x\"},\"y\":{\"field\":\"y\"}},\"id\":\"1054\",\"type\":\"Triangle\"},{\"attributes\":{\"formatter\":{\"id\":\"1088\",\"type\":\"BasicTickFormatter\"},\"ticker\":{\"id\":\"1017\",\"type\":\"BasicTicker\"}},\"id\":\"1016\",\"type\":\"LinearAxis\"},{\"attributes\":{},\"id\":\"1064\",\"type\":\"LinearScale\"},{\"attributes\":{},\"id\":\"1012\",\"type\":\"BasicTicker\"},{\"attributes\":{\"tools\":[{\"id\":\"1021\",\"type\":\"PanTool\"},{\"id\":\"1022\",\"type\":\"WheelZoomTool\"},{\"id\":\"1048\",\"type\":\"PanTool\"},{\"id\":\"1049\",\"type\":\"WheelZoomTool\"},{\"id\":\"1076\",\"type\":\"PanTool\"},{\"id\":\"1077\",\"type\":\"WheelZoomTool\"}]},\"id\":\"1114\",\"type\":\"ProxyToolbar\"},{\"attributes\":{\"below\":[{\"id\":\"1011\",\"type\":\"LinearAxis\"}],\"center\":[{\"id\":\"1015\",\"type\":\"Grid\"},{\"id\":\"1020\",\"type\":\"Grid\"}],\"left\":[{\"id\":\"1016\",\"type\":\"LinearAxis\"}],\"plot_height\":250,\"plot_width\":250,\"renderers\":[{\"id\":\"1029\",\"type\":\"GlyphRenderer\"}],\"title\":{\"id\":\"1087\",\"type\":\"Title\"},\"toolbar\":{\"id\":\"1023\",\"type\":\"Toolbar\"},\"toolbar_location\":null,\"x_range\":{\"id\":\"1003\",\"type\":\"DataRange1d\"},\"x_scale\":{\"id\":\"1007\",\"type\":\"LinearScale\"},\"y_range\":{\"id\":\"1005\",\"type\":\"DataRange1d\"},\"y_scale\":{\"id\":\"1009\",\"type\":\"LinearScale\"}},\"id\":\"1002\",\"subtype\":\"Figure\",\"type\":\"Plot\"},{\"attributes\":{\"active_drag\":\"auto\",\"active_inspect\":\"auto\",\"active_multi\":null,\"active_scroll\":\"auto\",\"active_tap\":\"auto\",\"tools\":[{\"id\":\"1048\",\"type\":\"PanTool\"},{\"id\":\"1049\",\"type\":\"WheelZoomTool\"}]},\"id\":\"1050\",\"type\":\"Toolbar\"},{\"attributes\":{\"data_source\":{\"id\":\"1081\",\"type\":\"ColumnDataSource\"},\"glyph\":{\"id\":\"1082\",\"type\":\"Square\"},\"hover_glyph\":null,\"muted_glyph\":null,\"nonselection_glyph\":{\"id\":\"1083\",\"type\":\"Square\"},\"selection_glyph\":null,\"view\":{\"id\":\"1085\",\"type\":\"CDSView\"}},\"id\":\"1084\",\"type\":\"GlyphRenderer\"},{\"attributes\":{},\"id\":\"1048\",\"type\":\"PanTool\"},{\"attributes\":{\"callback\":null},\"id\":\"1003\",\"type\":\"DataRange1d\"},{\"attributes\":{\"ticker\":{\"id\":\"1067\",\"type\":\"BasicTicker\"}},\"id\":\"1070\",\"type\":\"Grid\"},{\"attributes\":{},\"id\":\"1108\",\"type\":\"BasicTickFormatter\"},{\"attributes\":{\"below\":[{\"id\":\"1066\",\"type\":\"LinearAxis\"}],\"center\":[{\"id\":\"1070\",\"type\":\"Grid\"},{\"id\":\"1075\",\"type\":\"Grid\"}],\"left\":[{\"id\":\"1071\",\"type\":\"LinearAxis\"}],\"plot_height\":250,\"plot_width\":250,\"renderers\":[{\"id\":\"1084\",\"type\":\"GlyphRenderer\"}],\"title\":{\"id\":\"1105\",\"type\":\"Title\"},\"toolbar\":{\"id\":\"1078\",\"type\":\"Toolbar\"},\"toolbar_location\":null,\"x_range\":{\"id\":\"1003\",\"type\":\"DataRange1d\"},\"x_scale\":{\"id\":\"1062\",\"type\":\"LinearScale\"},\"y_range\":{\"id\":\"1060\",\"type\":\"DataRange1d\"},\"y_scale\":{\"id\":\"1064\",\"type\":\"LinearScale\"}},\"id\":\"1058\",\"subtype\":\"Figure\",\"type\":\"Plot\"},{\"attributes\":{},\"id\":\"1111\",\"type\":\"UnionRenderers\"},{\"attributes\":{},\"id\":\"1067\",\"type\":\"BasicTicker\"},{\"attributes\":{},\"id\":\"1009\",\"type\":\"LinearScale\"},{\"attributes\":{\"formatter\":{\"id\":\"1106\",\"type\":\"BasicTickFormatter\"},\"ticker\":{\"id\":\"1072\",\"type\":\"BasicTicker\"}},\"id\":\"1071\",\"type\":\"LinearAxis\"},{\"attributes\":{},\"id\":\"1110\",\"type\":\"Selection\"},{\"attributes\":{\"data_source\":{\"id\":\"1026\",\"type\":\"ColumnDataSource\"},\"glyph\":{\"id\":\"1027\",\"type\":\"Circle\"},\"hover_glyph\":null,\"muted_glyph\":null,\"nonselection_glyph\":{\"id\":\"1028\",\"type\":\"Circle\"},\"selection_glyph\":null,\"view\":{\"id\":\"1030\",\"type\":\"CDSView\"}},\"id\":\"1029\",\"type\":\"GlyphRenderer\"},{\"attributes\":{},\"id\":\"1049\",\"type\":\"WheelZoomTool\"},{\"attributes\":{\"callback\":null,\"data\":{\"x\":[0,1,2,3,4,5,6,7,8,9,10],\"y\":[10,9,8,7,6,5,4,3,2,1,0]},\"selected\":{\"id\":\"1101\",\"type\":\"Selection\"},\"selection_policy\":{\"id\":\"1102\",\"type\":\"UnionRenderers\"}},\"id\":\"1053\",\"type\":\"ColumnDataSource\"},{\"attributes\":{\"source\":{\"id\":\"1081\",\"type\":\"ColumnDataSource\"}},\"id\":\"1085\",\"type\":\"CDSView\"},{\"attributes\":{\"callback\":null},\"id\":\"1005\",\"type\":\"DataRange1d\"},{\"attributes\":{\"fill_color\":{\"value\":\"navy\"},\"line_color\":{\"value\":\"navy\"},\"size\":{\"units\":\"screen\",\"value\":10},\"x\":{\"field\":\"x\"},\"y\":{\"field\":\"y\"}},\"id\":\"1027\",\"type\":\"Circle\"}],\"root_ids\":[\"1116\"]},\"title\":\"Bokeh Application\",\"version\":\"1.3.4\"}};\n",
       "  var render_items = [{\"docid\":\"d401eedb-bd23-415e-9479-b9c754feb050\",\"roots\":{\"1116\":\"333add20-3f4e-407b-bb44-661e7a651726\"}}];\n",
       "  root.Bokeh.embed.embed_items_notebook(docs_json, render_items);\n",
       "\n",
       "  }\n",
       "  if (root.Bokeh !== undefined) {\n",
       "    embed_document(root);\n",
       "  } else {\n",
       "    var attempts = 0;\n",
       "    var timer = setInterval(function(root) {\n",
       "      if (root.Bokeh !== undefined) {\n",
       "        embed_document(root);\n",
       "        clearInterval(timer);\n",
       "      }\n",
       "      attempts++;\n",
       "      if (attempts > 100) {\n",
       "        console.log(\"Bokeh: ERROR: Unable to run BokehJS code because BokehJS library is missing\");\n",
       "        clearInterval(timer);\n",
       "      }\n",
       "    }, 10, root)\n",
       "  }\n",
       "})(window);"
      ],
      "application/vnd.bokehjs_exec.v0+json": ""
     },
     "metadata": {
      "application/vnd.bokehjs_exec.v0+json": {
       "id": "1116"
      }
     },
     "output_type": "display_data"
    }
   ],
   "source": [
    "from bokeh.layouts import gridplot\n",
    "\n",
    "x = list(range(11))\n",
    "y0, y1, y2 = x, [10-i for i in x], [abs(i-5) for i in x]\n",
    "\n",
    "plot_options = dict(width=250, plot_height=250, tools='pan,wheel_zoom')\n",
    "\n",
    "# create a new plot\n",
    "s1 = figure(**plot_options)\n",
    "s1.circle(x, y0, size=10, color=\"navy\")\n",
    "\n",
    "# create a new plot and share both ranges\n",
    "s2 = figure(x_range=s1.x_range, y_range=s1.y_range, **plot_options)\n",
    "s2.triangle(x, y1, size=10, color=\"firebrick\")\n",
    "\n",
    "# create a new plot and share only one range\n",
    "s3 = figure(x_range=s1.x_range, **plot_options)\n",
    "s3.square(x, y2, size=10, color=\"olive\")\n",
    "\n",
    "p = gridplot([[s1, s2, s3]])\n",
    "\n",
    "# show the results\n",
    "show(p)"
   ]
  },
  {
   "cell_type": "code",
   "execution_count": 3,
   "metadata": {},
   "outputs": [],
   "source": [
    "# EXERCISE: create two plots in a gridplot, and link their ranges\n"
   ]
  },
  {
   "cell_type": "markdown",
   "metadata": {},
   "source": [
    "## Linked brushing\n",
    "\n",
    "Linking selections is accomplished in a similar way, by sharing data sources between plots. Note that normally with ``bokeh.plotting`` and ``bokeh.charts`` creating a default data source for simple plots is handled automatically. However to share a data source, we must create them by hand and pass them explicitly. This is illustrated in the example below:"
   ]
  },
  {
   "cell_type": "code",
   "execution_count": 4,
   "metadata": {},
   "outputs": [
    {
     "data": {
      "text/html": [
       "\n",
       "\n",
       "\n",
       "\n",
       "\n",
       "\n",
       "  <div class=\"bk-root\" id=\"cf2fdc06-0941-4c37-9c6c-8e128a976ba6\" data-root-id=\"1373\"></div>\n"
      ]
     },
     "metadata": {},
     "output_type": "display_data"
    },
    {
     "data": {
      "application/javascript": [
       "(function(root) {\n",
       "  function embed_document(root) {\n",
       "    \n",
       "  var docs_json = {\"bb7e9c73-a68a-49f8-ae07-c4826c0a69b2\":{\"roots\":{\"references\":[{\"attributes\":{\"children\":[{\"id\":\"1372\",\"type\":\"ToolbarBox\"},{\"id\":\"1370\",\"type\":\"GridBox\"}]},\"id\":\"1373\",\"type\":\"Column\"},{\"attributes\":{\"formatter\":{\"id\":\"1361\",\"type\":\"BasicTickFormatter\"},\"ticker\":{\"id\":\"1332\",\"type\":\"BasicTicker\"}},\"id\":\"1331\",\"type\":\"LinearAxis\"},{\"attributes\":{\"active_drag\":\"auto\",\"active_inspect\":\"auto\",\"active_multi\":null,\"active_scroll\":\"auto\",\"active_tap\":\"auto\",\"tools\":[{\"id\":\"1305\",\"type\":\"BoxSelectTool\"},{\"id\":\"1306\",\"type\":\"LassoSelectTool\"},{\"id\":\"1307\",\"type\":\"HelpTool\"}]},\"id\":\"1308\",\"type\":\"Toolbar\"},{\"attributes\":{\"fill_alpha\":{\"value\":0.1},\"fill_color\":{\"value\":\"#1f77b4\"},\"line_alpha\":{\"value\":0.1},\"line_color\":{\"value\":\"#1f77b4\"},\"x\":{\"field\":\"x\"},\"y\":{\"field\":\"y0\"}},\"id\":\"1314\",\"type\":\"Circle\"},{\"attributes\":{\"callback\":null},\"id\":\"1289\",\"type\":\"DataRange1d\"},{\"attributes\":{\"dimension\":1,\"ticker\":{\"id\":\"1332\",\"type\":\"BasicTicker\"}},\"id\":\"1335\",\"type\":\"Grid\"},{\"attributes\":{\"source\":{\"id\":\"1285\",\"type\":\"ColumnDataSource\"}},\"id\":\"1347\",\"type\":\"CDSView\"},{\"attributes\":{},\"id\":\"1291\",\"type\":\"LinearScale\"},{\"attributes\":{\"bottom_units\":\"screen\",\"fill_alpha\":{\"value\":0.5},\"fill_color\":{\"value\":\"lightgrey\"},\"left_units\":\"screen\",\"level\":\"overlay\",\"line_alpha\":{\"value\":1.0},\"line_color\":{\"value\":\"black\"},\"line_dash\":[4,4],\"line_width\":{\"value\":2},\"render_mode\":\"css\",\"right_units\":\"screen\",\"top_units\":\"screen\"},\"id\":\"1365\",\"type\":\"BoxAnnotation\"},{\"attributes\":{},\"id\":\"1332\",\"type\":\"BasicTicker\"},{\"attributes\":{\"text\":\"\"},\"id\":\"1349\",\"type\":\"Title\"},{\"attributes\":{},\"id\":\"1327\",\"type\":\"BasicTicker\"},{\"attributes\":{},\"id\":\"1293\",\"type\":\"LinearScale\"},{\"attributes\":{},\"id\":\"1357\",\"type\":\"UnionRenderers\"},{\"attributes\":{},\"id\":\"1352\",\"type\":\"BasicTickFormatter\"},{\"attributes\":{\"ticker\":{\"id\":\"1296\",\"type\":\"BasicTicker\"}},\"id\":\"1299\",\"type\":\"Grid\"},{\"attributes\":{\"fill_alpha\":{\"value\":0.1},\"fill_color\":{\"value\":\"#1f77b4\"},\"line_alpha\":{\"value\":0.1},\"line_color\":{\"value\":\"#1f77b4\"},\"x\":{\"field\":\"x\"},\"y\":{\"field\":\"y1\"}},\"id\":\"1345\",\"type\":\"Circle\"},{\"attributes\":{\"callback\":null},\"id\":\"1318\",\"type\":\"DataRange1d\"},{\"attributes\":{\"children\":[[{\"id\":\"1286\",\"subtype\":\"Figure\",\"type\":\"Plot\"},0,0],[{\"id\":\"1317\",\"subtype\":\"Figure\",\"type\":\"Plot\"},0,1]]},\"id\":\"1370\",\"type\":\"GridBox\"},{\"attributes\":{\"data_source\":{\"id\":\"1285\",\"type\":\"ColumnDataSource\"},\"glyph\":{\"id\":\"1313\",\"type\":\"Circle\"},\"hover_glyph\":null,\"muted_glyph\":null,\"nonselection_glyph\":{\"id\":\"1314\",\"type\":\"Circle\"},\"selection_glyph\":null,\"view\":{\"id\":\"1316\",\"type\":\"CDSView\"}},\"id\":\"1315\",\"type\":\"GlyphRenderer\"},{\"attributes\":{\"fill_alpha\":{\"value\":0.5},\"fill_color\":{\"value\":\"lightgrey\"},\"level\":\"overlay\",\"line_alpha\":{\"value\":1.0},\"line_color\":{\"value\":\"black\"},\"line_dash\":[4,4],\"line_width\":{\"value\":2},\"xs_units\":\"screen\",\"ys_units\":\"screen\"},\"id\":\"1355\",\"type\":\"PolyAnnotation\"},{\"attributes\":{},\"id\":\"1296\",\"type\":\"BasicTicker\"},{\"attributes\":{\"formatter\":{\"id\":\"1350\",\"type\":\"BasicTickFormatter\"},\"ticker\":{\"id\":\"1301\",\"type\":\"BasicTicker\"}},\"id\":\"1300\",\"type\":\"LinearAxis\"},{\"attributes\":{\"active_drag\":\"auto\",\"active_inspect\":\"auto\",\"active_multi\":null,\"active_scroll\":\"auto\",\"active_tap\":\"auto\",\"tools\":[{\"id\":\"1336\",\"type\":\"BoxSelectTool\"},{\"id\":\"1337\",\"type\":\"LassoSelectTool\"},{\"id\":\"1338\",\"type\":\"HelpTool\"}]},\"id\":\"1339\",\"type\":\"Toolbar\"},{\"attributes\":{\"callback\":null,\"overlay\":{\"id\":\"1365\",\"type\":\"BoxAnnotation\"}},\"id\":\"1336\",\"type\":\"BoxSelectTool\"},{\"attributes\":{\"dimension\":1,\"ticker\":{\"id\":\"1301\",\"type\":\"BasicTicker\"}},\"id\":\"1304\",\"type\":\"Grid\"},{\"attributes\":{},\"id\":\"1350\",\"type\":\"BasicTickFormatter\"},{\"attributes\":{\"source\":{\"id\":\"1285\",\"type\":\"ColumnDataSource\"}},\"id\":\"1316\",\"type\":\"CDSView\"},{\"attributes\":{\"callback\":null,\"overlay\":{\"id\":\"1366\",\"type\":\"PolyAnnotation\"}},\"id\":\"1337\",\"type\":\"LassoSelectTool\"},{\"attributes\":{},\"id\":\"1301\",\"type\":\"BasicTicker\"},{\"attributes\":{\"fill_color\":{\"value\":\"#1f77b4\"},\"line_color\":{\"value\":\"#1f77b4\"},\"x\":{\"field\":\"x\"},\"y\":{\"field\":\"y1\"}},\"id\":\"1344\",\"type\":\"Circle\"},{\"attributes\":{},\"id\":\"1338\",\"type\":\"HelpTool\"},{\"attributes\":{\"formatter\":{\"id\":\"1363\",\"type\":\"BasicTickFormatter\"},\"ticker\":{\"id\":\"1327\",\"type\":\"BasicTicker\"}},\"id\":\"1326\",\"type\":\"LinearAxis\"},{\"attributes\":{\"bottom_units\":\"screen\",\"fill_alpha\":{\"value\":0.5},\"fill_color\":{\"value\":\"lightgrey\"},\"left_units\":\"screen\",\"level\":\"overlay\",\"line_alpha\":{\"value\":1.0},\"line_color\":{\"value\":\"black\"},\"line_dash\":[4,4],\"line_width\":{\"value\":2},\"render_mode\":\"css\",\"right_units\":\"screen\",\"top_units\":\"screen\"},\"id\":\"1354\",\"type\":\"BoxAnnotation\"},{\"attributes\":{\"below\":[{\"id\":\"1295\",\"type\":\"LinearAxis\"}],\"center\":[{\"id\":\"1299\",\"type\":\"Grid\"},{\"id\":\"1304\",\"type\":\"Grid\"}],\"left\":[{\"id\":\"1300\",\"type\":\"LinearAxis\"}],\"plot_height\":300,\"plot_width\":300,\"renderers\":[{\"id\":\"1315\",\"type\":\"GlyphRenderer\"}],\"title\":{\"id\":\"1349\",\"type\":\"Title\"},\"toolbar\":{\"id\":\"1308\",\"type\":\"Toolbar\"},\"toolbar_location\":null,\"x_range\":{\"id\":\"1287\",\"type\":\"DataRange1d\"},\"x_scale\":{\"id\":\"1291\",\"type\":\"LinearScale\"},\"y_range\":{\"id\":\"1289\",\"type\":\"DataRange1d\"},\"y_scale\":{\"id\":\"1293\",\"type\":\"LinearScale\"}},\"id\":\"1286\",\"subtype\":\"Figure\",\"type\":\"Plot\"},{\"attributes\":{\"callback\":null},\"id\":\"1320\",\"type\":\"DataRange1d\"},{\"attributes\":{\"below\":[{\"id\":\"1326\",\"type\":\"LinearAxis\"}],\"center\":[{\"id\":\"1330\",\"type\":\"Grid\"},{\"id\":\"1335\",\"type\":\"Grid\"}],\"left\":[{\"id\":\"1331\",\"type\":\"LinearAxis\"}],\"plot_height\":300,\"plot_width\":300,\"renderers\":[{\"id\":\"1346\",\"type\":\"GlyphRenderer\"}],\"title\":{\"id\":\"1360\",\"type\":\"Title\"},\"toolbar\":{\"id\":\"1339\",\"type\":\"Toolbar\"},\"toolbar_location\":null,\"x_range\":{\"id\":\"1318\",\"type\":\"DataRange1d\"},\"x_scale\":{\"id\":\"1322\",\"type\":\"LinearScale\"},\"y_range\":{\"id\":\"1320\",\"type\":\"DataRange1d\"},\"y_scale\":{\"id\":\"1324\",\"type\":\"LinearScale\"}},\"id\":\"1317\",\"subtype\":\"Figure\",\"type\":\"Plot\"},{\"attributes\":{\"callback\":null,\"data\":{\"x\":[-20,-19,-18,-17,-16,-15,-14,-13,-12,-11,-10,-9,-8,-7,-6,-5,-4,-3,-2,-1,0,1,2,3,4,5,6,7,8,9,10,11,12,13,14,15,16,17,18,19,20],\"y0\":[20,19,18,17,16,15,14,13,12,11,10,9,8,7,6,5,4,3,2,1,0,1,2,3,4,5,6,7,8,9,10,11,12,13,14,15,16,17,18,19,20],\"y1\":[400,361,324,289,256,225,196,169,144,121,100,81,64,49,36,25,16,9,4,1,0,1,4,9,16,25,36,49,64,81,100,121,144,169,196,225,256,289,324,361,400]},\"selected\":{\"id\":\"1356\",\"type\":\"Selection\"},\"selection_policy\":{\"id\":\"1357\",\"type\":\"UnionRenderers\"}},\"id\":\"1285\",\"type\":\"ColumnDataSource\"},{\"attributes\":{},\"id\":\"1361\",\"type\":\"BasicTickFormatter\"},{\"attributes\":{\"tools\":[{\"id\":\"1305\",\"type\":\"BoxSelectTool\"},{\"id\":\"1306\",\"type\":\"LassoSelectTool\"},{\"id\":\"1307\",\"type\":\"HelpTool\"},{\"id\":\"1336\",\"type\":\"BoxSelectTool\"},{\"id\":\"1337\",\"type\":\"LassoSelectTool\"},{\"id\":\"1338\",\"type\":\"HelpTool\"}]},\"id\":\"1371\",\"type\":\"ProxyToolbar\"},{\"attributes\":{\"callback\":null},\"id\":\"1287\",\"type\":\"DataRange1d\"},{\"attributes\":{\"callback\":null,\"overlay\":{\"id\":\"1354\",\"type\":\"BoxAnnotation\"}},\"id\":\"1305\",\"type\":\"BoxSelectTool\"},{\"attributes\":{},\"id\":\"1322\",\"type\":\"LinearScale\"},{\"attributes\":{\"toolbar\":{\"id\":\"1371\",\"type\":\"ProxyToolbar\"},\"toolbar_location\":\"above\"},\"id\":\"1372\",\"type\":\"ToolbarBox\"},{\"attributes\":{\"data_source\":{\"id\":\"1285\",\"type\":\"ColumnDataSource\"},\"glyph\":{\"id\":\"1344\",\"type\":\"Circle\"},\"hover_glyph\":null,\"muted_glyph\":null,\"nonselection_glyph\":{\"id\":\"1345\",\"type\":\"Circle\"},\"selection_glyph\":null,\"view\":{\"id\":\"1347\",\"type\":\"CDSView\"}},\"id\":\"1346\",\"type\":\"GlyphRenderer\"},{\"attributes\":{},\"id\":\"1324\",\"type\":\"LinearScale\"},{\"attributes\":{\"fill_color\":{\"value\":\"#1f77b4\"},\"line_color\":{\"value\":\"#1f77b4\"},\"x\":{\"field\":\"x\"},\"y\":{\"field\":\"y0\"}},\"id\":\"1313\",\"type\":\"Circle\"},{\"attributes\":{},\"id\":\"1356\",\"type\":\"Selection\"},{\"attributes\":{\"text\":\"\"},\"id\":\"1360\",\"type\":\"Title\"},{\"attributes\":{\"fill_alpha\":{\"value\":0.5},\"fill_color\":{\"value\":\"lightgrey\"},\"level\":\"overlay\",\"line_alpha\":{\"value\":1.0},\"line_color\":{\"value\":\"black\"},\"line_dash\":[4,4],\"line_width\":{\"value\":2},\"xs_units\":\"screen\",\"ys_units\":\"screen\"},\"id\":\"1366\",\"type\":\"PolyAnnotation\"},{\"attributes\":{},\"id\":\"1363\",\"type\":\"BasicTickFormatter\"},{\"attributes\":{\"callback\":null,\"overlay\":{\"id\":\"1355\",\"type\":\"PolyAnnotation\"}},\"id\":\"1306\",\"type\":\"LassoSelectTool\"},{\"attributes\":{\"ticker\":{\"id\":\"1327\",\"type\":\"BasicTicker\"}},\"id\":\"1330\",\"type\":\"Grid\"},{\"attributes\":{},\"id\":\"1307\",\"type\":\"HelpTool\"},{\"attributes\":{\"formatter\":{\"id\":\"1352\",\"type\":\"BasicTickFormatter\"},\"ticker\":{\"id\":\"1296\",\"type\":\"BasicTicker\"}},\"id\":\"1295\",\"type\":\"LinearAxis\"}],\"root_ids\":[\"1373\"]},\"title\":\"Bokeh Application\",\"version\":\"1.3.4\"}};\n",
       "  var render_items = [{\"docid\":\"bb7e9c73-a68a-49f8-ae07-c4826c0a69b2\",\"roots\":{\"1373\":\"cf2fdc06-0941-4c37-9c6c-8e128a976ba6\"}}];\n",
       "  root.Bokeh.embed.embed_items_notebook(docs_json, render_items);\n",
       "\n",
       "  }\n",
       "  if (root.Bokeh !== undefined) {\n",
       "    embed_document(root);\n",
       "  } else {\n",
       "    var attempts = 0;\n",
       "    var timer = setInterval(function(root) {\n",
       "      if (root.Bokeh !== undefined) {\n",
       "        embed_document(root);\n",
       "        clearInterval(timer);\n",
       "      }\n",
       "      attempts++;\n",
       "      if (attempts > 100) {\n",
       "        console.log(\"Bokeh: ERROR: Unable to run BokehJS code because BokehJS library is missing\");\n",
       "        clearInterval(timer);\n",
       "      }\n",
       "    }, 10, root)\n",
       "  }\n",
       "})(window);"
      ],
      "application/vnd.bokehjs_exec.v0+json": ""
     },
     "metadata": {
      "application/vnd.bokehjs_exec.v0+json": {
       "id": "1373"
      }
     },
     "output_type": "display_data"
    }
   ],
   "source": [
    "from bokeh.models import ColumnDataSource\n",
    "\n",
    "x = list(range(-20, 21))\n",
    "y0, y1 = [abs(xx) for xx in x], [xx**2 for xx in x]\n",
    "\n",
    "# create a column data source for the plots to share\n",
    "source = ColumnDataSource(data=dict(x=x, y0=y0, y1=y1))\n",
    "\n",
    "TOOLS = \"box_select,lasso_select,help\"\n",
    "\n",
    "# create a new plot and add a renderer\n",
    "left = figure(tools=TOOLS, width=300, height=300)\n",
    "left.circle('x', 'y0', source=source)\n",
    "\n",
    "# create another new plot and add a renderer\n",
    "right = figure(tools=TOOLS, width=300, height=300)\n",
    "right.circle('x', 'y1', source=source)\n",
    "\n",
    "p = gridplot([[left, right]])\n",
    "\n",
    "show(p)"
   ]
  },
  {
   "cell_type": "code",
   "execution_count": 5,
   "metadata": {},
   "outputs": [],
   "source": [
    "# EXERCISE: create two plots in a gridplot, and link their data sources\n",
    "\n"
   ]
  },
  {
   "cell_type": "markdown",
   "metadata": {},
   "source": [
    "# Hover Tools\n",
    "\n",
    "Bokeh has a Hover Tool that allows additional information to be displayed in a popup whenever the user hovers over a specific glyph. Basic hover tool configuration amounts to providing a list of ``(name, format)`` tuples. The full details can be found in the User's Guide [here](http://bokeh.pydata.org/en/latest/docs/user_guide/tools.html#hovertool).\n",
    "\n",
    "The example below shows some basic usage of the Hover tool with a circle glyph, using hover information defined in utils.py:"
   ]
  },
  {
   "cell_type": "code",
   "execution_count": 5,
   "metadata": {},
   "outputs": [
    {
     "data": {
      "text/html": [
       "\n",
       "\n",
       "\n",
       "\n",
       "\n",
       "\n",
       "  <div class=\"bk-root\" id=\"77486c17-b91e-4f23-9a0b-270f3cfbabd1\" data-root-id=\"1528\"></div>\n"
      ]
     },
     "metadata": {},
     "output_type": "display_data"
    },
    {
     "data": {
      "application/javascript": [
       "(function(root) {\n",
       "  function embed_document(root) {\n",
       "    \n",
       "  var docs_json = {\"8ca6a750-a602-4169-9dfa-bd910898a409\":{\"roots\":{\"references\":[{\"attributes\":{\"below\":[{\"id\":\"1539\",\"type\":\"LinearAxis\"}],\"center\":[{\"id\":\"1543\",\"type\":\"Grid\"},{\"id\":\"1548\",\"type\":\"Grid\"}],\"left\":[{\"id\":\"1544\",\"type\":\"LinearAxis\"}],\"plot_height\":300,\"plot_width\":300,\"renderers\":[{\"id\":\"1554\",\"type\":\"GlyphRenderer\"}],\"title\":{\"id\":\"1529\",\"type\":\"Title\"},\"toolbar\":{\"id\":\"1549\",\"type\":\"Toolbar\"},\"x_range\":{\"id\":\"1531\",\"type\":\"DataRange1d\"},\"x_scale\":{\"id\":\"1535\",\"type\":\"LinearScale\"},\"y_range\":{\"id\":\"1533\",\"type\":\"DataRange1d\"},\"y_scale\":{\"id\":\"1537\",\"type\":\"LinearScale\"}},\"id\":\"1528\",\"subtype\":\"Figure\",\"type\":\"Plot\"},{\"attributes\":{\"source\":{\"id\":\"1526\",\"type\":\"ColumnDataSource\"}},\"id\":\"1555\",\"type\":\"CDSView\"},{\"attributes\":{\"formatter\":{\"id\":\"1601\",\"type\":\"BasicTickFormatter\"},\"ticker\":{\"id\":\"1540\",\"type\":\"BasicTicker\"}},\"id\":\"1539\",\"type\":\"LinearAxis\"},{\"attributes\":{},\"id\":\"1601\",\"type\":\"BasicTickFormatter\"},{\"attributes\":{\"callback\":null},\"id\":\"1533\",\"type\":\"DataRange1d\"},{\"attributes\":{\"text\":\"Mouse over the dots\"},\"id\":\"1529\",\"type\":\"Title\"},{\"attributes\":{\"callback\":null,\"data\":{\"desc\":[\"A\",\"b\",\"C\",\"d\",\"E\"],\"x\":[1,2,3,4,5],\"y\":[2,5,8,2,7]},\"selected\":{\"id\":\"1603\",\"type\":\"Selection\"},\"selection_policy\":{\"id\":\"1604\",\"type\":\"UnionRenderers\"}},\"id\":\"1526\",\"type\":\"ColumnDataSource\"},{\"attributes\":{},\"id\":\"1535\",\"type\":\"LinearScale\"},{\"attributes\":{},\"id\":\"1604\",\"type\":\"UnionRenderers\"},{\"attributes\":{\"callback\":null,\"tooltips\":[[\"index\",\"$index\"],[\"(x,y)\",\"($x, $y)\"],[\"desc\",\"@desc\"]]},\"id\":\"1527\",\"type\":\"HoverTool\"},{\"attributes\":{},\"id\":\"1599\",\"type\":\"BasicTickFormatter\"},{\"attributes\":{\"fill_alpha\":{\"value\":0.1},\"fill_color\":{\"value\":\"#1f77b4\"},\"line_alpha\":{\"value\":0.1},\"line_color\":{\"value\":\"#1f77b4\"},\"size\":{\"units\":\"screen\",\"value\":20},\"x\":{\"field\":\"x\"},\"y\":{\"field\":\"y\"}},\"id\":\"1553\",\"type\":\"Circle\"},{\"attributes\":{\"active_drag\":\"auto\",\"active_inspect\":\"auto\",\"active_multi\":null,\"active_scroll\":\"auto\",\"active_tap\":\"auto\",\"tools\":[{\"id\":\"1527\",\"type\":\"HoverTool\"}]},\"id\":\"1549\",\"type\":\"Toolbar\"},{\"attributes\":{\"formatter\":{\"id\":\"1599\",\"type\":\"BasicTickFormatter\"},\"ticker\":{\"id\":\"1545\",\"type\":\"BasicTicker\"}},\"id\":\"1544\",\"type\":\"LinearAxis\"},{\"attributes\":{},\"id\":\"1545\",\"type\":\"BasicTicker\"},{\"attributes\":{\"fill_color\":{\"value\":\"#1f77b4\"},\"line_color\":{\"value\":\"#1f77b4\"},\"size\":{\"units\":\"screen\",\"value\":20},\"x\":{\"field\":\"x\"},\"y\":{\"field\":\"y\"}},\"id\":\"1552\",\"type\":\"Circle\"},{\"attributes\":{},\"id\":\"1540\",\"type\":\"BasicTicker\"},{\"attributes\":{\"callback\":null},\"id\":\"1531\",\"type\":\"DataRange1d\"},{\"attributes\":{\"data_source\":{\"id\":\"1526\",\"type\":\"ColumnDataSource\"},\"glyph\":{\"id\":\"1552\",\"type\":\"Circle\"},\"hover_glyph\":null,\"muted_glyph\":null,\"nonselection_glyph\":{\"id\":\"1553\",\"type\":\"Circle\"},\"selection_glyph\":null,\"view\":{\"id\":\"1555\",\"type\":\"CDSView\"}},\"id\":\"1554\",\"type\":\"GlyphRenderer\"},{\"attributes\":{},\"id\":\"1537\",\"type\":\"LinearScale\"},{\"attributes\":{\"dimension\":1,\"ticker\":{\"id\":\"1545\",\"type\":\"BasicTicker\"}},\"id\":\"1548\",\"type\":\"Grid\"},{\"attributes\":{},\"id\":\"1603\",\"type\":\"Selection\"},{\"attributes\":{\"ticker\":{\"id\":\"1540\",\"type\":\"BasicTicker\"}},\"id\":\"1543\",\"type\":\"Grid\"}],\"root_ids\":[\"1528\"]},\"title\":\"Bokeh Application\",\"version\":\"1.3.4\"}};\n",
       "  var render_items = [{\"docid\":\"8ca6a750-a602-4169-9dfa-bd910898a409\",\"roots\":{\"1528\":\"77486c17-b91e-4f23-9a0b-270f3cfbabd1\"}}];\n",
       "  root.Bokeh.embed.embed_items_notebook(docs_json, render_items);\n",
       "\n",
       "  }\n",
       "  if (root.Bokeh !== undefined) {\n",
       "    embed_document(root);\n",
       "  } else {\n",
       "    var attempts = 0;\n",
       "    var timer = setInterval(function(root) {\n",
       "      if (root.Bokeh !== undefined) {\n",
       "        embed_document(root);\n",
       "        clearInterval(timer);\n",
       "      }\n",
       "      attempts++;\n",
       "      if (attempts > 100) {\n",
       "        console.log(\"Bokeh: ERROR: Unable to run BokehJS code because BokehJS library is missing\");\n",
       "        clearInterval(timer);\n",
       "      }\n",
       "    }, 10, root)\n",
       "  }\n",
       "})(window);"
      ],
      "application/vnd.bokehjs_exec.v0+json": ""
     },
     "metadata": {
      "application/vnd.bokehjs_exec.v0+json": {
       "id": "1528"
      }
     },
     "output_type": "display_data"
    }
   ],
   "source": [
    "from bokeh.models import HoverTool\n",
    "\n",
    "source = ColumnDataSource(\n",
    "        data=dict(\n",
    "            x=[1, 2, 3, 4, 5],\n",
    "            y=[2, 5, 8, 2, 7],\n",
    "            desc=['A', 'b', 'C', 'd', 'E'],\n",
    "        )\n",
    "    )\n",
    "\n",
    "hover = HoverTool(\n",
    "        tooltips=[\n",
    "            (\"index\", \"$index\"),\n",
    "            (\"(x,y)\", \"($x, $y)\"),\n",
    "            (\"desc\", \"@desc\"),\n",
    "        ]\n",
    "    )\n",
    "\n",
    "p = figure(plot_width=300, plot_height=300, tools=[hover], title=\"Mouse over the dots\")\n",
    "\n",
    "p.circle('x', 'y', size=20, source=source)\n",
    "\n",
    "show(p)"
   ]
  },
  {
   "cell_type": "markdown",
   "metadata": {},
   "source": [
    "# Widgets"
   ]
  },
  {
   "cell_type": "markdown",
   "metadata": {},
   "source": [
    "Bokeh supports direct integration with a small basic widget set. Thse can be used in conjunction with a Bokeh Server, or with ``CustomJS`` models to add more interactive capability to your documents. You can see a complete list, with example code in the [Adding Widgets](http://bokeh.pydata.org/en/latest/docs/user_guide/interaction.html#adding-widgets) section of the User's Guide. \n",
    "\n",
    "\n",
    "\n",
    "*NOTE: In this Tutorial chapter, we will focus on using widgets with JavaScript callbacks. The Tutorial chapter on Bokeh server applications covers using Bokeh widgets with real Python callbacks*\n",
    "\n",
    "\n",
    "\n",
    "\n",
    "To use the widgets, include them in a layout like you would a plot object:"
   ]
  },
  {
   "cell_type": "code",
   "execution_count": 6,
   "metadata": {},
   "outputs": [
    {
     "data": {
      "text/html": [
       "\n",
       "\n",
       "\n",
       "\n",
       "\n",
       "\n",
       "  <div class=\"bk-root\" id=\"e58f70d3-00b5-4750-9153-20478014d575\" data-root-id=\"1648\"></div>\n"
      ]
     },
     "metadata": {},
     "output_type": "display_data"
    },
    {
     "data": {
      "application/javascript": [
       "(function(root) {\n",
       "  function embed_document(root) {\n",
       "    \n",
       "  var docs_json = {\"e642fac9-5f8b-4881-95a4-326de86e85ed\":{\"roots\":{\"references\":[{\"attributes\":{\"children\":[{\"id\":\"1647\",\"type\":\"Slider\"}]},\"id\":\"1648\",\"type\":\"WidgetBox\"},{\"attributes\":{\"callback\":null,\"end\":10,\"start\":0,\"step\":0.1,\"title\":\"foo\",\"value\":1},\"id\":\"1647\",\"type\":\"Slider\"}],\"root_ids\":[\"1648\"]},\"title\":\"Bokeh Application\",\"version\":\"1.3.4\"}};\n",
       "  var render_items = [{\"docid\":\"e642fac9-5f8b-4881-95a4-326de86e85ed\",\"roots\":{\"1648\":\"e58f70d3-00b5-4750-9153-20478014d575\"}}];\n",
       "  root.Bokeh.embed.embed_items_notebook(docs_json, render_items);\n",
       "\n",
       "  }\n",
       "  if (root.Bokeh !== undefined) {\n",
       "    embed_document(root);\n",
       "  } else {\n",
       "    var attempts = 0;\n",
       "    var timer = setInterval(function(root) {\n",
       "      if (root.Bokeh !== undefined) {\n",
       "        embed_document(root);\n",
       "        clearInterval(timer);\n",
       "      }\n",
       "      attempts++;\n",
       "      if (attempts > 100) {\n",
       "        console.log(\"Bokeh: ERROR: Unable to run BokehJS code because BokehJS library is missing\");\n",
       "        clearInterval(timer);\n",
       "      }\n",
       "    }, 10, root)\n",
       "  }\n",
       "})(window);"
      ],
      "application/vnd.bokehjs_exec.v0+json": ""
     },
     "metadata": {
      "application/vnd.bokehjs_exec.v0+json": {
       "id": "1648"
      }
     },
     "output_type": "display_data"
    }
   ],
   "source": [
    "from bokeh.layouts import widgetbox\n",
    "from bokeh.models.widgets import Slider\n",
    "\n",
    "\n",
    "slider = Slider(start=0, end=10, value=1, step=.1, title=\"foo\")\n",
    "\n",
    "show(widgetbox(slider))"
   ]
  },
  {
   "cell_type": "code",
   "execution_count": 8,
   "metadata": {},
   "outputs": [],
   "source": [
    "# EXERCISE: create and show a Select widget \n"
   ]
  },
  {
   "cell_type": "markdown",
   "metadata": {},
   "source": [
    "# CustomJS Callbacks\n",
    "\n",
    "In order for a widget to be useful, it needs to be able to perform some action. Using the Bokeh server, it is possible to have widgets trigger real Python code. That possibuility will be explored in the Bokeh server chapter of the turorial. Here, we look at how widgets can be configured with `CustomJS` callbacks that execute snippets of JavaScript code. "
   ]
  },
  {
   "cell_type": "code",
   "execution_count": 7,
   "metadata": {},
   "outputs": [
    {
     "data": {
      "text/html": [
       "\n",
       "\n",
       "\n",
       "\n",
       "\n",
       "\n",
       "  <div class=\"bk-root\" id=\"67511263-bfc9-4586-a2df-9e3427770c76\" data-root-id=\"1700\"></div>\n"
      ]
     },
     "metadata": {},
     "output_type": "display_data"
    },
    {
     "data": {
      "application/javascript": [
       "(function(root) {\n",
       "  function embed_document(root) {\n",
       "    \n",
       "  var docs_json = {\"084d91e2-312c-45b7-91f6-89f2fc41ce1c\":{\"roots\":{\"references\":[{\"attributes\":{\"below\":[{\"id\":\"1709\",\"type\":\"LinearAxis\"}],\"center\":[{\"id\":\"1713\",\"type\":\"Grid\"},{\"id\":\"1718\",\"type\":\"Grid\"}],\"left\":[{\"id\":\"1714\",\"type\":\"LinearAxis\"}],\"plot_height\":300,\"renderers\":[{\"id\":\"1724\",\"type\":\"GlyphRenderer\"}],\"title\":{\"id\":\"1776\",\"type\":\"Title\"},\"toolbar\":{\"id\":\"1719\",\"type\":\"Toolbar\"},\"x_range\":{\"id\":\"1701\",\"type\":\"DataRange1d\"},\"x_scale\":{\"id\":\"1705\",\"type\":\"LinearScale\"},\"y_range\":{\"id\":\"1703\",\"type\":\"DataRange1d\"},\"y_scale\":{\"id\":\"1707\",\"type\":\"LinearScale\"}},\"id\":\"1700\",\"subtype\":\"Figure\",\"type\":\"Plot\"},{\"attributes\":{\"fill_color\":{\"value\":\"#1f77b4\"},\"line_color\":{\"value\":\"#1f77b4\"},\"size\":{\"units\":\"screen\",\"value\":20},\"x\":{\"field\":\"x\"},\"y\":{\"field\":\"y\"}},\"id\":\"1722\",\"type\":\"Circle\"},{\"attributes\":{},\"id\":\"1777\",\"type\":\"BasicTickFormatter\"},{\"attributes\":{},\"id\":\"1707\",\"type\":\"LinearScale\"},{\"attributes\":{},\"id\":\"1781\",\"type\":\"Selection\"},{\"attributes\":{\"source\":{\"id\":\"1721\",\"type\":\"ColumnDataSource\"}},\"id\":\"1725\",\"type\":\"CDSView\"},{\"attributes\":{},\"id\":\"1779\",\"type\":\"BasicTickFormatter\"},{\"attributes\":{\"fill_alpha\":{\"value\":0.1},\"fill_color\":{\"value\":\"#1f77b4\"},\"line_alpha\":{\"value\":0.1},\"line_color\":{\"value\":\"#1f77b4\"},\"size\":{\"units\":\"screen\",\"value\":20},\"x\":{\"field\":\"x\"},\"y\":{\"field\":\"y\"}},\"id\":\"1723\",\"type\":\"Circle\"},{\"attributes\":{},\"id\":\"1782\",\"type\":\"UnionRenderers\"},{\"attributes\":{\"dimension\":1,\"ticker\":{\"id\":\"1715\",\"type\":\"BasicTicker\"}},\"id\":\"1718\",\"type\":\"Grid\"},{\"attributes\":{\"active_drag\":\"auto\",\"active_inspect\":\"auto\",\"active_multi\":null,\"active_scroll\":\"auto\",\"active_tap\":\"auto\",\"tools\":[{\"id\":\"1699\",\"type\":\"TapTool\"}]},\"id\":\"1719\",\"type\":\"Toolbar\"},{\"attributes\":{},\"id\":\"1715\",\"type\":\"BasicTicker\"},{\"attributes\":{\"code\":\"alert('you tapped a circle!')\"},\"id\":\"1698\",\"type\":\"CustomJS\"},{\"attributes\":{\"data_source\":{\"id\":\"1721\",\"type\":\"ColumnDataSource\"},\"glyph\":{\"id\":\"1722\",\"type\":\"Circle\"},\"hover_glyph\":null,\"muted_glyph\":null,\"nonselection_glyph\":{\"id\":\"1723\",\"type\":\"Circle\"},\"selection_glyph\":null,\"view\":{\"id\":\"1725\",\"type\":\"CDSView\"}},\"id\":\"1724\",\"type\":\"GlyphRenderer\"},{\"attributes\":{},\"id\":\"1705\",\"type\":\"LinearScale\"},{\"attributes\":{\"callback\":null},\"id\":\"1703\",\"type\":\"DataRange1d\"},{\"attributes\":{\"text\":\"\"},\"id\":\"1776\",\"type\":\"Title\"},{\"attributes\":{\"callback\":{\"id\":\"1698\",\"type\":\"CustomJS\"}},\"id\":\"1699\",\"type\":\"TapTool\"},{\"attributes\":{\"callback\":null,\"data\":{\"x\":[1,2,3,4,5],\"y\":[2,5,8,2,7]},\"selected\":{\"id\":\"1781\",\"type\":\"Selection\"},\"selection_policy\":{\"id\":\"1782\",\"type\":\"UnionRenderers\"}},\"id\":\"1721\",\"type\":\"ColumnDataSource\"},{\"attributes\":{\"ticker\":{\"id\":\"1710\",\"type\":\"BasicTicker\"}},\"id\":\"1713\",\"type\":\"Grid\"},{\"attributes\":{\"callback\":null},\"id\":\"1701\",\"type\":\"DataRange1d\"},{\"attributes\":{\"formatter\":{\"id\":\"1779\",\"type\":\"BasicTickFormatter\"},\"ticker\":{\"id\":\"1710\",\"type\":\"BasicTicker\"}},\"id\":\"1709\",\"type\":\"LinearAxis\"},{\"attributes\":{\"formatter\":{\"id\":\"1777\",\"type\":\"BasicTickFormatter\"},\"ticker\":{\"id\":\"1715\",\"type\":\"BasicTicker\"}},\"id\":\"1714\",\"type\":\"LinearAxis\"},{\"attributes\":{},\"id\":\"1710\",\"type\":\"BasicTicker\"}],\"root_ids\":[\"1700\"]},\"title\":\"Bokeh Application\",\"version\":\"1.3.4\"}};\n",
       "  var render_items = [{\"docid\":\"084d91e2-312c-45b7-91f6-89f2fc41ce1c\",\"roots\":{\"1700\":\"67511263-bfc9-4586-a2df-9e3427770c76\"}}];\n",
       "  root.Bokeh.embed.embed_items_notebook(docs_json, render_items);\n",
       "\n",
       "  }\n",
       "  if (root.Bokeh !== undefined) {\n",
       "    embed_document(root);\n",
       "  } else {\n",
       "    var attempts = 0;\n",
       "    var timer = setInterval(function(root) {\n",
       "      if (root.Bokeh !== undefined) {\n",
       "        embed_document(root);\n",
       "        clearInterval(timer);\n",
       "      }\n",
       "      attempts++;\n",
       "      if (attempts > 100) {\n",
       "        console.log(\"Bokeh: ERROR: Unable to run BokehJS code because BokehJS library is missing\");\n",
       "        clearInterval(timer);\n",
       "      }\n",
       "    }, 10, root)\n",
       "  }\n",
       "})(window);"
      ],
      "application/vnd.bokehjs_exec.v0+json": ""
     },
     "metadata": {
      "application/vnd.bokehjs_exec.v0+json": {
       "id": "1700"
      }
     },
     "output_type": "display_data"
    }
   ],
   "source": [
    "from bokeh.models import TapTool, CustomJS, ColumnDataSource\n",
    "\n",
    "callback = CustomJS(code=\"alert('you tapped a circle!')\")\n",
    "tap = TapTool(callback=callback)\n",
    "\n",
    "p = figure(plot_width=600, plot_height=300, tools=[tap])\n",
    "\n",
    "p.circle(x=[1, 2, 3, 4, 5], y=[2, 5, 8, 2, 7], size=20)\n",
    "\n",
    "show(p)"
   ]
  },
  {
   "cell_type": "markdown",
   "metadata": {},
   "source": [
    "## CustomJS for Property changes\n",
    "\n",
    "Bokeh objects that have values associated can have small JavaScript actions attached to them using the `js_on_change` method. These actions (also referred to as \"callbacks\") are executed whenever the widget's value is changed. In order to make it easier to refer to specific Bokeh models (e.g., a data source, or a glyhph) from JavaScript, the ``CustomJS`` obejct also accepts a dictionary of \"args\" that map names to Python Bokeh models. The corresponding JavaScript models are made available automaticaly to the ``CustomJS`` code:\n",
    "\n",
    "```python\n",
    "CustomJS(args=dict(source=source, slider=slider), code=\"\"\"\n",
    "    // easily refer to BokehJS source and slider objects in this JS code\n",
    "    var data = source.data;\n",
    "    var f = slider.value;\n",
    "\"\"\")\n",
    "```"
   ]
  },
  {
   "cell_type": "markdown",
   "metadata": {},
   "source": [
    "### Slider widget example\n",
    "\n",
    "The example below shows an action attached to a slider that updates a data source whenever the slider is moved.  "
   ]
  },
  {
   "cell_type": "code",
   "execution_count": 8,
   "metadata": {},
   "outputs": [
    {
     "data": {
      "text/html": [
       "\n",
       "\n",
       "\n",
       "\n",
       "\n",
       "\n",
       "  <div class=\"bk-root\" id=\"c1ac2815-6cbf-4378-a565-ece5df584f25\" data-root-id=\"1871\"></div>\n"
      ]
     },
     "metadata": {},
     "output_type": "display_data"
    },
    {
     "data": {
      "application/javascript": [
       "(function(root) {\n",
       "  function embed_document(root) {\n",
       "    \n",
       "  var docs_json = {\"fb4e9b60-f986-44cd-a745-c16975ede4f9\":{\"roots\":{\"references\":[{\"attributes\":{\"children\":[{\"id\":\"1869\",\"type\":\"Slider\"},{\"id\":\"1832\",\"subtype\":\"Figure\",\"type\":\"Plot\"}]},\"id\":\"1871\",\"type\":\"Column\"},{\"attributes\":{},\"id\":\"1854\",\"type\":\"SaveTool\"},{\"attributes\":{\"formatter\":{\"id\":\"1933\",\"type\":\"BasicTickFormatter\"},\"ticker\":{\"id\":\"1842\",\"type\":\"BasicTicker\"}},\"id\":\"1841\",\"type\":\"LinearAxis\"},{\"attributes\":{\"below\":[{\"id\":\"1841\",\"type\":\"LinearAxis\"}],\"center\":[{\"id\":\"1845\",\"type\":\"Grid\"},{\"id\":\"1850\",\"type\":\"Grid\"}],\"left\":[{\"id\":\"1846\",\"type\":\"LinearAxis\"}],\"plot_height\":400,\"plot_width\":400,\"renderers\":[{\"id\":\"1867\",\"type\":\"GlyphRenderer\"}],\"title\":{\"id\":\"1930\",\"type\":\"Title\"},\"toolbar\":{\"id\":\"1857\",\"type\":\"Toolbar\"},\"x_range\":{\"id\":\"1833\",\"type\":\"DataRange1d\"},\"x_scale\":{\"id\":\"1837\",\"type\":\"LinearScale\"},\"y_range\":{\"id\":\"1835\",\"type\":\"DataRange1d\"},\"y_scale\":{\"id\":\"1839\",\"type\":\"LinearScale\"}},\"id\":\"1832\",\"subtype\":\"Figure\",\"type\":\"Plot\"},{\"attributes\":{\"ticker\":{\"id\":\"1842\",\"type\":\"BasicTicker\"}},\"id\":\"1845\",\"type\":\"Grid\"},{\"attributes\":{\"source\":{\"id\":\"1831\",\"type\":\"ColumnDataSource\"}},\"id\":\"1868\",\"type\":\"CDSView\"},{\"attributes\":{\"callback\":null},\"id\":\"1835\",\"type\":\"DataRange1d\"},{\"attributes\":{},\"id\":\"1855\",\"type\":\"ResetTool\"},{\"attributes\":{},\"id\":\"1837\",\"type\":\"LinearScale\"},{\"attributes\":{\"text\":\"\"},\"id\":\"1930\",\"type\":\"Title\"},{\"attributes\":{},\"id\":\"1856\",\"type\":\"HelpTool\"},{\"attributes\":{\"line_alpha\":0.6,\"line_color\":\"#1f77b4\",\"line_width\":3,\"x\":{\"field\":\"x\"},\"y\":{\"field\":\"y\"}},\"id\":\"1865\",\"type\":\"Line\"},{\"attributes\":{},\"id\":\"1839\",\"type\":\"LinearScale\"},{\"attributes\":{},\"id\":\"1935\",\"type\":\"Selection\"},{\"attributes\":{},\"id\":\"1847\",\"type\":\"BasicTicker\"},{\"attributes\":{\"overlay\":{\"id\":\"1937\",\"type\":\"BoxAnnotation\"}},\"id\":\"1853\",\"type\":\"BoxZoomTool\"},{\"attributes\":{\"callback\":null,\"end\":6,\"js_property_callbacks\":{\"change:value\":[{\"id\":\"1870\",\"type\":\"CustomJS\"}]},\"start\":0.1,\"step\":0.1,\"title\":\"power\",\"value\":1},\"id\":\"1869\",\"type\":\"Slider\"},{\"attributes\":{\"callback\":null},\"id\":\"1833\",\"type\":\"DataRange1d\"},{\"attributes\":{\"args\":{\"slider\":{\"id\":\"1869\",\"type\":\"Slider\"},\"source\":{\"id\":\"1831\",\"type\":\"ColumnDataSource\"}},\"code\":\"\\n    var data = source.data;\\n    var f = slider.value;\\n    x = data['x']\\n    y = data['y']\\n    for (i = 0; i < x.length; i++) {\\n        y[i] = Math.pow(x[i], f)\\n    }\\n    \\n    // necessary becasue we mutated source.data in-place\\n    source.change.emit();\\n\"},\"id\":\"1870\",\"type\":\"CustomJS\"},{\"attributes\":{\"dimension\":1,\"ticker\":{\"id\":\"1847\",\"type\":\"BasicTicker\"}},\"id\":\"1850\",\"type\":\"Grid\"},{\"attributes\":{},\"id\":\"1931\",\"type\":\"BasicTickFormatter\"},{\"attributes\":{\"formatter\":{\"id\":\"1931\",\"type\":\"BasicTickFormatter\"},\"ticker\":{\"id\":\"1847\",\"type\":\"BasicTicker\"}},\"id\":\"1846\",\"type\":\"LinearAxis\"},{\"attributes\":{},\"id\":\"1936\",\"type\":\"UnionRenderers\"},{\"attributes\":{\"callback\":null,\"data\":{\"x\":[0.0,0.005,0.01,0.015,0.02,0.025,0.03,0.035,0.04,0.045,0.05,0.055,0.06,0.065,0.07,0.075,0.08,0.085,0.09,0.095,0.1,0.105,0.11,0.115,0.12,0.125,0.13,0.135,0.14,0.145,0.15,0.155,0.16,0.165,0.17,0.17500000000000002,0.18,0.185,0.19,0.195,0.2,0.20500000000000002,0.21,0.215,0.22,0.225,0.23,0.23500000000000001,0.24,0.245,0.25,0.255,0.26,0.265,0.27,0.275,0.28,0.28500000000000003,0.29,0.295,0.3,0.305,0.31,0.315,0.32,0.325,0.33,0.335,0.34,0.34500000000000003,0.35000000000000003,0.355,0.36,0.365,0.37,0.375,0.38,0.385,0.39,0.395,0.4,0.405,0.41000000000000003,0.41500000000000004,0.42,0.425,0.43,0.435,0.44,0.445,0.45,0.455,0.46,0.465,0.47000000000000003,0.47500000000000003,0.48,0.485,0.49,0.495,0.5,0.505,0.51,0.515,0.52,0.525,0.53,0.535,0.54,0.545,0.55,0.555,0.56,0.5650000000000001,0.5700000000000001,0.5750000000000001,0.58,0.585,0.59,0.595,0.6,0.605,0.61,0.615,0.62,0.625,0.63,0.635,0.64,0.645,0.65,0.655,0.66,0.665,0.67,0.675,0.68,0.685,0.6900000000000001,0.6950000000000001,0.7000000000000001,0.705,0.71,0.715,0.72,0.725,0.73,0.735,0.74,0.745,0.75,0.755,0.76,0.765,0.77,0.775,0.78,0.785,0.79,0.795,0.8,0.805,0.81,0.8150000000000001,0.8200000000000001,0.8250000000000001,0.8300000000000001,0.835,0.84,0.845,0.85,0.855,0.86,0.865,0.87,0.875,0.88,0.885,0.89,0.895,0.9,0.905,0.91,0.915,0.92,0.925,0.93,0.935,0.9400000000000001,0.9450000000000001,0.9500000000000001,0.9550000000000001,0.96,0.965,0.97,0.975,0.98,0.985,0.99,0.995,1.0],\"y\":[0.0,0.005,0.01,0.015,0.02,0.025,0.03,0.035,0.04,0.045,0.05,0.055,0.06,0.065,0.07,0.075,0.08,0.085,0.09,0.095,0.1,0.105,0.11,0.115,0.12,0.125,0.13,0.135,0.14,0.145,0.15,0.155,0.16,0.165,0.17,0.17500000000000002,0.18,0.185,0.19,0.195,0.2,0.20500000000000002,0.21,0.215,0.22,0.225,0.23,0.23500000000000001,0.24,0.245,0.25,0.255,0.26,0.265,0.27,0.275,0.28,0.28500000000000003,0.29,0.295,0.3,0.305,0.31,0.315,0.32,0.325,0.33,0.335,0.34,0.34500000000000003,0.35000000000000003,0.355,0.36,0.365,0.37,0.375,0.38,0.385,0.39,0.395,0.4,0.405,0.41000000000000003,0.41500000000000004,0.42,0.425,0.43,0.435,0.44,0.445,0.45,0.455,0.46,0.465,0.47000000000000003,0.47500000000000003,0.48,0.485,0.49,0.495,0.5,0.505,0.51,0.515,0.52,0.525,0.53,0.535,0.54,0.545,0.55,0.555,0.56,0.5650000000000001,0.5700000000000001,0.5750000000000001,0.58,0.585,0.59,0.595,0.6,0.605,0.61,0.615,0.62,0.625,0.63,0.635,0.64,0.645,0.65,0.655,0.66,0.665,0.67,0.675,0.68,0.685,0.6900000000000001,0.6950000000000001,0.7000000000000001,0.705,0.71,0.715,0.72,0.725,0.73,0.735,0.74,0.745,0.75,0.755,0.76,0.765,0.77,0.775,0.78,0.785,0.79,0.795,0.8,0.805,0.81,0.8150000000000001,0.8200000000000001,0.8250000000000001,0.8300000000000001,0.835,0.84,0.845,0.85,0.855,0.86,0.865,0.87,0.875,0.88,0.885,0.89,0.895,0.9,0.905,0.91,0.915,0.92,0.925,0.93,0.935,0.9400000000000001,0.9450000000000001,0.9500000000000001,0.9550000000000001,0.96,0.965,0.97,0.975,0.98,0.985,0.99,0.995,1.0]},\"selected\":{\"id\":\"1935\",\"type\":\"Selection\"},\"selection_policy\":{\"id\":\"1936\",\"type\":\"UnionRenderers\"}},\"id\":\"1831\",\"type\":\"ColumnDataSource\"},{\"attributes\":{},\"id\":\"1842\",\"type\":\"BasicTicker\"},{\"attributes\":{\"bottom_units\":\"screen\",\"fill_alpha\":{\"value\":0.5},\"fill_color\":{\"value\":\"lightgrey\"},\"left_units\":\"screen\",\"level\":\"overlay\",\"line_alpha\":{\"value\":1.0},\"line_color\":{\"value\":\"black\"},\"line_dash\":[4,4],\"line_width\":{\"value\":2},\"render_mode\":\"css\",\"right_units\":\"screen\",\"top_units\":\"screen\"},\"id\":\"1937\",\"type\":\"BoxAnnotation\"},{\"attributes\":{\"active_drag\":\"auto\",\"active_inspect\":\"auto\",\"active_multi\":null,\"active_scroll\":\"auto\",\"active_tap\":\"auto\",\"tools\":[{\"id\":\"1851\",\"type\":\"PanTool\"},{\"id\":\"1852\",\"type\":\"WheelZoomTool\"},{\"id\":\"1853\",\"type\":\"BoxZoomTool\"},{\"id\":\"1854\",\"type\":\"SaveTool\"},{\"id\":\"1855\",\"type\":\"ResetTool\"},{\"id\":\"1856\",\"type\":\"HelpTool\"}]},\"id\":\"1857\",\"type\":\"Toolbar\"},{\"attributes\":{},\"id\":\"1851\",\"type\":\"PanTool\"},{\"attributes\":{\"data_source\":{\"id\":\"1831\",\"type\":\"ColumnDataSource\"},\"glyph\":{\"id\":\"1865\",\"type\":\"Line\"},\"hover_glyph\":null,\"muted_glyph\":null,\"nonselection_glyph\":{\"id\":\"1866\",\"type\":\"Line\"},\"selection_glyph\":null,\"view\":{\"id\":\"1868\",\"type\":\"CDSView\"}},\"id\":\"1867\",\"type\":\"GlyphRenderer\"},{\"attributes\":{},\"id\":\"1852\",\"type\":\"WheelZoomTool\"},{\"attributes\":{},\"id\":\"1933\",\"type\":\"BasicTickFormatter\"},{\"attributes\":{\"line_alpha\":0.1,\"line_color\":\"#1f77b4\",\"line_width\":3,\"x\":{\"field\":\"x\"},\"y\":{\"field\":\"y\"}},\"id\":\"1866\",\"type\":\"Line\"}],\"root_ids\":[\"1871\"]},\"title\":\"Bokeh Application\",\"version\":\"1.3.4\"}};\n",
       "  var render_items = [{\"docid\":\"fb4e9b60-f986-44cd-a745-c16975ede4f9\",\"roots\":{\"1871\":\"c1ac2815-6cbf-4378-a565-ece5df584f25\"}}];\n",
       "  root.Bokeh.embed.embed_items_notebook(docs_json, render_items);\n",
       "\n",
       "  }\n",
       "  if (root.Bokeh !== undefined) {\n",
       "    embed_document(root);\n",
       "  } else {\n",
       "    var attempts = 0;\n",
       "    var timer = setInterval(function(root) {\n",
       "      if (root.Bokeh !== undefined) {\n",
       "        embed_document(root);\n",
       "        clearInterval(timer);\n",
       "      }\n",
       "      attempts++;\n",
       "      if (attempts > 100) {\n",
       "        console.log(\"Bokeh: ERROR: Unable to run BokehJS code because BokehJS library is missing\");\n",
       "        clearInterval(timer);\n",
       "      }\n",
       "    }, 10, root)\n",
       "  }\n",
       "})(window);"
      ],
      "application/vnd.bokehjs_exec.v0+json": ""
     },
     "metadata": {
      "application/vnd.bokehjs_exec.v0+json": {
       "id": "1871"
      }
     },
     "output_type": "display_data"
    }
   ],
   "source": [
    "from bokeh.layouts import column\n",
    "from bokeh.models import CustomJS, ColumnDataSource, Slider\n",
    "\n",
    "x = [x*0.005 for x in range(0, 201)]\n",
    "\n",
    "source = ColumnDataSource(data=dict(x=x, y=x))\n",
    "\n",
    "plot = figure(plot_width=400, plot_height=400)\n",
    "plot.line('x', 'y', source=source, line_width=3, line_alpha=0.6)\n",
    "\n",
    "slider = Slider(start=0.1, end=6, value=1, step=.1, title=\"power\")\n",
    "\n",
    "update_curve = CustomJS(args=dict(source=source, slider=slider), code=\"\"\"\n",
    "    var data = source.data;\n",
    "    var f = slider.value;\n",
    "    x = data['x']\n",
    "    y = data['y']\n",
    "    for (i = 0; i < x.length; i++) {\n",
    "        y[i] = Math.pow(x[i], f)\n",
    "    }\n",
    "    \n",
    "    // necessary becasue we mutated source.data in-place\n",
    "    source.change.emit();\n",
    "\"\"\")\n",
    "slider.js_on_change('value', update_curve)\n",
    "\n",
    "\n",
    "show(column(slider, plot))"
   ]
  },
  {
   "cell_type": "code",
   "execution_count": 11,
   "metadata": {},
   "outputs": [],
   "source": [
    "# Exercise: Create a plot that updates based on a Select widget\n",
    "\n"
   ]
  },
  {
   "cell_type": "markdown",
   "metadata": {},
   "source": [
    "### Data selection example\n",
    "\n",
    "It's also possible to make JavaScript actions that execute whenever a user selection (e.g., box, point, lasso) changes. This is done by attaching the same kind of CustomJS object to whatever data source the selection is made on.\n",
    "\n",
    "The example below is a bit more sophisticated, and demonstrates updating one glyph's data source in response to another glyph's selection: "
   ]
  },
  {
   "cell_type": "code",
   "execution_count": 9,
   "metadata": {},
   "outputs": [
    {
     "data": {
      "text/html": [
       "\n",
       "\n",
       "\n",
       "\n",
       "\n",
       "\n",
       "  <div class=\"bk-root\" id=\"ce5c9c05-2f06-419f-a586-d869ce68c252\" data-root-id=\"1993\"></div>\n"
      ]
     },
     "metadata": {},
     "output_type": "display_data"
    },
    {
     "data": {
      "application/javascript": [
       "(function(root) {\n",
       "  function embed_document(root) {\n",
       "    \n",
       "  var docs_json = {\"89900169-bb13-415b-923a-25022a6a046e\":{\"roots\":{\"references\":[{\"attributes\":{\"below\":[{\"id\":\"2004\",\"type\":\"LinearAxis\"}],\"center\":[{\"id\":\"2008\",\"type\":\"Grid\"},{\"id\":\"2013\",\"type\":\"Grid\"}],\"left\":[{\"id\":\"2009\",\"type\":\"LinearAxis\"}],\"plot_height\":400,\"plot_width\":400,\"renderers\":[{\"id\":\"2021\",\"type\":\"GlyphRenderer\"},{\"id\":\"2027\",\"type\":\"GlyphRenderer\"}],\"title\":{\"id\":\"1994\",\"type\":\"Title\"},\"toolbar\":{\"id\":\"2015\",\"type\":\"Toolbar\"},\"x_range\":{\"id\":\"1996\",\"type\":\"DataRange1d\"},\"x_scale\":{\"id\":\"2000\",\"type\":\"LinearScale\"},\"y_range\":{\"id\":\"1998\",\"type\":\"DataRange1d\"},\"y_scale\":{\"id\":\"2002\",\"type\":\"LinearScale\"}},\"id\":\"1993\",\"subtype\":\"Figure\",\"type\":\"Plot\"},{\"attributes\":{},\"id\":\"2010\",\"type\":\"BasicTicker\"},{\"attributes\":{\"data_source\":{\"id\":\"1992\",\"type\":\"ColumnDataSource\"},\"glyph\":{\"id\":\"2018\",\"type\":\"Circle\"},\"hover_glyph\":null,\"muted_glyph\":null,\"nonselection_glyph\":{\"id\":\"2019\",\"type\":\"Circle\"},\"selection_glyph\":{\"id\":\"2020\",\"type\":\"Circle\"},\"view\":{\"id\":\"2022\",\"type\":\"CDSView\"}},\"id\":\"2021\",\"type\":\"GlyphRenderer\"},{\"attributes\":{},\"id\":\"2097\",\"type\":\"BasicTickFormatter\"},{\"attributes\":{},\"id\":\"2000\",\"type\":\"LinearScale\"},{\"attributes\":{},\"id\":\"2104\",\"type\":\"Selection\"},{\"attributes\":{\"formatter\":{\"id\":\"2099\",\"type\":\"BasicTickFormatter\"},\"ticker\":{\"id\":\"2005\",\"type\":\"BasicTicker\"}},\"id\":\"2004\",\"type\":\"LinearAxis\"},{\"attributes\":{},\"id\":\"2005\",\"type\":\"BasicTicker\"},{\"attributes\":{\"line_alpha\":0.1,\"line_color\":\"#1f77b4\",\"line_width\":5,\"x\":{\"field\":\"xm\"},\"y\":{\"field\":\"ym\"}},\"id\":\"2026\",\"type\":\"Line\"},{\"attributes\":{\"dimension\":1,\"ticker\":{\"id\":\"2010\",\"type\":\"BasicTicker\"}},\"id\":\"2013\",\"type\":\"Grid\"},{\"attributes\":{\"args\":{\"s1\":{\"id\":\"1992\",\"type\":\"ColumnDataSource\"},\"s2\":{\"id\":\"2023\",\"type\":\"ColumnDataSource\"}},\"code\":\"\\n    var inds = s1.selected.indices;\\n    if (inds.length == 0)\\n        return;\\n\\n    var ym = 0\\n    for (var i = 0; i < inds.length; i++) {\\n        ym += s1.data.y[inds[i]]\\n    }\\n    \\n    ym /= inds.length\\n    s2.data.ym = [ym, ym]\\n\\n    // necessary becasue we mutated source.data in-place\\n    s2.change.emit();  \\n\"},\"id\":\"2029\",\"type\":\"CustomJS\"},{\"attributes\":{\"callback\":null,\"overlay\":{\"id\":\"2101\",\"type\":\"PolyAnnotation\"}},\"id\":\"2014\",\"type\":\"LassoSelectTool\"},{\"attributes\":{\"callback\":null},\"id\":\"1998\",\"type\":\"DataRange1d\"},{\"attributes\":{\"line_alpha\":0.6,\"line_color\":\"orange\",\"line_width\":5,\"x\":{\"field\":\"xm\"},\"y\":{\"field\":\"ym\"}},\"id\":\"2025\",\"type\":\"Line\"},{\"attributes\":{\"fill_alpha\":{\"value\":0.4},\"fill_color\":{\"value\":\"firebrick\"},\"line_alpha\":{\"value\":0.4},\"line_color\":{\"value\":\"firebrick\"},\"size\":{\"units\":\"screen\",\"value\":8},\"x\":{\"field\":\"x\"},\"y\":{\"field\":\"y\"}},\"id\":\"2020\",\"type\":\"Circle\"},{\"attributes\":{},\"id\":\"2103\",\"type\":\"UnionRenderers\"},{\"attributes\":{\"data_source\":{\"id\":\"2023\",\"type\":\"ColumnDataSource\"},\"glyph\":{\"id\":\"2025\",\"type\":\"Line\"},\"hover_glyph\":null,\"muted_glyph\":null,\"nonselection_glyph\":{\"id\":\"2026\",\"type\":\"Line\"},\"selection_glyph\":null,\"view\":{\"id\":\"2028\",\"type\":\"CDSView\"}},\"id\":\"2027\",\"type\":\"GlyphRenderer\"},{\"attributes\":{\"source\":{\"id\":\"1992\",\"type\":\"ColumnDataSource\"}},\"id\":\"2022\",\"type\":\"CDSView\"},{\"attributes\":{\"active_drag\":\"auto\",\"active_inspect\":\"auto\",\"active_multi\":null,\"active_scroll\":\"auto\",\"active_tap\":\"auto\",\"tools\":[{\"id\":\"2014\",\"type\":\"LassoSelectTool\"}]},\"id\":\"2015\",\"type\":\"Toolbar\"},{\"attributes\":{},\"id\":\"2102\",\"type\":\"Selection\"},{\"attributes\":{\"ticker\":{\"id\":\"2005\",\"type\":\"BasicTicker\"}},\"id\":\"2008\",\"type\":\"Grid\"},{\"attributes\":{\"fill_alpha\":{\"value\":0.4},\"fill_color\":{\"field\":\"color\"},\"line_alpha\":{\"value\":0.4},\"line_color\":{\"field\":\"color\"},\"size\":{\"units\":\"screen\",\"value\":8},\"x\":{\"field\":\"x\"},\"y\":{\"field\":\"y\"}},\"id\":\"2018\",\"type\":\"Circle\"},{\"attributes\":{\"callback\":{\"id\":\"2029\",\"type\":\"CustomJS\"},\"data\":{\"color\":[\"navy\",\"navy\",\"navy\",\"navy\",\"navy\",\"navy\",\"navy\",\"navy\",\"navy\",\"navy\",\"navy\",\"navy\",\"navy\",\"navy\",\"navy\",\"navy\",\"navy\",\"navy\",\"navy\",\"navy\",\"navy\",\"navy\",\"navy\",\"navy\",\"navy\",\"navy\",\"navy\",\"navy\",\"navy\",\"navy\",\"navy\",\"navy\",\"navy\",\"navy\",\"navy\",\"navy\",\"navy\",\"navy\",\"navy\",\"navy\",\"navy\",\"navy\",\"navy\",\"navy\",\"navy\",\"navy\",\"navy\",\"navy\",\"navy\",\"navy\",\"navy\",\"navy\",\"navy\",\"navy\",\"navy\",\"navy\",\"navy\",\"navy\",\"navy\",\"navy\",\"navy\",\"navy\",\"navy\",\"navy\",\"navy\",\"navy\",\"navy\",\"navy\",\"navy\",\"navy\",\"navy\",\"navy\",\"navy\",\"navy\",\"navy\",\"navy\",\"navy\",\"navy\",\"navy\",\"navy\",\"navy\",\"navy\",\"navy\",\"navy\",\"navy\",\"navy\",\"navy\",\"navy\",\"navy\",\"navy\",\"navy\",\"navy\",\"navy\",\"navy\",\"navy\",\"navy\",\"navy\",\"navy\",\"navy\",\"navy\",\"navy\",\"navy\",\"navy\",\"navy\",\"navy\",\"navy\",\"navy\",\"navy\",\"navy\",\"navy\",\"navy\",\"navy\",\"navy\",\"navy\",\"navy\",\"navy\",\"navy\",\"navy\",\"navy\",\"navy\",\"navy\",\"navy\",\"navy\",\"navy\",\"navy\",\"navy\",\"navy\",\"navy\",\"navy\",\"navy\",\"navy\",\"navy\",\"navy\",\"navy\",\"navy\",\"navy\",\"navy\",\"navy\",\"navy\",\"navy\",\"navy\",\"navy\",\"navy\",\"navy\",\"navy\",\"navy\",\"navy\",\"navy\",\"navy\",\"navy\",\"navy\",\"navy\",\"navy\",\"navy\",\"navy\",\"navy\",\"navy\",\"navy\",\"navy\",\"navy\",\"navy\",\"navy\",\"navy\",\"navy\",\"navy\",\"navy\",\"navy\",\"navy\",\"navy\",\"navy\",\"navy\",\"navy\",\"navy\",\"navy\",\"navy\",\"navy\",\"navy\",\"navy\",\"navy\",\"navy\",\"navy\",\"navy\",\"navy\",\"navy\",\"navy\",\"navy\",\"navy\",\"navy\",\"navy\",\"navy\",\"navy\",\"navy\",\"navy\",\"navy\",\"navy\",\"navy\",\"navy\",\"navy\",\"navy\",\"navy\",\"navy\",\"navy\",\"navy\",\"navy\",\"navy\",\"navy\",\"navy\",\"navy\",\"navy\",\"navy\",\"navy\",\"navy\",\"navy\",\"navy\",\"navy\",\"navy\",\"navy\",\"navy\",\"navy\",\"navy\",\"navy\",\"navy\",\"navy\",\"navy\",\"navy\",\"navy\",\"navy\",\"navy\",\"navy\",\"navy\",\"navy\",\"navy\",\"navy\",\"navy\",\"navy\",\"navy\",\"navy\",\"navy\",\"navy\",\"navy\",\"navy\",\"navy\",\"navy\",\"navy\",\"navy\",\"navy\",\"navy\",\"navy\",\"navy\",\"navy\",\"navy\",\"navy\",\"navy\",\"navy\",\"navy\",\"navy\",\"navy\",\"navy\",\"navy\",\"navy\",\"navy\",\"navy\",\"navy\",\"navy\",\"navy\",\"navy\",\"navy\",\"navy\",\"navy\",\"navy\",\"navy\",\"navy\",\"navy\",\"navy\",\"navy\",\"navy\",\"navy\",\"navy\",\"navy\",\"navy\",\"navy\",\"navy\",\"navy\",\"navy\",\"navy\",\"navy\",\"navy\",\"navy\",\"navy\",\"navy\",\"navy\",\"navy\",\"navy\",\"navy\",\"navy\",\"navy\",\"navy\",\"navy\",\"navy\",\"navy\",\"navy\",\"navy\",\"navy\",\"navy\",\"navy\",\"navy\",\"navy\",\"navy\",\"navy\",\"navy\",\"navy\",\"navy\",\"navy\",\"navy\",\"navy\",\"navy\",\"navy\",\"navy\",\"navy\",\"navy\",\"navy\",\"navy\",\"navy\",\"navy\",\"navy\",\"navy\",\"navy\",\"navy\",\"navy\",\"navy\",\"navy\",\"navy\",\"navy\",\"navy\",\"navy\",\"navy\",\"navy\",\"navy\",\"navy\",\"navy\",\"navy\",\"navy\",\"navy\",\"navy\",\"navy\",\"navy\",\"navy\",\"navy\",\"navy\",\"navy\",\"navy\",\"navy\",\"navy\",\"navy\",\"navy\",\"navy\",\"navy\",\"navy\",\"navy\",\"navy\",\"navy\",\"navy\",\"navy\",\"navy\",\"navy\",\"navy\",\"navy\",\"navy\",\"navy\",\"navy\",\"navy\",\"navy\",\"navy\",\"navy\",\"navy\",\"navy\",\"navy\",\"navy\",\"navy\",\"navy\",\"navy\",\"navy\",\"navy\",\"navy\",\"navy\",\"navy\",\"navy\",\"navy\",\"navy\",\"navy\",\"navy\",\"navy\",\"navy\",\"navy\",\"navy\",\"navy\",\"navy\",\"navy\",\"navy\",\"navy\",\"navy\",\"navy\",\"navy\",\"navy\",\"navy\",\"navy\",\"navy\",\"navy\",\"navy\",\"navy\",\"navy\",\"navy\",\"navy\",\"navy\",\"navy\",\"navy\",\"navy\",\"navy\",\"navy\",\"navy\",\"navy\",\"navy\",\"navy\",\"navy\",\"navy\",\"navy\",\"navy\",\"navy\",\"navy\",\"navy\",\"navy\",\"navy\",\"navy\",\"navy\",\"navy\",\"navy\",\"navy\",\"navy\",\"navy\",\"navy\",\"navy\",\"navy\",\"navy\",\"navy\",\"navy\",\"navy\",\"navy\",\"navy\",\"navy\",\"navy\",\"navy\",\"navy\",\"navy\",\"navy\",\"navy\",\"navy\",\"navy\",\"navy\",\"navy\",\"navy\",\"navy\",\"navy\",\"navy\",\"navy\",\"navy\",\"navy\",\"navy\",\"navy\",\"navy\",\"navy\",\"navy\",\"navy\",\"navy\",\"navy\",\"navy\",\"navy\",\"navy\",\"navy\",\"navy\",\"navy\",\"navy\",\"navy\",\"navy\",\"navy\",\"navy\",\"navy\",\"navy\",\"navy\",\"navy\",\"navy\",\"navy\",\"navy\",\"navy\",\"navy\",\"navy\",\"navy\",\"navy\",\"navy\",\"navy\",\"navy\"],\"x\":[0.08070493763791264,0.5339986159753943,0.7740097983092339,0.7824466762545352,0.917914875390174,0.7380755621464996,0.5749573036708341,0.4804575617174851,0.4478150908031313,0.889872740862081,0.7730597803653987,0.39811246649902055,0.8185146181915317,0.28451504880722567,0.571409779426015,0.29894134968791486,0.7830724758310434,0.8954744603203354,0.7717952791125285,0.6229584666631099,0.9111603217417857,0.8377746497771025,0.9178215164647885,0.7815782048497765,0.5289524281293484,0.6092866192885324,0.10543328019160136,0.8302781572171797,0.15531249428267524,0.38893985469164805,0.5334485837072704,0.8019475019923535,0.5980384714186037,0.29994707752509653,0.5333361377355107,0.4510874527581613,0.6412757239616429,0.7389247664030719,0.7743437174833652,0.8709720530265408,0.3129179490549019,0.634285790960819,0.6034033511797093,0.6518035445505806,0.7418423127393798,0.2272846754444071,0.378738539946595,0.8735205998948397,0.9943401434846459,0.775073410429185,0.517599903720036,0.9665437080419116,0.8305644238081401,0.1900796681921083,0.48905524408416434,0.4207043852683806,0.7366705846140488,0.5215156129218022,0.4551309266865815,0.8816126658510713,0.615105733018665,0.386119329300614,0.6136454291071023,0.7873819425456211,0.27978720085550046,0.7475846193454492,0.3538349640602748,0.9804572961590144,0.970487778008499,0.036842635416756475,0.3198189559246052,0.6733582796659292,0.3711382945422135,0.3797931320962419,0.7797835171785746,0.6451801295984088,0.055633537297750446,0.016597286331185734,0.4011226905398373,0.0827609971530695,0.28629969466624694,0.8948632070205631,0.8587615002514748,0.049455768333791505,0.9806739959099506,0.052350469065649774,0.6893846365457408,0.7034384189923442,0.9141438773256089,0.24004516908578744,0.9858626917330551,0.78036382633739,0.8689589672030917,0.9468498310482958,0.05201778393137535,0.7232471475704421,0.7389384465839579,0.12298746703696217,0.5242361827505924,0.21114185025150567,0.873244273910552,0.8079741203849476,0.42652395179200875,0.30768550597093014,0.777534211780405,0.5502033162124623,0.4934324368593631,0.8098708718382047,0.10299429950313943,0.8483867414533589,0.4764059843662162,0.21180251852403653,0.11776283513534791,0.04099907175863304,0.3685529819559902,0.1596655678228145,0.7049121750511989,0.6347248153027415,0.23359894003888926,0.7253270323510217,0.5733323988411341,0.5848468952704414,0.30234993673175725,0.5486533264133931,0.4254602395097462,0.4303802849067734,0.8863955545446006,0.2283949498543063,0.9112544664113282,0.8769665905502763,0.988712389950695,0.7717384595662625,0.8118651336199686,0.639826028117727,0.9142705785582228,0.3038302039073,0.968779123915357,0.2571049071121303,0.656217552962574,0.47945336159855023,0.7434518521413409,0.16190239455425626,0.755420771616487,0.7634876803041297,0.8609541571083497,0.3166977749085961,0.7156953616834958,0.7021601352507962,0.4417639482491831,0.5879141259541311,0.6610492415134548,0.31546607707014507,0.3703786427931448,0.449917101535127,0.3681735215141376,0.8348361989656459,0.0997200992643239,0.9210960719984228,0.2304508979661427,0.9553886580947736,0.05497954200261712,0.34077970469971663,0.453763168229788,0.9473858636243401,0.386337118553964,0.3510533653725417,0.5217093694001362,0.46572438769155877,0.8032298599949861,0.5092739346211634,0.7050271081777355,0.8087088583554842,0.8462997102722826,0.2668293922897914,0.40330754644462397,0.41188801482468274,0.7791507776812366,0.18919195459730198,0.2672708040936682,0.7427719599887592,0.5502681693961412,0.7880114584000544,0.8153360962256292,0.10201544913711369,0.33563796105878796,0.35253454616798185,0.12294588353197511,0.44739876099868814,0.6663714531913195,0.941304066121514,0.11232737992069397,0.52093462604594,0.42388325516859526,0.5603029695998628,0.80685869341354,0.7436542497764413,0.16046743449407974,0.11494659035523791,0.28154548912677557,0.9326854857191652,0.2247738745787401,0.025151516907242155,0.1944296200575577,0.5662249130085539,0.3187205114297864,0.231188478625717,0.23227335533334836,0.5911940612052828,0.12390297682290385,0.9088988824036812,0.366226926984733,0.998141418194239,0.027547318803716636,0.8391727157062855,0.2628804768230113,0.8842186658348603,0.5272204483562758,0.5679276453561166,0.9426175500825036,0.5111743298370924,0.683699334285304,0.3991424194216935,0.9995113270077945,0.2626933957371721,0.6721932443012181,0.1604422403094634,0.1439254215969742,0.44816326751814106,0.8197473794077267,0.14130785433973314,0.6127987254164597,0.5450261267170454,0.19821343628707933,0.6790640161382674,0.23926153284922114,0.3773686150675244,0.38330351003546315,0.3688766242957314,0.0990173015728888,0.8309828664537668,0.5102719875618339,0.7887727409722733,0.2596418433151093,0.022250046742944174,0.569202020529278,0.8726647035645089,0.24203966030123325,0.6655589208967022,0.7959306021515726,0.5558401317390838,0.27547586144926706,0.8959791250883691,0.4493097173036008,0.484743494395935,0.3833497470892947,0.134505148807044,0.6737628466233623,0.8773731010115522,0.13146323205979393,0.13719040663646243,0.2852786939082619,0.4751972468698299,0.15786973238660562,0.09370912239432405,0.5500893633470945,0.3466230995618157,0.36410704956330353,0.24426410405063892,0.27995539571503913,0.1753007377970337,0.2814992839647559,0.004760700098199955,0.36164602576950955,0.8952793564131557,0.7241059363658047,0.6325297842416628,0.31420412798840724,0.010140164122991568,0.0805161744024171,0.6143549459546531,0.10828341187488866,0.9250957990008556,0.4047551943137305,0.02112128969987337,0.25204487743669624,0.9157983928712922,0.3634040266334462,0.2951758477159977,0.7205292514318569,0.06068623922266425,0.46981796874653614,0.015839107251666373,0.44172644343989487,0.29074329566680346,0.7118453177219713,0.6046317239517426,0.9516728850083732,0.46776390885399,0.7924165208954954,0.9712941723507926,0.7319780988868214,0.5422352522773745,0.08209315918229554,0.8710107457499974,0.5618777096494281,0.3046700526551023,0.8161273897577416,0.8316623778810401,0.2084233281155714,0.6261022739734604,0.2886509002301263,0.4684551180253417,0.5723324125962955,0.08850335462056125,0.166662847744946,0.3292461870396225,0.4078473360689673,0.5712042883410113,0.37290772128910377,0.3348138517381485,0.5332182642513899,0.15056447584821941,0.4879046581226689,0.44236207321855603,0.6313851188553012,0.06897585803981887,0.179993970370378,0.049983254655167064,0.3903128548743464,0.9852760276884809,0.13286844876087056,0.688990188316323,0.6530591372952516,0.752535904036725,0.2833950296059,0.8024683603615064,0.06767523931892538,0.9358863548341357,0.5090381807934906,0.29571553278686713,0.4738961819854842,0.4190438957839374,0.6852882306588167,0.3759051150297015,0.12717902909278223,0.7740902844595795,0.6478909884969526,0.8449774357698534,0.9179089579786648,0.8228190175920577,0.9040524264173793,0.8838975715418999,0.5856303816022578,0.33509298240964047,0.6838617131783211,0.6571456015576385,0.26882696038303355,0.8342089598595985,0.568540995990212,0.4922585426247772,0.14908094210536982,0.580140067781206,0.5956084922724285,0.5364640334886187,0.01260940755027029,0.37302866015560376,0.5701581746235053,0.3736882003374976,0.9668340105271744,0.8975203210307039,0.07060438229679533,0.6711581083523457,0.39120150945236043,0.5937395594886669,0.7148620797938398,0.23890164146231085,0.28734425486347936,0.7702800918481967,0.9578828338877052,0.4202482291216859,0.14851834231915262,0.484001934181191,0.9214122824521264,0.16437585708955804,0.5360426431195059,0.4256778471657654,0.5981389536707308,0.9241832929225355,0.1354450675064539,0.8397061083132947,0.9895725170263986,0.7215536046548323,0.3638018037709615,0.4483543949111355,0.14829664480216387,0.3371775614635695,0.7591308873298503,0.642579605009134,0.3219628271718875,0.7811353451803372,0.2718380701116665,0.8224247400072671,0.2653909429781587,0.29447070162341893,0.8987630150567472,0.004269896222662495,0.8521177502549572,0.4464431028860467,0.7883108544357625,0.10404281371724766,0.7987452667823035,0.0019390038644999663,0.4264270618774939,0.26637081158228926,0.43262220489456393,0.9998385331254984,0.019017745790669283,0.3808503320780712,0.7566371778489948,0.9661263880012433,0.27760991345659636,0.6691924286671775,0.9268087881616928,0.9277398703590465,0.5333703559525949,0.9827997152746799,0.4747116792604509,0.2727038895137446,0.8657234948049469,0.480424009569154,0.616006957370798,0.10577478748876201,0.7041025285556531,0.36649783681231596,0.21998196429549255,0.9540475054427233,0.707770259746766,0.1645588371139164,0.7803241284405976,0.806095273906807,0.7842414037744762,0.37780313194236337,0.30219491444460544,0.6134959211754947,0.5176511091788379,0.24223566915552042,0.47620541476506895,0.09209234299846669,0.4510120793448297,0.6635447574527481,0.7374461345622485,0.5628081752942858,0.23925900130445998,0.6746474246586295,0.9397905070306862,0.22974738562772734,0.9272160876370469,0.684430559424529,0.3996654955805917,0.638221109907381,0.7639547593945645,0.4765653983338417,0.3438658553836409,0.6768845641546231,0.6521074276492941,0.7048277468034885,0.42760142063018036,0.8411183521936534,0.36325125417809667,0.4785750432624172,0.20457897288697524,0.219170480203567,0.6731685349374886,0.6280323843371333,0.015210544567981099,0.35828202137203924,0.6653133496383771,0.39936771763022183,0.5758910199166839,0.5156291754547502,0.028561790522763197,0.3781000384415679,0.12897561352543085,0.15505628602388555,0.4242846747374589,0.2933715162060201,0.24449609700409858,0.7143490181302291,0.06498960485341876,0.054981663518800516,0.667882984677607,0.11545920857804048,0.07797493621455742,0.7354589788046468,0.6813498366084533,0.7835430780012043,0.5575558852362564,0.42592402359291326,0.8313888685697468,0.7146556211042142],\"y\":[0.23677014053876844,0.9083775667964502,0.1833735233381426,0.16161723085996238,0.24849614411034238,0.431833283921338,0.044991714891426615,0.8768875822603569,0.07297175805067346,0.6129864294664155,0.6326135796241746,0.845988427707548,0.98609466469236,0.3843101878906735,0.30983565032033167,0.5406581817704292,0.6724800404363915,0.755276521059885,0.7057513092879977,0.18457811368755095,0.5980004153203463,0.9874339172941428,0.08034638970470998,0.8047177844058314,0.9556610696822571,0.2030789080921226,0.6065249648260714,0.9051743303329266,0.833870983015856,0.1593056076274889,0.3586059884685938,0.45771287888504664,0.8169507930891355,0.5469253039471519,0.5127420777617678,0.8375550886847758,0.7106363846579684,0.21765735923750307,0.6745528726731695,0.08611416836889763,0.2210044475050541,0.7528074689974482,0.012720628790802824,0.40789963382601835,0.041346192145206295,0.15589266391176548,0.5250787155589888,0.018226850196345512,0.6200865110725147,0.5922537483606,0.08638972894481223,0.26822414621489354,0.6169123140520948,0.9991491947793664,0.23994627579232453,0.14714593938292486,0.7675037705112374,0.12370551764102666,0.36840663009085617,0.1741867089887309,0.06531066059989132,0.26372779439384053,0.40691469888534515,0.19293631973542769,0.9134754486448656,0.459227035666123,0.46292551515595604,0.4049233798068167,0.09969504171528532,0.8656519358768859,0.9406099404707382,0.8643580861844726,0.33337712057765156,0.1380104429923299,0.2640028610567301,0.9555595820715427,0.9786742536368054,0.074964295798711,0.4590715138095065,0.6132684590503107,0.04798644572446675,0.7262823980179052,0.26759227370193883,0.2079455889797901,0.22240273120635123,0.992253098013726,0.60545158119433,0.4400292493686476,0.730415630904582,0.6566605300816469,0.5019838232293239,0.9293226443481173,0.28702882527836016,0.49965025965298027,0.724329856243184,0.8340886986707271,0.37571962257250335,0.3103221846231454,0.5271508123911197,0.9991546656510952,0.9153618160770992,0.33692828623381255,0.5631001372823695,0.06480729757919323,0.6586578344359585,0.05201643132610967,0.31244843331194094,0.2167643391894838,0.06533198560332454,0.5773800178302072,0.16070040198135171,0.9322584064287244,0.0626151627777729,0.4420311865144003,0.0826739368779752,0.28893715293215516,0.8364782199088431,0.12461125700601938,0.18578900216633154,0.21774923809348334,0.6943832412007591,0.6174757705570091,0.6799277167050055,0.46890661666575983,0.9562924548085501,0.5536681136725681,0.19267359879779444,0.21191679139053388,0.4480808418427392,0.3915244496994159,0.6101853000149514,0.18190726566330007,0.217402821546263,0.31963872524125314,0.867265433185956,0.10814068429105039,0.013083122951791482,0.6572186082775274,0.41905678278441705,0.41708498826989693,0.47794810568435264,0.4012726512116107,0.47347652147597774,0.5225879633606366,0.10999199210164179,0.5395124442922847,0.9117689635023836,0.23830333075402665,0.1805924505876194,0.9990795413631057,0.6223047066238133,0.4832151864819738,0.5411331724008205,0.4098586580133302,0.29028895334854277,0.9423613173477215,0.8213347168499778,0.40146074422697997,0.5095351724134485,0.2842454433222712,0.601118729821524,0.8188899920607643,0.23055685798446157,0.7751916353912939,0.19311368797777728,0.9668731592405219,0.848852763652666,0.7249990346179221,0.7191314760316513,0.8172422259378249,0.2418583193969257,0.7389831977998091,0.49966242217639,0.03186174001061404,0.8002574350388756,0.48703615726680105,0.4638090705339286,0.9605698030478186,0.6672780630433138,0.5923648866152714,0.3244253120561026,0.32932926838201604,0.18883345346567915,0.9706974275585102,0.2491429560462448,0.4815765879248446,0.37043639897143754,0.2319433196069085,0.02393006799073072,0.00916925328575302,0.7744881310456003,0.07397231127680326,0.861247580176723,0.7048089657990664,0.420317557964184,0.3361081193672476,0.29625551853978893,0.9292353946003378,0.7083568003270432,0.09515077455536203,0.36410376383410836,0.48449170003017716,0.5699399907243983,0.8645325029578909,0.17562485553249163,0.967405776881108,0.35975216682854616,0.8731900615107837,0.4832458629430654,0.37117996263290165,0.9071926019734061,0.5586516037769355,0.0920646795866632,0.21667556523310594,0.08635851145468931,0.43911555543341774,0.2748820267089306,0.8140594807004743,0.24898250580017534,0.9153794523733263,0.5958408169266849,0.7832516745650036,0.6139880225065298,0.10972852075362549,0.1521306047772547,0.322837635339298,0.505186426095228,0.49293483918727077,0.15552329419793876,0.868817169344932,0.32865672097178855,0.2144144195472779,0.06583438574614209,0.5049445906609289,0.29624473951202746,0.06448653185663589,0.2171585514311416,0.7136991580842049,0.7277499366875544,0.8037170582122959,0.9875225807869575,0.8388343374141417,0.3094061351375632,0.4756032711338162,0.993399277461673,0.1880039455304281,0.6631678380440562,0.8579215469189414,0.5560665352290982,0.957043920559228,0.4085139286066729,0.5952841455547055,0.07541824731775226,0.3857512788471614,0.32662236866949723,0.32805940836478864,0.7947242828718707,0.6830186702901887,0.96800187443885,0.45106764131516874,0.23395257486950116,0.6321549171130803,0.7461181022602371,0.40119938199590566,0.8630757742931605,0.25034717982790644,0.3380836941851447,0.8105173791342263,0.2733774750272606,0.8618607421682716,0.5069865098924655,0.2341185401857553,0.6276370493685176,0.6370343975836907,0.374859286135644,0.6657890539566517,0.5757983963092289,0.21482271154235355,0.6766357920617406,0.6567557482954838,0.9872945299703955,0.1890631556115785,0.22186763189003988,0.10599254645248946,0.3871218141684595,0.5830107308136713,0.9651345067752786,0.1525235198227961,0.2516336864777441,0.4452008773735101,0.4157216179287031,0.8433876205957321,0.06742538127772346,0.07895586064882487,0.8419205177477256,0.44460304120065797,0.015656285236228862,0.1831231543347135,0.4274925872745733,0.3591101780472983,0.8268313688567742,0.47923027431317955,0.377985439565914,0.06029928836086562,0.2147348760645611,0.7274169562392678,0.06304360260297948,0.4026838987023259,0.4186814480879907,0.07732281410416009,0.15243991358605102,0.5399988524037868,0.022700597216238294,0.9920273512471758,0.448745076590941,0.5243781024768224,0.10577143276952738,0.964475283335578,0.8312316097791397,0.5519759621414227,0.35948685063931607,0.6513050344315577,0.8426288060001953,0.5888619163936923,0.023473036092308663,0.43292159254586504,0.5262874450881732,0.20768960360408395,0.006194118379692748,0.09624696301782576,0.40260153603368143,0.045745283118781455,0.6301749456090578,0.9440295908147425,0.7511630277521506,0.5974114851899127,0.8665070645019511,0.9408040239051563,0.40748374553155453,0.6796205329142583,0.9979933798568069,0.999262215604695,0.7469206957097637,0.37742100139217793,0.657992330963277,0.7815324162042115,0.37686241115221675,0.4283223931118778,0.9709399696606322,0.6924047807874307,0.19544052867416895,0.26239844247599065,0.10306421084102968,0.7848957546595494,0.21637528199323186,0.1388809432762207,0.8888185723001094,0.16478924296680553,0.033282785333832554,0.891011827912015,0.05813076084276059,0.02000712885176703,0.7630803926817061,0.7915130829792032,0.06305008964037151,0.15457473135398525,0.4321523079939892,0.5103627811139072,0.5795404700567484,0.4970744947266911,0.8003936361401268,0.9688463644665304,0.6654253473146577,0.5173923134859717,0.5020522361216943,0.6813362167421715,0.4517861712483001,0.9294551697102535,0.5047640675075687,0.7589112374106421,0.6595714753082604,0.661623483979407,0.4275858715175359,0.14663350657374574,0.18377466526854314,0.21248387759721687,0.806856250306345,0.8740438237682029,0.34889521029745796,0.07506253351942638,0.27980985208714904,0.2982057419320384,0.5061913785201684,0.6608733493871792,0.23086685944176588,0.8374098111747839,0.9202277240757697,0.2500822073880644,0.14408027585484284,0.005708564015478923,0.8552170457480727,0.2899077826780728,0.8688557140525044,0.1801855000912881,0.12526468516402134,0.6981225896312331,0.8316904010207844,0.26049541846636126,0.3387126428651418,0.5547528892138115,0.5359885375945188,0.7211732603702266,0.43606574906124307,0.6323231668517967,0.3121589849221724,0.7920050809952413,0.1188119460293573,0.22283081229787005,0.3089576205255242,0.5668150952019754,0.8856819480227696,0.8195754984938253,0.42940926310994065,0.7360182912145067,0.5722413730371771,0.9136854273835833,0.7129940481017921,0.1266477182199114,0.9990918345933896,0.44094220459513966,0.22802094524404792,0.5441649810476666,0.7379722340662643,0.9814339223891912,0.5010155143353902,0.16841156010813496,0.6852427686477777,0.5732093644646474,0.970780956512063,0.9744875045390853,0.27147089154821147,0.7971121671783945,0.636899941123153,0.23700492059635558,0.7600895284140655,0.1686830930420482,0.4972851269815137,0.9678462398545244,0.5455236748028384,0.9333514387862012,0.12569473207187276,0.8099758974079051,0.6720963270011321,0.1352798891641871,0.1468965615317469,0.8665331051432474,0.4346615411361653,0.5063492458591373,0.21966487846263483,0.25713478952048263,0.21861973843150972,0.46004833439175297,0.07773938583441742,0.45812182427502035,0.20580097934987174,0.07186868910177979,0.36260264274507714,0.43688758997385324,0.42533663633860275,0.09540082128185834,0.17637625757527786,0.12440886589755029,0.11652873394631003,0.5103402574642645,0.6330210167364222,0.7406735115095153,0.8025009734438009,0.04014017407735193,0.4691670120443253,0.5161448456490184,0.9843653633031664,0.509133843775181,0.21971555665732323,0.5444960273601719,0.12255012107505137,0.6698124536991888,0.38954654229786656,0.9868539318783978,0.682209449896987,0.111894310382327,0.6419595504625764,0.09521811274460101,0.002021611051657879,0.45526113688715286,0.0036811265292994166,0.7386284085951483,0.8436375043881568,0.17406714267296053,0.5454046052278269,0.8095449947651224]},\"selected\":{\"id\":\"2102\",\"type\":\"Selection\"},\"selection_policy\":{\"id\":\"2103\",\"type\":\"UnionRenderers\"}},\"id\":\"1992\",\"type\":\"ColumnDataSource\"},{\"attributes\":{\"source\":{\"id\":\"2023\",\"type\":\"ColumnDataSource\"}},\"id\":\"2028\",\"type\":\"CDSView\"},{\"attributes\":{},\"id\":\"2105\",\"type\":\"UnionRenderers\"},{\"attributes\":{\"formatter\":{\"id\":\"2097\",\"type\":\"BasicTickFormatter\"},\"ticker\":{\"id\":\"2010\",\"type\":\"BasicTicker\"}},\"id\":\"2009\",\"type\":\"LinearAxis\"},{\"attributes\":{},\"id\":\"2099\",\"type\":\"BasicTickFormatter\"},{\"attributes\":{},\"id\":\"2002\",\"type\":\"LinearScale\"},{\"attributes\":{\"fill_alpha\":{\"value\":0.5},\"fill_color\":{\"value\":\"lightgrey\"},\"level\":\"overlay\",\"line_alpha\":{\"value\":1.0},\"line_color\":{\"value\":\"black\"},\"line_dash\":[4,4],\"line_width\":{\"value\":2},\"xs_units\":\"screen\",\"ys_units\":\"screen\"},\"id\":\"2101\",\"type\":\"PolyAnnotation\"},{\"attributes\":{\"fill_alpha\":{\"value\":0.1},\"fill_color\":{\"value\":\"#1f77b4\"},\"line_alpha\":{\"value\":0.1},\"line_color\":{\"value\":\"#1f77b4\"},\"size\":{\"units\":\"screen\",\"value\":8},\"x\":{\"field\":\"x\"},\"y\":{\"field\":\"y\"}},\"id\":\"2019\",\"type\":\"Circle\"},{\"attributes\":{\"callback\":null,\"data\":{\"xm\":[0,1],\"ym\":[0.5,0.5]},\"selected\":{\"id\":\"2104\",\"type\":\"Selection\"},\"selection_policy\":{\"id\":\"2105\",\"type\":\"UnionRenderers\"}},\"id\":\"2023\",\"type\":\"ColumnDataSource\"},{\"attributes\":{\"text\":\"Select Here\"},\"id\":\"1994\",\"type\":\"Title\"},{\"attributes\":{\"callback\":null},\"id\":\"1996\",\"type\":\"DataRange1d\"}],\"root_ids\":[\"1993\"]},\"title\":\"Bokeh Application\",\"version\":\"1.3.4\"}};\n",
       "  var render_items = [{\"docid\":\"89900169-bb13-415b-923a-25022a6a046e\",\"roots\":{\"1993\":\"ce5c9c05-2f06-419f-a586-d869ce68c252\"}}];\n",
       "  root.Bokeh.embed.embed_items_notebook(docs_json, render_items);\n",
       "\n",
       "  }\n",
       "  if (root.Bokeh !== undefined) {\n",
       "    embed_document(root);\n",
       "  } else {\n",
       "    var attempts = 0;\n",
       "    var timer = setInterval(function(root) {\n",
       "      if (root.Bokeh !== undefined) {\n",
       "        embed_document(root);\n",
       "        clearInterval(timer);\n",
       "      }\n",
       "      attempts++;\n",
       "      if (attempts > 100) {\n",
       "        console.log(\"Bokeh: ERROR: Unable to run BokehJS code because BokehJS library is missing\");\n",
       "        clearInterval(timer);\n",
       "      }\n",
       "    }, 10, root)\n",
       "  }\n",
       "})(window);"
      ],
      "application/vnd.bokehjs_exec.v0+json": ""
     },
     "metadata": {
      "application/vnd.bokehjs_exec.v0+json": {
       "id": "1993"
      }
     },
     "output_type": "display_data"
    }
   ],
   "source": [
    "from random import random\n",
    "\n",
    "x = [random() for x in range(500)]\n",
    "y = [random() for y in range(500)]\n",
    "color = [\"navy\"] * len(x)\n",
    "\n",
    "s1 = ColumnDataSource(data=dict(x=x, y=y, color=color))\n",
    "p = figure(plot_width=400, plot_height=400, tools=\"lasso_select\", title=\"Select Here\")\n",
    "p.circle('x', 'y', color='color', size=8, alpha=0.4, source=s1, \n",
    "         selection_color=\"firebrick\", selection_alpha=0.4)\n",
    "\n",
    "s2 = ColumnDataSource(data=dict(xm=[0,1],ym=[0.5, 0.5]))\n",
    "p.line(x='xm', y='ym', color=\"orange\", line_width=5, alpha=0.6, source=s2)\n",
    "\n",
    "s1.callback = CustomJS(args=dict(s1=s1, s2=s2), code=\"\"\"\n",
    "    var inds = s1.selected.indices;\n",
    "    if (inds.length == 0)\n",
    "        return;\n",
    "\n",
    "    var ym = 0\n",
    "    for (var i = 0; i < inds.length; i++) {\n",
    "        ym += s1.data.y[inds[i]]\n",
    "    }\n",
    "    \n",
    "    ym /= inds.length\n",
    "    s2.data.ym = [ym, ym]\n",
    "\n",
    "    // necessary becasue we mutated source.data in-place\n",
    "    s2.change.emit();  \n",
    "\"\"\")\n",
    "\n",
    "show(p)"
   ]
  },
  {
   "cell_type": "code",
   "execution_count": 13,
   "metadata": {},
   "outputs": [],
   "source": [
    "# Exercise: Experiment with selection callbacks\n",
    "\n"
   ]
  },
  {
   "cell_type": "markdown",
   "metadata": {},
   "source": [
    "## CustomJS for UI Events\n",
    "\n",
    "Bokeh also has a general events system\n",
    "\n",
    "All of the available UI events, and their properties, are listed in the Reference Guide section for [bokeh.events](https://bokeh.pydata.org/en/latest/docs/reference/events.html)"
   ]
  },
  {
   "cell_type": "code",
   "execution_count": 10,
   "metadata": {},
   "outputs": [
    {
     "data": {
      "text/html": [
       "\n",
       "\n",
       "\n",
       "\n",
       "\n",
       "\n",
       "  <div class=\"bk-root\" id=\"80aff125-0c0f-4059-931a-f93b64c8aefd\" data-root-id=\"2196\"></div>\n"
      ]
     },
     "metadata": {},
     "output_type": "display_data"
    },
    {
     "data": {
      "application/javascript": [
       "(function(root) {\n",
       "  function embed_document(root) {\n",
       "    \n",
       "  var docs_json = {\"9303f2f4-4b0e-458a-844f-bf4d1349a7eb\":{\"roots\":{\"references\":[{\"attributes\":{\"children\":[{\"id\":\"2194\",\"type\":\"Button\"},{\"id\":\"2195\",\"type\":\"Row\"}]},\"id\":\"2196\",\"type\":\"Column\"},{\"attributes\":{\"data_source\":{\"id\":\"2188\",\"type\":\"ColumnDataSource\"},\"glyph\":{\"id\":\"2189\",\"type\":\"Circle\"},\"hover_glyph\":null,\"muted_glyph\":null,\"nonselection_glyph\":{\"id\":\"2190\",\"type\":\"Circle\"},\"selection_glyph\":null,\"view\":{\"id\":\"2192\",\"type\":\"CDSView\"}},\"id\":\"2191\",\"type\":\"GlyphRenderer\"},{\"attributes\":{\"fill_alpha\":{\"value\":0.6},\"fill_color\":{\"value\":\"#1f77b4\"},\"line_color\":{\"value\":null},\"radius\":{\"units\":\"data\",\"value\":1},\"x\":{\"field\":\"x\"},\"y\":{\"field\":\"y\"}},\"id\":\"2189\",\"type\":\"Circle\"},{\"attributes\":{\"dimension\":1,\"ticker\":{\"id\":\"2181\",\"type\":\"BasicTicker\"}},\"id\":\"2184\",\"type\":\"Grid\"},{\"attributes\":{},\"id\":\"2181\",\"type\":\"BasicTicker\"},{\"attributes\":{\"source\":{\"id\":\"2188\",\"type\":\"ColumnDataSource\"}},\"id\":\"2192\",\"type\":\"CDSView\"},{\"attributes\":{\"formatter\":{\"id\":\"2277\",\"type\":\"BasicTickFormatter\"},\"ticker\":{\"id\":\"2181\",\"type\":\"BasicTicker\"}},\"id\":\"2180\",\"type\":\"LinearAxis\"},{\"attributes\":{\"children\":[{\"id\":\"2166\",\"subtype\":\"Figure\",\"type\":\"Plot\"},{\"id\":\"2193\",\"type\":\"Div\"}]},\"id\":\"2195\",\"type\":\"Row\"},{\"attributes\":{},\"id\":\"2176\",\"type\":\"BasicTicker\"},{\"attributes\":{\"text\":\"\"},\"id\":\"2276\",\"type\":\"Title\"},{\"attributes\":{\"callback\":null,\"icon\":null,\"js_event_callbacks\":{\"button_click\":[{\"id\":\"2197\",\"type\":\"CustomJS\"}]},\"width\":300},\"id\":\"2194\",\"type\":\"Button\"},{\"attributes\":{\"ticker\":{\"id\":\"2176\",\"type\":\"BasicTicker\"}},\"id\":\"2179\",\"type\":\"Grid\"},{\"attributes\":{},\"id\":\"2282\",\"type\":\"Selection\"},{\"attributes\":{},\"id\":\"2171\",\"type\":\"LinearScale\"},{\"attributes\":{},\"id\":\"2173\",\"type\":\"LinearScale\"},{\"attributes\":{\"active_drag\":\"auto\",\"active_inspect\":\"auto\",\"active_multi\":null,\"active_scroll\":\"auto\",\"active_tap\":\"auto\",\"tools\":[{\"id\":\"2185\",\"type\":\"BoxSelectTool\"}]},\"id\":\"2186\",\"type\":\"Toolbar\"},{\"attributes\":{\"callback\":null},\"id\":\"2169\",\"type\":\"DataRange1d\"},{\"attributes\":{},\"id\":\"2277\",\"type\":\"BasicTickFormatter\"},{\"attributes\":{},\"id\":\"2279\",\"type\":\"BasicTickFormatter\"},{\"attributes\":{\"below\":[{\"id\":\"2175\",\"type\":\"LinearAxis\"}],\"center\":[{\"id\":\"2179\",\"type\":\"Grid\"},{\"id\":\"2184\",\"type\":\"Grid\"}],\"js_event_callbacks\":{\"selectiongeometry\":[{\"id\":\"2198\",\"type\":\"CustomJS\"}]},\"left\":[{\"id\":\"2180\",\"type\":\"LinearAxis\"}],\"renderers\":[{\"id\":\"2191\",\"type\":\"GlyphRenderer\"}],\"title\":{\"id\":\"2276\",\"type\":\"Title\"},\"toolbar\":{\"id\":\"2186\",\"type\":\"Toolbar\"},\"x_range\":{\"id\":\"2167\",\"type\":\"DataRange1d\"},\"x_scale\":{\"id\":\"2171\",\"type\":\"LinearScale\"},\"y_range\":{\"id\":\"2169\",\"type\":\"DataRange1d\"},\"y_scale\":{\"id\":\"2173\",\"type\":\"LinearScale\"}},\"id\":\"2166\",\"subtype\":\"Figure\",\"type\":\"Plot\"},{\"attributes\":{},\"id\":\"2283\",\"type\":\"UnionRenderers\"},{\"attributes\":{\"args\":{\"div\":{\"id\":\"2193\",\"type\":\"Div\"}},\"code\":\"\\ndiv.text = \\\"Selection! <p> <p>\\\" + JSON.stringify(cb_obj.geometry, undefined, 2);\\n\"},\"id\":\"2198\",\"type\":\"CustomJS\"},{\"attributes\":{\"bottom_units\":\"screen\",\"fill_alpha\":{\"value\":0.5},\"fill_color\":{\"value\":\"lightgrey\"},\"left_units\":\"screen\",\"level\":\"overlay\",\"line_alpha\":{\"value\":1.0},\"line_color\":{\"value\":\"black\"},\"line_dash\":[4,4],\"line_width\":{\"value\":2},\"render_mode\":\"css\",\"right_units\":\"screen\",\"top_units\":\"screen\"},\"id\":\"2281\",\"type\":\"BoxAnnotation\"},{\"attributes\":{\"args\":{\"div\":{\"id\":\"2193\",\"type\":\"Div\"}},\"code\":\"\\ndiv.text = \\\"Button!\\\";\\n\"},\"id\":\"2197\",\"type\":\"CustomJS\"},{\"attributes\":{\"callback\":null},\"id\":\"2167\",\"type\":\"DataRange1d\"},{\"attributes\":{\"formatter\":{\"id\":\"2279\",\"type\":\"BasicTickFormatter\"},\"ticker\":{\"id\":\"2176\",\"type\":\"BasicTicker\"}},\"id\":\"2175\",\"type\":\"LinearAxis\"},{\"attributes\":{\"width\":400},\"id\":\"2193\",\"type\":\"Div\"},{\"attributes\":{\"callback\":null,\"overlay\":{\"id\":\"2281\",\"type\":\"BoxAnnotation\"}},\"id\":\"2185\",\"type\":\"BoxSelectTool\"},{\"attributes\":{\"fill_alpha\":{\"value\":0.1},\"fill_color\":{\"value\":\"#1f77b4\"},\"line_alpha\":{\"value\":0.1},\"line_color\":{\"value\":\"#1f77b4\"},\"radius\":{\"units\":\"data\",\"value\":1},\"x\":{\"field\":\"x\"},\"y\":{\"field\":\"y\"}},\"id\":\"2190\",\"type\":\"Circle\"},{\"attributes\":{\"callback\":null,\"data\":{\"x\":{\"__ndarray__\":\"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\",\"dtype\":\"float64\",\"shape\":[2000]},\"y\":{\"__ndarray__\":\"yc3CNV7IUUDqz6xT7ORSQPW7j2iKdzZA4iZort3xVEB/gFU3GPAhQEi+OOYcj0JAYkwAij+ZTUDTtqbCGiRUQEE6Bd5nxlhAzHx9HHIpOUAo7WBpuM86QDi58iISN1BAWxJdGIjMVUAt1/U4I3AwQLmsbLrleVhA9zZV7xSXUEAgxOCpjYtAQPk59tFfjkhAUBtNfgUDUkBwfoDi+8URQCrQ20J3rVBAZS7wjXNIOkC6z/0JfStOQKj8NpHArFhA7AxBa00jUECzvez0iPgxQPKomCCAhVNAn4fqbjQJTkDk+v7OLYpAQFavP9pMSkxApVq7Oq0mVUCo0Zmnr6pVQMRw8xqmzkxAe0KTtbNgUkDLIKO35ghAQGr/Mx9raVRA0Hh9mfEwOkDSVEEGwf5NQGkJBN+jZ1hAbPH02w+AIEBosNvqJB1DQIw7b5ImQFZAf+nN9b7VSUC0KrUOFzNAQHjtUcMNRUhA1F/oqV7IU0DCF2jB7AZGQC1yOXTxhy9AkK24o+jYUED/gP01OZBOQFbRDM970FRA54DKZAbTVEDTWjPaxTdHQH9oLaQDhFhA+EvgNVoINUC8an/WcOdPQJS+K3mHgldAX2o51AbIWEDa1piu9zgbQPidfY4K50FAC7R8VkRLSUCZnUHBbToxQHwZzDHxJkBAx6lHy8lSHkDZ56dO9IlNQGhEYqNZrVdAHd9LaTijI0B+nQENvVdYQPXOdJFxEENAz2xNe2CRQEA4Wv6aoH1RQFTwkvWzSCZA3pQ0/KvIS0DU7QVIQV5UQGFIt6vFpFFANv7PDasnVEDIaUiRbANYQJRmoDnkdkNAghYQ8hrpSUCsB1wpIak6QEnY8Ex4kTdAYDKKSQ0zGkCwwVEE9wolQOK1SkQyLyJAng1qGfd8VkBp1+adjR9LQGSsQo8DIjRAmFHg44gCPkDV+YXevzBRQOIjjIk8mhxAuSr2d3mbFkBMSwFQnmBCQDutw1hru0hA9ZAx9B6iQkASubtRutlFQBVnexMylTJAg7NhOI8HSUCclopGGaotQEoT1rIy+zpAZGQQNqFcKkCfochZ++I1QICj6f1hqjRAi38BwwX8UkB40mCqhnpXQLResmiIPTVAWLvH61PqQ0A3MrLJg00rQJTzB2fFQjZAKF9rD9yzO0AmH5hgGnFWQBX/K6GBUk9AVKe9qn0gMUDxrwgANUVTQAUPkqVvgVBAKiouItxVV0BOF7Na+81AQAqApphnPydAzdePkRcFV0DEaaL1lUlFQMLixlQMvv8/K3lY7ccqVEBrSWak5rdVQPXxqTuhgTBAR2wwG7ocUUBuU2+hKwA+QJYSUNpUhUJAduMVfVL5VUDtEooPe+9IQDVA2DQwx1FADVw7UzRgU0D4pZ3a0vxYQFIPsJuqSfg/PsglrrelJEA7GvZo5elEQLY399L0kzFAwhPgif9VVUCT5Z427e1TQB++UsmGhCBAklhTvUrKQkCLsisKwXI9QPifK/BDrjdAXoUv/sgxUEDGbmJpwHIlQChGkQThP1NA3id/924RLUBa/wJfKJNEQCwVSDNiElBAdQMCCqs3Q0A65ErhJWtGQNvVckdIS1FAJ+tPx5uKHkBYPZnanwNVQE6H9m+9nUdAv03cA1vWTEBOATXOmN1LQMTo60Pf2BhAF7IxncMjQkBWWVfEWR8sQK/dFQhHl0VADoguCaSwQUCBkfIhFYpQQIW+glhvcEFArRP89+/jLUB4fbWJArhUQNjWkn+No+c/V1BNaks2QkBUAe3GmQU0QGGf8+JN6E9AK5ohMLgjSEAI20ch3YFUQOACaMSy3CNA+UAuuAa1UUB4/7tp60AyQOe6KK8UhFZAEna1+DSAUkB8vM0qc6cjQLPdbNCcDiNAnQo9qiZ6VkC75UOTXkxSQLkcuQnhFVZAEv1h9OnaUUDYpEvHSM9YQEWF2YPfQk1A6WDk39osVUDGZXpbF29AQOcH7hCcCT1AOHoB1WUwO0CEwiuPdXFPQNg/26twFjtAyh7sBjlQMUDYo7/Z8ZBYQCA49vQsEklAbXYKoR/EUkB5L4CwlS1VQPsAnaaM91VAAkIWYJY5UkDgIGHHjFxWQNqt0wKfVlRAHs+ToOHlVED0eFV4CfMwQMS8ao5gjFBAyEsUMNikC0CyR/3U3CgfQG4Ty9cOu0pAbKCI6ac2VED6Dz88yagsQJxYqeo/YTpAtq8oistYU0Br9j9LlEVVQC0wv/K980dAI43U/CwnSEDJmOeu+3gxQN97af7JyVFA3fw2kpBfDEDmECIgIJBUQEh6qf1nYFJAnl533OCKUkDpRQXjEcoGQCdYcej5GlJASNLc8V2Q5D9CUXzOmXAHQBXQ8oxJtwdA+CqgGscyUUBwB7jaZ9AnQPMSLUZ9hE1AEDIE61pmNkAwcyKwTJUTQCUR7kbUlFBApceIPpbKVUBxkF8BXK45QLjDnoRDNFJACWOBdz5cDkDOv6s+tdQwQAuNj8olulNAScIYBZlJMkDgaktLUvFMQHYcGCBDIFRAvg8maiZOMkDursfY8P5BQJxUP46PcldAMKMDJRDrSkCiA4p8l3RUQCn8CkMsQlRAJDM4uCSoMkAAwhFTTQZYQA3PiEeu+FhALN9yoGMACUD7fwQcFs4BQFeetE0IqUdA8Dq/p9Q5MkAOBjUqpFIaQJ9sh9Mhhj5AZLhugLPIR0CrLMobqV5XQDoRrGh41glAzcn9UlPGSEAN/yh0BStPQAcJijsFy0JAn4t3bahyC0BWPTlyFQ9JQLECvm0Zc1VA0V1xC1q0UEB0laRISEACQG0vY+PlSEFACmW3T9VUK0DKOSZgn0hPQP7uAhkLXkhAmIIx5SW1UECt+4O04odRQGrCGhvtZ1ZAuRTlJ9ZqVkBySlVlI9lRQLE6aOcFPCNADpk4Au+9HUDmKCfamdI9QDEr5nt8q0tA/Uiwjmr4U0C5LYl4YglFQBAeOOSy6kxAUmjbIpjATUBdYUYaSHRUQCnqyp25EzRAEeX7ORwQRUAJgQ1uWjkyQCjJ+qYPukdAgvpJOgOIUUDaCpoW71pVQNHX3Agmkz5Ay4Jjc+mFO0Asy6ILWd1VQPlyRmxYeFJA0k36A5l0WECMsBIQh/UEQPyO1RQpQE5ALL98V28USkBxds8KKsU3QAB0AdWwXnQ/J2dTwuV6I0BR4EEJFe8fQNWb/enVmVhAjxPmlVWMRkCiMwSCQeI+QHX5D3jM9ExAHwRzLSXCV0CmQKjiP8Y8QLn4pk2iyTdAj7CkqbKHFEDVMfPArS5TQCUO23bUbE9AvCHnwAvySkCE7xW3dllNQKBVeQ+CDkdAeXcDi4SYUEDIybZSYkpFQIi4f9ROREdA8+I4g+otSUB3NfMLARNMQL5LiBZq8kNA164s/54UVECBsuWAn/RVQCi+UgTP5VhA/uZeijYoWED8Gp8tKsVWQOpjDfFzDDFARQt9VG6pU0DNCZ4E83tNQIVkiSizLDNASInHrmr0TkDKCI2DndI9QCqXf5/EuyFAKEZnWAliLEDDfxkt7n05QOT0A2kr7DlARIx3t3w+UkDB6ynIcxo9QGIhJPEUPzZATjF7ycziLUBMcPTKMXY+QIKDDVxXezZABvwk4ptgVkDbbKcJaMlUQAuDEQfOAFFAIO2Id2Tr3z9AKChEU65WQB/HxSr0B05AE/iGHnP3P0CyyTMnoIYqQPmc/5m+pjpAvSA+hWVmQkCa3XWXgfpIQA/12SlKHUhA4ks6R21dO0BPKuoz1LJQQKr03aCV1ylAZCB5nAYkRkC1XW0dlShWQKZPoacOjklAZYq06bEKVEC5xlv3o+RAQBnNW77V1kNAv+DvllxWU0CB1sRgK2dQQKnYpMtlKFFAZV4A0DjkUEDHXoUfjxoyQKGm+bBgD0VA0/INxYIZVUDkkhit9YA5QDa8S69yoUhAopa1iiQDLkDQJe8q0HItQE/nNoysZkpAldxoJcPlVkDS3LIlvKFEQPiOEnOnMTlA73kBNh6GU0DbuuMi9ZxWQML54jPlHVZAFt1ovr43QED8lZteBeghQBi3w9DDwVVA/ULWIfUuUkCpYW2vL9o1QMFZAUHBO1JAdVP2a52oQEB5LUlGv5FIQH8MQ5gDMwxAy/SQCPYyU0CwzD12+FVLQAENoMPW6VRAmiGEKhqdPkAt1sixd51UQBzARUyC7j5AO8HpRHkHS0AEqg6UHJBIQFJwew00sUdAFOkkA9P0KECM+vq2Ocw5QHmfM3bYxDdAZpMY2MO5TkD6vM5h4U0RQKW46ZsedjpAgrSyJhYzL0B0H9pV7ExTQMz/4eYColRAWruPXwICQ0BowCYnDjo4QFD3yFvSxlJAyiY98YyvVUCLzhzLuD0oQBU9NkDpcQNASmCFh/3KMEDoV0kF4FjwP7QfIz9utzVArtMlNHxuNECH3n3ZQ/9AQLKedVRRp0hAh/0DyiNrR0AzdO415LJBQIFqIOJfAFhASgvI+T9+IEDTU5JeJilKQCzVUoCS+FRAE+8nXVTzRUByKQsyx4RKQGLZBiVhCVFAcIJ6gWKNO0DfiusZvS5XQMtkcnWfDDVAlpXlCHjdUUCANxgUhGgoQDU0HoqNmktANJDSLdQKUkBa/lzYEWBXQALufyH+qDtAVVBiuzoMUkDwhmwB2PxFQP4wIyMkzEVAat6/ulaATUCl/ThI1FFHQPWrGAWCelFAivnVc4Z2TkCoy5A9FaITQHqmAh+Mlj9AmV1w2sq8WECIjooZ64RSQMSu8wmD4VJApXZnn1gNSUCSpMsM021VQJWNCNERmVdABcke7cdDPUAVpMMxzOlNQOCRNswKwyxAzkosW5UDWEAmbYrVV4dVQPjs4ZbOAkhAziTrfPdbKkDmYwnCtpUiQITF1vYjXElA+F/HoIWvIUD4vuYw68NKQCmVHaT3fUZAfpE5YObMVECOrH3dDttJQJKA52PNyzlAUF9fdLFYOEBpSM2OrbIZQAgOkHwoIlBA3YVUXjpJRkB0mHSKOjEyQBh9GVoJnFVASFdNcQbbPEDXTzhzhjQjQFu6daoI5EpAahA2xUJgUkA9ni4xqsVWQPMocQxjC0RAFrf5R8MTVEBtpy4q3YxYQOyQxk8HCylA/+iWARjsREAO/o4j7lZYQLEbagAyeklAZJbuyzZmVkC4K3jrn4YuQBgxaDBtdRNAHbrR8C//U0BcqR0ZWLkeQKMcbsskmFdAHcV2x2B9UkBwQ/R3N+YnQHj5v9nonjNA8WvS8FxeQUBFbULrvBVUQP2w4zdYF1JAq6gFZxVZTUBBJmcIwQ0zQPAhcAzuID9ArGteqc8hQEBA4mayaq0zQJZghX6PhU9AmDHnjL1VKUBdpCvMu0ZIQHGGIlcKYktAY+h5syRzUkCheSPzwc5VQGlJqmmYcEhAiOf1L4wgVkBYj6v/8MwsQMpwpgoj7UdAigcuRK8qRUCOsGolkLNWQFUAMtgay1JAjDgt+3n2N0BYFEcGtVJBQDUdlTOT+0ZAhiHkZMxpTEB2ZavlL9BPQOsFL7WW2VNAr5bq6mWiDUC0p1VcV/82QIAHeOy35UtA2gd6O93rUEBHQ7dbAzZSQI4blq2D7VNAvYQL/5/kUECjyS5+uCFVQLnvZx5fzCdAoh+hS0hRUkCC1fwOx9dMQDz2ChND201AuBhWJIeeTkAi7WYJKCdOQH2zh+0XTk5AOs9C1YjeOUA6FBx7lBNWQGfMgy28nUdAs00sFC0ZUkBepRyqRRhSQMqJsmt75jBAb0O/mpqBWEDz+HZYCUUvQPLTQpUI51VAoulsn0bDLEChp4VpImpSQLKNybDgUVJAEJa9loYTTkDuZg2JH55YQOQ2RHdGOkFAHVKeVuDUWEC1b7VURkBQQHrOLHuh2DBA63HiOceEUkBGFpzA3P5QQNNLYSD8HFRA4p9mrPD/M0DmpP/bj5FKQPTn9piWwEdA0hglm6Z9V0CjZcchs5BCQM7KsMvTVhhAiouKkraxUUCzvvMRycM1QNCCglCNEStAnJbGz29nI0CxTGlyf0wjQIpjAHm93EFA5QQuR9vQRkCulUq+vaZUQEq+KSOr6lFAQDPT0/TJRECEJYgZkMk3QNQCMDHNv1JATQWLLB6MRUBLs6LeLeFXQLBb55rrpFhAaM9/YdCJWEDNYKgpBU1DQGr9h2stGVBAJj+p4pGjWEAkalmsjo85QJouPuPBvUtAWVtF/5CIVkAaDiDbyiU8QDkTWZIdcFRApTPIr5QLNkC4Sk4KNdpSQMfQQjOGvVRAonQrdhZRKUAsBfgJyRv6P31nPoQoZ1hAobYYmd4xU0Dn7qO2ZadRQFG8kGSyHDZADNp7alvbUUBCo3RQeM1VQNa0bzVt1UJAzQSMlhMsQkCrOAHM210VQOtHLp8CcTpAtvS04gwtSUB0/7LEfUlEQID6/4/NcjZA2lBAyCYGR0DqdfosQr8hQHL7ffkmKQZAkmRZVP+xWEBiojP8WZ1WQKqOQ36uQ1dAIFEYDd/6UUBYMJKmcM1QQIM0DWfD+UFAyPCF62uAQ0Aq2+4FIBRFQBQsOlSN0ylAQVvJ0txDO0DgBtWHC5ROQLBJGiEgm1NAEkQzJwd3NkDmBgy+ghX/P2YfQjj9yjtAUiZziCx7AUBsdrnifFVOQBg98LHqLyBAG7HCEyDTVUA5mpvL4w5MQDzVjfe9xFdARcr2ducVSEBohPYrgRoXQH3WK9bvTTVATdgR/eq9REA161b8BBNFQApzKAha+ElA/I7eLpPnCUBGeLJkXiAyQFzpWgkNDUVAICc5qZbfTkDP00ypr48YQAQnFPpoG1JAF9bQE4QdREB0iXtE4SFTQOti7GAMEUpA55ix3ZhuUUA3JS9C2pVTQACeyHzA3jRAusLtf2a0IUCIvJj2d6JTQCEuJ0MHzlJA+rrxiWmJLUAlS3kQNVtJQEayBrlryzNApsh0nr2KM0DSzt2jGZA7QImjr5UrBVNAhuOKnqQrVUDfcku7PA9NQJTZu/D5CkFAfFgEJBEgQ0C6qWBdAnxAQG6cm0JtCD5AwvyPIEwsSUBfbPQU+2AvQF4gX+vFciJAVTodWY4MLUAuOz3zp6RDQE4Yv/+D6SdAx0TcP/3NSkB2C2j6aENYQEFXspCYAkdABiLhLLz/V0B6xq0rgkZNQFSy8hpk4VNAchpm7ceaT0D0l2RmpKwwQHfScXm22lBA3hVaAWe1Q0C4OK92LMdQQEo2o/UIsldAT8J7n7jtRUDwqN+a3WUaQGrJhx0p9E9AakPtQRqFRkBIb1e6YylAQCBUQThisTFAmVMRGMW0VkDnjCDtqEhMQBNvnQsTMgdALf+FY7HoR0CJkRwRk/kRQMWGjHgg7UdAa/mHIHrQJUBDh7JVnUk1QH/OF8dVGUdAbn6UOXS2E0B44weN4XxNQMKxwnTcrUFAJ6aoD8blVkDXGBpDw8xEQK7SFbNsJlVABgXYkOkqH0AkumbbR/8XQOPeSdhRzEFAkR+F0v2CUUDQePsRaltUQBz34gDrPTJAoAS2R4Pc5j+piuv5KgAiQMwSX/PBcTRAD8NWB5F4SkCSxnoVcib6P8ZGpFG8wVJABwPsB/75UEDOC/DgPXNTQE3XnqHs5VNAz3amjPT4WEDMb7RaFJ1AQCBjHdpjmDNAj3Zdma55WED87Q+t+NlUQH6lGtWQWkdAhKEga5mOPkBf0bCj+zdRQLCyso6CxENAY+En/e05S0AdPUIT13QoQLPXRU+gckNAELTByScOOEA3363t9o1DQEbNmU98sVdA8NHCyK14UUA9+B08LRlIQKgS8LxHG0RATGKUWB3MV0BLwSX2Lwo8QIfqCkRrB1JABUfLeie5QECJrugOh74sQPUq94NhYkJAMqAM5NeeVkB8LORZ9BpPQIeMD2I4jlBARKEyosrdUUCXKCOUkyxUQHtYLpBxvSFAP9E8x7TmVEC+tKHhPllBQB7EYqadU1JAgcnFs+HXSEBPgXMxI3VRQPP7Aoj8QlhAXhdyYE7MD0Du5uPBFKhKQMMObeuL0VdADXg8Qlj7TECVSKH/QKc2QAbpPcXSOj1ArKZzxrhSVkBvK52eTHcuQPf4fa6iPUxA89rRsG6nBkDpfVn8f4BVQLgSCqV2c1RAwNIsJhaRVECOoYEY5g1NQJY0edZ7aVJAXcRyNkjbTEC3MuQco0JKQPTZEv7N9R5AnKMMdL//KUDQ+4jaZd5AQOjAqQKkzy1AFOWnN5HwS0Dtxp0YyFxJQOglVajtEVNAS+gI42GdTkD4D2z5YfpYQA9rJBr3SEpAq9A1xMInPEAwEVe3SOtUQCLq+HmzE0xAEn0oCYotUECvjNw5/7lBQM6mI6oC3VNAIOQZKi6cO0ApsDLsnEtAQIl2LSpiilhA/KII0M1sSEDzRVP5x39UQNb8GQvNCEFAHSH3fqluREDOdNiRXfpYQK8ixy0pVFJAatlXWPnXPkCWtEnFYHVEQB61MrGiMy5AAJvto2tTVED2bO0EHGNQQBbAT4kyqxZA4kASh16UV0DqbthlJCNWQI3WAWJWbi5AckgIaGWWVUDwk/kPIH4XQJY/wCb//1dAP1Uhug/USkBR/An4qftVQB5Z30VKPFNA718GuEfLV0AcGegmcav8P6QKdUDatShApN7MC3c+P0ByEc6rW8pWQNr1v8Q3OkxAsrlBPqgoREC5EqAu2IE+QC5KSrExMzBAcyXBSNQxOkBjqT1eY7VQQNGcgdmTs0ZA9PFjYYF7VkDSQ2x20k9DQAP1VfKUfExAp12S7CgDWECrV8udUH9VQG7AMJ2N9jhAh0/YRVuUV0CJZiVwa5YxQBWOGOxOulZA4cSvv2vFRUAw+l+OkXlQQETZZqnl4ABAhcQ9VrzKQ0AbHmIBupNBQGXTpb++vRJAMAN7NU0KUEDLC7Xj5cYFQAeYvgA9wBxABZiJImc3VUC0edWIqLVAQDJZtfUvdz5AowNGbNmIOUAdlOyoM5xHQDgY3k0Y9RFA1MtGb5HmQUAgHPctER8bQPkgYK+eCEdAq3KttZG8QEA2VGiK8fbyPxdmstZsdFJAjrHxSWyCSkAxYHSUsF5GQJJEaE9apTNA572bJhifU0CE4ko3/5c6QKbuC9eCXhBAkX6tnIhWWECUPPyRC5pAQNWMvgOhsCBAmBVeaCe5NUAc/7QzRSpHQMpgjgCpgjhArOQgdv4uV0AtyjP5W2BTQGFIzZerWDtABVKUDA65NEAkp2VEcg4eQKTGTE/cegpA9/VP8isZUECmJ/7K1BYqQMgzeQy+N1dAdw+gdAg8T0DHOvCdSrBLQEEX587xxFZAUkAcNM3aVkAintouzl9NQOx3oqjUXyNAhhH56bXgSkCaFvVygZtIQBAwitBtkiFAy9zwzDcUNED4Ne9tZW0YQMaRd3vz+1dAlZ/9reoLRkDosJK+5zhDQHgTSMqZcUFAEFgom10cM0BHC1Bmd25UQJ/1X60m21RAy6nHXc0/QUCEGqr1QSU/QMhD8rql+01AP5uTb1cmR0CXsNTXoaA/QCcRsIdWq05AjnKIMwWLR0DwZdw4pAFUQAPK0WbfgkJAGjiPhHdBNUDuA6GEHcMGQLiHib4J9lNAsQ/3V+bFOkAsN2Pw/6dHQLLPRfjIzC5AeWdZbsaNQ0BleWI13hRMQDpnLnyDIk5A7HDeePKxQECP3YUn3w1SQLA4ep1+21hAnkYHvLX4VEDfxLbrkPRYQN4Svk9GUEZAdMxAs/DdGkBe0hwmnLRBQCyXXo/jMFBAuPEb7NZZNEA7toXxu/tUQHh8wQseckRA1i/2V6+LSUCdc3psfYAvQCz7UBCRMjlAINlj9Nfk7j+gbtm3fcpSQKqI1JCgLlRAsD5ocI6S5z+pfBd2tVJNQPpczHc/XFBAriVjlJ94UUBhJEqIhwdNQD+65eYuFEFA+LGWy4gOT0CdQe7pLRlQQHBWo0cuC0lAWmHE/hBQWEBamG0gjUszQBbe6JV1klVA96NprrSrQED9bNJKYahYQGtWJv80bDdA3LXSnicSVUDYEvuaepk/QMwGrksFevg/qJrFv9mZVEAeooWL+X9RQIWDFR3x61hAgfy+esV6I0DXv67YGw5XQK4J0g3jq09AYHJashUvJ0DVzyAuiiMdQBReF4ERhTBAjwHciobfMUBnpq9b+ApVQFjYOkL56DNAy5t9bgdmTkBuC9E7o81EQOHVDdEbMVZAcp4kfu3iU0Ct5fa7EEI4QFuTYoPTJU1A8agw1++BNUCu0T7OjINEQK+TxxbqKlNAok7vlNkQQkDP91xbyqxXQMzJpS512UtAVoAjLmg+QEDeHKSsBFVTQJVqU06OvktAL9HA8UZRWECHXA+mtqVGQJGT3W2hkFNAQkT1yZBNQ0Cn4Hb3219YQF5eGGnj81dA4yEITzLQUEDaSH/XRLlRQB+nkv9SIFRAtTCQ3vCUU0AmepYjaFoQQD/SHjeaekJAxHQU6nG/HEDVstHgKv8dQMLRYoWMKkJAQHrDbZ8GVkBWOi8xUGFSQHaxH/YQk1ZASw7ArZooMEDA1Wf1lF/9P+Ak4aj8xRRAKgMecVgEQkDwKtuUc5VYQAIiBR6nXhBAdn7Pc5k9UECi202jDl5VQJWVfi+IyAdAuI2kYrvxLEDCnjoBollFQIUGKG51gBBADX2XuDnpIUCexLeSGFs3QEgUiWD+yVJA7dlCxSXQM0Bj5qFCToU2QLAPFwzuWFJAsSlOsnsTN0DzQ+rBa9ZBQIrTK+DpolZA+lrOES9vUUAqvZcffbxRQFfjwCqerlRAK5/+gQxDV0DeyGMIy0tRQIyCwY8ZeEdA9o59R6ZSUEAwIIBXxhBEQEQCC7NUVE1ARnHRvlkvUUCAhUKFpxJYQO5cvA3uAThAvkUGYl77PEB0gAqInAJQQCpCEipFRDlAq/afmMocWEDLuveotjdCQJ6tu8//tVBA5IqCeuF4VEBzoLrP5TxTQJ+CeuZjxU9AleIEFm0sUUDedJtH4QQZQKq4JhfLmzhAq3uaS5SHNUCzEyZz7ghXQF8CDcF+TldA7R28u4BRUUBcAbCbbEJBQHJAoEzrxBRAYVRyJV1TU0Bk2o2JF+s4QBKxh8HK/ypAy0FIn/pWU0A52wn2AM5MQNTRq4pRplVAGuyAXH/ZQkDUIUhiSgVNQPNBnPGc6khAVjykv3wbB0DM761n2klRQDoVF1i4w/A/toBfmDZETkDNB8vKFeZUQOncmagWyCRABN/mgaixU0DuhJTENZNSQMrc1beD1UdAT290lNnVUEAXW+BJy+dCQJsxQuiTaSFA1A9WsmLpTUBqEkFAAlg+QJAPAUQHsSpAZgNi47fMVkBwo+ND361SQLJmZNU9LjlApQAImGBtVEBoHeA4TYBFQHp4kTa7/zVAa/uWiubFR0D0NNfmgjdOQIIdr/80+1JAKF1gPZP9RkAgYstae5VVQN51gwHdPVJAk6+beNnXK0AhBvJpRKxLQJ7BmPeR/S1Afyz5z6MeRkBAQDUT2BVDQH3nCTsZbjRAiKwHm+MwWECzAjP1+jVSQB+5RWG7NU1ACC/4WpNIEkAL6lk79mRQQNqIAiGAJlNA5KCtIshQQkAaFQOQkqlQQI6J7XfTO0FAk8qjnP7sR0COR7tkEkxRQCMtsJQ6FFhA5sijlnI+R0BzWCqGiGUpQKoFA1Ewu0VApeUdfz/FR0DsGQ/L1lxAQGp6blDXtUNAzGvi5mkiP0ButxZ6xev1PwlqrBOSQVBAPI6Re8PFPkBWVPhaYZFRQCgTRJGyTEVAj0ZDKnz9VEBHr1Xi9HRTQHu9vkhC1T5AfkvJBzu5E0DxI/hiv89IQGLKG7nzFE1AMvdmisITFECMO7+kEOtQQD7aamBTjQhAVTN8Fr1eTUDRC8aZk7NHQGzgvl5VOUlALFMvylKDKkAx8iSKlhJYQMVLB0jlKEhA0HeoIJK4HEBm3/PJDpQ2QNi1Pd6kOFhAK6NE3NZAVkAUQSppNDRTQD3fBS83iTxAcPzGFMp4NkACMm8XcVsjQGRpxdrlg09AWGT7fOzM1j+0RwsTDg4/QJfLItDDbExAXyAcy9D0Q0Btzd9ijyxEQP94j6vbjjlA9LUhSxYCS0C9RVZcVCJVQN00nvd2f1RAPDJY2srvQkAHvcGfc0BXQKzqJPCfLFBAJalW4sfPRkDPYhvC3gw/QAK9eeXnTkxAQVlWVvkvVUAJaS8X+Wk1QM6hnGZapBdA6NQ1EQ0IOECsJCd5r5xQQFzTFCwbp0VAbVNBpi4IRkDvmwfRgiNJQBUDJOU/LlRA6En76V9zREDaTHUKS+JTQJCbNePyY0dAzWqoDyvXWEA7yeCsQJhWQFF5vXPbQ01AFggZNfudUUA6V7bkT5ooQLQHRxIOK0JA0FqqJ6cXUkBItuPHN/UxQFYYyvSstVdAwVVoDqloUEB62TqQPUFHQA+NHWgWuDZAG2DyQbWCJEBdyQlamvBSQC7yKbWb9U5AHv4g3O/sVEATYaIqDh04QBIIx5KDSD1AyvqQtrMuOEBog7OtjMdJQIiYu/fhMSpA50nVhcuCVUB0p/il6elFQEDUMbrppVRAaEXcLas4MkBK5RdXR5RHQOx0KttlOVRAaqcI4WkkQkAz2SBm96xMQEzUBihysFVACmIVjuX1IkAYBx2HM+1UQPoUPfMy0ldAfRSC98/WQECPuKFMQAlYQJ2hXp3BnkpAYrIX4fpsRUDkNPIL64gXQBLv9KNlF1NA5GRxfI1XOEDh5H04ZuJFQOtdzQ73kVhAwhRxEOn4R0CrqERL1gUdQDaJw5YFEFhA+G8r8mVKVED+Wzluae9TQHY3kQwBtFhAAPv6OB3uWEC2ezImRiBGQPlTN3+p3FFAqKh+i8KBL0A8fwnTfEpWQDOXm5sN/0ZA5YNKl9oGPUDoG2UPhltUQATMhLBnYFJAAHVwd7vgV0C5kq2WbVpYQJpTaZAQ+VJAU9ym4dM3OEAzLe1juN1UQLSb782WMEpAy6NrWWcTUUAEUBmoPeM0QCX+3KnayVFAqzTpROtEVEAOobbBOAVYQP3XXEMXdVFAQLvcLoyOV0AavM+ViAlYQCWyk7+IQkRABPxtmQ4/WEBVjpK+6A5XQPChiIbOcU1AWu81tpCkK0CM52SGnwr6P7Kdgzueh1hA0/7By45dJ0DK7wiCRGs9QENl7G4E/VZA3/b+kD3XFkAp65YIw7hDQP0Cp1FBvFJA19KWJKhnUUCEArB+FBpWQIfhZ41r/UtAKFNDlbXuMkDnoZcx9mJUQFgudRFVLldAL3cvsoKtQEAVW0sDx4xNQFqH9D9YpVdAF3fDXvmAU0ADTlJERK1NQPzczCOLqFNA7Aeku/rHSEDCUJy89IAXQPO+AHXwMh5Aj0tTipepMUCcEEb/P8RSQFn+m/Gn5FBAlN/fpz6CFkBlTWJl24xGQOXX6kHq4VFA+M7od9bDPkAgY/hBI7tKQKpxuCvlHFVA5kvQtR+hR0B6xa2uY9lXQIppiHB6cVFAfNJRdYieMkDd/jeivygWQN2UXdEbGVZA2XXhhHSwJkAo7qofplNWQGM/FRx4QkdA4jiELo9QMkBY/ThSo1swQNdaJ0pdakpA5/VQHJ0DO0A0U6pRgqY4QEv5l6+BUlVAf58lXZJbVUB7ATFjwUxPQBXpoQSJBExAJ9HF9PuEWECG4aO3gz5UQGBv0n43LjJAYFGT0mP6WEDdXAQwbH1OQDV6JsTtcElAkjAFb/JG8j88WPODGC3oP+t17rVk3VJA+BHMymnZVkAikb1HLDpVQGCghnoB3zFAW+3Mb9AdFEB230wtfms3QH/lJT7AtSxAADVAMGFTPECA+xfFfthQQAaODrHiyVhA9d1j3NT8UEDl/uYbKgZYQJZhocJwWVZAR6O4j+yfWEAb6WTncUVXQGuOTUKFYztAuFep1tUT2D8y46kWTPxXQHZF+wXb60RAxdSkxG3sTUBBz+m/z0ZMQN861H7NRUBAd+WSNFt1OECnYY6KzbJLQL5uSMmq3lhAc+yxFArjOkBUMbfu7/03QCMTJp/74zhA8LapGTnaJkD/gg/DJS0SQGnVfVOYTEhAsRoAPLXJR0DO0kSgDQ1LQLUwpfGflFFAaSwTDgYZOkAwqX2c9+oyQLf14l09FkpA6ePcMlr8MEAw9R8LS4xJQOIX5uRWDk9A8WrareMhTECTmyTDlDpGQLkYuHimsFBAItYe9x6xMUAVWedB9sFRQOv/w69VQkpArluqlrAXVkAUW+5FTzRFQH8ddSNtnkNAm6MnDVdgU0Czabudmk5CQF4jShaKB1dA2csf0jYyT0CyyNlANvVEQPJ2a2iipUVAw9SnuHFBNEDO/j5Rvxk6QDY5khjBvlRAmJZ2UEQ9KkDChA+PpLNHQH0wLkz3YUVAiM4I/QrtNUDTMPJV42tNQM9U7ia7S1RAHbnEHdflUUBjVCk5yTZLQDjTY36d0B5AvwPtGuf4U0ALbp54bxRWQADDfGFrKSVAFcUtEY5KPkBd8TZ62yNVQLWjh7Io9FVAOM/WfFjEVkAGSaWEHioWQI2WXPRJc1ZARRiHzPa9SUDzPGw4LFlUQEt5ACmC8FBAzoL3NI8QWEAet445QNNWQGD6n7znlURAUJ6g6vuoN0DM3LlDC7tQQMhUNjtN705AbDqoGjXfVUC20PXRHGEhQO84TrUg71ZA479oMpVRVkA7DWEMwlskQNoNluyavjdAagnFEAR6LUDQ39sH3hlAQF0pVpu/xwlApDxancp2WECa4EUiuy5VQMLCnI6ofipAyrqY2AUmT0B9gf9iwG1WQL7wBiVSbj5A2MIAbZyqLkB0Aog+z3dNQC5qb3f9EEJANFKYKglUMkBu8Eek3Sc7QDk8Qt3vwkpA7bLUkDsoR0ChZVrK3LlSQHQ1/6MQBUxAlXfFuffdVkAqfydPXGpUQK72XRCuGlZA0G6anVvUU0DY+HHGFYtDQN3xjHsPelJABHZgyO3TV0ACiMK48WFAQOSAfdZPTj1A94HP/AbGU0C8IAgOdgFFQAkGl+LoNlBA+geTQ83wVkCvLq6zNvNOQKqpeBZz4EZAZbgHULsRGEBdq3d13sZEQGOMooBNDUxAwzZ1UNzkVUBnNcShjLYJQGb3Im+PXRZAbT7wRyCbQEDapgerb0pNQMBRI8VOZVRAKDGVzLNwP0Ditu9za3hWQLh+iAA3okNAgS/oIv8bNEDquT9ANj0qQEpPMZJIMFhA50kDade1TUCoBq5aEbU3QIweGkK0+zZAPCLTC+23UUC+MvEoXXZQQJgeSMUAFTpAO69dst/tKkCMcPsJY5tSQL7+AoZZyj5A6ZhfTIa4VUB6OnHMCHRBQF64iK1xa0pAlgj293ViSECA47HNv74oQPrDCp+s80FAq4zlAonIP0DxTTMD1ZxFQIgWeBdWnlZAqB8W4jVjVUCQqyEztwE3QIOf55H7t09AHy4N/7VqR0BdorIvxsA6QIXPpD/rh0RAtt3X0g72E0DwssCovUEiQOwyK8Ph30pARrBmiq+MVEA/OMwrVqgkQB/x2jYWG0FA3G41Cj1nVEAJEkCGh6FSQGv7Nl5Bo09ASZYyfsjXMED/rb95oedRQLXX0V5FjExAsWDX1DNzU0DdTiu8o0U3QLNNhNgnvlNAl+oR09eHNkC6yqAOLWMwQIrsfiWH6UdA0Cm+eKloPkBhqDXQh7pPQJDCL+qD0FhAuYxmUWbZU0CFDSLEWO5RQNkHUeX1KQlAk+lom286VkCCpgQCQYRUQBzWvvbSSUVAtDdihM3gR0DDj7TpSQQwQD0rZqqOeENAg7Szwcj7QkBp83tdMkJQQFgeVhFJokNAK2TyGBmiMUDZ4oGWxT9TQHLRhz05FjFArfBLtuGbI0D/hXu9NLgYQECgwsPC61dAtpAmzszbGUD2q2YGgKoBQJLGZtgdtk9AnnHzXcZIUUBYQP8uhW1TQEXfsH2gU1NAkPNa8FjVJUAm3Si3/GhNQE0kNAaUcktAyiEuCBCgJkDTsv0C+pVRQEBzSHY6m01Av3Ml99xPH0AtqXDpX+o/QL9SuDkSjE5ArcZLv/oXUUAKjF25LPpVQBrGlbbTZ0pAClWOqP+rQEAEb1Q+UwtUQFKY9O+HgiJATrNB5pk5IEBqe7i2whVTQMWclzyO/kFArvUhKn/1UkCYOYq/kKE6QFy1EoN1iTtAlxZQYMVXQECU4AUU/cEwQNUyvz1eglBAJkcLhKKKF0CaznOSp3BYQMEAHBzkiD5AsE0EUgFLVUARcAItHcJRQJRhbM1MGRpASpqbGRewOUBNx63g6r1KQIyvCH/WJTpAHCW4c3YySUANlA15SWoqQE0BUt3HwUdAaaCoAcq+UkA+Em0b/9spQHWBo1nlq0xA5shcUlQZUkAS82hO7LwlQBtoXFF88FhAes47qcQKJ0CAdZTiD+1VQP6b0ftzD0FAdg5wUtxfREBWzu41+6tQQHKTACwg8TpA4E6p6ifHRkC4a1Uqg/hQQG56X0DqbVFA92tJZiFvQUDl3t2aJRVYQJioY4wXq0tAd/v2DapaTEB+NN8Ldyw9QNqDe3/H7FVAsBBMyyPMVEBjj4w9jykxQHBk/cd0ETxAYqP5Z/HeVECPhkkl4YtIQAJjfMbUikdAKNup8q4GUkC44HKkjEFTQI+z/jeREyNAVlCi6u2dL0C1kNMvZewoQBFiCE/BFjBAeiKd2JtTVUCsW8DFWD4hQNJrvwao1zBAXjbBI9IZVECPnxjhiVlAQDc9y0uYnktAUheCdtlIIUCGSrd5tHH+P5idbFPIgk5AKwgLuHyAKkABP1+Z0xhQQAYg71ElAStAvrk/jPOYHUA7rnmOglFQQPzC5Ljps1VAUPnm2dgqTED25BbvDi9EQLilFWxz/BtA4LrQ6c0AWEBHVNyoUnFOQP+/UJHotUVAG3C9Ikh/UEBlq9yUbNhEQF2flELrnDlAFN+Dm3KqNkBAzVgR5+pVQHTqFJL5fDFA1gFURrDLGUClpCArdkRYQEwnQv9wPFNA7RmOr7mIU0DjiNpt+NdKQAIYdpqabVhAhI/faKSHIkAEfv7nHqRQQFR8XFIjIT9A2NVv6MFFU0CiklIyb6JUQKytCsJ/JiBAbQ24R8HcM0DI6wQk8PNYQGzPOs/7FVJANFu69Tf3MEC6KanVgidYQG+tZcfZ2U1AjxLRTuNgSUDjWmXEWwNCQLhT81qRBlFAJRxTd1DBQUCOl6IUaNRYQBDHIojn8+A/f7oHjahPSEBsi6j4mmFPQNPjz8MBw0NAuETyDrfeOEBFVqbYkF4wQDAIeAryxMA/Qgx5sEJoKEDlsZ5ER8VFQM3XM4YbCzdAC5hUospuO0A0Wic8rtdUQIUgQ1Fe/1ZAZEMUDm9gVkCVP6O3ZEJXQAbeBQJt7h9ACHCiNxJRLEC1XeKUvZxMQO6P7o8QfFdAAZMLbegqQEDLXsZ06Z0yQPfvwl6MSktAlUN5ttP0T0A54hM36XZGQDKvTtWNoS1ArndwVdHJLkDBvhRc8nsjQCvIUZgvDVNAwQ8YFxaOSkAuP+AWJ/ZPQDB1BbiwaEdA4kc+V2AJQEBGxIDYgeZDQOQms5wqDFRARzylCnBHIEDOi/JlzEJMQFWFQ7bs8lZAIst8hQLQOUAie17TJudKQG9kHRBf6VBALGN+ydxzTkDpgJafoRtYQBJIcHe01ktA7FomtwroSUCeoNuh149UQL8ql4I3MExAMQWp2eWYRECrs5c9G1JTQGvtEG2mp1NAJ1SAQPIqS0AL1rlvPoI7QAtvYnDN80hAuuqpR91lVEBE5PwhnecvQKQAjzdfEfA/+6M/rOb1VECF41tMMKRWQKk8D+KFVk9AiLNWOFPwSkCgK1WXZv0uQI4fy1SHw1ZA4G8zVCmOPEBPiPFHSL1IQBrZGC3ETEFAYmdabDTNFkBcamSHWCNSQLr6IBc1tSlAJXE6pV2hVECHu5ffEdNIQFxAwEmadTpAOxDS7tAzR0Dq/sfWwGwTQAMUxbHwhUFA0KPvExWMVECcleEMCxRTQCduAE9NTFhADqVsWhdSSkB1ypdidkctQAph9FsCFFdApsqC1QYmVEBHElrOtwwtQH4tGmSCDkxAb9EX2QORIUBJhkug6VA6QBrVgp/gRklAMRTeEd7BU0DIe2yrHJEcQABXVOo6rrw/IzxFLBu1V0BVNLizm/gwQB7O6iEcCUtABP7bMpqZUEAYOm2x5O03QGNgSGAj9ldAqwGoLB8gWEBwrH2gY6FKQCDcKZMxr1NAvoYyFhJXSEAA7tGtgC48QBaqOyAvASBAZCJ0FVc8VkCSxs+YbUVVQG13iCkAXCNAucec5MQLLUDD8Ke+WKNAQLg35W7iu0xAP+5zWCsoVEAealzn4fsrQNaGtQ8TLENA1pvu1+U/Q0Cjr1KF4y9LQFygjG7RyypAFjNSVnKfWEAtRToIauZTQHs9UPpLD1NALGbUgHZ0FkBCWSTmllBHQJkc4iSD9TtAJj55qyhqUUCH/ea7rFQ2QLx7wmNHITZANu5LKUJKUUDk1+EYR7xPQGOjiSpNF1FAv77PdYqLV0AmhdXi8uNMQKDNk2g4CjpAimYcfXnsTEC+m8fHvEpHQFkusozrM0BAke3WEyXtUUBauTLwqOJCQMVIdgMYzjBAaAXQ/p7RWEBNjS0eq20xQLeNPGyAyU1AwmVd4uiqUEA8ieJ5qUdXQOBJ0eIFPEBAQ9xnDVnCU0DtLaSebFJWQPo/zdAASlBAi27HCzAtPUC8Zc9N0pZNQItuy2d3L0FAzjLLVXt7RUAf2PY+BJBBQNaKrJi5/VRA9r6ZXHMWOkDwOZfQcwpKQCCvIcGOAldAuCJngjUsQkCRBrmXRPVVQEsuQn3rwk9AoCY8R1zQQEAB6UyYTDZXQFyc/67YHEJAEC8WmbKFUkDxK6GX7NVPQLZWZGSPQUxALqX+3uDLH0CHoZo9z3MzQLC03/uMqEVAys9dBh1hQkD0HdypgG5VQE4hHeMt40RAgXxHCD+1T0Ape9ryoXtNQOsP//E151RA07mtnOToWEBFyAJxg0lRQJ+R57DL7UpAPN+d6eg0L0B+fvrFeQE/QC0sSMuN/FVAezWcjVoELEBo4nzc02BNQOEAJCZzwy9AgQ1P+YNfU0CTnTr03gxPQFNJCyNtARJAxEiCziFAIkBcDfSHp0ZYQOCqbaLxR0lACm2ACPeLK0DouxaInJtDQGzhXK8eojdAEaV0yDJIFEDNU4RxawFOQO7VRur/yFRA0bfYluP8RkDGZ24mRlpMQJu2AIQ9sk1AIL+jtcXkRkASJqpvupNDQJQfiCKXZlhAtuvbgikiMEDm/Iahq+RYQOT4yBMOVidAeG96iFU1WEAlxgx7e0tYQLxFHWBf8BJAoenaqYvLNEBohFUfSsY9QPkWwZGgbz9AFlskzhkNP0CRrVs8wXNCQJrGiYtX21hArolQU+bKI0AV1wWGIiZUQIjfKJAeSlBAnfb49W/WRkDGkFPpAmlQQFrXHV2I7FhAwy8ZKMwSSkDqtkeJJopYQBYd/clke1dA5YijCm2KUUCdw8jRJARWQMx1FE+sTElACVgseprfUkC8oxD7eY8/QOqdmisRs0hAb7ASSTB8U0AeT7UrlMwuQGyBBOp2yVJA16FuqQVLOUCFu27g5HFYQEIgL+VeI01Aahvr3MSWNEDmXYU+vURJQALCT0mNfFNAAQ+sVJLYVUDtcgBMvXBLQPORMkp+G0ZApHrq+QYxR0ADsx9dMfJLQB2BF2YvHFNAMKCx822rWEDkGSGocEsmQMuSgLjYtiZAXJRn85NfUkCqUzR2G8dPQFnEsl110lRApdDWexwcLUAAyrRZalVQQOgSfUWe11FA0LhFUuheV0ByJIjMmRdTQLepeERiwCVAoOVhog5cPkDOmGfLbsoyQPq4yKO1N0BAru+v2CZ4UUDMwdE4maIwQCEZTyvjiTpAFjjfHiNKV0C50d2LW8M5QNPt5grIqFJAoCjIPEA/PUDSk4CQbhwQQPb4PdSEPjlAcNJKEJUuT0BG8rHtAPJXQCqG943cwChAD0RHS7W6SUAU5ZL59NZQQKIC9Ao+hFZADyCU5190VEBzzBHtjpZCQPqdjYkC+VNAxg4G3HM0UED2L3KkYl1HQKCd+99DSUlAhXzDZOeeKECVFDf8/2hRQExEfdhFUlJA2nxpp+qHUECutuzChbEyQBCjyP+aKVRAdNpml0oiOUC0rFemigM8QFpJ3CGy5FdAfG5HQRhyUUCkUkLAssBXQH+ljOMAMlBA24u2D2K0MkA2oXf/XFdHQK46FT55cDxA8TjHJElQT0COQRck0scxQLZK6rjSoVVACHrWy7QnJUCGhOSxVO9YQM47s05KTTNA+Kq4nYBBTEBGf0G0FlQ+QOT3+Vya5FJAnuBUXLs1U0AW8OfzMCo6QNjFYS648x5A1+KGAT5XKUDS84HFIrg3QI0SGee+y0VAUGqMFjAVRUAopqYjRq8xQDv8S0SLglJA2+wC+LxSVkBSiXSnL60lQLsQJjFkAD1A8w38ogdiUUAJ0Kvy7aEwQARBKU9zJVZA+xzgExV+IEA0ik/SXH5QQDni/p+tTFBAVAGzy5YKVEC1LlQzyd5YQMBo3EE7dUZArANfNctpTEDpTl4PMrVQQBZZ5En9tVBAvDGXh1t6Q0AaEkObhLpCQOCW16vHBUFAloGx/RQPMUAb1v88qZhUQJ/83PRtLVNAtC2DHlziWEDBrG5CaM43QFwY+31tLVVAIuwuztrQS0BWYFYEMjNTQHKmKRTXiEtABhn+USE9SkDbkbpIYRJIQJp/DLWai1RAUKSsZuc6UkDDmar8v0IhQM4DOQgEagpA4hjRF1iqWEBgijRxdYtKQAStt0BglFBAV1WRG3P1WEDSTyt8fZ5YQJGHOlo6qClAopJ4fuirQECZAopqgltIQIRhxYl/JD9A0I3/4VCLQkCaiDmNLIVKQLhR6w3s21FAK68WhncpCkC+lC1njaNTQFIWtTdfjxFA7Io788sjM0C6IB0agUEZQDA7cmITXFVAMxaWR0PMV0CCGFWVDmw/QKFL+G1bglFAgP3KEPggLUDEKwBstHc4QK4DcIx21FhAuHPABmupE0BLUrs3A+JYQKC/NnSPw1hAPSkpdKBNRkAKd10J2/dJQGsH/aAgKFRAO1WKfa2PRUDbtf4RxLoyQM5xxHR/1kRAHYV8451eUUA2S4hvwGElQMPzS5la9SJAZWjYKAPLQUCiCG4ZI48TQINrJQjMLFRAv9nNP3tZOECm8eBhWEISQCOh5xpd0VFA/lARZRtIMUDqX+OF5KQoQA==\",\"dtype\":\"float64\",\"shape\":[2000]}},\"selected\":{\"id\":\"2282\",\"type\":\"Selection\"},\"selection_policy\":{\"id\":\"2283\",\"type\":\"UnionRenderers\"}},\"id\":\"2188\",\"type\":\"ColumnDataSource\"}],\"root_ids\":[\"2196\"]},\"title\":\"Bokeh Application\",\"version\":\"1.3.4\"}};\n",
       "  var render_items = [{\"docid\":\"9303f2f4-4b0e-458a-844f-bf4d1349a7eb\",\"roots\":{\"2196\":\"80aff125-0c0f-4059-931a-f93b64c8aefd\"}}];\n",
       "  root.Bokeh.embed.embed_items_notebook(docs_json, render_items);\n",
       "\n",
       "  }\n",
       "  if (root.Bokeh !== undefined) {\n",
       "    embed_document(root);\n",
       "  } else {\n",
       "    var attempts = 0;\n",
       "    var timer = setInterval(function(root) {\n",
       "      if (root.Bokeh !== undefined) {\n",
       "        embed_document(root);\n",
       "        clearInterval(timer);\n",
       "      }\n",
       "      attempts++;\n",
       "      if (attempts > 100) {\n",
       "        console.log(\"Bokeh: ERROR: Unable to run BokehJS code because BokehJS library is missing\");\n",
       "        clearInterval(timer);\n",
       "      }\n",
       "    }, 10, root)\n",
       "  }\n",
       "})(window);"
      ],
      "application/vnd.bokehjs_exec.v0+json": ""
     },
     "metadata": {
      "application/vnd.bokehjs_exec.v0+json": {
       "id": "2196"
      }
     },
     "output_type": "display_data"
    }
   ],
   "source": [
    "from bokeh.plotting import figure\n",
    "from bokeh import events\n",
    "from bokeh.models import CustomJS, Div, Button\n",
    "from bokeh.layouts import column, row\n",
    "\n",
    "import numpy as np\n",
    "x = np.random.random(size=2000) * 100\n",
    "y = np.random.random(size=2000) * 100\n",
    "\n",
    "p = figure(tools=\"box_select\")\n",
    "p.scatter(x, y, radius=1, fill_alpha=0.6, line_color=None)\n",
    "\n",
    "div = Div(width=400)\n",
    "button = Button(label=\"Button\", width=300)\n",
    "layout = column(button, row(p, div))\n",
    "\n",
    "# Events with no attributes\n",
    "button.js_on_event(events.ButtonClick,  CustomJS(args=dict(div=div), code=\"\"\"\n",
    "div.text = \"Button!\";\n",
    "\"\"\")) \n",
    "\n",
    "p.js_on_event(events.SelectionGeometry, CustomJS(args=dict(div=div), code=\"\"\"\n",
    "div.text = \"Selection! <p> <p>\" + JSON.stringify(cb_obj.geometry, undefined, 2);\n",
    "\"\"\"))\n",
    "\n",
    "show(layout)"
   ]
  },
  {
   "cell_type": "code",
   "execution_count": 16,
   "metadata": {},
   "outputs": [],
   "source": [
    "# Exercise: Create a plot that responds to different events from bokeh.events\n",
    "\n"
   ]
  },
  {
   "cell_type": "markdown",
   "metadata": {},
   "source": [
    "## Additional Information\n",
    "\n",
    "There are many kinds of interactions and events that can be connected to `CustomJS` callbacks. \n",
    "\n",
    "\n",
    "* Widgets - Button, Toggle, Dropdown, TextInput, AutocompleteInput, Select, Multiselect, Slider, (DateRangeSlider), DatePicker,\n",
    "* Tools - TapTool, BoxSelectTool, HoverTool,\n",
    "* Selection - ColumnDataSource, AjaxDataSource, BlazeDataSource, ServerDataSource\n",
    "* Ranges - Range1d, DataRange1d, FactorRange\n",
    "\n",
    "\n",
    "For more complete examples the User Guide section on [JavaScript Interactions](http://bokeh.pydata.org/en/latest/docs/user_guide/interaction.html)"
   ]
  },
  {
   "cell_type": "code",
   "execution_count": null,
   "metadata": {},
   "outputs": [],
   "source": []
  }
 ],
 "metadata": {
  "anaconda-cloud": {},
  "kernelspec": {
   "display_name": "Python 3",
   "language": "python",
   "name": "python3"
  },
  "language_info": {
   "codemirror_mode": {
    "name": "ipython",
    "version": 3
   },
   "file_extension": ".py",
   "mimetype": "text/x-python",
   "name": "python",
   "nbconvert_exporter": "python",
   "pygments_lexer": "ipython3",
   "version": "3.7.4"
  }
 },
 "nbformat": 4,
 "nbformat_minor": 4
}
