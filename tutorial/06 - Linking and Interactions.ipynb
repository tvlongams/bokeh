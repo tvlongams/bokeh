{
 "cells": [
  {
   "cell_type": "markdown",
   "metadata": {},
   "source": [
    "<table style=\"float:left; border:none\">\n",
    "   <tr style=\"border:none; background-color: #ffffff\">\n",
    "       <td style=\"border:none\">\n",
    "           <a href=\"http://bokeh.org/\">     \n",
    "           <img \n",
    "               src=\"assets/bokeh-transparent.png\" \n",
    "               style=\"width:50px\"\n",
    "           >\n",
    "           </a>    \n",
    "       </td>\n",
    "       <td style=\"border:none\">\n",
    "           <h1>Bokeh Tutorial</h1>\n",
    "       </td>\n",
    "   </tr>\n",
    "</table>\n",
    "\n",
    "<div style=\"float:right;\"><h2>06. Linking and Interactions</h2></div>"
   ]
  },
  {
   "cell_type": "code",
   "execution_count": 1,
   "metadata": {},
   "outputs": [
    {
     "data": {
      "text/html": [
       "\n",
       "    <div class=\"bk-root\">\n",
       "        <a href=\"https://bokeh.org\" target=\"_blank\" class=\"bk-logo bk-logo-small bk-logo-notebook\"></a>\n",
       "        <span id=\"1001\">Loading BokehJS ...</span>\n",
       "    </div>"
      ]
     },
     "metadata": {},
     "output_type": "display_data"
    },
    {
     "data": {
      "application/javascript": [
       "\n",
       "(function(root) {\n",
       "  function now() {\n",
       "    return new Date();\n",
       "  }\n",
       "\n",
       "  var force = true;\n",
       "\n",
       "  if (typeof root._bokeh_onload_callbacks === \"undefined\" || force === true) {\n",
       "    root._bokeh_onload_callbacks = [];\n",
       "    root._bokeh_is_loading = undefined;\n",
       "  }\n",
       "\n",
       "  var JS_MIME_TYPE = 'application/javascript';\n",
       "  var HTML_MIME_TYPE = 'text/html';\n",
       "  var EXEC_MIME_TYPE = 'application/vnd.bokehjs_exec.v0+json';\n",
       "  var CLASS_NAME = 'output_bokeh rendered_html';\n",
       "\n",
       "  /**\n",
       "   * Render data to the DOM node\n",
       "   */\n",
       "  function render(props, node) {\n",
       "    var script = document.createElement(\"script\");\n",
       "    node.appendChild(script);\n",
       "  }\n",
       "\n",
       "  /**\n",
       "   * Handle when an output is cleared or removed\n",
       "   */\n",
       "  function handleClearOutput(event, handle) {\n",
       "    var cell = handle.cell;\n",
       "\n",
       "    var id = cell.output_area._bokeh_element_id;\n",
       "    var server_id = cell.output_area._bokeh_server_id;\n",
       "    // Clean up Bokeh references\n",
       "    if (id != null && id in Bokeh.index) {\n",
       "      Bokeh.index[id].model.document.clear();\n",
       "      delete Bokeh.index[id];\n",
       "    }\n",
       "\n",
       "    if (server_id !== undefined) {\n",
       "      // Clean up Bokeh references\n",
       "      var cmd = \"from bokeh.io.state import curstate; print(curstate().uuid_to_server['\" + server_id + \"'].get_sessions()[0].document.roots[0]._id)\";\n",
       "      cell.notebook.kernel.execute(cmd, {\n",
       "        iopub: {\n",
       "          output: function(msg) {\n",
       "            var id = msg.content.text.trim();\n",
       "            if (id in Bokeh.index) {\n",
       "              Bokeh.index[id].model.document.clear();\n",
       "              delete Bokeh.index[id];\n",
       "            }\n",
       "          }\n",
       "        }\n",
       "      });\n",
       "      // Destroy server and session\n",
       "      var cmd = \"import bokeh.io.notebook as ion; ion.destroy_server('\" + server_id + \"')\";\n",
       "      cell.notebook.kernel.execute(cmd);\n",
       "    }\n",
       "  }\n",
       "\n",
       "  /**\n",
       "   * Handle when a new output is added\n",
       "   */\n",
       "  function handleAddOutput(event, handle) {\n",
       "    var output_area = handle.output_area;\n",
       "    var output = handle.output;\n",
       "\n",
       "    // limit handleAddOutput to display_data with EXEC_MIME_TYPE content only\n",
       "    if ((output.output_type != \"display_data\") || (!output.data.hasOwnProperty(EXEC_MIME_TYPE))) {\n",
       "      return\n",
       "    }\n",
       "\n",
       "    var toinsert = output_area.element.find(\".\" + CLASS_NAME.split(' ')[0]);\n",
       "\n",
       "    if (output.metadata[EXEC_MIME_TYPE][\"id\"] !== undefined) {\n",
       "      toinsert[toinsert.length - 1].firstChild.textContent = output.data[JS_MIME_TYPE];\n",
       "      // store reference to embed id on output_area\n",
       "      output_area._bokeh_element_id = output.metadata[EXEC_MIME_TYPE][\"id\"];\n",
       "    }\n",
       "    if (output.metadata[EXEC_MIME_TYPE][\"server_id\"] !== undefined) {\n",
       "      var bk_div = document.createElement(\"div\");\n",
       "      bk_div.innerHTML = output.data[HTML_MIME_TYPE];\n",
       "      var script_attrs = bk_div.children[0].attributes;\n",
       "      for (var i = 0; i < script_attrs.length; i++) {\n",
       "        toinsert[toinsert.length - 1].firstChild.setAttribute(script_attrs[i].name, script_attrs[i].value);\n",
       "      }\n",
       "      // store reference to server id on output_area\n",
       "      output_area._bokeh_server_id = output.metadata[EXEC_MIME_TYPE][\"server_id\"];\n",
       "    }\n",
       "  }\n",
       "\n",
       "  function register_renderer(events, OutputArea) {\n",
       "\n",
       "    function append_mime(data, metadata, element) {\n",
       "      // create a DOM node to render to\n",
       "      var toinsert = this.create_output_subarea(\n",
       "        metadata,\n",
       "        CLASS_NAME,\n",
       "        EXEC_MIME_TYPE\n",
       "      );\n",
       "      this.keyboard_manager.register_events(toinsert);\n",
       "      // Render to node\n",
       "      var props = {data: data, metadata: metadata[EXEC_MIME_TYPE]};\n",
       "      render(props, toinsert[toinsert.length - 1]);\n",
       "      element.append(toinsert);\n",
       "      return toinsert\n",
       "    }\n",
       "\n",
       "    /* Handle when an output is cleared or removed */\n",
       "    events.on('clear_output.CodeCell', handleClearOutput);\n",
       "    events.on('delete.Cell', handleClearOutput);\n",
       "\n",
       "    /* Handle when a new output is added */\n",
       "    events.on('output_added.OutputArea', handleAddOutput);\n",
       "\n",
       "    /**\n",
       "     * Register the mime type and append_mime function with output_area\n",
       "     */\n",
       "    OutputArea.prototype.register_mime_type(EXEC_MIME_TYPE, append_mime, {\n",
       "      /* Is output safe? */\n",
       "      safe: true,\n",
       "      /* Index of renderer in `output_area.display_order` */\n",
       "      index: 0\n",
       "    });\n",
       "  }\n",
       "\n",
       "  // register the mime type if in Jupyter Notebook environment and previously unregistered\n",
       "  if (root.Jupyter !== undefined) {\n",
       "    var events = require('base/js/events');\n",
       "    var OutputArea = require('notebook/js/outputarea').OutputArea;\n",
       "\n",
       "    if (OutputArea.prototype.mime_types().indexOf(EXEC_MIME_TYPE) == -1) {\n",
       "      register_renderer(events, OutputArea);\n",
       "    }\n",
       "  }\n",
       "\n",
       "  \n",
       "  if (typeof (root._bokeh_timeout) === \"undefined\" || force === true) {\n",
       "    root._bokeh_timeout = Date.now() + 5000;\n",
       "    root._bokeh_failed_load = false;\n",
       "  }\n",
       "\n",
       "  var NB_LOAD_WARNING = {'data': {'text/html':\n",
       "     \"<div style='background-color: #fdd'>\\n\"+\n",
       "     \"<p>\\n\"+\n",
       "     \"BokehJS does not appear to have successfully loaded. If loading BokehJS from CDN, this \\n\"+\n",
       "     \"may be due to a slow or bad network connection. Possible fixes:\\n\"+\n",
       "     \"</p>\\n\"+\n",
       "     \"<ul>\\n\"+\n",
       "     \"<li>re-rerun `output_notebook()` to attempt to load from CDN again, or</li>\\n\"+\n",
       "     \"<li>use INLINE resources instead, as so:</li>\\n\"+\n",
       "     \"</ul>\\n\"+\n",
       "     \"<code>\\n\"+\n",
       "     \"from bokeh.resources import INLINE\\n\"+\n",
       "     \"output_notebook(resources=INLINE)\\n\"+\n",
       "     \"</code>\\n\"+\n",
       "     \"</div>\"}};\n",
       "\n",
       "  function display_loaded() {\n",
       "    var el = document.getElementById(\"1001\");\n",
       "    if (el != null) {\n",
       "      el.textContent = \"BokehJS is loading...\";\n",
       "    }\n",
       "    if (root.Bokeh !== undefined) {\n",
       "      if (el != null) {\n",
       "        el.textContent = \"BokehJS \" + root.Bokeh.version + \" successfully loaded.\";\n",
       "      }\n",
       "    } else if (Date.now() < root._bokeh_timeout) {\n",
       "      setTimeout(display_loaded, 100)\n",
       "    }\n",
       "  }\n",
       "\n",
       "\n",
       "  function run_callbacks() {\n",
       "    try {\n",
       "      root._bokeh_onload_callbacks.forEach(function(callback) {\n",
       "        if (callback != null)\n",
       "          callback();\n",
       "      });\n",
       "    } finally {\n",
       "      delete root._bokeh_onload_callbacks\n",
       "    }\n",
       "    console.debug(\"Bokeh: all callbacks have finished\");\n",
       "  }\n",
       "\n",
       "  function load_libs(css_urls, js_urls, callback) {\n",
       "    if (css_urls == null) css_urls = [];\n",
       "    if (js_urls == null) js_urls = [];\n",
       "\n",
       "    root._bokeh_onload_callbacks.push(callback);\n",
       "    if (root._bokeh_is_loading > 0) {\n",
       "      console.debug(\"Bokeh: BokehJS is being loaded, scheduling callback at\", now());\n",
       "      return null;\n",
       "    }\n",
       "    if (js_urls == null || js_urls.length === 0) {\n",
       "      run_callbacks();\n",
       "      return null;\n",
       "    }\n",
       "    console.debug(\"Bokeh: BokehJS not loaded, scheduling load and callback at\", now());\n",
       "    root._bokeh_is_loading = css_urls.length + js_urls.length;\n",
       "\n",
       "    function on_load() {\n",
       "      root._bokeh_is_loading--;\n",
       "      if (root._bokeh_is_loading === 0) {\n",
       "        console.debug(\"Bokeh: all BokehJS libraries/stylesheets loaded\");\n",
       "        run_callbacks()\n",
       "      }\n",
       "    }\n",
       "\n",
       "    function on_error() {\n",
       "      console.error(\"failed to load \" + url);\n",
       "    }\n",
       "\n",
       "    for (var i = 0; i < css_urls.length; i++) {\n",
       "      var url = css_urls[i];\n",
       "      const element = document.createElement(\"link\");\n",
       "      element.onload = on_load;\n",
       "      element.onerror = on_error;\n",
       "      element.rel = \"stylesheet\";\n",
       "      element.type = \"text/css\";\n",
       "      element.href = url;\n",
       "      console.debug(\"Bokeh: injecting link tag for BokehJS stylesheet: \", url);\n",
       "      document.body.appendChild(element);\n",
       "    }\n",
       "\n",
       "    for (var i = 0; i < js_urls.length; i++) {\n",
       "      var url = js_urls[i];\n",
       "      var element = document.createElement('script');\n",
       "      element.onload = on_load;\n",
       "      element.onerror = on_error;\n",
       "      element.async = false;\n",
       "      element.src = url;\n",
       "      console.debug(\"Bokeh: injecting script tag for BokehJS library: \", url);\n",
       "      document.head.appendChild(element);\n",
       "    }\n",
       "  };var element = document.getElementById(\"1001\");\n",
       "  if (element == null) {\n",
       "    console.error(\"Bokeh: ERROR: autoload.js configured with elementid '1001' but no matching script tag was found. \")\n",
       "    return false;\n",
       "  }\n",
       "\n",
       "  function inject_raw_css(css) {\n",
       "    const element = document.createElement(\"style\");\n",
       "    element.appendChild(document.createTextNode(css));\n",
       "    document.body.appendChild(element);\n",
       "  }\n",
       "\n",
       "  \n",
       "  var js_urls = [\"https://cdn.pydata.org/bokeh/release/bokeh-1.4.0.min.js\", \"https://cdn.pydata.org/bokeh/release/bokeh-widgets-1.4.0.min.js\", \"https://cdn.pydata.org/bokeh/release/bokeh-tables-1.4.0.min.js\", \"https://cdn.pydata.org/bokeh/release/bokeh-gl-1.4.0.min.js\"];\n",
       "  var css_urls = [];\n",
       "  \n",
       "\n",
       "  var inline_js = [\n",
       "    function(Bokeh) {\n",
       "      Bokeh.set_log_level(\"info\");\n",
       "    },\n",
       "    function(Bokeh) {\n",
       "    \n",
       "    \n",
       "    }\n",
       "  ];\n",
       "\n",
       "  function run_inline_js() {\n",
       "    \n",
       "    if (root.Bokeh !== undefined || force === true) {\n",
       "      \n",
       "    for (var i = 0; i < inline_js.length; i++) {\n",
       "      inline_js[i].call(root, root.Bokeh);\n",
       "    }\n",
       "    if (force === true) {\n",
       "        display_loaded();\n",
       "      }} else if (Date.now() < root._bokeh_timeout) {\n",
       "      setTimeout(run_inline_js, 100);\n",
       "    } else if (!root._bokeh_failed_load) {\n",
       "      console.log(\"Bokeh: BokehJS failed to load within specified timeout.\");\n",
       "      root._bokeh_failed_load = true;\n",
       "    } else if (force !== true) {\n",
       "      var cell = $(document.getElementById(\"1001\")).parents('.cell').data().cell;\n",
       "      cell.output_area.append_execute_result(NB_LOAD_WARNING)\n",
       "    }\n",
       "\n",
       "  }\n",
       "\n",
       "  if (root._bokeh_is_loading === 0) {\n",
       "    console.debug(\"Bokeh: BokehJS loaded, going straight to plotting\");\n",
       "    run_inline_js();\n",
       "  } else {\n",
       "    load_libs(css_urls, js_urls, function() {\n",
       "      console.debug(\"Bokeh: BokehJS plotting callback run at\", now());\n",
       "      run_inline_js();\n",
       "    });\n",
       "  }\n",
       "}(window));"
      ],
      "application/vnd.bokehjs_load.v0+json": "\n(function(root) {\n  function now() {\n    return new Date();\n  }\n\n  var force = true;\n\n  if (typeof root._bokeh_onload_callbacks === \"undefined\" || force === true) {\n    root._bokeh_onload_callbacks = [];\n    root._bokeh_is_loading = undefined;\n  }\n\n  \n\n  \n  if (typeof (root._bokeh_timeout) === \"undefined\" || force === true) {\n    root._bokeh_timeout = Date.now() + 5000;\n    root._bokeh_failed_load = false;\n  }\n\n  var NB_LOAD_WARNING = {'data': {'text/html':\n     \"<div style='background-color: #fdd'>\\n\"+\n     \"<p>\\n\"+\n     \"BokehJS does not appear to have successfully loaded. If loading BokehJS from CDN, this \\n\"+\n     \"may be due to a slow or bad network connection. Possible fixes:\\n\"+\n     \"</p>\\n\"+\n     \"<ul>\\n\"+\n     \"<li>re-rerun `output_notebook()` to attempt to load from CDN again, or</li>\\n\"+\n     \"<li>use INLINE resources instead, as so:</li>\\n\"+\n     \"</ul>\\n\"+\n     \"<code>\\n\"+\n     \"from bokeh.resources import INLINE\\n\"+\n     \"output_notebook(resources=INLINE)\\n\"+\n     \"</code>\\n\"+\n     \"</div>\"}};\n\n  function display_loaded() {\n    var el = document.getElementById(\"1001\");\n    if (el != null) {\n      el.textContent = \"BokehJS is loading...\";\n    }\n    if (root.Bokeh !== undefined) {\n      if (el != null) {\n        el.textContent = \"BokehJS \" + root.Bokeh.version + \" successfully loaded.\";\n      }\n    } else if (Date.now() < root._bokeh_timeout) {\n      setTimeout(display_loaded, 100)\n    }\n  }\n\n\n  function run_callbacks() {\n    try {\n      root._bokeh_onload_callbacks.forEach(function(callback) {\n        if (callback != null)\n          callback();\n      });\n    } finally {\n      delete root._bokeh_onload_callbacks\n    }\n    console.debug(\"Bokeh: all callbacks have finished\");\n  }\n\n  function load_libs(css_urls, js_urls, callback) {\n    if (css_urls == null) css_urls = [];\n    if (js_urls == null) js_urls = [];\n\n    root._bokeh_onload_callbacks.push(callback);\n    if (root._bokeh_is_loading > 0) {\n      console.debug(\"Bokeh: BokehJS is being loaded, scheduling callback at\", now());\n      return null;\n    }\n    if (js_urls == null || js_urls.length === 0) {\n      run_callbacks();\n      return null;\n    }\n    console.debug(\"Bokeh: BokehJS not loaded, scheduling load and callback at\", now());\n    root._bokeh_is_loading = css_urls.length + js_urls.length;\n\n    function on_load() {\n      root._bokeh_is_loading--;\n      if (root._bokeh_is_loading === 0) {\n        console.debug(\"Bokeh: all BokehJS libraries/stylesheets loaded\");\n        run_callbacks()\n      }\n    }\n\n    function on_error() {\n      console.error(\"failed to load \" + url);\n    }\n\n    for (var i = 0; i < css_urls.length; i++) {\n      var url = css_urls[i];\n      const element = document.createElement(\"link\");\n      element.onload = on_load;\n      element.onerror = on_error;\n      element.rel = \"stylesheet\";\n      element.type = \"text/css\";\n      element.href = url;\n      console.debug(\"Bokeh: injecting link tag for BokehJS stylesheet: \", url);\n      document.body.appendChild(element);\n    }\n\n    for (var i = 0; i < js_urls.length; i++) {\n      var url = js_urls[i];\n      var element = document.createElement('script');\n      element.onload = on_load;\n      element.onerror = on_error;\n      element.async = false;\n      element.src = url;\n      console.debug(\"Bokeh: injecting script tag for BokehJS library: \", url);\n      document.head.appendChild(element);\n    }\n  };var element = document.getElementById(\"1001\");\n  if (element == null) {\n    console.error(\"Bokeh: ERROR: autoload.js configured with elementid '1001' but no matching script tag was found. \")\n    return false;\n  }\n\n  function inject_raw_css(css) {\n    const element = document.createElement(\"style\");\n    element.appendChild(document.createTextNode(css));\n    document.body.appendChild(element);\n  }\n\n  \n  var js_urls = [\"https://cdn.pydata.org/bokeh/release/bokeh-1.4.0.min.js\", \"https://cdn.pydata.org/bokeh/release/bokeh-widgets-1.4.0.min.js\", \"https://cdn.pydata.org/bokeh/release/bokeh-tables-1.4.0.min.js\", \"https://cdn.pydata.org/bokeh/release/bokeh-gl-1.4.0.min.js\"];\n  var css_urls = [];\n  \n\n  var inline_js = [\n    function(Bokeh) {\n      Bokeh.set_log_level(\"info\");\n    },\n    function(Bokeh) {\n    \n    \n    }\n  ];\n\n  function run_inline_js() {\n    \n    if (root.Bokeh !== undefined || force === true) {\n      \n    for (var i = 0; i < inline_js.length; i++) {\n      inline_js[i].call(root, root.Bokeh);\n    }\n    if (force === true) {\n        display_loaded();\n      }} else if (Date.now() < root._bokeh_timeout) {\n      setTimeout(run_inline_js, 100);\n    } else if (!root._bokeh_failed_load) {\n      console.log(\"Bokeh: BokehJS failed to load within specified timeout.\");\n      root._bokeh_failed_load = true;\n    } else if (force !== true) {\n      var cell = $(document.getElementById(\"1001\")).parents('.cell').data().cell;\n      cell.output_area.append_execute_result(NB_LOAD_WARNING)\n    }\n\n  }\n\n  if (root._bokeh_is_loading === 0) {\n    console.debug(\"Bokeh: BokehJS loaded, going straight to plotting\");\n    run_inline_js();\n  } else {\n    load_libs(css_urls, js_urls, function() {\n      console.debug(\"Bokeh: BokehJS plotting callback run at\", now());\n      run_inline_js();\n    });\n  }\n}(window));"
     },
     "metadata": {},
     "output_type": "display_data"
    }
   ],
   "source": [
    "from bokeh.io import output_notebook, show\n",
    "from bokeh.plotting import figure\n",
    "output_notebook()"
   ]
  },
  {
   "cell_type": "markdown",
   "metadata": {},
   "source": [
    "Now that we know from the previous chapter how multiple plots can be placed together in a layout, we can start to look at how different plots can be linked togeher, or how plots can be linked to widgets. "
   ]
  },
  {
   "cell_type": "markdown",
   "metadata": {},
   "source": [
    "# Linked Interactions\n",
    "\n",
    "It is possible to link various interactions between different Bokeh plots. For instance, the ranges of two (or more) plots can be linked, so that when one of the plots is panned (or zoomed, or otherwise has its range changed) the other plots will update in unison. It is also possible to link selections between two plots, so that when items are selected on one plot, the corresponding items on the second plot also become selected. "
   ]
  },
  {
   "cell_type": "markdown",
   "metadata": {},
   "source": [
    "## Linked panning\n",
    "\n",
    "Linked panning (when multiple plots have ranges that stay in sync) is simple to spell with Bokeh. You simply share the appropriate range objects between two (or more) plots. The example below shows how to accomplish this by linking the ranges of three plots in various ways:"
   ]
  },
  {
   "cell_type": "code",
   "execution_count": 2,
   "metadata": {},
   "outputs": [
    {
     "data": {
      "text/html": [
       "\n",
       "\n",
       "\n",
       "\n",
       "\n",
       "\n",
       "  <div class=\"bk-root\" id=\"b5ba07cb-ece1-4908-b040-8a0352daaa6e\" data-root-id=\"1116\"></div>\n"
      ]
     },
     "metadata": {},
     "output_type": "display_data"
    },
    {
     "data": {
      "application/javascript": [
       "(function(root) {\n",
       "  function embed_document(root) {\n",
       "    \n",
       "  var docs_json = {\"a2bf9ff8-e780-4797-920a-daac5aa7fb99\":{\"roots\":{\"references\":[{\"attributes\":{\"children\":[{\"id\":\"1115\",\"type\":\"ToolbarBox\"},{\"id\":\"1113\",\"type\":\"GridBox\"}]},\"id\":\"1116\",\"type\":\"Column\"},{\"attributes\":{\"callback\":null},\"id\":\"1060\",\"type\":\"DataRange1d\"},{\"attributes\":{\"active_drag\":\"auto\",\"active_inspect\":\"auto\",\"active_multi\":null,\"active_scroll\":\"auto\",\"active_tap\":\"auto\",\"tools\":[{\"id\":\"1076\",\"type\":\"PanTool\"},{\"id\":\"1077\",\"type\":\"WheelZoomTool\"}]},\"id\":\"1078\",\"type\":\"Toolbar\"},{\"attributes\":{},\"id\":\"1101\",\"type\":\"UnionRenderers\"},{\"attributes\":{\"below\":[{\"id\":\"1011\",\"type\":\"LinearAxis\"}],\"center\":[{\"id\":\"1015\",\"type\":\"Grid\"},{\"id\":\"1020\",\"type\":\"Grid\"}],\"left\":[{\"id\":\"1016\",\"type\":\"LinearAxis\"}],\"plot_height\":250,\"plot_width\":250,\"renderers\":[{\"id\":\"1029\",\"type\":\"GlyphRenderer\"}],\"title\":{\"id\":\"1086\",\"type\":\"Title\"},\"toolbar\":{\"id\":\"1023\",\"type\":\"Toolbar\"},\"toolbar_location\":null,\"x_range\":{\"id\":\"1003\",\"type\":\"DataRange1d\"},\"x_scale\":{\"id\":\"1007\",\"type\":\"LinearScale\"},\"y_range\":{\"id\":\"1005\",\"type\":\"DataRange1d\"},\"y_scale\":{\"id\":\"1009\",\"type\":\"LinearScale\"}},\"id\":\"1002\",\"subtype\":\"Figure\",\"type\":\"Plot\"},{\"attributes\":{},\"id\":\"1022\",\"type\":\"WheelZoomTool\"},{\"attributes\":{\"callback\":null,\"data\":{\"x\":[0,1,2,3,4,5,6,7,8,9,10],\"y\":[5,4,3,2,1,0,1,2,3,4,5]},\"selected\":{\"id\":\"1111\",\"type\":\"Selection\"},\"selection_policy\":{\"id\":\"1110\",\"type\":\"UnionRenderers\"}},\"id\":\"1081\",\"type\":\"ColumnDataSource\"},{\"attributes\":{\"source\":{\"id\":\"1053\",\"type\":\"ColumnDataSource\"}},\"id\":\"1057\",\"type\":\"CDSView\"},{\"attributes\":{},\"id\":\"1034\",\"type\":\"LinearScale\"},{\"attributes\":{\"toolbar\":{\"id\":\"1114\",\"type\":\"ProxyToolbar\"},\"toolbar_location\":\"above\"},\"id\":\"1115\",\"type\":\"ToolbarBox\"},{\"attributes\":{\"dimension\":1,\"ticker\":{\"id\":\"1044\",\"type\":\"BasicTicker\"}},\"id\":\"1047\",\"type\":\"Grid\"},{\"attributes\":{},\"id\":\"1062\",\"type\":\"LinearScale\"},{\"attributes\":{\"fill_color\":{\"value\":\"olive\"},\"line_color\":{\"value\":\"olive\"},\"size\":{\"units\":\"screen\",\"value\":10},\"x\":{\"field\":\"x\"},\"y\":{\"field\":\"y\"}},\"id\":\"1082\",\"type\":\"Square\"},{\"attributes\":{\"below\":[{\"id\":\"1066\",\"type\":\"LinearAxis\"}],\"center\":[{\"id\":\"1070\",\"type\":\"Grid\"},{\"id\":\"1075\",\"type\":\"Grid\"}],\"left\":[{\"id\":\"1071\",\"type\":\"LinearAxis\"}],\"plot_height\":250,\"plot_width\":250,\"renderers\":[{\"id\":\"1084\",\"type\":\"GlyphRenderer\"}],\"title\":{\"id\":\"1104\",\"type\":\"Title\"},\"toolbar\":{\"id\":\"1078\",\"type\":\"Toolbar\"},\"toolbar_location\":null,\"x_range\":{\"id\":\"1003\",\"type\":\"DataRange1d\"},\"x_scale\":{\"id\":\"1062\",\"type\":\"LinearScale\"},\"y_range\":{\"id\":\"1060\",\"type\":\"DataRange1d\"},\"y_scale\":{\"id\":\"1064\",\"type\":\"LinearScale\"}},\"id\":\"1058\",\"subtype\":\"Figure\",\"type\":\"Plot\"},{\"attributes\":{\"tools\":[{\"id\":\"1021\",\"type\":\"PanTool\"},{\"id\":\"1022\",\"type\":\"WheelZoomTool\"},{\"id\":\"1048\",\"type\":\"PanTool\"},{\"id\":\"1049\",\"type\":\"WheelZoomTool\"},{\"id\":\"1076\",\"type\":\"PanTool\"},{\"id\":\"1077\",\"type\":\"WheelZoomTool\"}]},\"id\":\"1114\",\"type\":\"ProxyToolbar\"},{\"attributes\":{\"fill_color\":{\"value\":\"firebrick\"},\"line_color\":{\"value\":\"firebrick\"},\"size\":{\"units\":\"screen\",\"value\":10},\"x\":{\"field\":\"x\"},\"y\":{\"field\":\"y\"}},\"id\":\"1054\",\"type\":\"Triangle\"},{\"attributes\":{},\"id\":\"1111\",\"type\":\"Selection\"},{\"attributes\":{\"active_drag\":\"auto\",\"active_inspect\":\"auto\",\"active_multi\":null,\"active_scroll\":\"auto\",\"active_tap\":\"auto\",\"tools\":[{\"id\":\"1048\",\"type\":\"PanTool\"},{\"id\":\"1049\",\"type\":\"WheelZoomTool\"}]},\"id\":\"1050\",\"type\":\"Toolbar\"},{\"attributes\":{},\"id\":\"1064\",\"type\":\"LinearScale\"},{\"attributes\":{\"fill_alpha\":{\"value\":0.1},\"fill_color\":{\"value\":\"#1f77b4\"},\"line_alpha\":{\"value\":0.1},\"line_color\":{\"value\":\"#1f77b4\"},\"size\":{\"units\":\"screen\",\"value\":10},\"x\":{\"field\":\"x\"},\"y\":{\"field\":\"y\"}},\"id\":\"1028\",\"type\":\"Circle\"},{\"attributes\":{},\"id\":\"1048\",\"type\":\"PanTool\"},{\"attributes\":{},\"id\":\"1012\",\"type\":\"BasicTicker\"},{\"attributes\":{},\"id\":\"1107\",\"type\":\"BasicTickFormatter\"},{\"attributes\":{\"fill_alpha\":{\"value\":0.1},\"fill_color\":{\"value\":\"#1f77b4\"},\"line_alpha\":{\"value\":0.1},\"line_color\":{\"value\":\"#1f77b4\"},\"size\":{\"units\":\"screen\",\"value\":10},\"x\":{\"field\":\"x\"},\"y\":{\"field\":\"y\"}},\"id\":\"1083\",\"type\":\"Square\"},{\"attributes\":{},\"id\":\"1049\",\"type\":\"WheelZoomTool\"},{\"attributes\":{\"data_source\":{\"id\":\"1026\",\"type\":\"ColumnDataSource\"},\"glyph\":{\"id\":\"1027\",\"type\":\"Circle\"},\"hover_glyph\":null,\"muted_glyph\":null,\"nonselection_glyph\":{\"id\":\"1028\",\"type\":\"Circle\"},\"selection_glyph\":null,\"view\":{\"id\":\"1030\",\"type\":\"CDSView\"}},\"id\":\"1029\",\"type\":\"GlyphRenderer\"},{\"attributes\":{},\"id\":\"1017\",\"type\":\"BasicTicker\"},{\"attributes\":{\"fill_color\":{\"value\":\"navy\"},\"line_color\":{\"value\":\"navy\"},\"size\":{\"units\":\"screen\",\"value\":10},\"x\":{\"field\":\"x\"},\"y\":{\"field\":\"y\"}},\"id\":\"1027\",\"type\":\"Circle\"},{\"attributes\":{\"text\":\"\"},\"id\":\"1086\",\"type\":\"Title\"},{\"attributes\":{},\"id\":\"1110\",\"type\":\"UnionRenderers\"},{\"attributes\":{},\"id\":\"1067\",\"type\":\"BasicTicker\"},{\"attributes\":{},\"id\":\"1091\",\"type\":\"BasicTickFormatter\"},{\"attributes\":{\"callback\":null,\"data\":{\"x\":[0,1,2,3,4,5,6,7,8,9,10],\"y\":[10,9,8,7,6,5,4,3,2,1,0]},\"selected\":{\"id\":\"1102\",\"type\":\"Selection\"},\"selection_policy\":{\"id\":\"1101\",\"type\":\"UnionRenderers\"}},\"id\":\"1053\",\"type\":\"ColumnDataSource\"},{\"attributes\":{\"ticker\":{\"id\":\"1067\",\"type\":\"BasicTicker\"}},\"id\":\"1070\",\"type\":\"Grid\"},{\"attributes\":{\"source\":{\"id\":\"1026\",\"type\":\"ColumnDataSource\"}},\"id\":\"1030\",\"type\":\"CDSView\"},{\"attributes\":{\"source\":{\"id\":\"1081\",\"type\":\"ColumnDataSource\"}},\"id\":\"1085\",\"type\":\"CDSView\"},{\"attributes\":{\"formatter\":{\"id\":\"1107\",\"type\":\"BasicTickFormatter\"},\"ticker\":{\"id\":\"1072\",\"type\":\"BasicTicker\"}},\"id\":\"1071\",\"type\":\"LinearAxis\"},{\"attributes\":{},\"id\":\"1092\",\"type\":\"UnionRenderers\"},{\"attributes\":{\"dimension\":1,\"ticker\":{\"id\":\"1017\",\"type\":\"BasicTicker\"}},\"id\":\"1020\",\"type\":\"Grid\"},{\"attributes\":{\"formatter\":{\"id\":\"1100\",\"type\":\"BasicTickFormatter\"},\"ticker\":{\"id\":\"1039\",\"type\":\"BasicTicker\"}},\"id\":\"1038\",\"type\":\"LinearAxis\"},{\"attributes\":{},\"id\":\"1072\",\"type\":\"BasicTicker\"},{\"attributes\":{},\"id\":\"1109\",\"type\":\"BasicTickFormatter\"},{\"attributes\":{\"callback\":null},\"id\":\"1005\",\"type\":\"DataRange1d\"},{\"attributes\":{\"text\":\"\"},\"id\":\"1095\",\"type\":\"Title\"},{\"attributes\":{\"formatter\":{\"id\":\"1091\",\"type\":\"BasicTickFormatter\"},\"ticker\":{\"id\":\"1012\",\"type\":\"BasicTicker\"}},\"id\":\"1011\",\"type\":\"LinearAxis\"},{\"attributes\":{\"below\":[{\"id\":\"1038\",\"type\":\"LinearAxis\"}],\"center\":[{\"id\":\"1042\",\"type\":\"Grid\"},{\"id\":\"1047\",\"type\":\"Grid\"}],\"left\":[{\"id\":\"1043\",\"type\":\"LinearAxis\"}],\"plot_height\":250,\"plot_width\":250,\"renderers\":[{\"id\":\"1056\",\"type\":\"GlyphRenderer\"}],\"title\":{\"id\":\"1095\",\"type\":\"Title\"},\"toolbar\":{\"id\":\"1050\",\"type\":\"Toolbar\"},\"toolbar_location\":null,\"x_range\":{\"id\":\"1003\",\"type\":\"DataRange1d\"},\"x_scale\":{\"id\":\"1034\",\"type\":\"LinearScale\"},\"y_range\":{\"id\":\"1005\",\"type\":\"DataRange1d\"},\"y_scale\":{\"id\":\"1036\",\"type\":\"LinearScale\"}},\"id\":\"1031\",\"subtype\":\"Figure\",\"type\":\"Plot\"},{\"attributes\":{},\"id\":\"1036\",\"type\":\"LinearScale\"},{\"attributes\":{\"formatter\":{\"id\":\"1109\",\"type\":\"BasicTickFormatter\"},\"ticker\":{\"id\":\"1067\",\"type\":\"BasicTicker\"}},\"id\":\"1066\",\"type\":\"LinearAxis\"},{\"attributes\":{\"children\":[[{\"id\":\"1002\",\"subtype\":\"Figure\",\"type\":\"Plot\"},0,0],[{\"id\":\"1031\",\"subtype\":\"Figure\",\"type\":\"Plot\"},0,1],[{\"id\":\"1058\",\"subtype\":\"Figure\",\"type\":\"Plot\"},0,2]]},\"id\":\"1113\",\"type\":\"GridBox\"},{\"attributes\":{},\"id\":\"1089\",\"type\":\"BasicTickFormatter\"},{\"attributes\":{\"callback\":null,\"data\":{\"x\":[0,1,2,3,4,5,6,7,8,9,10],\"y\":[0,1,2,3,4,5,6,7,8,9,10]},\"selected\":{\"id\":\"1093\",\"type\":\"Selection\"},\"selection_policy\":{\"id\":\"1092\",\"type\":\"UnionRenderers\"}},\"id\":\"1026\",\"type\":\"ColumnDataSource\"},{\"attributes\":{\"formatter\":{\"id\":\"1089\",\"type\":\"BasicTickFormatter\"},\"ticker\":{\"id\":\"1017\",\"type\":\"BasicTicker\"}},\"id\":\"1016\",\"type\":\"LinearAxis\"},{\"attributes\":{\"callback\":null},\"id\":\"1003\",\"type\":\"DataRange1d\"},{\"attributes\":{\"dimension\":1,\"ticker\":{\"id\":\"1072\",\"type\":\"BasicTicker\"}},\"id\":\"1075\",\"type\":\"Grid\"},{\"attributes\":{},\"id\":\"1093\",\"type\":\"Selection\"},{\"attributes\":{\"fill_alpha\":{\"value\":0.1},\"fill_color\":{\"value\":\"#1f77b4\"},\"line_alpha\":{\"value\":0.1},\"line_color\":{\"value\":\"#1f77b4\"},\"size\":{\"units\":\"screen\",\"value\":10},\"x\":{\"field\":\"x\"},\"y\":{\"field\":\"y\"}},\"id\":\"1055\",\"type\":\"Triangle\"},{\"attributes\":{},\"id\":\"1007\",\"type\":\"LinearScale\"},{\"attributes\":{\"ticker\":{\"id\":\"1012\",\"type\":\"BasicTicker\"}},\"id\":\"1015\",\"type\":\"Grid\"},{\"attributes\":{\"text\":\"\"},\"id\":\"1104\",\"type\":\"Title\"},{\"attributes\":{},\"id\":\"1076\",\"type\":\"PanTool\"},{\"attributes\":{\"data_source\":{\"id\":\"1053\",\"type\":\"ColumnDataSource\"},\"glyph\":{\"id\":\"1054\",\"type\":\"Triangle\"},\"hover_glyph\":null,\"muted_glyph\":null,\"nonselection_glyph\":{\"id\":\"1055\",\"type\":\"Triangle\"},\"selection_glyph\":null,\"view\":{\"id\":\"1057\",\"type\":\"CDSView\"}},\"id\":\"1056\",\"type\":\"GlyphRenderer\"},{\"attributes\":{},\"id\":\"1039\",\"type\":\"BasicTicker\"},{\"attributes\":{},\"id\":\"1021\",\"type\":\"PanTool\"},{\"attributes\":{},\"id\":\"1077\",\"type\":\"WheelZoomTool\"},{\"attributes\":{},\"id\":\"1009\",\"type\":\"LinearScale\"},{\"attributes\":{\"active_drag\":\"auto\",\"active_inspect\":\"auto\",\"active_multi\":null,\"active_scroll\":\"auto\",\"active_tap\":\"auto\",\"tools\":[{\"id\":\"1021\",\"type\":\"PanTool\"},{\"id\":\"1022\",\"type\":\"WheelZoomTool\"}]},\"id\":\"1023\",\"type\":\"Toolbar\"},{\"attributes\":{\"data_source\":{\"id\":\"1081\",\"type\":\"ColumnDataSource\"},\"glyph\":{\"id\":\"1082\",\"type\":\"Square\"},\"hover_glyph\":null,\"muted_glyph\":null,\"nonselection_glyph\":{\"id\":\"1083\",\"type\":\"Square\"},\"selection_glyph\":null,\"view\":{\"id\":\"1085\",\"type\":\"CDSView\"}},\"id\":\"1084\",\"type\":\"GlyphRenderer\"},{\"attributes\":{},\"id\":\"1102\",\"type\":\"Selection\"},{\"attributes\":{\"ticker\":{\"id\":\"1039\",\"type\":\"BasicTicker\"}},\"id\":\"1042\",\"type\":\"Grid\"},{\"attributes\":{},\"id\":\"1100\",\"type\":\"BasicTickFormatter\"},{\"attributes\":{\"formatter\":{\"id\":\"1098\",\"type\":\"BasicTickFormatter\"},\"ticker\":{\"id\":\"1044\",\"type\":\"BasicTicker\"}},\"id\":\"1043\",\"type\":\"LinearAxis\"},{\"attributes\":{},\"id\":\"1044\",\"type\":\"BasicTicker\"},{\"attributes\":{},\"id\":\"1098\",\"type\":\"BasicTickFormatter\"}],\"root_ids\":[\"1116\"]},\"title\":\"Bokeh Application\",\"version\":\"1.4.0\"}};\n",
       "  var render_items = [{\"docid\":\"a2bf9ff8-e780-4797-920a-daac5aa7fb99\",\"roots\":{\"1116\":\"b5ba07cb-ece1-4908-b040-8a0352daaa6e\"}}];\n",
       "  root.Bokeh.embed.embed_items_notebook(docs_json, render_items);\n",
       "\n",
       "  }\n",
       "  if (root.Bokeh !== undefined) {\n",
       "    embed_document(root);\n",
       "  } else {\n",
       "    var attempts = 0;\n",
       "    var timer = setInterval(function(root) {\n",
       "      if (root.Bokeh !== undefined) {\n",
       "        clearInterval(timer);\n",
       "        embed_document(root);\n",
       "      } else {\n",
       "        attempts++;\n",
       "        if (attempts > 100) {\n",
       "          clearInterval(timer);\n",
       "          console.log(\"Bokeh: ERROR: Unable to run BokehJS code because BokehJS library is missing\");\n",
       "        }\n",
       "      }\n",
       "    }, 10, root)\n",
       "  }\n",
       "})(window);"
      ],
      "application/vnd.bokehjs_exec.v0+json": ""
     },
     "metadata": {
      "application/vnd.bokehjs_exec.v0+json": {
       "id": "1116"
      }
     },
     "output_type": "display_data"
    }
   ],
   "source": [
    "from bokeh.layouts import gridplot\n",
    "\n",
    "x = list(range(11))\n",
    "y0, y1, y2 = x, [10-i for i in x], [abs(i-5) for i in x]\n",
    "\n",
    "plot_options = dict(width=250, plot_height=250, tools='pan,wheel_zoom')\n",
    "\n",
    "# create a new plot\n",
    "s1 = figure(**plot_options)\n",
    "s1.circle(x, y0, size=10, color=\"navy\")\n",
    "\n",
    "# create a new plot and share both ranges\n",
    "s2 = figure(x_range=s1.x_range, y_range=s1.y_range, **plot_options)\n",
    "s2.triangle(x, y1, size=10, color=\"firebrick\")\n",
    "\n",
    "# create a new plot and share only one range\n",
    "s3 = figure(x_range=s1.x_range, **plot_options)\n",
    "s3.square(x, y2, size=10, color=\"olive\")\n",
    "\n",
    "p = gridplot([[s1, s2, s3]])\n",
    "\n",
    "# show the results\n",
    "show(p)"
   ]
  },
  {
   "cell_type": "code",
   "execution_count": 3,
   "metadata": {},
   "outputs": [],
   "source": [
    "# EXERCISE: create two plots in a gridplot, and link their ranges\n"
   ]
  },
  {
   "cell_type": "markdown",
   "metadata": {},
   "source": [
    "## Linked brushing\n",
    "\n",
    "Linking selections is accomplished in a similar way, by sharing data sources between plots. Note that normally with ``bokeh.plotting`` and ``bokeh.charts`` creating a default data source for simple plots is handled automatically. However to share a data source, we must create them by hand and pass them explicitly. This is illustrated in the example below:"
   ]
  },
  {
   "cell_type": "code",
   "execution_count": 3,
   "metadata": {},
   "outputs": [
    {
     "data": {
      "text/html": [
       "\n",
       "\n",
       "\n",
       "\n",
       "\n",
       "\n",
       "  <div class=\"bk-root\" id=\"83884fcc-1c62-4281-86f3-695f8232f521\" data-root-id=\"1373\"></div>\n"
      ]
     },
     "metadata": {},
     "output_type": "display_data"
    },
    {
     "data": {
      "application/javascript": [
       "(function(root) {\n",
       "  function embed_document(root) {\n",
       "    \n",
       "  var docs_json = {\"67acd8da-f190-4242-8eb3-716e7716f071\":{\"roots\":{\"references\":[{\"attributes\":{\"children\":[{\"id\":\"1372\",\"type\":\"ToolbarBox\"},{\"id\":\"1370\",\"type\":\"GridBox\"}]},\"id\":\"1373\",\"type\":\"Column\"},{\"attributes\":{\"formatter\":{\"id\":\"1353\",\"type\":\"BasicTickFormatter\"},\"ticker\":{\"id\":\"1296\",\"type\":\"BasicTicker\"}},\"id\":\"1295\",\"type\":\"LinearAxis\"},{\"attributes\":{},\"id\":\"1338\",\"type\":\"HelpTool\"},{\"attributes\":{\"ticker\":{\"id\":\"1327\",\"type\":\"BasicTicker\"}},\"id\":\"1330\",\"type\":\"Grid\"},{\"attributes\":{\"tools\":[{\"id\":\"1305\",\"type\":\"BoxSelectTool\"},{\"id\":\"1306\",\"type\":\"LassoSelectTool\"},{\"id\":\"1307\",\"type\":\"HelpTool\"},{\"id\":\"1336\",\"type\":\"BoxSelectTool\"},{\"id\":\"1337\",\"type\":\"LassoSelectTool\"},{\"id\":\"1338\",\"type\":\"HelpTool\"}]},\"id\":\"1371\",\"type\":\"ProxyToolbar\"},{\"attributes\":{\"formatter\":{\"id\":\"1362\",\"type\":\"BasicTickFormatter\"},\"ticker\":{\"id\":\"1332\",\"type\":\"BasicTicker\"}},\"id\":\"1331\",\"type\":\"LinearAxis\"},{\"attributes\":{},\"id\":\"1332\",\"type\":\"BasicTicker\"},{\"attributes\":{\"active_drag\":\"auto\",\"active_inspect\":\"auto\",\"active_multi\":null,\"active_scroll\":\"auto\",\"active_tap\":\"auto\",\"tools\":[{\"id\":\"1305\",\"type\":\"BoxSelectTool\"},{\"id\":\"1306\",\"type\":\"LassoSelectTool\"},{\"id\":\"1307\",\"type\":\"HelpTool\"}]},\"id\":\"1308\",\"type\":\"Toolbar\"},{\"attributes\":{\"toolbar\":{\"id\":\"1371\",\"type\":\"ProxyToolbar\"},\"toolbar_location\":\"above\"},\"id\":\"1372\",\"type\":\"ToolbarBox\"},{\"attributes\":{},\"id\":\"1291\",\"type\":\"LinearScale\"},{\"attributes\":{\"fill_alpha\":{\"value\":0.1},\"fill_color\":{\"value\":\"#1f77b4\"},\"line_alpha\":{\"value\":0.1},\"line_color\":{\"value\":\"#1f77b4\"},\"x\":{\"field\":\"x\"},\"y\":{\"field\":\"y0\"}},\"id\":\"1314\",\"type\":\"Circle\"},{\"attributes\":{\"data_source\":{\"id\":\"1285\",\"type\":\"ColumnDataSource\"},\"glyph\":{\"id\":\"1313\",\"type\":\"Circle\"},\"hover_glyph\":null,\"muted_glyph\":null,\"nonselection_glyph\":{\"id\":\"1314\",\"type\":\"Circle\"},\"selection_glyph\":null,\"view\":{\"id\":\"1316\",\"type\":\"CDSView\"}},\"id\":\"1315\",\"type\":\"GlyphRenderer\"},{\"attributes\":{},\"id\":\"1293\",\"type\":\"LinearScale\"},{\"attributes\":{\"data_source\":{\"id\":\"1285\",\"type\":\"ColumnDataSource\"},\"glyph\":{\"id\":\"1344\",\"type\":\"Circle\"},\"hover_glyph\":null,\"muted_glyph\":null,\"nonselection_glyph\":{\"id\":\"1345\",\"type\":\"Circle\"},\"selection_glyph\":null,\"view\":{\"id\":\"1347\",\"type\":\"CDSView\"}},\"id\":\"1346\",\"type\":\"GlyphRenderer\"},{\"attributes\":{},\"id\":\"1296\",\"type\":\"BasicTicker\"},{\"attributes\":{\"source\":{\"id\":\"1285\",\"type\":\"ColumnDataSource\"}},\"id\":\"1347\",\"type\":\"CDSView\"},{\"attributes\":{},\"id\":\"1364\",\"type\":\"BasicTickFormatter\"},{\"attributes\":{\"fill_alpha\":{\"value\":0.1},\"fill_color\":{\"value\":\"#1f77b4\"},\"line_alpha\":{\"value\":0.1},\"line_color\":{\"value\":\"#1f77b4\"},\"x\":{\"field\":\"x\"},\"y\":{\"field\":\"y1\"}},\"id\":\"1345\",\"type\":\"Circle\"},{\"attributes\":{\"dimension\":1,\"ticker\":{\"id\":\"1332\",\"type\":\"BasicTicker\"}},\"id\":\"1335\",\"type\":\"Grid\"},{\"attributes\":{\"active_drag\":\"auto\",\"active_inspect\":\"auto\",\"active_multi\":null,\"active_scroll\":\"auto\",\"active_tap\":\"auto\",\"tools\":[{\"id\":\"1336\",\"type\":\"BoxSelectTool\"},{\"id\":\"1337\",\"type\":\"LassoSelectTool\"},{\"id\":\"1338\",\"type\":\"HelpTool\"}]},\"id\":\"1339\",\"type\":\"Toolbar\"},{\"attributes\":{},\"id\":\"1356\",\"type\":\"UnionRenderers\"},{\"attributes\":{\"ticker\":{\"id\":\"1296\",\"type\":\"BasicTicker\"}},\"id\":\"1299\",\"type\":\"Grid\"},{\"attributes\":{\"callback\":null,\"overlay\":{\"id\":\"1366\",\"type\":\"PolyAnnotation\"}},\"id\":\"1337\",\"type\":\"LassoSelectTool\"},{\"attributes\":{\"formatter\":{\"id\":\"1351\",\"type\":\"BasicTickFormatter\"},\"ticker\":{\"id\":\"1301\",\"type\":\"BasicTicker\"}},\"id\":\"1300\",\"type\":\"LinearAxis\"},{\"attributes\":{\"text\":\"\"},\"id\":\"1359\",\"type\":\"Title\"},{\"attributes\":{\"source\":{\"id\":\"1285\",\"type\":\"ColumnDataSource\"}},\"id\":\"1316\",\"type\":\"CDSView\"},{\"attributes\":{},\"id\":\"1327\",\"type\":\"BasicTicker\"},{\"attributes\":{\"callback\":null},\"id\":\"1318\",\"type\":\"DataRange1d\"},{\"attributes\":{\"fill_alpha\":{\"value\":0.5},\"fill_color\":{\"value\":\"lightgrey\"},\"level\":\"overlay\",\"line_alpha\":{\"value\":1.0},\"line_color\":{\"value\":\"black\"},\"line_dash\":[4,4],\"line_width\":{\"value\":2},\"xs_units\":\"screen\",\"ys_units\":\"screen\"},\"id\":\"1355\",\"type\":\"PolyAnnotation\"},{\"attributes\":{\"bottom_units\":\"screen\",\"fill_alpha\":{\"value\":0.5},\"fill_color\":{\"value\":\"lightgrey\"},\"left_units\":\"screen\",\"level\":\"overlay\",\"line_alpha\":{\"value\":1.0},\"line_color\":{\"value\":\"black\"},\"line_dash\":[4,4],\"line_width\":{\"value\":2},\"render_mode\":\"css\",\"right_units\":\"screen\",\"top_units\":\"screen\"},\"id\":\"1365\",\"type\":\"BoxAnnotation\"},{\"attributes\":{},\"id\":\"1301\",\"type\":\"BasicTicker\"},{\"attributes\":{\"text\":\"\"},\"id\":\"1348\",\"type\":\"Title\"},{\"attributes\":{},\"id\":\"1353\",\"type\":\"BasicTickFormatter\"},{\"attributes\":{\"callback\":null},\"id\":\"1320\",\"type\":\"DataRange1d\"},{\"attributes\":{},\"id\":\"1351\",\"type\":\"BasicTickFormatter\"},{\"attributes\":{\"formatter\":{\"id\":\"1364\",\"type\":\"BasicTickFormatter\"},\"ticker\":{\"id\":\"1327\",\"type\":\"BasicTicker\"}},\"id\":\"1326\",\"type\":\"LinearAxis\"},{\"attributes\":{\"bottom_units\":\"screen\",\"fill_alpha\":{\"value\":0.5},\"fill_color\":{\"value\":\"lightgrey\"},\"left_units\":\"screen\",\"level\":\"overlay\",\"line_alpha\":{\"value\":1.0},\"line_color\":{\"value\":\"black\"},\"line_dash\":[4,4],\"line_width\":{\"value\":2},\"render_mode\":\"css\",\"right_units\":\"screen\",\"top_units\":\"screen\"},\"id\":\"1354\",\"type\":\"BoxAnnotation\"},{\"attributes\":{\"children\":[[{\"id\":\"1286\",\"subtype\":\"Figure\",\"type\":\"Plot\"},0,0],[{\"id\":\"1317\",\"subtype\":\"Figure\",\"type\":\"Plot\"},0,1]]},\"id\":\"1370\",\"type\":\"GridBox\"},{\"attributes\":{\"callback\":null,\"data\":{\"x\":[-20,-19,-18,-17,-16,-15,-14,-13,-12,-11,-10,-9,-8,-7,-6,-5,-4,-3,-2,-1,0,1,2,3,4,5,6,7,8,9,10,11,12,13,14,15,16,17,18,19,20],\"y0\":[20,19,18,17,16,15,14,13,12,11,10,9,8,7,6,5,4,3,2,1,0,1,2,3,4,5,6,7,8,9,10,11,12,13,14,15,16,17,18,19,20],\"y1\":[400,361,324,289,256,225,196,169,144,121,100,81,64,49,36,25,16,9,4,1,0,1,4,9,16,25,36,49,64,81,100,121,144,169,196,225,256,289,324,361,400]},\"selected\":{\"id\":\"1357\",\"type\":\"Selection\"},\"selection_policy\":{\"id\":\"1356\",\"type\":\"UnionRenderers\"}},\"id\":\"1285\",\"type\":\"ColumnDataSource\"},{\"attributes\":{},\"id\":\"1362\",\"type\":\"BasicTickFormatter\"},{\"attributes\":{},\"id\":\"1357\",\"type\":\"Selection\"},{\"attributes\":{\"callback\":null},\"id\":\"1289\",\"type\":\"DataRange1d\"},{\"attributes\":{\"dimension\":1,\"ticker\":{\"id\":\"1301\",\"type\":\"BasicTicker\"}},\"id\":\"1304\",\"type\":\"Grid\"},{\"attributes\":{\"below\":[{\"id\":\"1326\",\"type\":\"LinearAxis\"}],\"center\":[{\"id\":\"1330\",\"type\":\"Grid\"},{\"id\":\"1335\",\"type\":\"Grid\"}],\"left\":[{\"id\":\"1331\",\"type\":\"LinearAxis\"}],\"plot_height\":300,\"plot_width\":300,\"renderers\":[{\"id\":\"1346\",\"type\":\"GlyphRenderer\"}],\"title\":{\"id\":\"1359\",\"type\":\"Title\"},\"toolbar\":{\"id\":\"1339\",\"type\":\"Toolbar\"},\"toolbar_location\":null,\"x_range\":{\"id\":\"1318\",\"type\":\"DataRange1d\"},\"x_scale\":{\"id\":\"1322\",\"type\":\"LinearScale\"},\"y_range\":{\"id\":\"1320\",\"type\":\"DataRange1d\"},\"y_scale\":{\"id\":\"1324\",\"type\":\"LinearScale\"}},\"id\":\"1317\",\"subtype\":\"Figure\",\"type\":\"Plot\"},{\"attributes\":{},\"id\":\"1322\",\"type\":\"LinearScale\"},{\"attributes\":{\"callback\":null,\"overlay\":{\"id\":\"1354\",\"type\":\"BoxAnnotation\"}},\"id\":\"1305\",\"type\":\"BoxSelectTool\"},{\"attributes\":{},\"id\":\"1324\",\"type\":\"LinearScale\"},{\"attributes\":{\"fill_color\":{\"value\":\"#1f77b4\"},\"line_color\":{\"value\":\"#1f77b4\"},\"x\":{\"field\":\"x\"},\"y\":{\"field\":\"y1\"}},\"id\":\"1344\",\"type\":\"Circle\"},{\"attributes\":{\"below\":[{\"id\":\"1295\",\"type\":\"LinearAxis\"}],\"center\":[{\"id\":\"1299\",\"type\":\"Grid\"},{\"id\":\"1304\",\"type\":\"Grid\"}],\"left\":[{\"id\":\"1300\",\"type\":\"LinearAxis\"}],\"plot_height\":300,\"plot_width\":300,\"renderers\":[{\"id\":\"1315\",\"type\":\"GlyphRenderer\"}],\"title\":{\"id\":\"1348\",\"type\":\"Title\"},\"toolbar\":{\"id\":\"1308\",\"type\":\"Toolbar\"},\"toolbar_location\":null,\"x_range\":{\"id\":\"1287\",\"type\":\"DataRange1d\"},\"x_scale\":{\"id\":\"1291\",\"type\":\"LinearScale\"},\"y_range\":{\"id\":\"1289\",\"type\":\"DataRange1d\"},\"y_scale\":{\"id\":\"1293\",\"type\":\"LinearScale\"}},\"id\":\"1286\",\"subtype\":\"Figure\",\"type\":\"Plot\"},{\"attributes\":{\"callback\":null,\"overlay\":{\"id\":\"1355\",\"type\":\"PolyAnnotation\"}},\"id\":\"1306\",\"type\":\"LassoSelectTool\"},{\"attributes\":{\"callback\":null,\"overlay\":{\"id\":\"1365\",\"type\":\"BoxAnnotation\"}},\"id\":\"1336\",\"type\":\"BoxSelectTool\"},{\"attributes\":{\"fill_alpha\":{\"value\":0.5},\"fill_color\":{\"value\":\"lightgrey\"},\"level\":\"overlay\",\"line_alpha\":{\"value\":1.0},\"line_color\":{\"value\":\"black\"},\"line_dash\":[4,4],\"line_width\":{\"value\":2},\"xs_units\":\"screen\",\"ys_units\":\"screen\"},\"id\":\"1366\",\"type\":\"PolyAnnotation\"},{\"attributes\":{\"fill_color\":{\"value\":\"#1f77b4\"},\"line_color\":{\"value\":\"#1f77b4\"},\"x\":{\"field\":\"x\"},\"y\":{\"field\":\"y0\"}},\"id\":\"1313\",\"type\":\"Circle\"},{\"attributes\":{\"callback\":null},\"id\":\"1287\",\"type\":\"DataRange1d\"},{\"attributes\":{},\"id\":\"1307\",\"type\":\"HelpTool\"}],\"root_ids\":[\"1373\"]},\"title\":\"Bokeh Application\",\"version\":\"1.4.0\"}};\n",
       "  var render_items = [{\"docid\":\"67acd8da-f190-4242-8eb3-716e7716f071\",\"roots\":{\"1373\":\"83884fcc-1c62-4281-86f3-695f8232f521\"}}];\n",
       "  root.Bokeh.embed.embed_items_notebook(docs_json, render_items);\n",
       "\n",
       "  }\n",
       "  if (root.Bokeh !== undefined) {\n",
       "    embed_document(root);\n",
       "  } else {\n",
       "    var attempts = 0;\n",
       "    var timer = setInterval(function(root) {\n",
       "      if (root.Bokeh !== undefined) {\n",
       "        clearInterval(timer);\n",
       "        embed_document(root);\n",
       "      } else {\n",
       "        attempts++;\n",
       "        if (attempts > 100) {\n",
       "          clearInterval(timer);\n",
       "          console.log(\"Bokeh: ERROR: Unable to run BokehJS code because BokehJS library is missing\");\n",
       "        }\n",
       "      }\n",
       "    }, 10, root)\n",
       "  }\n",
       "})(window);"
      ],
      "application/vnd.bokehjs_exec.v0+json": ""
     },
     "metadata": {
      "application/vnd.bokehjs_exec.v0+json": {
       "id": "1373"
      }
     },
     "output_type": "display_data"
    }
   ],
   "source": [
    "from bokeh.models import ColumnDataSource\n",
    "\n",
    "x = list(range(-20, 21))\n",
    "y0, y1 = [abs(xx) for xx in x], [xx**2 for xx in x]\n",
    "\n",
    "# create a column data source for the plots to share\n",
    "source = ColumnDataSource(data=dict(x=x, y0=y0, y1=y1))\n",
    "\n",
    "TOOLS = \"box_select,lasso_select,help\"\n",
    "\n",
    "# create a new plot and add a renderer\n",
    "left = figure(tools=TOOLS, width=300, height=300)\n",
    "left.circle('x', 'y0', source=source)\n",
    "\n",
    "# create another new plot and add a renderer\n",
    "right = figure(tools=TOOLS, width=300, height=300)\n",
    "right.circle('x', 'y1', source=source)\n",
    "\n",
    "p = gridplot([[left, right]])\n",
    "\n",
    "show(p)"
   ]
  },
  {
   "cell_type": "code",
   "execution_count": 5,
   "metadata": {},
   "outputs": [],
   "source": [
    "# EXERCISE: create two plots in a gridplot, and link their data sources\n",
    "\n"
   ]
  },
  {
   "cell_type": "markdown",
   "metadata": {},
   "source": [
    "# Hover Tools\n",
    "\n",
    "Bokeh has a Hover Tool that allows additional information to be displayed in a popup whenever the user hovers over a specific glyph. Basic hover tool configuration amounts to providing a list of ``(name, format)`` tuples. The full details can be found in the User's Guide [here](http://bokeh.pydata.org/en/latest/docs/user_guide/tools.html#hovertool).\n",
    "\n",
    "The example below shows some basic usage of the Hover tool with a circle glyph, using hover information defined in utils.py:"
   ]
  },
  {
   "cell_type": "code",
   "execution_count": 4,
   "metadata": {},
   "outputs": [
    {
     "data": {
      "text/html": [
       "\n",
       "\n",
       "\n",
       "\n",
       "\n",
       "\n",
       "  <div class=\"bk-root\" id=\"c42db184-8e83-4061-8e82-d6ee86781f6c\" data-root-id=\"1528\"></div>\n"
      ]
     },
     "metadata": {},
     "output_type": "display_data"
    },
    {
     "data": {
      "application/javascript": [
       "(function(root) {\n",
       "  function embed_document(root) {\n",
       "    \n",
       "  var docs_json = {\"823cea3b-ae8e-446d-80bb-b59b7a9da7a9\":{\"roots\":{\"references\":[{\"attributes\":{\"below\":[{\"id\":\"1539\",\"type\":\"LinearAxis\"}],\"center\":[{\"id\":\"1543\",\"type\":\"Grid\"},{\"id\":\"1548\",\"type\":\"Grid\"}],\"left\":[{\"id\":\"1544\",\"type\":\"LinearAxis\"}],\"plot_height\":300,\"plot_width\":300,\"renderers\":[{\"id\":\"1554\",\"type\":\"GlyphRenderer\"}],\"title\":{\"id\":\"1529\",\"type\":\"Title\"},\"toolbar\":{\"id\":\"1549\",\"type\":\"Toolbar\"},\"x_range\":{\"id\":\"1531\",\"type\":\"DataRange1d\"},\"x_scale\":{\"id\":\"1535\",\"type\":\"LinearScale\"},\"y_range\":{\"id\":\"1533\",\"type\":\"DataRange1d\"},\"y_scale\":{\"id\":\"1537\",\"type\":\"LinearScale\"}},\"id\":\"1528\",\"subtype\":\"Figure\",\"type\":\"Plot\"},{\"attributes\":{\"dimension\":1,\"ticker\":{\"id\":\"1545\",\"type\":\"BasicTicker\"}},\"id\":\"1548\",\"type\":\"Grid\"},{\"attributes\":{\"active_drag\":\"auto\",\"active_inspect\":\"auto\",\"active_multi\":null,\"active_scroll\":\"auto\",\"active_tap\":\"auto\",\"tools\":[{\"id\":\"1527\",\"type\":\"HoverTool\"}]},\"id\":\"1549\",\"type\":\"Toolbar\"},{\"attributes\":{\"callback\":null},\"id\":\"1533\",\"type\":\"DataRange1d\"},{\"attributes\":{\"text\":\"Mouse over the dots\"},\"id\":\"1529\",\"type\":\"Title\"},{\"attributes\":{},\"id\":\"1600\",\"type\":\"BasicTickFormatter\"},{\"attributes\":{\"callback\":null},\"id\":\"1531\",\"type\":\"DataRange1d\"},{\"attributes\":{\"fill_alpha\":{\"value\":0.1},\"fill_color\":{\"value\":\"#1f77b4\"},\"line_alpha\":{\"value\":0.1},\"line_color\":{\"value\":\"#1f77b4\"},\"size\":{\"units\":\"screen\",\"value\":20},\"x\":{\"field\":\"x\"},\"y\":{\"field\":\"y\"}},\"id\":\"1553\",\"type\":\"Circle\"},{\"attributes\":{\"data_source\":{\"id\":\"1526\",\"type\":\"ColumnDataSource\"},\"glyph\":{\"id\":\"1552\",\"type\":\"Circle\"},\"hover_glyph\":null,\"muted_glyph\":null,\"nonselection_glyph\":{\"id\":\"1553\",\"type\":\"Circle\"},\"selection_glyph\":null,\"view\":{\"id\":\"1555\",\"type\":\"CDSView\"}},\"id\":\"1554\",\"type\":\"GlyphRenderer\"},{\"attributes\":{\"callback\":null,\"data\":{\"desc\":[\"A\",\"b\",\"C\",\"d\",\"E\"],\"x\":[1,2,3,4,5],\"y\":[2,5,8,2,7]},\"selected\":{\"id\":\"1604\",\"type\":\"Selection\"},\"selection_policy\":{\"id\":\"1603\",\"type\":\"UnionRenderers\"}},\"id\":\"1526\",\"type\":\"ColumnDataSource\"},{\"attributes\":{\"formatter\":{\"id\":\"1602\",\"type\":\"BasicTickFormatter\"},\"ticker\":{\"id\":\"1540\",\"type\":\"BasicTicker\"}},\"id\":\"1539\",\"type\":\"LinearAxis\"},{\"attributes\":{},\"id\":\"1535\",\"type\":\"LinearScale\"},{\"attributes\":{\"source\":{\"id\":\"1526\",\"type\":\"ColumnDataSource\"}},\"id\":\"1555\",\"type\":\"CDSView\"},{\"attributes\":{},\"id\":\"1537\",\"type\":\"LinearScale\"},{\"attributes\":{},\"id\":\"1603\",\"type\":\"UnionRenderers\"},{\"attributes\":{},\"id\":\"1604\",\"type\":\"Selection\"},{\"attributes\":{},\"id\":\"1540\",\"type\":\"BasicTicker\"},{\"attributes\":{},\"id\":\"1602\",\"type\":\"BasicTickFormatter\"},{\"attributes\":{\"ticker\":{\"id\":\"1540\",\"type\":\"BasicTicker\"}},\"id\":\"1543\",\"type\":\"Grid\"},{\"attributes\":{\"formatter\":{\"id\":\"1600\",\"type\":\"BasicTickFormatter\"},\"ticker\":{\"id\":\"1545\",\"type\":\"BasicTicker\"}},\"id\":\"1544\",\"type\":\"LinearAxis\"},{\"attributes\":{},\"id\":\"1545\",\"type\":\"BasicTicker\"},{\"attributes\":{\"callback\":null,\"tooltips\":[[\"index\",\"$index\"],[\"(x,y)\",\"($x, $y)\"],[\"desc\",\"@desc\"]]},\"id\":\"1527\",\"type\":\"HoverTool\"},{\"attributes\":{\"fill_color\":{\"value\":\"#1f77b4\"},\"line_color\":{\"value\":\"#1f77b4\"},\"size\":{\"units\":\"screen\",\"value\":20},\"x\":{\"field\":\"x\"},\"y\":{\"field\":\"y\"}},\"id\":\"1552\",\"type\":\"Circle\"}],\"root_ids\":[\"1528\"]},\"title\":\"Bokeh Application\",\"version\":\"1.4.0\"}};\n",
       "  var render_items = [{\"docid\":\"823cea3b-ae8e-446d-80bb-b59b7a9da7a9\",\"roots\":{\"1528\":\"c42db184-8e83-4061-8e82-d6ee86781f6c\"}}];\n",
       "  root.Bokeh.embed.embed_items_notebook(docs_json, render_items);\n",
       "\n",
       "  }\n",
       "  if (root.Bokeh !== undefined) {\n",
       "    embed_document(root);\n",
       "  } else {\n",
       "    var attempts = 0;\n",
       "    var timer = setInterval(function(root) {\n",
       "      if (root.Bokeh !== undefined) {\n",
       "        clearInterval(timer);\n",
       "        embed_document(root);\n",
       "      } else {\n",
       "        attempts++;\n",
       "        if (attempts > 100) {\n",
       "          clearInterval(timer);\n",
       "          console.log(\"Bokeh: ERROR: Unable to run BokehJS code because BokehJS library is missing\");\n",
       "        }\n",
       "      }\n",
       "    }, 10, root)\n",
       "  }\n",
       "})(window);"
      ],
      "application/vnd.bokehjs_exec.v0+json": ""
     },
     "metadata": {
      "application/vnd.bokehjs_exec.v0+json": {
       "id": "1528"
      }
     },
     "output_type": "display_data"
    }
   ],
   "source": [
    "from bokeh.models import HoverTool\n",
    "\n",
    "source = ColumnDataSource(\n",
    "        data=dict(\n",
    "            x=[1, 2, 3, 4, 5],\n",
    "            y=[2, 5, 8, 2, 7],\n",
    "            desc=['A', 'b', 'C', 'd', 'E'],\n",
    "        )\n",
    "    )\n",
    "\n",
    "hover = HoverTool(\n",
    "        tooltips=[\n",
    "            (\"index\", \"$index\"),\n",
    "            (\"(x,y)\", \"($x, $y)\"),\n",
    "            (\"desc\", \"@desc\"),\n",
    "        ]\n",
    "    )\n",
    "\n",
    "p = figure(plot_width=300, plot_height=300, tools=[hover], title=\"Mouse over the dots\")\n",
    "\n",
    "p.circle('x', 'y', size=20, source=source)\n",
    "\n",
    "show(p)"
   ]
  },
  {
   "cell_type": "markdown",
   "metadata": {},
   "source": [
    "# Widgets"
   ]
  },
  {
   "cell_type": "markdown",
   "metadata": {},
   "source": [
    "Bokeh supports direct integration with a small basic widget set. Thse can be used in conjunction with a Bokeh Server, or with ``CustomJS`` models to add more interactive capability to your documents. You can see a complete list, with example code in the [Adding Widgets](http://bokeh.pydata.org/en/latest/docs/user_guide/interaction.html#adding-widgets) section of the User's Guide. \n",
    "\n",
    "\n",
    "\n",
    "*NOTE: In this Tutorial chapter, we will focus on using widgets with JavaScript callbacks. The Tutorial chapter on Bokeh server applications covers using Bokeh widgets with real Python callbacks*\n",
    "\n",
    "\n",
    "\n",
    "\n",
    "To use the widgets, include them in a layout like you would a plot object:"
   ]
  },
  {
   "cell_type": "code",
   "execution_count": 5,
   "metadata": {},
   "outputs": [
    {
     "data": {
      "text/html": [
       "\n",
       "\n",
       "\n",
       "\n",
       "\n",
       "\n",
       "  <div class=\"bk-root\" id=\"0ab32f7c-0afb-44eb-a301-96660ae56a91\" data-root-id=\"1648\"></div>\n"
      ]
     },
     "metadata": {},
     "output_type": "display_data"
    },
    {
     "data": {
      "application/javascript": [
       "(function(root) {\n",
       "  function embed_document(root) {\n",
       "    \n",
       "  var docs_json = {\"7ec3f14a-663a-4acd-8e64-38d44e55a595\":{\"roots\":{\"references\":[{\"attributes\":{\"children\":[{\"id\":\"1647\",\"type\":\"Slider\"}]},\"id\":\"1648\",\"type\":\"WidgetBox\"},{\"attributes\":{\"callback\":null,\"end\":10,\"start\":0,\"step\":0.1,\"title\":\"foo\",\"value\":1},\"id\":\"1647\",\"type\":\"Slider\"}],\"root_ids\":[\"1648\"]},\"title\":\"Bokeh Application\",\"version\":\"1.4.0\"}};\n",
       "  var render_items = [{\"docid\":\"7ec3f14a-663a-4acd-8e64-38d44e55a595\",\"roots\":{\"1648\":\"0ab32f7c-0afb-44eb-a301-96660ae56a91\"}}];\n",
       "  root.Bokeh.embed.embed_items_notebook(docs_json, render_items);\n",
       "\n",
       "  }\n",
       "  if (root.Bokeh !== undefined) {\n",
       "    embed_document(root);\n",
       "  } else {\n",
       "    var attempts = 0;\n",
       "    var timer = setInterval(function(root) {\n",
       "      if (root.Bokeh !== undefined) {\n",
       "        clearInterval(timer);\n",
       "        embed_document(root);\n",
       "      } else {\n",
       "        attempts++;\n",
       "        if (attempts > 100) {\n",
       "          clearInterval(timer);\n",
       "          console.log(\"Bokeh: ERROR: Unable to run BokehJS code because BokehJS library is missing\");\n",
       "        }\n",
       "      }\n",
       "    }, 10, root)\n",
       "  }\n",
       "})(window);"
      ],
      "application/vnd.bokehjs_exec.v0+json": ""
     },
     "metadata": {
      "application/vnd.bokehjs_exec.v0+json": {
       "id": "1648"
      }
     },
     "output_type": "display_data"
    }
   ],
   "source": [
    "from bokeh.layouts import widgetbox\n",
    "from bokeh.models.widgets import Slider\n",
    "\n",
    "\n",
    "slider = Slider(start=0, end=10, value=1, step=.1, title=\"foo\")\n",
    "\n",
    "show(widgetbox(slider))"
   ]
  },
  {
   "cell_type": "code",
   "execution_count": 8,
   "metadata": {},
   "outputs": [],
   "source": [
    "# EXERCISE: create and show a Select widget \n"
   ]
  },
  {
   "cell_type": "markdown",
   "metadata": {},
   "source": [
    "# CustomJS Callbacks\n",
    "\n",
    "In order for a widget to be useful, it needs to be able to perform some action. Using the Bokeh server, it is possible to have widgets trigger real Python code. That possibuility will be explored in the Bokeh server chapter of the turorial. Here, we look at how widgets can be configured with `CustomJS` callbacks that execute snippets of JavaScript code. "
   ]
  },
  {
   "cell_type": "code",
   "execution_count": 6,
   "metadata": {},
   "outputs": [
    {
     "data": {
      "text/html": [
       "\n",
       "\n",
       "\n",
       "\n",
       "\n",
       "\n",
       "  <div class=\"bk-root\" id=\"7a665344-5959-40de-8b58-44148d8d1081\" data-root-id=\"1700\"></div>\n"
      ]
     },
     "metadata": {},
     "output_type": "display_data"
    },
    {
     "data": {
      "application/javascript": [
       "(function(root) {\n",
       "  function embed_document(root) {\n",
       "    \n",
       "  var docs_json = {\"704d4e72-2f0c-400e-aabe-01639e452b0b\":{\"roots\":{\"references\":[{\"attributes\":{\"below\":[{\"id\":\"1709\",\"type\":\"LinearAxis\"}],\"center\":[{\"id\":\"1713\",\"type\":\"Grid\"},{\"id\":\"1718\",\"type\":\"Grid\"}],\"left\":[{\"id\":\"1714\",\"type\":\"LinearAxis\"}],\"plot_height\":300,\"renderers\":[{\"id\":\"1724\",\"type\":\"GlyphRenderer\"}],\"title\":{\"id\":\"1775\",\"type\":\"Title\"},\"toolbar\":{\"id\":\"1719\",\"type\":\"Toolbar\"},\"x_range\":{\"id\":\"1701\",\"type\":\"DataRange1d\"},\"x_scale\":{\"id\":\"1705\",\"type\":\"LinearScale\"},\"y_range\":{\"id\":\"1703\",\"type\":\"DataRange1d\"},\"y_scale\":{\"id\":\"1707\",\"type\":\"LinearScale\"}},\"id\":\"1700\",\"subtype\":\"Figure\",\"type\":\"Plot\"},{\"attributes\":{},\"id\":\"1710\",\"type\":\"BasicTicker\"},{\"attributes\":{\"ticker\":{\"id\":\"1710\",\"type\":\"BasicTicker\"}},\"id\":\"1713\",\"type\":\"Grid\"},{\"attributes\":{\"formatter\":{\"id\":\"1778\",\"type\":\"BasicTickFormatter\"},\"ticker\":{\"id\":\"1715\",\"type\":\"BasicTicker\"}},\"id\":\"1714\",\"type\":\"LinearAxis\"},{\"attributes\":{},\"id\":\"1715\",\"type\":\"BasicTicker\"},{\"attributes\":{},\"id\":\"1707\",\"type\":\"LinearScale\"},{\"attributes\":{\"callback\":null},\"id\":\"1701\",\"type\":\"DataRange1d\"},{\"attributes\":{\"active_drag\":\"auto\",\"active_inspect\":\"auto\",\"active_multi\":null,\"active_scroll\":\"auto\",\"active_tap\":\"auto\",\"tools\":[{\"id\":\"1699\",\"type\":\"TapTool\"}]},\"id\":\"1719\",\"type\":\"Toolbar\"},{\"attributes\":{\"callback\":null,\"data\":{\"x\":[1,2,3,4,5],\"y\":[2,5,8,2,7]},\"selected\":{\"id\":\"1782\",\"type\":\"Selection\"},\"selection_policy\":{\"id\":\"1781\",\"type\":\"UnionRenderers\"}},\"id\":\"1721\",\"type\":\"ColumnDataSource\"},{\"attributes\":{\"callback\":null},\"id\":\"1703\",\"type\":\"DataRange1d\"},{\"attributes\":{\"dimension\":1,\"ticker\":{\"id\":\"1715\",\"type\":\"BasicTicker\"}},\"id\":\"1718\",\"type\":\"Grid\"},{\"attributes\":{},\"id\":\"1781\",\"type\":\"UnionRenderers\"},{\"attributes\":{\"callback\":{\"id\":\"1698\",\"type\":\"CustomJS\"}},\"id\":\"1699\",\"type\":\"TapTool\"},{\"attributes\":{\"formatter\":{\"id\":\"1780\",\"type\":\"BasicTickFormatter\"},\"ticker\":{\"id\":\"1710\",\"type\":\"BasicTicker\"}},\"id\":\"1709\",\"type\":\"LinearAxis\"},{\"attributes\":{},\"id\":\"1778\",\"type\":\"BasicTickFormatter\"},{\"attributes\":{\"fill_alpha\":{\"value\":0.1},\"fill_color\":{\"value\":\"#1f77b4\"},\"line_alpha\":{\"value\":0.1},\"line_color\":{\"value\":\"#1f77b4\"},\"size\":{\"units\":\"screen\",\"value\":20},\"x\":{\"field\":\"x\"},\"y\":{\"field\":\"y\"}},\"id\":\"1723\",\"type\":\"Circle\"},{\"attributes\":{\"code\":\"alert('you tapped a circle!')\"},\"id\":\"1698\",\"type\":\"CustomJS\"},{\"attributes\":{\"fill_color\":{\"value\":\"#1f77b4\"},\"line_color\":{\"value\":\"#1f77b4\"},\"size\":{\"units\":\"screen\",\"value\":20},\"x\":{\"field\":\"x\"},\"y\":{\"field\":\"y\"}},\"id\":\"1722\",\"type\":\"Circle\"},{\"attributes\":{},\"id\":\"1782\",\"type\":\"Selection\"},{\"attributes\":{\"data_source\":{\"id\":\"1721\",\"type\":\"ColumnDataSource\"},\"glyph\":{\"id\":\"1722\",\"type\":\"Circle\"},\"hover_glyph\":null,\"muted_glyph\":null,\"nonselection_glyph\":{\"id\":\"1723\",\"type\":\"Circle\"},\"selection_glyph\":null,\"view\":{\"id\":\"1725\",\"type\":\"CDSView\"}},\"id\":\"1724\",\"type\":\"GlyphRenderer\"},{\"attributes\":{\"text\":\"\"},\"id\":\"1775\",\"type\":\"Title\"},{\"attributes\":{},\"id\":\"1780\",\"type\":\"BasicTickFormatter\"},{\"attributes\":{},\"id\":\"1705\",\"type\":\"LinearScale\"},{\"attributes\":{\"source\":{\"id\":\"1721\",\"type\":\"ColumnDataSource\"}},\"id\":\"1725\",\"type\":\"CDSView\"}],\"root_ids\":[\"1700\"]},\"title\":\"Bokeh Application\",\"version\":\"1.4.0\"}};\n",
       "  var render_items = [{\"docid\":\"704d4e72-2f0c-400e-aabe-01639e452b0b\",\"roots\":{\"1700\":\"7a665344-5959-40de-8b58-44148d8d1081\"}}];\n",
       "  root.Bokeh.embed.embed_items_notebook(docs_json, render_items);\n",
       "\n",
       "  }\n",
       "  if (root.Bokeh !== undefined) {\n",
       "    embed_document(root);\n",
       "  } else {\n",
       "    var attempts = 0;\n",
       "    var timer = setInterval(function(root) {\n",
       "      if (root.Bokeh !== undefined) {\n",
       "        clearInterval(timer);\n",
       "        embed_document(root);\n",
       "      } else {\n",
       "        attempts++;\n",
       "        if (attempts > 100) {\n",
       "          clearInterval(timer);\n",
       "          console.log(\"Bokeh: ERROR: Unable to run BokehJS code because BokehJS library is missing\");\n",
       "        }\n",
       "      }\n",
       "    }, 10, root)\n",
       "  }\n",
       "})(window);"
      ],
      "application/vnd.bokehjs_exec.v0+json": ""
     },
     "metadata": {
      "application/vnd.bokehjs_exec.v0+json": {
       "id": "1700"
      }
     },
     "output_type": "display_data"
    }
   ],
   "source": [
    "from bokeh.models import TapTool, CustomJS, ColumnDataSource\n",
    "\n",
    "callback = CustomJS(code=\"alert('you tapped a circle!')\")\n",
    "tap = TapTool(callback=callback)\n",
    "\n",
    "p = figure(plot_width=600, plot_height=300, tools=[tap])\n",
    "\n",
    "p.circle(x=[1, 2, 3, 4, 5], y=[2, 5, 8, 2, 7], size=20)\n",
    "\n",
    "show(p)"
   ]
  },
  {
   "cell_type": "markdown",
   "metadata": {},
   "source": [
    "## CustomJS for Property changes\n",
    "\n",
    "Bokeh objects that have values associated can have small JavaScript actions attached to them using the `js_on_change` method. These actions (also referred to as \"callbacks\") are executed whenever the widget's value is changed. In order to make it easier to refer to specific Bokeh models (e.g., a data source, or a glyhph) from JavaScript, the ``CustomJS`` obejct also accepts a dictionary of \"args\" that map names to Python Bokeh models. The corresponding JavaScript models are made available automaticaly to the ``CustomJS`` code:\n",
    "\n",
    "```python\n",
    "CustomJS(args=dict(source=source, slider=slider), code=\"\"\"\n",
    "    // easily refer to BokehJS source and slider objects in this JS code\n",
    "    var data = source.data;\n",
    "    var f = slider.value;\n",
    "\"\"\")\n",
    "```"
   ]
  },
  {
   "cell_type": "markdown",
   "metadata": {},
   "source": [
    "### Slider widget example\n",
    "\n",
    "The example below shows an action attached to a slider that updates a data source whenever the slider is moved.  "
   ]
  },
  {
   "cell_type": "code",
   "execution_count": 7,
   "metadata": {},
   "outputs": [
    {
     "data": {
      "text/html": [
       "\n",
       "\n",
       "\n",
       "\n",
       "\n",
       "\n",
       "  <div class=\"bk-root\" id=\"b56605a6-47ea-49f1-ad73-4549ad55522a\" data-root-id=\"1871\"></div>\n"
      ]
     },
     "metadata": {},
     "output_type": "display_data"
    },
    {
     "data": {
      "application/javascript": [
       "(function(root) {\n",
       "  function embed_document(root) {\n",
       "    \n",
       "  var docs_json = {\"c6b59e7f-6764-4274-a007-7caa05182296\":{\"roots\":{\"references\":[{\"attributes\":{\"children\":[{\"id\":\"1869\",\"type\":\"Slider\"},{\"id\":\"1832\",\"subtype\":\"Figure\",\"type\":\"Plot\"}]},\"id\":\"1871\",\"type\":\"Column\"},{\"attributes\":{},\"id\":\"1932\",\"type\":\"BasicTickFormatter\"},{\"attributes\":{\"callback\":null,\"end\":6,\"js_property_callbacks\":{\"change:value\":[{\"id\":\"1870\",\"type\":\"CustomJS\"}]},\"start\":0.1,\"step\":0.1,\"title\":\"power\",\"value\":1},\"id\":\"1869\",\"type\":\"Slider\"},{\"attributes\":{},\"id\":\"1847\",\"type\":\"BasicTicker\"},{\"attributes\":{\"callback\":null},\"id\":\"1835\",\"type\":\"DataRange1d\"},{\"attributes\":{\"active_drag\":\"auto\",\"active_inspect\":\"auto\",\"active_multi\":null,\"active_scroll\":\"auto\",\"active_tap\":\"auto\",\"tools\":[{\"id\":\"1851\",\"type\":\"PanTool\"},{\"id\":\"1852\",\"type\":\"WheelZoomTool\"},{\"id\":\"1853\",\"type\":\"BoxZoomTool\"},{\"id\":\"1854\",\"type\":\"SaveTool\"},{\"id\":\"1855\",\"type\":\"ResetTool\"},{\"id\":\"1856\",\"type\":\"HelpTool\"}]},\"id\":\"1857\",\"type\":\"Toolbar\"},{\"attributes\":{},\"id\":\"1842\",\"type\":\"BasicTicker\"},{\"attributes\":{\"callback\":null},\"id\":\"1833\",\"type\":\"DataRange1d\"},{\"attributes\":{\"below\":[{\"id\":\"1841\",\"type\":\"LinearAxis\"}],\"center\":[{\"id\":\"1845\",\"type\":\"Grid\"},{\"id\":\"1850\",\"type\":\"Grid\"}],\"left\":[{\"id\":\"1846\",\"type\":\"LinearAxis\"}],\"plot_height\":400,\"plot_width\":400,\"renderers\":[{\"id\":\"1867\",\"type\":\"GlyphRenderer\"}],\"title\":{\"id\":\"1929\",\"type\":\"Title\"},\"toolbar\":{\"id\":\"1857\",\"type\":\"Toolbar\"},\"x_range\":{\"id\":\"1833\",\"type\":\"DataRange1d\"},\"x_scale\":{\"id\":\"1837\",\"type\":\"LinearScale\"},\"y_range\":{\"id\":\"1835\",\"type\":\"DataRange1d\"},\"y_scale\":{\"id\":\"1839\",\"type\":\"LinearScale\"}},\"id\":\"1832\",\"subtype\":\"Figure\",\"type\":\"Plot\"},{\"attributes\":{\"line_alpha\":0.1,\"line_color\":\"#1f77b4\",\"line_width\":3,\"x\":{\"field\":\"x\"},\"y\":{\"field\":\"y\"}},\"id\":\"1866\",\"type\":\"Line\"},{\"attributes\":{\"dimension\":1,\"ticker\":{\"id\":\"1847\",\"type\":\"BasicTicker\"}},\"id\":\"1850\",\"type\":\"Grid\"},{\"attributes\":{\"callback\":null,\"data\":{\"x\":[0.0,0.005,0.01,0.015,0.02,0.025,0.03,0.035,0.04,0.045,0.05,0.055,0.06,0.065,0.07,0.075,0.08,0.085,0.09,0.095,0.1,0.105,0.11,0.115,0.12,0.125,0.13,0.135,0.14,0.145,0.15,0.155,0.16,0.165,0.17,0.17500000000000002,0.18,0.185,0.19,0.195,0.2,0.20500000000000002,0.21,0.215,0.22,0.225,0.23,0.23500000000000001,0.24,0.245,0.25,0.255,0.26,0.265,0.27,0.275,0.28,0.28500000000000003,0.29,0.295,0.3,0.305,0.31,0.315,0.32,0.325,0.33,0.335,0.34,0.34500000000000003,0.35000000000000003,0.355,0.36,0.365,0.37,0.375,0.38,0.385,0.39,0.395,0.4,0.405,0.41000000000000003,0.41500000000000004,0.42,0.425,0.43,0.435,0.44,0.445,0.45,0.455,0.46,0.465,0.47000000000000003,0.47500000000000003,0.48,0.485,0.49,0.495,0.5,0.505,0.51,0.515,0.52,0.525,0.53,0.535,0.54,0.545,0.55,0.555,0.56,0.5650000000000001,0.5700000000000001,0.5750000000000001,0.58,0.585,0.59,0.595,0.6,0.605,0.61,0.615,0.62,0.625,0.63,0.635,0.64,0.645,0.65,0.655,0.66,0.665,0.67,0.675,0.68,0.685,0.6900000000000001,0.6950000000000001,0.7000000000000001,0.705,0.71,0.715,0.72,0.725,0.73,0.735,0.74,0.745,0.75,0.755,0.76,0.765,0.77,0.775,0.78,0.785,0.79,0.795,0.8,0.805,0.81,0.8150000000000001,0.8200000000000001,0.8250000000000001,0.8300000000000001,0.835,0.84,0.845,0.85,0.855,0.86,0.865,0.87,0.875,0.88,0.885,0.89,0.895,0.9,0.905,0.91,0.915,0.92,0.925,0.93,0.935,0.9400000000000001,0.9450000000000001,0.9500000000000001,0.9550000000000001,0.96,0.965,0.97,0.975,0.98,0.985,0.99,0.995,1.0],\"y\":[0.0,0.005,0.01,0.015,0.02,0.025,0.03,0.035,0.04,0.045,0.05,0.055,0.06,0.065,0.07,0.075,0.08,0.085,0.09,0.095,0.1,0.105,0.11,0.115,0.12,0.125,0.13,0.135,0.14,0.145,0.15,0.155,0.16,0.165,0.17,0.17500000000000002,0.18,0.185,0.19,0.195,0.2,0.20500000000000002,0.21,0.215,0.22,0.225,0.23,0.23500000000000001,0.24,0.245,0.25,0.255,0.26,0.265,0.27,0.275,0.28,0.28500000000000003,0.29,0.295,0.3,0.305,0.31,0.315,0.32,0.325,0.33,0.335,0.34,0.34500000000000003,0.35000000000000003,0.355,0.36,0.365,0.37,0.375,0.38,0.385,0.39,0.395,0.4,0.405,0.41000000000000003,0.41500000000000004,0.42,0.425,0.43,0.435,0.44,0.445,0.45,0.455,0.46,0.465,0.47000000000000003,0.47500000000000003,0.48,0.485,0.49,0.495,0.5,0.505,0.51,0.515,0.52,0.525,0.53,0.535,0.54,0.545,0.55,0.555,0.56,0.5650000000000001,0.5700000000000001,0.5750000000000001,0.58,0.585,0.59,0.595,0.6,0.605,0.61,0.615,0.62,0.625,0.63,0.635,0.64,0.645,0.65,0.655,0.66,0.665,0.67,0.675,0.68,0.685,0.6900000000000001,0.6950000000000001,0.7000000000000001,0.705,0.71,0.715,0.72,0.725,0.73,0.735,0.74,0.745,0.75,0.755,0.76,0.765,0.77,0.775,0.78,0.785,0.79,0.795,0.8,0.805,0.81,0.8150000000000001,0.8200000000000001,0.8250000000000001,0.8300000000000001,0.835,0.84,0.845,0.85,0.855,0.86,0.865,0.87,0.875,0.88,0.885,0.89,0.895,0.9,0.905,0.91,0.915,0.92,0.925,0.93,0.935,0.9400000000000001,0.9450000000000001,0.9500000000000001,0.9550000000000001,0.96,0.965,0.97,0.975,0.98,0.985,0.99,0.995,1.0]},\"selected\":{\"id\":\"1936\",\"type\":\"Selection\"},\"selection_policy\":{\"id\":\"1935\",\"type\":\"UnionRenderers\"}},\"id\":\"1831\",\"type\":\"ColumnDataSource\"},{\"attributes\":{\"data_source\":{\"id\":\"1831\",\"type\":\"ColumnDataSource\"},\"glyph\":{\"id\":\"1865\",\"type\":\"Line\"},\"hover_glyph\":null,\"muted_glyph\":null,\"nonselection_glyph\":{\"id\":\"1866\",\"type\":\"Line\"},\"selection_glyph\":null,\"view\":{\"id\":\"1868\",\"type\":\"CDSView\"}},\"id\":\"1867\",\"type\":\"GlyphRenderer\"},{\"attributes\":{},\"id\":\"1935\",\"type\":\"UnionRenderers\"},{\"attributes\":{},\"id\":\"1936\",\"type\":\"Selection\"},{\"attributes\":{\"bottom_units\":\"screen\",\"fill_alpha\":{\"value\":0.5},\"fill_color\":{\"value\":\"lightgrey\"},\"left_units\":\"screen\",\"level\":\"overlay\",\"line_alpha\":{\"value\":1.0},\"line_color\":{\"value\":\"black\"},\"line_dash\":[4,4],\"line_width\":{\"value\":2},\"render_mode\":\"css\",\"right_units\":\"screen\",\"top_units\":\"screen\"},\"id\":\"1937\",\"type\":\"BoxAnnotation\"},{\"attributes\":{\"line_alpha\":0.6,\"line_color\":\"#1f77b4\",\"line_width\":3,\"x\":{\"field\":\"x\"},\"y\":{\"field\":\"y\"}},\"id\":\"1865\",\"type\":\"Line\"},{\"attributes\":{},\"id\":\"1851\",\"type\":\"PanTool\"},{\"attributes\":{},\"id\":\"1852\",\"type\":\"WheelZoomTool\"},{\"attributes\":{\"source\":{\"id\":\"1831\",\"type\":\"ColumnDataSource\"}},\"id\":\"1868\",\"type\":\"CDSView\"},{\"attributes\":{\"args\":{\"slider\":{\"id\":\"1869\",\"type\":\"Slider\"},\"source\":{\"id\":\"1831\",\"type\":\"ColumnDataSource\"}},\"code\":\"\\n    var data = source.data;\\n    var f = slider.value;\\n    x = data['x']\\n    y = data['y']\\n    for (i = 0; i < x.length; i++) {\\n        y[i] = Math.pow(x[i], f)\\n    }\\n    \\n    // necessary becasue we mutated source.data in-place\\n    source.change.emit();\\n\"},\"id\":\"1870\",\"type\":\"CustomJS\"},{\"attributes\":{\"overlay\":{\"id\":\"1937\",\"type\":\"BoxAnnotation\"}},\"id\":\"1853\",\"type\":\"BoxZoomTool\"},{\"attributes\":{},\"id\":\"1837\",\"type\":\"LinearScale\"},{\"attributes\":{\"text\":\"\"},\"id\":\"1929\",\"type\":\"Title\"},{\"attributes\":{},\"id\":\"1854\",\"type\":\"SaveTool\"},{\"attributes\":{},\"id\":\"1934\",\"type\":\"BasicTickFormatter\"},{\"attributes\":{},\"id\":\"1856\",\"type\":\"HelpTool\"},{\"attributes\":{},\"id\":\"1839\",\"type\":\"LinearScale\"},{\"attributes\":{},\"id\":\"1855\",\"type\":\"ResetTool\"},{\"attributes\":{\"formatter\":{\"id\":\"1932\",\"type\":\"BasicTickFormatter\"},\"ticker\":{\"id\":\"1847\",\"type\":\"BasicTicker\"}},\"id\":\"1846\",\"type\":\"LinearAxis\"},{\"attributes\":{\"formatter\":{\"id\":\"1934\",\"type\":\"BasicTickFormatter\"},\"ticker\":{\"id\":\"1842\",\"type\":\"BasicTicker\"}},\"id\":\"1841\",\"type\":\"LinearAxis\"},{\"attributes\":{\"ticker\":{\"id\":\"1842\",\"type\":\"BasicTicker\"}},\"id\":\"1845\",\"type\":\"Grid\"}],\"root_ids\":[\"1871\"]},\"title\":\"Bokeh Application\",\"version\":\"1.4.0\"}};\n",
       "  var render_items = [{\"docid\":\"c6b59e7f-6764-4274-a007-7caa05182296\",\"roots\":{\"1871\":\"b56605a6-47ea-49f1-ad73-4549ad55522a\"}}];\n",
       "  root.Bokeh.embed.embed_items_notebook(docs_json, render_items);\n",
       "\n",
       "  }\n",
       "  if (root.Bokeh !== undefined) {\n",
       "    embed_document(root);\n",
       "  } else {\n",
       "    var attempts = 0;\n",
       "    var timer = setInterval(function(root) {\n",
       "      if (root.Bokeh !== undefined) {\n",
       "        clearInterval(timer);\n",
       "        embed_document(root);\n",
       "      } else {\n",
       "        attempts++;\n",
       "        if (attempts > 100) {\n",
       "          clearInterval(timer);\n",
       "          console.log(\"Bokeh: ERROR: Unable to run BokehJS code because BokehJS library is missing\");\n",
       "        }\n",
       "      }\n",
       "    }, 10, root)\n",
       "  }\n",
       "})(window);"
      ],
      "application/vnd.bokehjs_exec.v0+json": ""
     },
     "metadata": {
      "application/vnd.bokehjs_exec.v0+json": {
       "id": "1871"
      }
     },
     "output_type": "display_data"
    }
   ],
   "source": [
    "from bokeh.layouts import column\n",
    "from bokeh.models import CustomJS, ColumnDataSource, Slider\n",
    "\n",
    "x = [x*0.005 for x in range(0, 201)]\n",
    "\n",
    "source = ColumnDataSource(data=dict(x=x, y=x))\n",
    "\n",
    "plot = figure(plot_width=400, plot_height=400)\n",
    "plot.line('x', 'y', source=source, line_width=3, line_alpha=0.6)\n",
    "\n",
    "slider = Slider(start=0.1, end=6, value=1, step=.1, title=\"power\")\n",
    "\n",
    "update_curve = CustomJS(args=dict(source=source, slider=slider), code=\"\"\"\n",
    "    var data = source.data;\n",
    "    var f = slider.value;\n",
    "    x = data['x']\n",
    "    y = data['y']\n",
    "    for (i = 0; i < x.length; i++) {\n",
    "        y[i] = Math.pow(x[i], f)\n",
    "    }\n",
    "    \n",
    "    // necessary becasue we mutated source.data in-place\n",
    "    source.change.emit();\n",
    "\"\"\")\n",
    "slider.js_on_change('value', update_curve)\n",
    "\n",
    "\n",
    "show(column(slider, plot))"
   ]
  },
  {
   "cell_type": "code",
   "execution_count": 11,
   "metadata": {},
   "outputs": [],
   "source": [
    "# Exercise: Create a plot that updates based on a Select widget\n",
    "\n"
   ]
  },
  {
   "cell_type": "markdown",
   "metadata": {},
   "source": [
    "### Data selection example\n",
    "\n",
    "It's also possible to make JavaScript actions that execute whenever a user selection (e.g., box, point, lasso) changes. This is done by attaching the same kind of CustomJS object to whatever data source the selection is made on.\n",
    "\n",
    "The example below is a bit more sophisticated, and demonstrates updating one glyph's data source in response to another glyph's selection: "
   ]
  },
  {
   "cell_type": "code",
   "execution_count": 8,
   "metadata": {},
   "outputs": [
    {
     "data": {
      "text/html": [
       "\n",
       "\n",
       "\n",
       "\n",
       "\n",
       "\n",
       "  <div class=\"bk-root\" id=\"5761bd08-881e-49ed-856c-8e76ea541b6d\" data-root-id=\"1993\"></div>\n"
      ]
     },
     "metadata": {},
     "output_type": "display_data"
    },
    {
     "data": {
      "application/javascript": [
       "(function(root) {\n",
       "  function embed_document(root) {\n",
       "    \n",
       "  var docs_json = {\"311fc065-74e9-4cd6-a713-91aea9991a1d\":{\"roots\":{\"references\":[{\"attributes\":{\"below\":[{\"id\":\"2004\",\"type\":\"LinearAxis\"}],\"center\":[{\"id\":\"2008\",\"type\":\"Grid\"},{\"id\":\"2013\",\"type\":\"Grid\"}],\"left\":[{\"id\":\"2009\",\"type\":\"LinearAxis\"}],\"plot_height\":400,\"plot_width\":400,\"renderers\":[{\"id\":\"2021\",\"type\":\"GlyphRenderer\"},{\"id\":\"2027\",\"type\":\"GlyphRenderer\"}],\"title\":{\"id\":\"1994\",\"type\":\"Title\"},\"toolbar\":{\"id\":\"2015\",\"type\":\"Toolbar\"},\"x_range\":{\"id\":\"1996\",\"type\":\"DataRange1d\"},\"x_scale\":{\"id\":\"2000\",\"type\":\"LinearScale\"},\"y_range\":{\"id\":\"1998\",\"type\":\"DataRange1d\"},\"y_scale\":{\"id\":\"2002\",\"type\":\"LinearScale\"}},\"id\":\"1993\",\"subtype\":\"Figure\",\"type\":\"Plot\"},{\"attributes\":{\"callback\":null,\"data\":{\"xm\":[0,1],\"ym\":[0.5,0.5]},\"selected\":{\"id\":\"2105\",\"type\":\"Selection\"},\"selection_policy\":{\"id\":\"2104\",\"type\":\"UnionRenderers\"}},\"id\":\"2023\",\"type\":\"ColumnDataSource\"},{\"attributes\":{\"callback\":null,\"overlay\":{\"id\":\"2101\",\"type\":\"PolyAnnotation\"}},\"id\":\"2014\",\"type\":\"LassoSelectTool\"},{\"attributes\":{\"line_alpha\":0.1,\"line_color\":\"#1f77b4\",\"line_width\":5,\"x\":{\"field\":\"xm\"},\"y\":{\"field\":\"ym\"}},\"id\":\"2026\",\"type\":\"Line\"},{\"attributes\":{},\"id\":\"2100\",\"type\":\"BasicTickFormatter\"},{\"attributes\":{\"active_drag\":\"auto\",\"active_inspect\":\"auto\",\"active_multi\":null,\"active_scroll\":\"auto\",\"active_tap\":\"auto\",\"tools\":[{\"id\":\"2014\",\"type\":\"LassoSelectTool\"}]},\"id\":\"2015\",\"type\":\"Toolbar\"},{\"attributes\":{\"callback\":null},\"id\":\"1998\",\"type\":\"DataRange1d\"},{\"attributes\":{\"source\":{\"id\":\"1992\",\"type\":\"ColumnDataSource\"}},\"id\":\"2022\",\"type\":\"CDSView\"},{\"attributes\":{\"callback\":null},\"id\":\"1996\",\"type\":\"DataRange1d\"},{\"attributes\":{\"fill_alpha\":{\"value\":0.4},\"fill_color\":{\"field\":\"color\"},\"line_alpha\":{\"value\":0.4},\"line_color\":{\"field\":\"color\"},\"size\":{\"units\":\"screen\",\"value\":8},\"x\":{\"field\":\"x\"},\"y\":{\"field\":\"y\"}},\"id\":\"2018\",\"type\":\"Circle\"},{\"attributes\":{\"line_alpha\":0.6,\"line_color\":\"orange\",\"line_width\":5,\"x\":{\"field\":\"xm\"},\"y\":{\"field\":\"ym\"}},\"id\":\"2025\",\"type\":\"Line\"},{\"attributes\":{\"source\":{\"id\":\"2023\",\"type\":\"ColumnDataSource\"}},\"id\":\"2028\",\"type\":\"CDSView\"},{\"attributes\":{},\"id\":\"2104\",\"type\":\"UnionRenderers\"},{\"attributes\":{\"data_source\":{\"id\":\"1992\",\"type\":\"ColumnDataSource\"},\"glyph\":{\"id\":\"2018\",\"type\":\"Circle\"},\"hover_glyph\":null,\"muted_glyph\":null,\"nonselection_glyph\":{\"id\":\"2019\",\"type\":\"Circle\"},\"selection_glyph\":{\"id\":\"2020\",\"type\":\"Circle\"},\"view\":{\"id\":\"2022\",\"type\":\"CDSView\"}},\"id\":\"2021\",\"type\":\"GlyphRenderer\"},{\"attributes\":{\"fill_alpha\":{\"value\":0.1},\"fill_color\":{\"value\":\"#1f77b4\"},\"line_alpha\":{\"value\":0.1},\"line_color\":{\"value\":\"#1f77b4\"},\"size\":{\"units\":\"screen\",\"value\":8},\"x\":{\"field\":\"x\"},\"y\":{\"field\":\"y\"}},\"id\":\"2019\",\"type\":\"Circle\"},{\"attributes\":{\"formatter\":{\"id\":\"2100\",\"type\":\"BasicTickFormatter\"},\"ticker\":{\"id\":\"2005\",\"type\":\"BasicTicker\"}},\"id\":\"2004\",\"type\":\"LinearAxis\"},{\"attributes\":{\"fill_alpha\":{\"value\":0.4},\"fill_color\":{\"value\":\"firebrick\"},\"line_alpha\":{\"value\":0.4},\"line_color\":{\"value\":\"firebrick\"},\"size\":{\"units\":\"screen\",\"value\":8},\"x\":{\"field\":\"x\"},\"y\":{\"field\":\"y\"}},\"id\":\"2020\",\"type\":\"Circle\"},{\"attributes\":{},\"id\":\"2000\",\"type\":\"LinearScale\"},{\"attributes\":{},\"id\":\"2102\",\"type\":\"UnionRenderers\"},{\"attributes\":{},\"id\":\"2002\",\"type\":\"LinearScale\"},{\"attributes\":{},\"id\":\"2098\",\"type\":\"BasicTickFormatter\"},{\"attributes\":{\"fill_alpha\":{\"value\":0.5},\"fill_color\":{\"value\":\"lightgrey\"},\"level\":\"overlay\",\"line_alpha\":{\"value\":1.0},\"line_color\":{\"value\":\"black\"},\"line_dash\":[4,4],\"line_width\":{\"value\":2},\"xs_units\":\"screen\",\"ys_units\":\"screen\"},\"id\":\"2101\",\"type\":\"PolyAnnotation\"},{\"attributes\":{},\"id\":\"2103\",\"type\":\"Selection\"},{\"attributes\":{},\"id\":\"2005\",\"type\":\"BasicTicker\"},{\"attributes\":{},\"id\":\"2105\",\"type\":\"Selection\"},{\"attributes\":{\"ticker\":{\"id\":\"2005\",\"type\":\"BasicTicker\"}},\"id\":\"2008\",\"type\":\"Grid\"},{\"attributes\":{\"formatter\":{\"id\":\"2098\",\"type\":\"BasicTickFormatter\"},\"ticker\":{\"id\":\"2010\",\"type\":\"BasicTicker\"}},\"id\":\"2009\",\"type\":\"LinearAxis\"},{\"attributes\":{},\"id\":\"2010\",\"type\":\"BasicTicker\"},{\"attributes\":{\"callback\":{\"id\":\"2029\",\"type\":\"CustomJS\"},\"data\":{\"color\":[\"navy\",\"navy\",\"navy\",\"navy\",\"navy\",\"navy\",\"navy\",\"navy\",\"navy\",\"navy\",\"navy\",\"navy\",\"navy\",\"navy\",\"navy\",\"navy\",\"navy\",\"navy\",\"navy\",\"navy\",\"navy\",\"navy\",\"navy\",\"navy\",\"navy\",\"navy\",\"navy\",\"navy\",\"navy\",\"navy\",\"navy\",\"navy\",\"navy\",\"navy\",\"navy\",\"navy\",\"navy\",\"navy\",\"navy\",\"navy\",\"navy\",\"navy\",\"navy\",\"navy\",\"navy\",\"navy\",\"navy\",\"navy\",\"navy\",\"navy\",\"navy\",\"navy\",\"navy\",\"navy\",\"navy\",\"navy\",\"navy\",\"navy\",\"navy\",\"navy\",\"navy\",\"navy\",\"navy\",\"navy\",\"navy\",\"navy\",\"navy\",\"navy\",\"navy\",\"navy\",\"navy\",\"navy\",\"navy\",\"navy\",\"navy\",\"navy\",\"navy\",\"navy\",\"navy\",\"navy\",\"navy\",\"navy\",\"navy\",\"navy\",\"navy\",\"navy\",\"navy\",\"navy\",\"navy\",\"navy\",\"navy\",\"navy\",\"navy\",\"navy\",\"navy\",\"navy\",\"navy\",\"navy\",\"navy\",\"navy\",\"navy\",\"navy\",\"navy\",\"navy\",\"navy\",\"navy\",\"navy\",\"navy\",\"navy\",\"navy\",\"navy\",\"navy\",\"navy\",\"navy\",\"navy\",\"navy\",\"navy\",\"navy\",\"navy\",\"navy\",\"navy\",\"navy\",\"navy\",\"navy\",\"navy\",\"navy\",\"navy\",\"navy\",\"navy\",\"navy\",\"navy\",\"navy\",\"navy\",\"navy\",\"navy\",\"navy\",\"navy\",\"navy\",\"navy\",\"navy\",\"navy\",\"navy\",\"navy\",\"navy\",\"navy\",\"navy\",\"navy\",\"navy\",\"navy\",\"navy\",\"navy\",\"navy\",\"navy\",\"navy\",\"navy\",\"navy\",\"navy\",\"navy\",\"navy\",\"navy\",\"navy\",\"navy\",\"navy\",\"navy\",\"navy\",\"navy\",\"navy\",\"navy\",\"navy\",\"navy\",\"navy\",\"navy\",\"navy\",\"navy\",\"navy\",\"navy\",\"navy\",\"navy\",\"navy\",\"navy\",\"navy\",\"navy\",\"navy\",\"navy\",\"navy\",\"navy\",\"navy\",\"navy\",\"navy\",\"navy\",\"navy\",\"navy\",\"navy\",\"navy\",\"navy\",\"navy\",\"navy\",\"navy\",\"navy\",\"navy\",\"navy\",\"navy\",\"navy\",\"navy\",\"navy\",\"navy\",\"navy\",\"navy\",\"navy\",\"navy\",\"navy\",\"navy\",\"navy\",\"navy\",\"navy\",\"navy\",\"navy\",\"navy\",\"navy\",\"navy\",\"navy\",\"navy\",\"navy\",\"navy\",\"navy\",\"navy\",\"navy\",\"navy\",\"navy\",\"navy\",\"navy\",\"navy\",\"navy\",\"navy\",\"navy\",\"navy\",\"navy\",\"navy\",\"navy\",\"navy\",\"navy\",\"navy\",\"navy\",\"navy\",\"navy\",\"navy\",\"navy\",\"navy\",\"navy\",\"navy\",\"navy\",\"navy\",\"navy\",\"navy\",\"navy\",\"navy\",\"navy\",\"navy\",\"navy\",\"navy\",\"navy\",\"navy\",\"navy\",\"navy\",\"navy\",\"navy\",\"navy\",\"navy\",\"navy\",\"navy\",\"navy\",\"navy\",\"navy\",\"navy\",\"navy\",\"navy\",\"navy\",\"navy\",\"navy\",\"navy\",\"navy\",\"navy\",\"navy\",\"navy\",\"navy\",\"navy\",\"navy\",\"navy\",\"navy\",\"navy\",\"navy\",\"navy\",\"navy\",\"navy\",\"navy\",\"navy\",\"navy\",\"navy\",\"navy\",\"navy\",\"navy\",\"navy\",\"navy\",\"navy\",\"navy\",\"navy\",\"navy\",\"navy\",\"navy\",\"navy\",\"navy\",\"navy\",\"navy\",\"navy\",\"navy\",\"navy\",\"navy\",\"navy\",\"navy\",\"navy\",\"navy\",\"navy\",\"navy\",\"navy\",\"navy\",\"navy\",\"navy\",\"navy\",\"navy\",\"navy\",\"navy\",\"navy\",\"navy\",\"navy\",\"navy\",\"navy\",\"navy\",\"navy\",\"navy\",\"navy\",\"navy\",\"navy\",\"navy\",\"navy\",\"navy\",\"navy\",\"navy\",\"navy\",\"navy\",\"navy\",\"navy\",\"navy\",\"navy\",\"navy\",\"navy\",\"navy\",\"navy\",\"navy\",\"navy\",\"navy\",\"navy\",\"navy\",\"navy\",\"navy\",\"navy\",\"navy\",\"navy\",\"navy\",\"navy\",\"navy\",\"navy\",\"navy\",\"navy\",\"navy\",\"navy\",\"navy\",\"navy\",\"navy\",\"navy\",\"navy\",\"navy\",\"navy\",\"navy\",\"navy\",\"navy\",\"navy\",\"navy\",\"navy\",\"navy\",\"navy\",\"navy\",\"navy\",\"navy\",\"navy\",\"navy\",\"navy\",\"navy\",\"navy\",\"navy\",\"navy\",\"navy\",\"navy\",\"navy\",\"navy\",\"navy\",\"navy\",\"navy\",\"navy\",\"navy\",\"navy\",\"navy\",\"navy\",\"navy\",\"navy\",\"navy\",\"navy\",\"navy\",\"navy\",\"navy\",\"navy\",\"navy\",\"navy\",\"navy\",\"navy\",\"navy\",\"navy\",\"navy\",\"navy\",\"navy\",\"navy\",\"navy\",\"navy\",\"navy\",\"navy\",\"navy\",\"navy\",\"navy\",\"navy\",\"navy\",\"navy\",\"navy\",\"navy\",\"navy\",\"navy\",\"navy\",\"navy\",\"navy\",\"navy\",\"navy\",\"navy\",\"navy\",\"navy\",\"navy\",\"navy\",\"navy\",\"navy\",\"navy\",\"navy\",\"navy\",\"navy\",\"navy\",\"navy\",\"navy\",\"navy\",\"navy\",\"navy\",\"navy\",\"navy\",\"navy\",\"navy\",\"navy\",\"navy\",\"navy\",\"navy\",\"navy\",\"navy\",\"navy\",\"navy\",\"navy\",\"navy\",\"navy\",\"navy\",\"navy\",\"navy\",\"navy\",\"navy\",\"navy\",\"navy\",\"navy\",\"navy\",\"navy\",\"navy\",\"navy\",\"navy\",\"navy\",\"navy\",\"navy\",\"navy\",\"navy\",\"navy\"],\"x\":[0.24329790953468045,0.2530966342822397,0.9591507628386748,0.07000629802704195,0.8247761250469797,0.5614759010593148,0.8873238043905253,0.02789786046318543,0.6359270298527245,0.1230381370530047,0.6693257735901804,0.46169596507504995,0.05945821989639044,0.6275584265942299,0.0961641779400545,0.05202890681011252,0.5485297159649455,0.13749275505909775,0.8379513789696958,0.5132888101853668,0.6147311779497898,0.6710400354543179,0.40512025114936645,0.6801416840680805,0.9517254878221896,0.6136414573745017,0.6645337456650504,0.666326550391721,0.6214370379728987,0.46140362256706735,0.40241207318530137,0.5375917216934654,0.27215082018642067,0.5070922793256938,0.48273068163260335,0.2660255460981862,0.25373415054585036,0.08009326546321804,0.5083172028375321,0.32279763326914146,0.49853037539412326,0.18293763654917483,0.15123110196431921,0.39748628546428644,0.5023441930429897,0.1423850839270192,0.9878275383628139,0.3316688857532205,0.8553856010640852,0.7415127744121739,0.2826294310827717,0.5121200913150459,0.7613724139080039,0.7283405367879637,0.12130809916359064,0.8386883649531052,0.22416523570017377,0.7118463095056634,0.086292864322139,0.6361045912618952,0.7621533533827752,0.3425267704242654,0.9974671294239309,0.725581350833939,0.8725932317850372,0.3225762375221588,0.5268253848479172,0.4708519200499701,0.4100992257331738,0.7115394260626393,0.7063912278006792,0.685798340204799,0.1624295170946246,0.05639504820326613,0.3407192427266583,0.7720735257387152,0.004600828316751571,0.6874211909581269,0.03242427048477525,0.12524599009835513,0.6713704510583524,0.4662532148331612,0.48447372956223533,0.03512123055233207,0.014111574388055437,0.006451890944364269,0.10483080290754943,0.772124607997808,0.6903081146087057,0.7319192804676019,0.09044095490846926,0.43741885132866154,0.07309796322862971,0.4770179505337693,0.2464171791248183,0.2716523651142817,0.05661951002693211,0.8104705590275623,0.23620845090939768,0.24895234283367484,0.32085652796425246,0.5008784314949181,0.5229449964577231,0.7605794015461019,0.6384756014341487,0.1293129233290602,0.9054853172185233,0.08671802884614188,0.8261750136959866,0.6978428640008904,0.40781892181710144,0.8563894871574922,0.3947452219385593,0.7451689500211662,0.4562552531224854,0.9779388772016084,0.8539581257150948,0.46507617163325743,0.7721717096629156,0.10081161361147739,0.056430057585179494,0.08962559683030968,0.9080645100333555,0.6828995832194809,0.8295718460753778,0.045782112158425425,0.5185752546206642,0.18710996906611999,0.15499146813021603,0.09742291261025149,0.8885481652290828,0.4599167152789564,0.8706756028509963,0.06366106430635798,0.8657311954865734,0.5543885912730797,0.5242469234483821,0.33022187700510597,0.9903082707566468,0.9445184922354221,0.5120918185483503,0.1761771200091392,0.5165592080461558,0.33303712236760563,0.3467366300095792,0.7645745054343764,0.27836984879838356,0.010229203458948177,0.52438546640682,0.17962569535361084,0.8097423531808525,0.3367979342775218,0.39311379226408183,0.06345569774376558,0.19885888159711995,0.7066357527347438,0.27342453414358503,0.2552446603538976,0.7345169930052132,0.36499524748461853,0.869211105442197,0.6390309012760137,0.9922474533067992,0.4941020732895727,0.5782092478040692,0.8829095557799101,0.5859265850394537,0.43972376594645834,0.45117926503582995,0.9990738800111197,0.5823678548412669,0.919010288834766,0.3918016153657702,0.6240941136055479,0.5616483911155727,0.10617457923537876,0.39887922198519077,0.9049101086635176,0.2439607648775537,0.8413639357376335,0.08109079160225718,0.1057682471777428,0.44278425356888296,0.531377493149854,0.5739713320633025,0.04821733003579076,0.9004929025782649,0.9752495738362216,0.5670928618148637,0.1546369032385606,0.515923790029613,0.31159469522253547,0.4002464595228189,0.6909397101021241,0.41372098898553,0.12340406881290289,0.5174830712781955,0.46669348828627377,0.5593459278215156,0.48299126300562056,0.6359700294886859,0.9359133791194738,0.07961741555365287,0.35987021842263645,0.7248569099330306,0.31271892058157513,0.6336413396196471,0.15986357199611356,0.8710913655512538,0.38776541160404565,0.8304607017413665,0.011203104705226563,0.46388343065348026,0.5796303344379303,0.9886413845504213,0.8608735413037113,0.9551840511658807,0.4820020024267616,0.9090564484483096,0.268773960581985,0.7331600201649741,0.7209854264546808,0.07008799471900029,0.5340414409122166,0.8476282919680797,0.3210102246923445,0.028491280482905723,0.2053675798128074,0.30748652731521864,0.5761517942144949,0.5363620479504163,0.43597087738639484,0.8440228504401864,0.1325929119578354,0.42439803415141764,0.7172843882194244,0.5103211959409499,0.4680490145141213,0.920150801715009,0.5493396186783829,0.6662043182848139,0.13373864846560757,0.4865775496674257,0.020264772141549536,0.9869034181138916,0.19828093614695008,0.6359597053279001,0.33306148132610514,0.8541036820423229,0.6845522125437972,0.32241824410461795,0.6990290929122439,0.18027338785268554,0.0017918245997295967,0.9095248406069971,0.03216106630863014,0.6607653510090019,0.7713438459994784,0.08444632997086998,0.9750855012045809,0.8211865655144055,0.49315244364647937,0.48009905347596205,0.7106220301600927,0.8743327085013316,0.9778148022309291,0.7461232822799763,0.29707411473690015,0.632998948951733,0.08014387476934015,0.17829278559759,0.2086470859034234,0.5493801766878184,0.7276764196479409,0.8800897820011645,0.9244531889384026,0.4262652398990955,0.5623778285936762,0.5725687059573411,0.3599555123788022,0.46490494049979114,0.6503282661888078,0.8927296125707235,0.5931697114238692,0.20577947776440708,0.7463524629619593,0.4422788845019072,0.28237434144194673,0.8523685594551017,0.4745215972267669,0.593015583548839,0.29938939009389476,0.44926870810475195,0.08365359331832489,0.511846525793353,0.7614902342857905,0.37807495432186666,0.9208410488633124,0.38029863623606686,0.2553538006183069,0.03434080178863852,0.010515484814556553,0.3913950512931301,0.040960941337851775,0.17651873736635437,0.8282501413345594,0.7558514587358385,0.5352157211943463,0.539453976073816,0.8703093835055483,0.8416647566944268,0.18117089249860285,0.24198005495508879,0.05025397175067625,0.13850677743073314,0.7754707079352456,0.5581518021695625,0.13017606023178585,0.6809858470770844,0.7642443227131106,0.5994571616806217,0.2930079347452269,0.3243882748178235,0.6195622127571999,0.255681013708389,0.9598298552088804,0.7433938106738637,0.33472261998571007,0.5163269496939558,0.7608526914273398,0.5231974870073934,0.7056618717224894,0.5151822737155115,0.1897361794765774,0.16195116930559195,0.7668931453832498,0.6669583044001965,0.7307547364322002,0.8274258072928479,0.8845049369681663,0.6889824846904125,0.02947904296285575,0.5076500353550727,0.20654957317741196,0.6463967805582698,0.36214515994880603,0.3586040292556205,0.35614123379809004,0.8717766458065722,0.8836208614139373,0.750633831526218,0.15713000025086754,0.11484505627353203,0.23393820921163633,0.5802673272815299,0.26486505454499465,0.1642502462576959,0.49241349411401003,0.3770795532799406,0.5505947664588587,0.9020410733346063,0.007815013298449802,0.7161678113726017,0.07851673459835462,0.8340109757665496,0.6855109305568242,0.6924249417045686,0.2891010147713077,0.675696251867711,0.1551164498747435,0.9708352680688409,0.35244358020942945,0.8764879905559365,0.013359491749187713,0.06006742120594599,0.9147786014868866,0.7866174334352641,0.8973058714634256,0.7614193977344542,0.6121811726664275,0.5405601216727715,0.7970835398437809,0.027180470870443174,0.7512709514585696,0.8464850079463938,0.3498044773231247,0.5407307171167245,0.3250610880046326,0.09142839690123183,0.14499803265689548,0.8563336320362711,0.12100768079674751,0.6751859227588802,0.5757340154554454,0.6486165557140812,0.7807135261312605,0.2079820507460317,0.9288833097668188,0.3126254470392703,0.31552284893053817,0.362158606489704,0.7500773107028151,0.5919132696069539,0.45805503430978256,0.10416380436715134,0.41748206793231246,0.05415663448780561,0.3883228103692521,0.9695754641356266,0.35359198614251974,0.8591466321526742,0.6649519559374631,0.9889977091740475,0.9354337309708074,0.7600341778943777,0.8800232159167519,0.8242251294111494,0.4144394285374223,0.37904014455814095,0.397849165701889,0.7364231583367152,0.16269027258603685,0.8926736833724407,0.7400084636185938,0.7706950359626129,0.05209945994950693,0.023733647837072436,0.24052534668133996,0.7268384014657092,0.8576816506903646,0.4744880490260862,0.6457478093310361,0.5300635258734757,0.9920374684788306,0.0795718937516754,0.505691275518087,0.5957914187513997,0.38345803532899825,0.840077475766732,0.37822384402627995,0.052171870213152616,0.05966376438425225,0.8581036539199984,0.2512759896466832,0.6855960655470753,0.1832525294236852,0.33512569205726717,0.21157183546836178,0.6673008980708002,0.3295605506337592,0.30838783594466046,0.5477740896432852,0.7186184230504189,0.7852826622524255,0.48191293151465087,0.16248803314967675,0.40262849797599265,0.04530591157399422,0.14438459574546103,0.4929053473676849,0.15321490577204933,0.8509466463997378,0.3046883181810647,0.6504654869627242,0.47688113589351366,0.8620744584750938,0.7226219191422791,0.8950097445963722,0.6177484518835833,0.18978293645586697,0.8412757625836347,0.8965957631102787,0.6398108051045619,0.6732321494307356,0.9765859944327896,0.7593565879351558,0.9768068093292905,0.3597705543071903,0.7355985886020182,0.34571215847603487,0.001772614574672593,0.5291561628089657,0.7709035965056511,0.2423906254176229,0.8176391288703981,0.11145062199623212,0.09363893067008966,0.2250709324293234,0.1327803781470689,0.8697799372168061,0.9422673186592632,0.7971803220189742,0.4343204616988243,0.11742711165443731,0.5977535363676615,0.9108235058331647,0.6375837235005987,0.42308180850677113,0.9417822558706626,0.8694959583620516],\"y\":[0.04809293714510754,0.6048989381418274,0.8937175360062095,0.8975074951977312,0.8851693728546228,0.828719798777125,0.9517558836851425,0.7938190243246972,0.7047020479684083,0.6328791790376774,0.1865608204047996,0.1629205587456226,0.985363842565056,0.4163064853086158,0.13049596449144252,0.6892219606357157,0.4463364197327896,0.6281549300680314,0.11983991070258515,0.18031640254198522,0.19480942450518268,0.703408612545586,0.45235942522994965,0.9375188567234142,0.18920081646436337,0.8364604888566111,0.6082672990262769,0.5989784815597908,0.5117041244447454,0.6023650185928399,0.6312609206154326,0.8894584306976785,0.40761503428551193,0.7285228123631864,0.3588755658977947,0.594103841143275,0.3285023796150043,0.270774147178407,0.013713523095973401,0.405325421700117,0.048007450035497556,0.46703373707768725,0.8040052518956357,0.162882078778967,0.8757786756007397,0.6533970523003557,0.023132466251037598,0.3320161871165318,0.2816876211403667,0.2307026691873575,0.3797899194125176,0.3459540067078538,0.282219740986669,0.6529400361947335,0.16697729139826467,0.732494223903325,0.5846263682145522,0.017182602025775484,0.4769807250328313,0.22529142607241903,0.4987148626889517,0.9962611738555902,0.9448042737386482,0.6941327378565937,0.6703097949056211,0.5033160277679241,0.9430644520978289,0.3134089397050557,0.7701238514013299,0.6223904053843107,0.6828684097496924,0.13398720277645515,0.5962226307914644,0.6032969540593338,0.8399914350082912,0.007222825716696635,0.45338133846976014,0.8763296876218468,0.7401484701117851,0.3300337811848535,0.2117110638745675,0.847118856631492,0.4940833324755656,0.7753873562976181,0.04997958233545541,0.4443263675205452,0.6677562068807644,0.19014810464953813,0.04574441382308747,0.935057981651565,0.33473401309560136,0.36828718653867776,0.4538086803824317,0.7527995690077272,0.9656002056152051,0.2612329221377344,0.6040395908511752,0.11809405796728856,0.6686106543143362,0.5031654508849562,0.49644902923199863,0.8376169319355333,0.9794486741701668,0.5593027880486441,0.5674322945090555,0.3972744540929929,0.21382234089933394,0.7107587966604566,0.15731368513170263,0.978509817884747,0.4926920531501172,0.5941957569553404,0.5877928019049319,0.8802601372251494,0.9833432188085425,0.768396157100851,0.9519087401175884,0.5743221012876796,0.3637316148223496,0.6648051449310381,0.1942016992320118,0.9074767120606345,0.5184611902460667,0.6499762844410174,0.7591051270341783,0.10271567356695599,0.9143159133312334,0.6260260819021485,0.8495406977379171,0.5964132837725736,0.6776424075166272,0.17808464324583673,0.8358632959693628,0.6065891252704074,0.7232284727469301,0.7285150376265788,0.27641291852738126,0.5206279748626085,0.8995086941797963,0.4980599260308245,0.37584689468295196,0.2680528719649655,0.14519423103065743,0.5728599350532181,0.9229823265919985,0.37061949918678516,0.5142234294763969,0.5998643006642079,0.5112114240799287,0.06726596592715117,0.21474922380401107,0.03655834267843727,0.00574993378754407,0.3848373126071869,0.1340130968411859,0.915331717229959,0.7366752227604324,0.16559021136117358,0.9721139585511852,0.19037451339400824,0.03459456673459682,0.005246657110201225,0.27245286580182937,0.14523815929313966,0.8338802951589672,0.40281609823957754,0.16828803355613442,0.5065377110561972,0.8380041760460553,0.9439334893540103,0.19265119174813317,0.16371364028435642,0.9711324767295448,0.5251380701112287,0.1982743974294311,0.4945798965313578,0.6052322821685977,0.41446476124484555,0.9329439423994261,0.9677738881637894,0.6234196557839968,0.3543808024090489,0.3668171919367573,0.7028824541128625,0.49292944348230283,0.6120949440890225,0.2356553557250367,0.41950699395664837,0.4034404702584715,0.011189976340979735,0.6144426865754425,0.3100643827734473,0.018425676881096975,0.0012421789457121024,0.05174155967348926,0.2785579494402751,0.667039406524981,0.24180823997776202,0.144062891202684,0.8863419787444455,0.4655788643087887,0.6607776056975705,0.9011870068637958,0.15575068162296413,0.14835301589969618,0.3366976479192427,0.16428302433894237,0.2392582608475211,0.05483355606500806,0.6071075716928861,0.5800416413397287,0.29290584562103805,0.4614463147885648,0.9937640843037331,0.23535654797435956,0.561625342159244,0.05494271677954743,0.3715403159319224,0.01280170183119389,0.9491177119636828,0.21224678065783587,0.4120612019240951,0.2602626162840129,0.5004771557818047,0.40525642264454165,0.14784814121391876,0.5112501999353429,0.7114852144248114,0.5760621694433504,0.5233347262139886,0.6950459363862719,0.22576603727396838,0.06677142870729014,0.9437931374766344,0.7739444371995803,0.273237236654155,0.5902489254197869,0.9508825128675998,0.9103142050790027,0.47414445841601527,0.745256990678571,0.7150045841792333,0.9767260646171875,0.08855940517427141,0.44408557530785653,0.10298501032502583,0.9339473801279012,0.4186999517419113,0.9108750188847536,0.5695249467890166,0.36887095926671,0.5834143311767432,0.5585020533087449,0.4309041433720018,0.5095730030942982,0.1778994993802796,0.222484163863081,0.32698824304923335,0.40469228858064554,0.9145320391688094,0.07062233002309026,0.46668068457741174,0.9780402172192023,0.4437356796574973,0.6924274107946954,0.10579611224477314,0.4024208339615273,0.984427304604768,0.3961146242916358,0.15287677338615502,0.93141224461926,0.3522527265630342,0.24137929613868536,0.7234024094144403,0.09523938375017682,0.7485561355677343,0.43612656866343735,0.6548621690016075,0.940312298782407,0.033056254793169315,0.772634749963223,0.683279574585453,0.1753862308282167,0.0030718718261292244,0.8387767507065897,0.7946494305614594,0.8971370790949637,0.9592949229877629,0.1713765159426579,0.4127251188278789,0.6540070963053033,0.9062683136012333,0.6481066800835751,0.09240126736712939,0.0840731628532938,0.12539624259785176,0.5684778429989462,0.05302595907820651,0.06948058901149601,0.22052136479344775,0.5601414099087115,0.5686834905804883,0.3187623341108329,0.6191739186776588,0.20595507327074158,0.14451806568631054,0.2457140437046088,0.8628691620405057,0.09742528289079577,0.9859267708655616,0.19490083832811145,0.284264092835957,0.6204745913065659,0.10237146769701,0.18813958415888554,0.10359251630772515,0.4466476934301019,0.8892162096976138,0.8803582790188194,0.33307906847728197,0.644205471903885,0.2556673290699486,0.9505668570767896,0.5026386381196789,0.48946679617702005,0.044152280961467394,0.6362782262022733,0.06882251112222004,0.5684678811809376,0.7310774578689927,0.956571370836161,0.9665156045673345,0.21362143174435344,0.42356170293458806,0.45831111355695486,0.47205693130411697,0.13842060442301107,0.00943211562752344,0.7411301014955853,0.20527422870791612,0.11014241611444986,0.5302588395670854,0.45341452867860244,0.02758622624555418,0.8947981760102162,0.2971894349390467,0.9048284698313701,0.8116053989249733,0.13529113269235093,0.5420588856905799,0.2654615570176071,0.5987764654707397,0.23690369352227703,0.4856867752483076,0.35959567617172494,0.993466157359983,0.029514985432722796,0.8881016840184649,0.1822678546441705,0.015957316351059014,0.6943660409131608,0.28644552085102915,0.3635787742555565,0.4136497934633808,0.9122275192855337,0.03195324381082165,0.3212204040502875,0.7826160288984669,0.571885862493589,0.7888157135075501,0.4179217000552079,0.9365957261737075,0.9789428459384936,0.4862375810880202,0.03326657232991881,0.9115410566767574,0.6347485870463249,0.18043862518307785,0.6775816761547653,0.44499079914076023,0.6543112194620343,0.016264685535057444,0.7756713307173423,0.6397474699215979,0.005444554448169381,0.01651241923515334,0.7500702844676516,0.6810962873272802,0.6509545526425748,0.9484274550408445,0.1806387230636648,0.04242812047420552,0.08871051537891306,0.6513504705195776,0.04265796159739088,0.8423141650720407,0.35750579858764897,0.055589984801242553,0.5806605457101488,0.9976314837335513,0.5738808777183232,0.9439168199728235,0.8204566551533594,0.4660985611643794,0.3629552943588489,0.368658657757748,0.7463978185326319,0.6945813184650007,0.7708009552082233,0.40052775843386246,0.7882262943382837,0.26134014557085794,0.014532156440121513,0.6239535036332219,0.6768314693429326,0.9495232440806133,0.3811926843916613,0.6733482512625981,0.6583375082682209,0.003146037591534867,0.8137185927238405,0.2513921443661259,0.19198585773292065,0.3300645385286639,0.5586830036215731,0.2321369285506173,0.7893337711755369,0.51323104538107,0.6802394700919453,0.6967159756127618,0.8019836389676551,0.8935225308368789,0.22524458336142084,0.8896339707742572,0.3244444002824034,0.9470055978323256,0.4413694036955703,0.8572251377311627,0.6689011746297978,0.39799249367684253,0.7544565582927323,0.2173206512555781,0.5931095924938747,0.15592392141931422,0.5068823454304024,0.1319236746720831,0.2467337970086153,0.16967062993073623,0.2513406604595372,0.8128340953421298,0.17145465286259953,0.14090629954280243,0.09629340349771176,0.02403244640328006,0.22190158308834518,0.4258777312927906,0.09752722998809105,0.23837035559145403,0.9298883794860894,0.5384394046426983,0.48089978961526036,0.8054414927061143,0.19691653233282147,0.5618939583452236,0.7961726887280214,0.783737328361452,0.5850333537431199,0.7869558163856621,0.33458491211717933,0.7867686860516949,0.9238116710772897,0.9989172563648991,0.2345200682337868,0.9479236104378946,0.7100978486686975,0.16029563011522996,0.5867073858769376,0.728647290407387,0.2905967477204111,0.16671429772484903,0.10773890094362482,0.6200667712335048,0.2531766991549831,0.9873437246612428,0.22866120013343494,0.5344343264806694,0.07577300907001883,0.2970460008596443,0.6959448532088327,0.2220850147058383,0.8983710894193662,0.8378019355759063,0.4651802976440924,0.20790841381174197,0.04511581736107895,0.6182901300101108,0.39860569086231257,0.461038398208495,0.280797490799934,0.011989089181216661]},\"selected\":{\"id\":\"2103\",\"type\":\"Selection\"},\"selection_policy\":{\"id\":\"2102\",\"type\":\"UnionRenderers\"}},\"id\":\"1992\",\"type\":\"ColumnDataSource\"},{\"attributes\":{\"text\":\"Select Here\"},\"id\":\"1994\",\"type\":\"Title\"},{\"attributes\":{\"args\":{\"s1\":{\"id\":\"1992\",\"type\":\"ColumnDataSource\"},\"s2\":{\"id\":\"2023\",\"type\":\"ColumnDataSource\"}},\"code\":\"\\n    var inds = s1.selected.indices;\\n    if (inds.length == 0)\\n        return;\\n\\n    var ym = 0\\n    for (var i = 0; i < inds.length; i++) {\\n        ym += s1.data.y[inds[i]]\\n    }\\n    \\n    ym /= inds.length\\n    s2.data.ym = [ym, ym]\\n\\n    // necessary becasue we mutated source.data in-place\\n    s2.change.emit();  \\n\"},\"id\":\"2029\",\"type\":\"CustomJS\"},{\"attributes\":{\"data_source\":{\"id\":\"2023\",\"type\":\"ColumnDataSource\"},\"glyph\":{\"id\":\"2025\",\"type\":\"Line\"},\"hover_glyph\":null,\"muted_glyph\":null,\"nonselection_glyph\":{\"id\":\"2026\",\"type\":\"Line\"},\"selection_glyph\":null,\"view\":{\"id\":\"2028\",\"type\":\"CDSView\"}},\"id\":\"2027\",\"type\":\"GlyphRenderer\"},{\"attributes\":{\"dimension\":1,\"ticker\":{\"id\":\"2010\",\"type\":\"BasicTicker\"}},\"id\":\"2013\",\"type\":\"Grid\"}],\"root_ids\":[\"1993\"]},\"title\":\"Bokeh Application\",\"version\":\"1.4.0\"}};\n",
       "  var render_items = [{\"docid\":\"311fc065-74e9-4cd6-a713-91aea9991a1d\",\"roots\":{\"1993\":\"5761bd08-881e-49ed-856c-8e76ea541b6d\"}}];\n",
       "  root.Bokeh.embed.embed_items_notebook(docs_json, render_items);\n",
       "\n",
       "  }\n",
       "  if (root.Bokeh !== undefined) {\n",
       "    embed_document(root);\n",
       "  } else {\n",
       "    var attempts = 0;\n",
       "    var timer = setInterval(function(root) {\n",
       "      if (root.Bokeh !== undefined) {\n",
       "        clearInterval(timer);\n",
       "        embed_document(root);\n",
       "      } else {\n",
       "        attempts++;\n",
       "        if (attempts > 100) {\n",
       "          clearInterval(timer);\n",
       "          console.log(\"Bokeh: ERROR: Unable to run BokehJS code because BokehJS library is missing\");\n",
       "        }\n",
       "      }\n",
       "    }, 10, root)\n",
       "  }\n",
       "})(window);"
      ],
      "application/vnd.bokehjs_exec.v0+json": ""
     },
     "metadata": {
      "application/vnd.bokehjs_exec.v0+json": {
       "id": "1993"
      }
     },
     "output_type": "display_data"
    }
   ],
   "source": [
    "from random import random\n",
    "\n",
    "x = [random() for x in range(500)]\n",
    "y = [random() for y in range(500)]\n",
    "color = [\"navy\"] * len(x)\n",
    "\n",
    "s1 = ColumnDataSource(data=dict(x=x, y=y, color=color))\n",
    "p = figure(plot_width=400, plot_height=400, tools=\"lasso_select\", title=\"Select Here\")\n",
    "p.circle('x', 'y', color='color', size=8, alpha=0.4, source=s1, \n",
    "         selection_color=\"firebrick\", selection_alpha=0.4)\n",
    "\n",
    "s2 = ColumnDataSource(data=dict(xm=[0,1],ym=[0.5, 0.5]))\n",
    "p.line(x='xm', y='ym', color=\"orange\", line_width=5, alpha=0.6, source=s2)\n",
    "\n",
    "s1.callback = CustomJS(args=dict(s1=s1, s2=s2), code=\"\"\"\n",
    "    var inds = s1.selected.indices;\n",
    "    if (inds.length == 0)\n",
    "        return;\n",
    "\n",
    "    var ym = 0\n",
    "    for (var i = 0; i < inds.length; i++) {\n",
    "        ym += s1.data.y[inds[i]]\n",
    "    }\n",
    "    \n",
    "    ym /= inds.length\n",
    "    s2.data.ym = [ym, ym]\n",
    "\n",
    "    // necessary becasue we mutated source.data in-place\n",
    "    s2.change.emit();  \n",
    "\"\"\")\n",
    "\n",
    "show(p)"
   ]
  },
  {
   "cell_type": "code",
   "execution_count": 13,
   "metadata": {},
   "outputs": [],
   "source": [
    "# Exercise: Experiment with selection callbacks\n",
    "\n"
   ]
  },
  {
   "cell_type": "markdown",
   "metadata": {},
   "source": [
    "## CustomJS for UI Events\n",
    "\n",
    "Bokeh also has a general events system\n",
    "\n",
    "All of the available UI events, and their properties, are listed in the Reference Guide section for [bokeh.events](https://bokeh.pydata.org/en/latest/docs/reference/events.html)"
   ]
  },
  {
   "cell_type": "code",
   "execution_count": 9,
   "metadata": {},
   "outputs": [
    {
     "data": {
      "text/html": [
       "\n",
       "\n",
       "\n",
       "\n",
       "\n",
       "\n",
       "  <div class=\"bk-root\" id=\"4a141e34-372d-48ac-bc5a-4177bfb8f83f\" data-root-id=\"2196\"></div>\n"
      ]
     },
     "metadata": {},
     "output_type": "display_data"
    },
    {
     "data": {
      "application/javascript": [
       "(function(root) {\n",
       "  function embed_document(root) {\n",
       "    \n",
       "  var docs_json = {\"10646a1e-3706-4489-83e5-cf499ed7086d\":{\"roots\":{\"references\":[{\"attributes\":{\"children\":[{\"id\":\"2194\",\"type\":\"Button\"},{\"id\":\"2195\",\"type\":\"Row\"}]},\"id\":\"2196\",\"type\":\"Column\"},{\"attributes\":{},\"id\":\"2283\",\"type\":\"Selection\"},{\"attributes\":{},\"id\":\"2173\",\"type\":\"LinearScale\"},{\"attributes\":{},\"id\":\"2282\",\"type\":\"UnionRenderers\"},{\"attributes\":{\"data_source\":{\"id\":\"2188\",\"type\":\"ColumnDataSource\"},\"glyph\":{\"id\":\"2189\",\"type\":\"Circle\"},\"hover_glyph\":null,\"muted_glyph\":null,\"nonselection_glyph\":{\"id\":\"2190\",\"type\":\"Circle\"},\"selection_glyph\":null,\"view\":{\"id\":\"2192\",\"type\":\"CDSView\"}},\"id\":\"2191\",\"type\":\"GlyphRenderer\"},{\"attributes\":{\"fill_alpha\":{\"value\":0.1},\"fill_color\":{\"value\":\"#1f77b4\"},\"line_alpha\":{\"value\":0.1},\"line_color\":{\"value\":\"#1f77b4\"},\"radius\":{\"units\":\"data\",\"value\":1},\"x\":{\"field\":\"x\"},\"y\":{\"field\":\"y\"}},\"id\":\"2190\",\"type\":\"Circle\"},{\"attributes\":{},\"id\":\"2171\",\"type\":\"LinearScale\"},{\"attributes\":{\"formatter\":{\"id\":\"2278\",\"type\":\"BasicTickFormatter\"},\"ticker\":{\"id\":\"2181\",\"type\":\"BasicTicker\"}},\"id\":\"2180\",\"type\":\"LinearAxis\"},{\"attributes\":{},\"id\":\"2278\",\"type\":\"BasicTickFormatter\"},{\"attributes\":{\"bottom_units\":\"screen\",\"fill_alpha\":{\"value\":0.5},\"fill_color\":{\"value\":\"lightgrey\"},\"left_units\":\"screen\",\"level\":\"overlay\",\"line_alpha\":{\"value\":1.0},\"line_color\":{\"value\":\"black\"},\"line_dash\":[4,4],\"line_width\":{\"value\":2},\"render_mode\":\"css\",\"right_units\":\"screen\",\"top_units\":\"screen\"},\"id\":\"2281\",\"type\":\"BoxAnnotation\"},{\"attributes\":{},\"id\":\"2176\",\"type\":\"BasicTicker\"},{\"attributes\":{\"callback\":null,\"icon\":null,\"js_event_callbacks\":{\"button_click\":[{\"id\":\"2197\",\"type\":\"CustomJS\"}]},\"width\":300},\"id\":\"2194\",\"type\":\"Button\"},{\"attributes\":{\"callback\":null,\"data\":{\"x\":{\"__ndarray__\":\"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\",\"dtype\":\"float64\",\"shape\":[2000]},\"y\":{\"__ndarray__\":\"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\",\"dtype\":\"float64\",\"shape\":[2000]}},\"selected\":{\"id\":\"2283\",\"type\":\"Selection\"},\"selection_policy\":{\"id\":\"2282\",\"type\":\"UnionRenderers\"}},\"id\":\"2188\",\"type\":\"ColumnDataSource\"},{\"attributes\":{\"fill_alpha\":{\"value\":0.6},\"fill_color\":{\"value\":\"#1f77b4\"},\"line_color\":{\"value\":null},\"radius\":{\"units\":\"data\",\"value\":1},\"x\":{\"field\":\"x\"},\"y\":{\"field\":\"y\"}},\"id\":\"2189\",\"type\":\"Circle\"},{\"attributes\":{\"text\":\"\"},\"id\":\"2275\",\"type\":\"Title\"},{\"attributes\":{\"below\":[{\"id\":\"2175\",\"type\":\"LinearAxis\"}],\"center\":[{\"id\":\"2179\",\"type\":\"Grid\"},{\"id\":\"2184\",\"type\":\"Grid\"}],\"js_event_callbacks\":{\"selectiongeometry\":[{\"id\":\"2198\",\"type\":\"CustomJS\"}]},\"left\":[{\"id\":\"2180\",\"type\":\"LinearAxis\"}],\"renderers\":[{\"id\":\"2191\",\"type\":\"GlyphRenderer\"}],\"title\":{\"id\":\"2275\",\"type\":\"Title\"},\"toolbar\":{\"id\":\"2186\",\"type\":\"Toolbar\"},\"x_range\":{\"id\":\"2167\",\"type\":\"DataRange1d\"},\"x_scale\":{\"id\":\"2171\",\"type\":\"LinearScale\"},\"y_range\":{\"id\":\"2169\",\"type\":\"DataRange1d\"},\"y_scale\":{\"id\":\"2173\",\"type\":\"LinearScale\"}},\"id\":\"2166\",\"subtype\":\"Figure\",\"type\":\"Plot\"},{\"attributes\":{},\"id\":\"2280\",\"type\":\"BasicTickFormatter\"},{\"attributes\":{\"callback\":null},\"id\":\"2167\",\"type\":\"DataRange1d\"},{\"attributes\":{\"width\":400},\"id\":\"2193\",\"type\":\"Div\"},{\"attributes\":{\"args\":{\"div\":{\"id\":\"2193\",\"type\":\"Div\"}},\"code\":\"\\ndiv.text = \\\"Selection! <p> <p>\\\" + JSON.stringify(cb_obj.geometry, undefined, 2);\\n\"},\"id\":\"2198\",\"type\":\"CustomJS\"},{\"attributes\":{\"active_drag\":\"auto\",\"active_inspect\":\"auto\",\"active_multi\":null,\"active_scroll\":\"auto\",\"active_tap\":\"auto\",\"tools\":[{\"id\":\"2185\",\"type\":\"BoxSelectTool\"}]},\"id\":\"2186\",\"type\":\"Toolbar\"},{\"attributes\":{\"dimension\":1,\"ticker\":{\"id\":\"2181\",\"type\":\"BasicTicker\"}},\"id\":\"2184\",\"type\":\"Grid\"},{\"attributes\":{\"children\":[{\"id\":\"2166\",\"subtype\":\"Figure\",\"type\":\"Plot\"},{\"id\":\"2193\",\"type\":\"Div\"}]},\"id\":\"2195\",\"type\":\"Row\"},{\"attributes\":{\"ticker\":{\"id\":\"2176\",\"type\":\"BasicTicker\"}},\"id\":\"2179\",\"type\":\"Grid\"},{\"attributes\":{\"formatter\":{\"id\":\"2280\",\"type\":\"BasicTickFormatter\"},\"ticker\":{\"id\":\"2176\",\"type\":\"BasicTicker\"}},\"id\":\"2175\",\"type\":\"LinearAxis\"},{\"attributes\":{\"callback\":null,\"overlay\":{\"id\":\"2281\",\"type\":\"BoxAnnotation\"}},\"id\":\"2185\",\"type\":\"BoxSelectTool\"},{\"attributes\":{\"args\":{\"div\":{\"id\":\"2193\",\"type\":\"Div\"}},\"code\":\"\\ndiv.text = \\\"Button!\\\";\\n\"},\"id\":\"2197\",\"type\":\"CustomJS\"},{\"attributes\":{\"callback\":null},\"id\":\"2169\",\"type\":\"DataRange1d\"},{\"attributes\":{},\"id\":\"2181\",\"type\":\"BasicTicker\"},{\"attributes\":{\"source\":{\"id\":\"2188\",\"type\":\"ColumnDataSource\"}},\"id\":\"2192\",\"type\":\"CDSView\"}],\"root_ids\":[\"2196\"]},\"title\":\"Bokeh Application\",\"version\":\"1.4.0\"}};\n",
       "  var render_items = [{\"docid\":\"10646a1e-3706-4489-83e5-cf499ed7086d\",\"roots\":{\"2196\":\"4a141e34-372d-48ac-bc5a-4177bfb8f83f\"}}];\n",
       "  root.Bokeh.embed.embed_items_notebook(docs_json, render_items);\n",
       "\n",
       "  }\n",
       "  if (root.Bokeh !== undefined) {\n",
       "    embed_document(root);\n",
       "  } else {\n",
       "    var attempts = 0;\n",
       "    var timer = setInterval(function(root) {\n",
       "      if (root.Bokeh !== undefined) {\n",
       "        clearInterval(timer);\n",
       "        embed_document(root);\n",
       "      } else {\n",
       "        attempts++;\n",
       "        if (attempts > 100) {\n",
       "          clearInterval(timer);\n",
       "          console.log(\"Bokeh: ERROR: Unable to run BokehJS code because BokehJS library is missing\");\n",
       "        }\n",
       "      }\n",
       "    }, 10, root)\n",
       "  }\n",
       "})(window);"
      ],
      "application/vnd.bokehjs_exec.v0+json": ""
     },
     "metadata": {
      "application/vnd.bokehjs_exec.v0+json": {
       "id": "2196"
      }
     },
     "output_type": "display_data"
    }
   ],
   "source": [
    "from bokeh.plotting import figure\n",
    "from bokeh import events\n",
    "from bokeh.models import CustomJS, Div, Button\n",
    "from bokeh.layouts import column, row\n",
    "\n",
    "import numpy as np\n",
    "x = np.random.random(size=2000) * 100\n",
    "y = np.random.random(size=2000) * 100\n",
    "\n",
    "p = figure(tools=\"box_select\")\n",
    "p.scatter(x, y, radius=1, fill_alpha=0.6, line_color=None)\n",
    "\n",
    "div = Div(width=400)\n",
    "button = Button(label=\"Button\", width=300)\n",
    "layout = column(button, row(p, div))\n",
    "\n",
    "\n",
    "# Events with no attributes\n",
    "button.js_on_event(events.ButtonClick,  CustomJS(args=dict(div=div), code=\"\"\"\n",
    "div.text = \"Button!\";\n",
    "\"\"\")) \n",
    "\n",
    "p.js_on_event(events.SelectionGeometry, CustomJS(args=dict(div=div), code=\"\"\"\n",
    "div.text = \"Selection! <p> <p>\" + JSON.stringify(cb_obj.geometry, undefined, 2);\n",
    "\"\"\"))\n",
    "\n",
    "show(layout)"
   ]
  },
  {
   "cell_type": "code",
   "execution_count": 16,
   "metadata": {},
   "outputs": [],
   "source": [
    "# Exercise: Create a plot that responds to different events from bokeh.events\n",
    "\n"
   ]
  },
  {
   "cell_type": "markdown",
   "metadata": {},
   "source": [
    "## Additional Information\n",
    "\n",
    "There are many kinds of interactions and events that can be connected to `CustomJS` callbacks. \n",
    "\n",
    "\n",
    "* Widgets - Button, Toggle, Dropdown, TextInput, AutocompleteInput, Select, Multiselect, Slider, (DateRangeSlider), DatePicker,\n",
    "* Tools - TapTool, BoxSelectTool, HoverTool,\n",
    "* Selection - ColumnDataSource, AjaxDataSource, BlazeDataSource, ServerDataSource\n",
    "* Ranges - Range1d, DataRange1d, FactorRange\n",
    "\n",
    "\n",
    "For more complete examples the User Guide section on [JavaScript Interactions](http://bokeh.pydata.org/en/latest/docs/user_guide/interaction.html)"
   ]
  },
  {
   "cell_type": "code",
   "execution_count": null,
   "metadata": {},
   "outputs": [],
   "source": []
  }
 ],
 "metadata": {
  "anaconda-cloud": {},
  "kernelspec": {
   "display_name": "Python 3",
   "language": "python",
   "name": "python3"
  },
  "language_info": {
   "codemirror_mode": {
    "name": "ipython",
    "version": 3
   },
   "file_extension": ".py",
   "mimetype": "text/x-python",
   "name": "python",
   "nbconvert_exporter": "python",
   "pygments_lexer": "ipython3",
   "version": "3.7.4"
  }
 },
 "nbformat": 4,
 "nbformat_minor": 4
}
